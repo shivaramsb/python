{
  "nbformat": 4,
  "nbformat_minor": 0,
  "metadata": {
    "colab": {
      "provenance": []
    },
    "kernelspec": {
      "name": "python3",
      "display_name": "Python 3"
    },
    "language_info": {
      "name": "python"
    }
  },
  "cells": [
    {
      "cell_type": "code",
      "execution_count": 1,
      "metadata": {
        "colab": {
          "base_uri": "https://localhost:8080/"
        },
        "id": "4PuP2mF3IRlb",
        "outputId": "67e11733-8eca-4266-e3f7-7331f284d9ad"
      },
      "outputs": [
        {
          "output_type": "stream",
          "name": "stdout",
          "text": [
            "Length of the list is: 5\n"
          ]
        }
      ],
      "source": [
        "# Q1. WAF to print the length of a list. ( list is the parameter).\n",
        "\n",
        "def print_list_length(my_list):\n",
        "    print(\"Length of the list is:\", len(my_list))\n",
        "\n",
        "my_list = [1, 2, 3, 4, 5]\n",
        "print_list_length(my_list)"
      ]
    },
    {
      "cell_type": "code",
      "source": [
        "# Q2. WAF to print the elements of a list in a single line. ( list is the parameter)\n",
        "\n",
        "def print_list_elements_in_single_line(my_list):\n",
        "    print(*my_list, sep=\" \")\n",
        "\n",
        "\n",
        "my_list = [1, 2, 3, 4, 5]\n",
        "print_list_elements_in_single_line(my_list)"
      ],
      "metadata": {
        "colab": {
          "base_uri": "https://localhost:8080/"
        },
        "id": "Hv791hUnJRQV",
        "outputId": "f4be76dd-0754-4803-abad-68a1e9673dda"
      },
      "execution_count": 2,
      "outputs": [
        {
          "output_type": "stream",
          "name": "stdout",
          "text": [
            "1 2 3 4 5\n"
          ]
        }
      ]
    },
    {
      "cell_type": "code",
      "source": [
        "# Q3. WAF to find the factorial of n. (n is the parameter)\n",
        "\n",
        "\n",
        "def factorial(n):\n",
        "    if n == 0 or n == 1:\n",
        "        return 1\n",
        "    else:\n",
        "        result = 1\n",
        "        for i in range(2, n + 1):\n",
        "            result *= i\n",
        "        return result\n",
        "\n",
        "\n",
        "n = 5\n",
        "print(\"Factorial of\", n, \"is\", factorial(n))"
      ],
      "metadata": {
        "colab": {
          "base_uri": "https://localhost:8080/"
        },
        "id": "KVRmgT31J08m",
        "outputId": "b1b1b957-a9af-4618-8653-f20e9e89b1b5"
      },
      "execution_count": 3,
      "outputs": [
        {
          "output_type": "stream",
          "name": "stdout",
          "text": [
            "Factorial of 5 is 120\n"
          ]
        }
      ]
    },
    {
      "cell_type": "code",
      "source": [
        "# Q4. WAF to convert USD to INR.\n",
        "\n",
        "def usd_to_inr(usd_amount):\n",
        "    # Assuming 1 USD = 75 INR (just an example, you can update this according to the current exchange rate)\n",
        "    exchange_rate = 75\n",
        "    inr_amount = usd_amount * exchange_rate\n",
        "    return inr_amount\n",
        "\n",
        "usd_amount = 100\n",
        "inr_amount = usd_to_inr(usd_amount)\n",
        "print(\"$\", usd_amount, \"is equal to ₹\", inr_amount)"
      ],
      "metadata": {
        "colab": {
          "base_uri": "https://localhost:8080/"
        },
        "id": "xfwu2MJvJ1ED",
        "outputId": "94fbfb35-f035-4cc4-bb76-760fbb4e9b38"
      },
      "execution_count": 4,
      "outputs": [
        {
          "output_type": "stream",
          "name": "stdout",
          "text": [
            "$ 100 is equal to ₹ 7500\n"
          ]
        }
      ]
    },
    {
      "cell_type": "code",
      "source": [
        "# Q5. Write a recursive function to calculate the sum of first n natural numbers.\n",
        "\n",
        "def sum_of_natural_numbers(n):\n",
        "    if n <= 1:\n",
        "        return n\n",
        "    else:\n",
        "        return n + sum_of_natural_numbers(n - 1)\n",
        "\n",
        "n = 5\n",
        "print(\"Sum of first\", n, \"natural numbers is\", sum_of_natural_numbers(n))"
      ],
      "metadata": {
        "colab": {
          "base_uri": "https://localhost:8080/"
        },
        "id": "4VFGH7RVKTAn",
        "outputId": "0e15d559-cf74-4ff8-804d-ea60eb387936"
      },
      "execution_count": 5,
      "outputs": [
        {
          "output_type": "stream",
          "name": "stdout",
          "text": [
            "Sum of first 5 natural numbers is 15\n"
          ]
        }
      ]
    },
    {
      "cell_type": "code",
      "source": [
        "# Q6. Write a recursive function to print all elements in a list.\n",
        "\n",
        "def print_list_elements_recursive(my_list, index):\n",
        "    if index < len(my_list):\n",
        "        print(my_list[index], end=\" \")\n",
        "        print_list_elements_recursive(my_list, index + 1)\n",
        "\n",
        "\n",
        "my_list = [1, 2, 3, 4, 5]\n",
        "print_list_elements_recursive(my_list, 0)"
      ],
      "metadata": {
        "colab": {
          "base_uri": "https://localhost:8080/"
        },
        "id": "gu_9ELowKTGw",
        "outputId": "8ab00535-43a2-45d5-e95e-2bda5d8e5be8"
      },
      "execution_count": 6,
      "outputs": [
        {
          "output_type": "stream",
          "name": "stdout",
          "text": [
            "1 2 3 4 5 "
          ]
        }
      ]
    },
    {
      "cell_type": "code",
      "source": [
        "# Q7: Calculate the area of a circle given its radius\n",
        "\n",
        "def calculate_circle_area(radius):\n",
        "    return 3.14159 * radius ** 2\n",
        "\n",
        "radius = 4\n",
        "print(\"Area of circle with radius\", radius, \"is\", calculate_circle_area(radius))"
      ],
      "metadata": {
        "colab": {
          "base_uri": "https://localhost:8080/"
        },
        "id": "v-vGuHX3KTTE",
        "outputId": "16ff4f9b-48a1-4d6c-d248-e62d90759af4"
      },
      "execution_count": 13,
      "outputs": [
        {
          "output_type": "stream",
          "name": "stdout",
          "text": [
            "Area of circle with radius 4 is 50.26544\n"
          ]
        }
      ]
    },
    {
      "cell_type": "code",
      "source": [
        "# Q8: Check if a number is prime\n",
        "\n",
        "def is_prime(number):\n",
        "    if number <= 1:\n",
        "        return False\n",
        "    for i in range(2, int(number ** 0.5) + 1):\n",
        "        if number % i == 0:\n",
        "            return False\n",
        "    return True\n",
        "\n",
        "num = 17\n",
        "print(num, \"is prime?\", is_prime(num))"
      ],
      "metadata": {
        "colab": {
          "base_uri": "https://localhost:8080/"
        },
        "id": "cPHbzfXQKThF",
        "outputId": "0ae3f26d-6981-45de-dbe5-42303f38b9dc"
      },
      "execution_count": 12,
      "outputs": [
        {
          "output_type": "stream",
          "name": "stdout",
          "text": [
            "17 is prime? True\n"
          ]
        }
      ]
    },
    {
      "cell_type": "code",
      "source": [
        "# Q9: Reverse a given string\n",
        "\n",
        "def reverse_string(input_string):\n",
        "    return input_string[::-1]\n",
        "\n",
        "string = \"hello\"\n",
        "print(\"Reverse of\", string, \"is\", reverse_string(string))"
      ],
      "metadata": {
        "colab": {
          "base_uri": "https://localhost:8080/"
        },
        "id": "ZHUZysQGKTxk",
        "outputId": "357fdd45-f9fc-4493-a602-7241132bec95"
      },
      "execution_count": 14,
      "outputs": [
        {
          "output_type": "stream",
          "name": "stdout",
          "text": [
            "Reverse of hello is olleh\n"
          ]
        }
      ]
    },
    {
      "cell_type": "code",
      "source": [
        "# Q10: Find the sum of all positive numbers in a list\n",
        "\n",
        "def sum_of_positive_numbers(numbers):\n",
        "    return sum(num for num in numbers if num > 0)\n",
        "\n",
        "numbers = [1, -2, 3, -4, 5]\n",
        "print(\"Sum of positive numbers in\", numbers, \"is\", sum_of_positive_numbers(numbers))"
      ],
      "metadata": {
        "colab": {
          "base_uri": "https://localhost:8080/"
        },
        "id": "eoClwREAODeD",
        "outputId": "18158b68-baa9-4bd6-c47e-7135d3f84335"
      },
      "execution_count": 15,
      "outputs": [
        {
          "output_type": "stream",
          "name": "stdout",
          "text": [
            "Sum of positive numbers in [1, -2, 3, -4, 5] is 9\n"
          ]
        }
      ]
    },
    {
      "cell_type": "code",
      "source": [
        "# Q11: Check if a given string is a palindrome\n",
        "\n",
        "def is_palindrome(input_string):\n",
        "    return input_string == input_string[::-1]\n",
        "\n",
        "word = \"radar\"\n",
        "print(word, \"is a palindrome?\", is_palindrome(word))"
      ],
      "metadata": {
        "colab": {
          "base_uri": "https://localhost:8080/"
        },
        "id": "yIpLyg6XODqb",
        "outputId": "231874a4-1ff2-4d4b-f41e-285def80b79d"
      },
      "execution_count": 16,
      "outputs": [
        {
          "output_type": "stream",
          "name": "stdout",
          "text": [
            "radar is a palindrome? True\n"
          ]
        }
      ]
    },
    {
      "cell_type": "code",
      "source": [
        "# Q12: Return the factorial of a given number using recursion\n",
        "\n",
        "def factorial(n):\n",
        "    if n == 0:\n",
        "        return 1\n",
        "    else:\n",
        "        return n * factorial(n - 1)\n",
        "\n",
        "n = 5\n",
        "print(\"Factorial of\", n, \"is\", factorial(n))"
      ],
      "metadata": {
        "colab": {
          "base_uri": "https://localhost:8080/"
        },
        "id": "AwvT-p6uODzK",
        "outputId": "d973f95d-a49b-4532-b54a-e21736e31da8"
      },
      "execution_count": 17,
      "outputs": [
        {
          "output_type": "stream",
          "name": "stdout",
          "text": [
            "Factorial of 5 is 120\n"
          ]
        }
      ]
    },
    {
      "cell_type": "code",
      "source": [
        "# Q13: Find the square of each element in a given list\n",
        "\n",
        "def square_list_elements(numbers):\n",
        "    return [num ** 2 for num in numbers]\n",
        "\n",
        "nums = [1, 2, 3, 4, 5]\n",
        "print(\"Square of each element in\", nums, \"is\", square_list_elements(nums))"
      ],
      "metadata": {
        "colab": {
          "base_uri": "https://localhost:8080/"
        },
        "id": "i0d1h-d_OD89",
        "outputId": "a4a77fe4-642e-4488-a72e-ca49f5cef912"
      },
      "execution_count": 18,
      "outputs": [
        {
          "output_type": "stream",
          "name": "stdout",
          "text": [
            "Square of each element in [1, 2, 3, 4, 5] is [1, 4, 9, 16, 25]\n"
          ]
        }
      ]
    },
    {
      "cell_type": "code",
      "source": [
        "# Q14: Check if a number is even or odd\n",
        "\n",
        "def check_even_or_odd(number):\n",
        "    if number % 2 == 0:\n",
        "        return \"Even\"\n",
        "    else:\n",
        "        return \"Odd\"\n",
        "\n",
        "num = 7\n",
        "print(num, \"is\", check_even_or_odd(num))"
      ],
      "metadata": {
        "colab": {
          "base_uri": "https://localhost:8080/"
        },
        "id": "e_Q0MuU5OEHp",
        "outputId": "62359345-8367-4976-d17f-2e81a2db573c"
      },
      "execution_count": 19,
      "outputs": [
        {
          "output_type": "stream",
          "name": "stdout",
          "text": [
            "7 is Odd\n"
          ]
        }
      ]
    },
    {
      "cell_type": "code",
      "source": [
        "# Q15: Calculate the area of a triangle given its base and height\n",
        "\n",
        "def calculate_triangle_area(base, height):\n",
        "    return 0.5 * base * height\n",
        "\n",
        "base = 5\n",
        "height = 8\n",
        "print(\"Area of triangle with base\", base, \"and height\", height, \"is\", calculate_triangle_area(base, height))"
      ],
      "metadata": {
        "colab": {
          "base_uri": "https://localhost:8080/"
        },
        "id": "8Evqo0WxOETN",
        "outputId": "8eb5ab87-184a-4ef3-ada3-20a126d047ca"
      },
      "execution_count": 20,
      "outputs": [
        {
          "output_type": "stream",
          "name": "stdout",
          "text": [
            "Area of triangle with base 5 and height 8 is 20.0\n"
          ]
        }
      ]
    },
    {
      "cell_type": "code",
      "source": [
        "# Q16: Sort a list of strings alphabetically\n",
        "\n",
        "def sort_strings_alphabetically(string_list):\n",
        "    return sorted(string_list)\n",
        "\n",
        "words = [\"banana\", \"apple\", \"cherry\", \"date\"]\n",
        "print(\"Sorted list:\", sort_strings_alphabetically(words))"
      ],
      "metadata": {
        "colab": {
          "base_uri": "https://localhost:8080/"
        },
        "id": "VDCTaFK2P21e",
        "outputId": "e2567ff3-af69-4187-c78a-7845768bf3d0"
      },
      "execution_count": 21,
      "outputs": [
        {
          "output_type": "stream",
          "name": "stdout",
          "text": [
            "Sorted list: ['apple', 'banana', 'cherry', 'date']\n"
          ]
        }
      ]
    },
    {
      "cell_type": "code",
      "source": [
        "# Q17: Find the intersection of two lists\n",
        "\n",
        "def find_list_intersection(list1, list2):\n",
        "    return list(set(list1) & set(list2))\n",
        "\n",
        "list1 = [1, 2, 3, 4, 5]\n",
        "list2 = [4, 5, 6, 7, 8]\n",
        "print(\"Intersection of\", list1, \"and\", list2, \"is\", find_list_intersection(list1, list2))"
      ],
      "metadata": {
        "colab": {
          "base_uri": "https://localhost:8080/"
        },
        "id": "-pZ5GNbZP2-T",
        "outputId": "14ec9a95-aaa0-4dce-8ae0-bb2f79b91300"
      },
      "execution_count": 22,
      "outputs": [
        {
          "output_type": "stream",
          "name": "stdout",
          "text": [
            "Intersection of [1, 2, 3, 4, 5] and [4, 5, 6, 7, 8] is [4, 5]\n"
          ]
        }
      ]
    },
    {
      "cell_type": "code",
      "source": [
        "# Q18: Check if a given year is a leap year\n",
        "\n",
        "def is_leap_year(year):\n",
        "    if year % 4 == 0:\n",
        "        if year % 100 == 0:\n",
        "            if year % 400 == 0:\n",
        "                return True\n",
        "            else:\n",
        "                return False\n",
        "        else:\n",
        "            return True\n",
        "    else:\n",
        "        return False\n",
        "\n",
        "print(\"Is 2020 a leap year?\", is_leap_year(2020))"
      ],
      "metadata": {
        "colab": {
          "base_uri": "https://localhost:8080/"
        },
        "id": "oa8sut_YP3HB",
        "outputId": "35cc2109-d42c-4ebb-9a07-6f4a8c96b875"
      },
      "execution_count": 23,
      "outputs": [
        {
          "output_type": "stream",
          "name": "stdout",
          "text": [
            "Is 2020 a leap year? True\n"
          ]
        }
      ]
    },
    {
      "cell_type": "code",
      "source": [
        "# Q19: Print multiplication table of a number\n",
        "\n",
        "def print_multiplication_table(number):\n",
        "    print(\"Multiplication table for\", number)\n",
        "    for i in range(1, 11):\n",
        "        print(number, \"x\", i, \"=\", number * i)\n",
        "\n",
        "print_multiplication_table(5)"
      ],
      "metadata": {
        "colab": {
          "base_uri": "https://localhost:8080/"
        },
        "id": "GVxg0u-kQRvj",
        "outputId": "c5aa01ee-38ea-476a-afcd-1ea6d8f7b6a8"
      },
      "execution_count": 24,
      "outputs": [
        {
          "output_type": "stream",
          "name": "stdout",
          "text": [
            "Multiplication table for 5\n",
            "5 x 1 = 5\n",
            "5 x 2 = 10\n",
            "5 x 3 = 15\n",
            "5 x 4 = 20\n",
            "5 x 5 = 25\n",
            "5 x 6 = 30\n",
            "5 x 7 = 35\n",
            "5 x 8 = 40\n",
            "5 x 9 = 45\n",
            "5 x 10 = 50\n"
          ]
        }
      ]
    }
  ]
}