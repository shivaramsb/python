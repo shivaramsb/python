{
  "nbformat": 4,
  "nbformat_minor": 0,
  "metadata": {
    "colab": {
      "provenance": []
    },
    "kernelspec": {
      "name": "python3",
      "display_name": "Python 3"
    },
    "language_info": {
      "name": "python"
    }
  },
  "cells": [
    {
      "cell_type": "code",
      "execution_count": 7,
      "metadata": {
        "colab": {
          "base_uri": "https://localhost:8080/"
        },
        "id": "jj59XaeuWSxa",
        "outputId": "df8ab9f4-d242-4a8a-f443-cf71e15afb83"
      },
      "outputs": [
        {
          "output_type": "stream",
          "name": "stdout",
          "text": [
            "enter 1st movie: Hello\n",
            "enter 2nd movie: World\n",
            "enter 3rd movie: Python\n",
            "['Hello', 'World', 'Python']\n"
          ]
        }
      ],
      "source": [
        "# Q1. WAP to ask the user to enter names of their 3 favorite movies & store them in a list.\n",
        "\n",
        "movies = []\n",
        "movies.append(input(\"enter 1st movie: \"))\n",
        "movies.append(input(\"enter 2nd movie: \"))\n",
        "movies.append(input(\"enter 3rd movie: \"))\n",
        "print(movies)"
      ]
    },
    {
      "cell_type": "code",
      "source": [
        "# Q2. WAP to check if a list contains a palindrome of elements. (Hint: use copy( ) method).\n",
        "\n",
        "list1 = [\"m\", \"a\", \"a\", \"m\", \"p\"]\n",
        "copy_list1 = list1.copy()\n",
        "copy_list1.reverse()\n",
        "if copy_list1 == list1:\n",
        "    print(\"Palindrome\")\n",
        "else:\n",
        "    print(\"NOT Palindrome\")"
      ],
      "metadata": {
        "colab": {
          "base_uri": "https://localhost:8080/"
        },
        "id": "Fu1f71NhWU4K",
        "outputId": "49365026-df74-43a0-b837-e4b21dfabfed"
      },
      "execution_count": 6,
      "outputs": [
        {
          "output_type": "stream",
          "name": "stdout",
          "text": [
            "NOT Palindrome\n"
          ]
        }
      ]
    },
    {
      "cell_type": "code",
      "source": [
        "# Q3. WAP to count the number of students with the “A” grade in the following tuple.[”C”,“D”,“A”,“A”,“B”,“B”,“A”]\n",
        "\n",
        "grade = (\"C\", \"D\", \"A\", \"A\", \"B\", \"B\", \"A\")\n",
        "print(grade.count(\"A\"))"
      ],
      "metadata": {
        "colab": {
          "base_uri": "https://localhost:8080/"
        },
        "id": "v4ECN6DDWVGo",
        "outputId": "a01ac1be-1111-4ef0-9456-ed83b3660e00"
      },
      "execution_count": 2,
      "outputs": [
        {
          "output_type": "stream",
          "name": "stdout",
          "text": [
            "3\n"
          ]
        }
      ]
    },
    {
      "cell_type": "code",
      "source": [
        "# Q4. Store the above values in a list & sort them from “A” to “D”\n",
        "\n",
        "grade = [\"C\", \"D\", \"A\", \"A\", \"B\", \"B\", \"A\"]\n",
        "grade.sort()\n",
        "print(grade)"
      ],
      "metadata": {
        "colab": {
          "base_uri": "https://localhost:8080/"
        },
        "id": "-Pyxx-jKWVRF",
        "outputId": "78215eaa-8d03-4076-d63c-dbe070b2d296"
      },
      "execution_count": 1,
      "outputs": [
        {
          "output_type": "stream",
          "name": "stdout",
          "text": [
            "['A', 'A', 'A', 'B', 'B', 'C', 'D']\n"
          ]
        }
      ]
    },
    {
      "cell_type": "code",
      "source": [
        "# Q5. Given two lists of numbers, concatenate them into a single list.\n",
        "\n",
        "list1 = [1, 2, 3]\n",
        "list2 = [4, 5, 6]\n",
        "concatenated_list = list1 + list2\n",
        "print(concatenated_list)"
      ],
      "metadata": {
        "colab": {
          "base_uri": "https://localhost:8080/"
        },
        "id": "piK3g8mmbJ7G",
        "outputId": "068a7676-7aba-4dc1-c89d-7e0b44daf06f"
      },
      "execution_count": 8,
      "outputs": [
        {
          "output_type": "stream",
          "name": "stdout",
          "text": [
            "[1, 2, 3, 4, 5, 6]\n"
          ]
        }
      ]
    },
    {
      "cell_type": "code",
      "source": [
        "# Q6. Write a program that finds the largest and smallest elements in a list.\n",
        "\n",
        "numbers = [3, 7, 2, 9, 1]\n",
        "largest = max(numbers)\n",
        "smallest = min(numbers)\n",
        "print(\"Largest:\", largest)\n",
        "print(\"Smallest:\", smallest)"
      ],
      "metadata": {
        "colab": {
          "base_uri": "https://localhost:8080/"
        },
        "id": "aFV6ZbqDbKnH",
        "outputId": "3a671e17-260c-4fb7-f132-291e736c708c"
      },
      "execution_count": 9,
      "outputs": [
        {
          "output_type": "stream",
          "name": "stdout",
          "text": [
            "Largest: 9\n",
            "Smallest: 1\n"
          ]
        }
      ]
    },
    {
      "cell_type": "code",
      "source": [
        "# Q7. Create a program that finds the common elements between two lists and stores them in a new list.\n",
        "\n",
        "list1 = [1, 2, 3, 4]\n",
        "list2 = [3, 4, 5, 6]\n",
        "common_elements = [x for x in list1 if x in list2]\n",
        "print(common_elements)"
      ],
      "metadata": {
        "colab": {
          "base_uri": "https://localhost:8080/"
        },
        "id": "tXkmka2ubKxu",
        "outputId": "5dee4fc8-5582-4212-c2da-a0087a6a2d9e"
      },
      "execution_count": 10,
      "outputs": [
        {
          "output_type": "stream",
          "name": "stdout",
          "text": [
            "[3, 4]\n"
          ]
        }
      ]
    },
    {
      "cell_type": "code",
      "source": [
        " # Q8. Given a list of words, find the word with the maximum length and its length.\n",
        "\n",
        "words = [\"apple\", \"banana\", \"grapefruit\", \"kiwi\"]\n",
        "max_length_word = max(words, key=len)\n",
        "max_length = len(max_length_word)\n",
        "print(\"Word with maximum length:\", max_length_word)\n",
        "print(\"Length:\", max_length)"
      ],
      "metadata": {
        "colab": {
          "base_uri": "https://localhost:8080/"
        },
        "id": "zbAlulw4bK7a",
        "outputId": "d4583245-5f4f-4d5d-8453-f333db5061ad"
      },
      "execution_count": 11,
      "outputs": [
        {
          "output_type": "stream",
          "name": "stdout",
          "text": [
            "Word with maximum length: grapefruit\n",
            "Length: 10\n"
          ]
        }
      ]
    },
    {
      "cell_type": "code",
      "source": [
        "# Q9. Write a Python program to count the occurrences of each element in a given list.\n",
        "\n",
        "names = [\"Alice\", \"Bob\", \"Alice\", \"Charlie\", \"Bob\"]\n",
        "unique_names = list(set(names))\n",
        "print(unique_names)"
      ],
      "metadata": {
        "colab": {
          "base_uri": "https://localhost:8080/"
        },
        "id": "wMjxfFrVbLHr",
        "outputId": "9d0d6b8a-dcfc-4364-82be-a57edc12bc27"
      },
      "execution_count": 12,
      "outputs": [
        {
          "output_type": "stream",
          "name": "stdout",
          "text": [
            "['Charlie', 'Bob', 'Alice']\n"
          ]
        }
      ]
    },
    {
      "cell_type": "code",
      "source": [
        "# Q10. Given a list of names, remove all duplicate names and print the unique names.\n",
        "\n",
        "names = [\"Alice\", \"Bob\", \"Alice\", \"Charlie\", \"Bob\"]\n",
        "unique_names = list(set(names))\n",
        "print(unique_names)"
      ],
      "metadata": {
        "colab": {
          "base_uri": "https://localhost:8080/"
        },
        "id": "IyGNZkfpcJP-",
        "outputId": "e766d16d-9993-467c-a0eb-ee6543239d1d"
      },
      "execution_count": 13,
      "outputs": [
        {
          "output_type": "stream",
          "name": "stdout",
          "text": [
            "['Charlie', 'Bob', 'Alice']\n"
          ]
        }
      ]
    }
  ]
}