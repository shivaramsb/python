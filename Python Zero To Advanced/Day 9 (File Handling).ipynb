{
  "nbformat": 4,
  "nbformat_minor": 0,
  "metadata": {
    "colab": {
      "provenance": []
    },
    "kernelspec": {
      "name": "python3",
      "display_name": "Python 3"
    },
    "language_info": {
      "name": "python"
    }
  },
  "cells": [
    {
      "cell_type": "code",
      "execution_count": null,
      "metadata": {
        "id": "XY6ru_JrZP3m"
      },
      "outputs": [],
      "source": [
        "# Q1: Write a program that reads a text file and prints its contents.\n",
        "\n",
        "with open('file.txt', 'r') as file:\n",
        "    contents = file.read()\n",
        "    print(contents)"
      ]
    },
    {
      "cell_type": "code",
      "source": [
        "# Q2: Create a new text file and write some content into it.\n",
        "\n",
        "with open('new_file.txt', 'w') as file:\n",
        "    file.write(\"This is some content written into the new file.\")"
      ],
      "metadata": {
        "id": "SABxH2vnZX3s"
      },
      "execution_count": 5,
      "outputs": []
    },
    {
      "cell_type": "code",
      "source": [
        "# Q3: Read a CSV file and process its data.\n",
        "\n",
        "import csv\n",
        "with open('data.csv', 'r') as file:\n",
        "    reader = csv.reader(file)\n",
        "    for row in reader:\n",
        "        print(row)"
      ],
      "metadata": {
        "id": "7qd2QSeIZX68"
      },
      "execution_count": null,
      "outputs": []
    },
    {
      "cell_type": "code",
      "source": [
        "# Q4: Write a Python program to copy the contents of one text file into another.\n",
        "\n",
        "with open('source_file.txt', 'r') as source, open('destination_file.txt', 'w') as destination:\n",
        "    destination.write(source.read())"
      ],
      "metadata": {
        "id": "NeY8hIHtZX-A"
      },
      "execution_count": null,
      "outputs": []
    },
    {
      "cell_type": "code",
      "source": [
        "# Q5: Given a CSV file with student names and scores, find the student with the highest score.\n",
        "\n",
        "with open('students.csv', 'r') as file:\n",
        "    reader = csv.reader(file)\n",
        "    highest_score = max(reader, key=lambda row: int(row[1]))\n",
        "    print(\"Student with the highest score:\", highest_score[0])"
      ],
      "metadata": {
        "id": "IPJzxXPFZYAt"
      },
      "execution_count": null,
      "outputs": []
    },
    {
      "cell_type": "code",
      "source": [
        "# Q6: Implement a program that reads a text file and counts the number of words and lines in it.\n",
        "\n",
        "with open('text_file.txt', 'r') as file:\n",
        "    lines = file.readlines()\n",
        "    word_count = sum(len(line.split()) for line in lines)\n",
        "    line_count = len(lines)\n",
        "    print(\"Number of words:\", word_count)\n",
        "    print(\"Number of lines:\", line_count)"
      ],
      "metadata": {
        "id": "mzAP15qkZYDJ"
      },
      "execution_count": null,
      "outputs": []
    },
    {
      "cell_type": "code",
      "source": [
        "# Q7: Create a function that takes a list of sentences and writes them to a new text file, each on a new line.\n",
        "\n",
        "def write_sentences_to_file(sentences, filename):\n",
        "    with open(filename, 'w') as file:\n",
        "        for sentence in sentences:\n",
        "            file.write(sentence + '\\n')"
      ],
      "metadata": {
        "id": "vQsjlTjPZYGt"
      },
      "execution_count": null,
      "outputs": []
    },
    {
      "cell_type": "code",
      "source": [
        "# Q8: Given a CSV file with employee details (name, age, salary), calculate the average salary of all employees.\n",
        "\n",
        "with open('employees.csv', 'r') as file:\n",
        "    reader = csv.reader(file)\n",
        "    next(reader)  # Skip header row\n",
        "    total_salary = sum(float(row[2]) for row in reader)\n",
        "    num_employees = sum(1 for row in reader)\n",
        "    average_salary = total_salary / num_employees\n",
        "    print(\"Average salary of all employees:\", average_salary)"
      ],
      "metadata": {
        "id": "26LoFU8XaL7U"
      },
      "execution_count": null,
      "outputs": []
    },
    {
      "cell_type": "code",
      "source": [
        "# Q9: Write a program that reads a CSV file and finds the total sales revenue for a specific product.\n",
        "\n",
        "product_name = \"Product X\"\n",
        "total_revenue = 0\n",
        "with open('sales.csv', 'r') as file:\n",
        "    reader = csv.reader(file)\n",
        "    for row in reader:\n",
        "        if row[0] == product_name:\n",
        "            total_revenue += float(row[1])\n",
        "print(\"Total sales revenue for\", product_name, \":\", total_revenue)"
      ],
      "metadata": {
        "id": "4BodP_DxaL-g"
      },
      "execution_count": null,
      "outputs": []
    },
    {
      "cell_type": "code",
      "source": [
        "# Q10: Given a text file with a list of numbers, write a function that finds the sum of all numbers in the file.\n",
        "\n",
        "def sum_numbers_from_file(filename):\n",
        "    with open(filename, 'r') as file:\n",
        "        numbers = [int(line.strip()) for line in file]\n",
        "        return sum(numbers)"
      ],
      "metadata": {
        "id": "IipKuAKmaMBl"
      },
      "execution_count": null,
      "outputs": []
    },
    {
      "cell_type": "code",
      "source": [
        "# Q11: Implement a program that reads a CSV file and generates a bar chart to represent the data using Matplotlib.\n",
        "\n",
        "import matplotlib.pyplot as plt\n",
        "with open('data.csv', 'r') as file:\n",
        "    reader = csv.reader(file)\n",
        "    data = {row[0]: int(row[1]) for row in reader}\n",
        "plt.bar(data.keys(), data.values())\n",
        "plt.xlabel('Categories')\n",
        "plt.ylabel('Values')\n",
        "plt.title('Bar Chart')\n",
        "plt.show()"
      ],
      "metadata": {
        "id": "GoqJ0aFSaMD_"
      },
      "execution_count": null,
      "outputs": []
    },
    {
      "cell_type": "code",
      "source": [
        "# Q12: Write a function that reads a JSON file and extracts specific information from it.\n",
        "\n",
        "import json\n",
        "def extract_info_from_json(filename):\n",
        "    with open(filename, 'r') as file:\n",
        "        data = json.load(file)\n",
        "        return data['key']"
      ],
      "metadata": {
        "id": "JRG9xOwKaMHk"
      },
      "execution_count": null,
      "outputs": []
    },
    {
      "cell_type": "code",
      "source": [
        "# Q13: Write a program to read a JSON file and extract specific information from it.\n",
        "import json\n",
        "\n",
        "def extract_info_from_json(filename):\n",
        "    with open(filename, 'r') as file:\n",
        "        data = json.load(file)\n",
        "        # Extract specific information, modify as needed\n",
        "        info = data['key']\n",
        "    return info"
      ],
      "metadata": {
        "id": "PClowlnpalP-"
      },
      "execution_count": null,
      "outputs": []
    }
  ]
}