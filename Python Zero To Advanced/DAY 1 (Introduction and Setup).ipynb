{
  "nbformat": 4,
  "nbformat_minor": 0,
  "metadata": {
    "colab": {
      "provenance": []
    },
    "kernelspec": {
      "name": "python3",
      "display_name": "Python 3"
    },
    "language_info": {
      "name": "python"
    }
  },
  "cells": [
    {
      "cell_type": "code",
      "execution_count": null,
      "metadata": {
        "colab": {
          "base_uri": "https://localhost:8080/"
        },
        "id": "18XIY8t4KMtt",
        "outputId": "21372c6d-43f6-4c11-c7f4-24bc08cfa7ce"
      },
      "outputs": [
        {
          "output_type": "stream",
          "name": "stdout",
          "text": [
            "Hello, World!\n"
          ]
        }
      ],
      "source": [
        "# Q1: Write a Python program to print \"Hello, World!\"\n",
        "\n",
        "print(\"Hello, World!\")"
      ]
    },
    {
      "cell_type": "code",
      "source": [
        "# Q2: Calculate the sum of two numbers entered by the user.\n",
        "\n",
        "num1 = float(input(\"Enter first number: \"))\n",
        "num2 = float(input(\"Enter second number: \"))\n",
        "sum = num1 + num2\n",
        "print(\"Sum:\", sum)"
      ],
      "metadata": {
        "colab": {
          "base_uri": "https://localhost:8080/"
        },
        "id": "RWMuIwvlKX56",
        "outputId": "00903bca-b04d-4c9b-dc46-4d376c019553"
      },
      "execution_count": null,
      "outputs": [
        {
          "output_type": "stream",
          "name": "stdout",
          "text": [
            "Enter first number: 10\n",
            "Enter second number: 10\n",
            "Sum: 20.0\n"
          ]
        }
      ]
    },
    {
      "cell_type": "code",
      "source": [
        "# Q3: Convert temperature from Celsius to Fahrenheit.\n",
        "\n",
        "celsius = float(input(\"Enter temperature in Celsius: \"))\n",
        "fahrenheit = (celsius * 9/5) + 32\n",
        "print(\"Temperature in Fahrenheit:\", fahrenheit)"
      ],
      "metadata": {
        "colab": {
          "base_uri": "https://localhost:8080/"
        },
        "id": "f4nPSIK5LPMe",
        "outputId": "781a8c6a-bc6a-43dd-dc27-6a036511188c"
      },
      "execution_count": null,
      "outputs": [
        {
          "output_type": "stream",
          "name": "stdout",
          "text": [
            "Enter temperature in Celsius: 20\n",
            "Temperature in Fahrenheit: 68.0\n"
          ]
        }
      ]
    },
    {
      "cell_type": "code",
      "source": [
        "# Q4: Given a list of numbers, find the maximum and minimum values.\n",
        "\n",
        "numbers = [3, 7, 2, 9, 5]\n",
        "max_value = max(numbers)\n",
        "min_value = min(numbers)\n",
        "print(\"Maximum:\", max_value)\n",
        "print(\"Minimum:\", min_value)"
      ],
      "metadata": {
        "colab": {
          "base_uri": "https://localhost:8080/"
        },
        "id": "3IXVyyx2LyDU",
        "outputId": "47449b04-6c3d-45b1-94f8-dad85b14b118"
      },
      "execution_count": null,
      "outputs": [
        {
          "output_type": "stream",
          "name": "stdout",
          "text": [
            "Maximum: 9\n",
            "Minimum: 2\n"
          ]
        }
      ]
    },
    {
      "cell_type": "code",
      "source": [
        "# Q5: Write a program to input 2 numbers and print their sum.\n",
        "\n",
        "num1 = int(input(\"Enter first number: \"))\n",
        "num2 = int(input(\"Enter second number: \"))\n",
        "sum = num1 + num2\n",
        "print(\"sum=\",sum)"
      ],
      "metadata": {
        "colab": {
          "base_uri": "https://localhost:8080/"
        },
        "id": "lcDfUEe3MNp4",
        "outputId": "a2fb04a0-80d4-465c-c16b-65ca6007980c"
      },
      "execution_count": null,
      "outputs": [
        {
          "output_type": "stream",
          "name": "stdout",
          "text": [
            "Enter first number: 23\n",
            "Enter second number: 10\n",
            "sum= 33\n"
          ]
        }
      ]
    },
    {
      "cell_type": "code",
      "source": [
        "# Q6: WAP to input side of a square & print its area.\n",
        "\n",
        "side = float(input(\"enter square side\"))\n",
        "print(\"area=\", side*side)"
      ],
      "metadata": {
        "colab": {
          "base_uri": "https://localhost:8080/"
        },
        "id": "aeVZUo7DMOJe",
        "outputId": "c8425031-85f3-4582-d621-a740dfb92704"
      },
      "execution_count": null,
      "outputs": [
        {
          "output_type": "stream",
          "name": "stdout",
          "text": [
            "enter square side10\n",
            "area= 100.0\n"
          ]
        }
      ]
    },
    {
      "cell_type": "code",
      "source": [
        "# Q7: Write a Python program to calculate the area of a rectangle given its length and width.\n",
        "\n",
        "length = float(input(\"Enter the length of the rectangle: \"))\n",
        "width = float(input(\"Enter the width of the rectangle: \"))\n",
        "area = length * width\n",
        "print(\"The area of the rectangle is:\", area)"
      ],
      "metadata": {
        "colab": {
          "base_uri": "https://localhost:8080/"
        },
        "id": "yVtRCy99MOY6",
        "outputId": "7085567e-212e-48b1-be84-59f3f6d83dc5"
      },
      "execution_count": null,
      "outputs": [
        {
          "output_type": "stream",
          "name": "stdout",
          "text": [
            "Enter the length of the rectangle: 25\n",
            "Enter the width of the rectangle: 10\n",
            "The area of the rectangle is: 250.0\n"
          ]
        }
      ]
    },
    {
      "cell_type": "code",
      "source": [
        "# Q8: Create a program that takes a user's name and age as input and prints a greeting message.\n",
        "\n",
        "name = input(\"Enter your name: \")\n",
        "age = int(input(\"Enter your age: \"))\n",
        "print(\"Hello,\", name + \"! You are\", age, \"years old.\")"
      ],
      "metadata": {
        "colab": {
          "base_uri": "https://localhost:8080/"
        },
        "id": "zoEYic3VMPGp",
        "outputId": "6952f34b-0121-4749-f394-f99f8ffdcdae"
      },
      "execution_count": null,
      "outputs": [
        {
          "output_type": "stream",
          "name": "stdout",
          "text": [
            "Enter your name: Shivaram\n",
            "Enter your age: 23\n",
            "Hello, Shivaram! You are 23 years old.\n"
          ]
        }
      ]
    },
    {
      "cell_type": "code",
      "source": [
        "# Q9: Write a program to check if a number is even or odd.\n",
        "\n",
        "number = int(input(\"Enter a number: \"))\n",
        "if number % 2 == 0:\n",
        "    print(number, \"is even.\")\n",
        "else:\n",
        "    print(number, \"is odd.\")"
      ],
      "metadata": {
        "colab": {
          "base_uri": "https://localhost:8080/"
        },
        "id": "gaN25vyeMPUe",
        "outputId": "83873057-acb2-445d-a0a1-9b3154a6a0b9"
      },
      "execution_count": null,
      "outputs": [
        {
          "output_type": "stream",
          "name": "stdout",
          "text": [
            "Enter a number: 10\n",
            "10 is even.\n"
          ]
        }
      ]
    },
    {
      "cell_type": "code",
      "source": [
        "# Q10: Write a program that converts a given number of days into years, weeks, and days.\n",
        "\n",
        "total_days = int(input(\"Enter the number of days: \"))\n",
        "years = total_days // 365\n",
        "weeks = (total_days % 365) // 7\n",
        "days = (total_days % 365) % 7\n",
        "print(\"Years:\", years)\n",
        "print(\"Weeks:\", weeks)\n",
        "print(\"Days:\", days)"
      ],
      "metadata": {
        "colab": {
          "base_uri": "https://localhost:8080/"
        },
        "id": "71u4lRaFMPii",
        "outputId": "83b7b4f2-c996-4338-8327-ef9cadf24fe6"
      },
      "execution_count": null,
      "outputs": [
        {
          "output_type": "stream",
          "name": "stdout",
          "text": [
            "Enter the number of days: 25\n",
            "Years: 0\n",
            "Weeks: 3\n",
            "Days: 4\n"
          ]
        }
      ]
    },
    {
      "cell_type": "code",
      "source": [
        "# Q11: Given a list of integers, find the sum of all positive numbers.\n",
        "\n",
        "numbers = [-1, 2, -3, 4, -5, 6]\n",
        "positive_sum = 0\n",
        "for num in numbers:\n",
        "    if num > 0:\n",
        "        positive_sum += num\n",
        "print(\"Sum of positive numbers:\", positive_sum)"
      ],
      "metadata": {
        "colab": {
          "base_uri": "https://localhost:8080/"
        },
        "id": "ev-gTsCSPyDp",
        "outputId": "ac04bac5-a524-4690-eaf3-d961d2d724b9"
      },
      "execution_count": null,
      "outputs": [
        {
          "output_type": "stream",
          "name": "stdout",
          "text": [
            "Sum of positive numbers: 12\n"
          ]
        }
      ]
    },
    {
      "cell_type": "code",
      "source": [
        "# Q12: WAP to input 2 floating point numbers & print their average.\n",
        "\n",
        "num1 = float(input(\"Enter first number: \"))\n",
        "num2 = float(input(\"Enter second number: \"))\n",
        "sum = num1 + num2\n",
        "avg =sum/2\n",
        "print(\"avg=\",avg)"
      ],
      "metadata": {
        "colab": {
          "base_uri": "https://localhost:8080/"
        },
        "id": "P9WYAPt5PyWq",
        "outputId": "a46edfdf-4555-464a-c4b5-8cbe0e90add5"
      },
      "execution_count": null,
      "outputs": [
        {
          "output_type": "stream",
          "name": "stdout",
          "text": [
            "Enter first number: 10.5\n",
            "Enter second number: 20.5\n",
            "avg= 15.5\n"
          ]
        }
      ]
    },
    {
      "cell_type": "code",
      "source": [
        "# Q13: WAP to input 2 int numbers, a and b.Print True if a is greater than or equal to b. If not print False\n",
        "\n",
        "a = int(input(\"Enter number a: \"))\n",
        "b = int(input(\"Enter number b: \"))\n",
        "print(a>=b)"
      ],
      "metadata": {
        "colab": {
          "base_uri": "https://localhost:8080/"
        },
        "id": "Q7nRzrDuP9Uf",
        "outputId": "42332080-6818-44ea-b6e2-2f5bc3e84473"
      },
      "execution_count": null,
      "outputs": [
        {
          "output_type": "stream",
          "name": "stdout",
          "text": [
            "Enter number a: 10\n",
            "Enter number b: 5\n",
            "True\n"
          ]
        }
      ]
    }
  ]
}