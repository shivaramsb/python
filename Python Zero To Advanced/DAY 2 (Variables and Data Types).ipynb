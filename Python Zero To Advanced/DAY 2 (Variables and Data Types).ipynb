{
  "nbformat": 4,
  "nbformat_minor": 0,
  "metadata": {
    "colab": {
      "provenance": []
    },
    "kernelspec": {
      "name": "python3",
      "display_name": "Python 3"
    },
    "language_info": {
      "name": "python"
    }
  },
  "cells": [
    {
      "cell_type": "code",
      "execution_count": 1,
      "metadata": {
        "id": "2-GkYfjh2LIn",
        "colab": {
          "base_uri": "https://localhost:8080/"
        },
        "outputId": "5cad2967-c1bb-49aa-baea-f79e4fa83bcf"
      },
      "outputs": [
        {
          "output_type": "stream",
          "name": "stdout",
          "text": [
            "Please enter your first name: Shivaram\n",
            "The length of your first name is: 8\n"
          ]
        }
      ],
      "source": [
        "# Q1 : WAP to input user’s first name & print its length.\n",
        "\n",
        "first_name = input(\"Please enter your first name: \")\n",
        "name_length = len(first_name)\n",
        "print(\"The length of your first name is:\", name_length)"
      ]
    },
    {
      "cell_type": "code",
      "source": [
        "# Q2 : WAP to find the occurrence of ‘$’ in a String.\n",
        "user_string = input(\"Enter a string: \")\n",
        "dollar_count = 0\n",
        "for char in user_string:\n",
        "    if char == '$':\n",
        "        dollar_count += 1\n",
        "print(\"Occurrences of '$' in the string:\", dollar_count)\n"
      ],
      "metadata": {
        "id": "4c2AxSh02Vyu",
        "colab": {
          "base_uri": "https://localhost:8080/"
        },
        "outputId": "4980099f-6162-4680-fc0d-10253ebf267f"
      },
      "execution_count": 2,
      "outputs": [
        {
          "output_type": "stream",
          "name": "stdout",
          "text": [
            "Enter a string: $$$$$$$$\n",
            "Occurrences of '$' in the string: 8\n"
          ]
        }
      ]
    },
    {
      "cell_type": "code",
      "source": [
        "# Q3 : WAP to check if a number entered by the user is odd or even.\n",
        "\n",
        "number = int(input(\"Enter a number: \"))\n",
        "if number % 2 == 0:\n",
        "    print(number, \"is even.\")\n",
        "else:\n",
        "    print(number, \"is odd.\")\n"
      ],
      "metadata": {
        "id": "HXqicTW52VnP",
        "colab": {
          "base_uri": "https://localhost:8080/"
        },
        "outputId": "c499c68b-aa54-4931-a7bf-6ecee1de6d3f"
      },
      "execution_count": 3,
      "outputs": [
        {
          "output_type": "stream",
          "name": "stdout",
          "text": [
            "Enter a number: 12\n",
            "12 is even.\n"
          ]
        }
      ]
    },
    {
      "cell_type": "code",
      "source": [
        "# Q4 : WAP to find the greatest of 3 numbers entered by the user.\n",
        "\n",
        "num1 = float(input(\"Enter first number: \"))\n",
        "num2 = float(input(\"Enter second number: \"))\n",
        "num3 = float(input(\"Enter third number: \"))\n",
        "\n",
        "if num1 >= num2 and num1 >= num3:\n",
        "    print(num1, \"is the greatest.\")\n",
        "elif num2 >= num1 and num2 >= num3:\n",
        "    print(num2, \"is the greatest.\")\n",
        "else:\n",
        "    print(num3, \"is the greatest.\")\n"
      ],
      "metadata": {
        "id": "-tWbTGj_2VYG",
        "colab": {
          "base_uri": "https://localhost:8080/"
        },
        "outputId": "aa2cc8c6-cbf1-4b50-f64a-15a8a47c2ac6"
      },
      "execution_count": 4,
      "outputs": [
        {
          "output_type": "stream",
          "name": "stdout",
          "text": [
            "Enter first number: 10\n",
            "Enter second number: 15\n",
            "Enter third number: 20\n",
            "20.0 is the greatest.\n"
          ]
        }
      ]
    },
    {
      "cell_type": "code",
      "source": [
        "# Q5 : WAP to check if a number is a multiple of 7 or not.\n",
        "\n",
        "number = int(input(\"Enter a number: \"))\n",
        "if number % 7 == 0:\n",
        "    print(number, \"is a multiple of 7.\")\n",
        "else:\n",
        "    print(number, \"is not a multiple of 7.\")"
      ],
      "metadata": {
        "id": "oP4Ai7s42VD7",
        "colab": {
          "base_uri": "https://localhost:8080/"
        },
        "outputId": "9b3c65b9-7803-4dc4-c0d3-b26ca7fef30e"
      },
      "execution_count": 5,
      "outputs": [
        {
          "output_type": "stream",
          "name": "stdout",
          "text": [
            "Enter a number: 25\n",
            "25 is not a multiple of 7.\n"
          ]
        }
      ]
    },
    {
      "cell_type": "code",
      "source": [
        "# Q6 : Create variables for storing a person's name, age, and average test score.\n",
        "\n",
        "person_name = \"John Doe\"\n",
        "person_age = 25\n",
        "average_test_score = 85.5\n",
        "print(\"Person's Name:\", person_name)\n",
        "print(\"Person's Age:\", person_age)\n",
        "print(\"Average Test Score:\", average_test_score)\n"
      ],
      "metadata": {
        "colab": {
          "base_uri": "https://localhost:8080/"
        },
        "id": "xhj0fk8n_j5s",
        "outputId": "a674aad2-2fcf-4410-f854-da2f22b24cb8"
      },
      "execution_count": 6,
      "outputs": [
        {
          "output_type": "stream",
          "name": "stdout",
          "text": [
            "Person's Name: John Doe\n",
            "Person's Age: 25\n",
            "Average Test Score: 85.5\n"
          ]
        }
      ]
    },
    {
      "cell_type": "code",
      "source": [
        "# Q7 : Concatenate two strings and print the result.\n",
        "\n",
        "string1 = \"Hello, \"\n",
        "string2 = \"world!\"\n",
        "result = string1 + string2\n",
        "print(\"Concatenated String:\", result)"
      ],
      "metadata": {
        "colab": {
          "base_uri": "https://localhost:8080/"
        },
        "id": "9PfKIXSu_jkK",
        "outputId": "d7be5f8d-cfae-4f6f-9391-685b36258124"
      },
      "execution_count": 7,
      "outputs": [
        {
          "output_type": "stream",
          "name": "stdout",
          "text": [
            "Concatenated String: Hello, world!\n"
          ]
        }
      ]
    },
    {
      "cell_type": "code",
      "source": [
        "# Q8 : Create a list of fruits and access elements using indexing.\n",
        "\n",
        "fruits = [\"apple\", \"banana\", \"orange\", \"grape\", \"watermelon\"]\n",
        "\n",
        "print(\"First fruit:\", fruits[0])\n",
        "print(\"Second fruit:\", fruits[1])\n",
        "print(\"Third fruit:\", fruits[2])\n",
        "print(\"Fourth fruit:\", fruits[3])\n",
        "print(\"Fifth fruit:\", fruits[4])"
      ],
      "metadata": {
        "colab": {
          "base_uri": "https://localhost:8080/"
        },
        "id": "UnjTg5Z5_jQO",
        "outputId": "9f0f239d-7321-4630-b97c-404a01907559"
      },
      "execution_count": 8,
      "outputs": [
        {
          "output_type": "stream",
          "name": "stdout",
          "text": [
            "First fruit: apple\n",
            "Second fruit: banana\n",
            "Third fruit: orange\n",
            "Fourth fruit: grape\n",
            "Fifth fruit: watermelon\n"
          ]
        }
      ]
    },
    {
      "cell_type": "code",
      "source": [
        "# Q9 : Given a list of numbers, find the sum and average.\n",
        "\n",
        "numbers = [25, 36, 48, 17, 22]\n",
        "total_sum = sum(numbers)\n",
        "average = total_sum / len(numbers)\n",
        "print(\"Sum of numbers:\", total_sum)\n",
        "print(\"Average of numbers:\", average)"
      ],
      "metadata": {
        "colab": {
          "base_uri": "https://localhost:8080/"
        },
        "id": "Kw2gw6iG_i_y",
        "outputId": "4a21936a-476b-44a0-e570-dbf4dc12992a"
      },
      "execution_count": 9,
      "outputs": [
        {
          "output_type": "stream",
          "name": "stdout",
          "text": [
            "Sum of numbers: 148\n",
            "Average of numbers: 29.6\n"
          ]
        }
      ]
    },
    {
      "cell_type": "code",
      "source": [
        "# Q10 : Create a program that takes a temperature in Celsius and converts it to Kelvin.\n",
        "\n",
        "temperature_celsius = float(input(\"Enter temperature in Celsius: \"))\n",
        "\n",
        "temperature_kelvin = temperature_celsius + 273.15\n",
        "print(\"Temperature in Kelvin:\", temperature_kelvin)"
      ],
      "metadata": {
        "colab": {
          "base_uri": "https://localhost:8080/"
        },
        "id": "GSUOuGdlAH5t",
        "outputId": "4fa51580-8d61-4855-a112-34866d13aea4"
      },
      "execution_count": 10,
      "outputs": [
        {
          "output_type": "stream",
          "name": "stdout",
          "text": [
            "Enter temperature in Celsius: 37\n",
            "Temperature in Kelvin: 310.15\n"
          ]
        }
      ]
    },
    {
      "cell_type": "code",
      "source": [
        "# Q11 : Implement a program that checks if a given string is a palindrome.\n",
        "\n",
        "string = input(\"Enter a string: \")\n",
        "\n",
        "string = string.replace(\" \", \"\").lower()\n",
        "\n",
        "if string == string[::-1]:\n",
        "    print(\"The string is a palindrome.\")\n",
        "else:\n",
        "    print(\"The string is not a palindrome.\")"
      ],
      "metadata": {
        "colab": {
          "base_uri": "https://localhost:8080/"
        },
        "id": "FJdxi7Z1AM6_",
        "outputId": "ad9015fa-5269-451b-80fe-52eed65f7372"
      },
      "execution_count": 11,
      "outputs": [
        {
          "output_type": "stream",
          "name": "stdout",
          "text": [
            "Enter a string: Madam\n",
            "The string is a palindrome.\n"
          ]
        }
      ]
    },
    {
      "cell_type": "code",
      "source": [
        "# Q12 : Create a function to reverse a given string.\n",
        "\n",
        "string = input(\"Enter a string: \")\n",
        "\n",
        "reversed_string = string[::-1]\n",
        "\n",
        "print(\"Reversed string:\", reversed_string)"
      ],
      "metadata": {
        "colab": {
          "base_uri": "https://localhost:8080/"
        },
        "id": "iYXMnhz0ANab",
        "outputId": "01bb20fd-61d2-4869-e5a9-2ca14aea8703"
      },
      "execution_count": 12,
      "outputs": [
        {
          "output_type": "stream",
          "name": "stdout",
          "text": [
            "Enter a string: Babar\n",
            "Reversed string: rabaB\n"
          ]
        }
      ]
    },
    {
      "cell_type": "code",
      "source": [
        "# Q13 : Given a list of names, concatenate them into a single string separated by spaces.\n",
        "\n",
        "names = [\"John\", \"Doe\", \"Jane\", \"Smith\", \"Alice\"]\n",
        "\n",
        "concatenated_names = \" \".join(names)\n",
        "print(\"Concatenated Names:\", concatenated_names)"
      ],
      "metadata": {
        "colab": {
          "base_uri": "https://localhost:8080/"
        },
        "id": "o7Zfggr3ANmP",
        "outputId": "61308e46-78ae-4ced-87d4-bae85910dd3e"
      },
      "execution_count": 13,
      "outputs": [
        {
          "output_type": "stream",
          "name": "stdout",
          "text": [
            "Concatenated Names: John Doe Jane Smith Alice\n"
          ]
        }
      ]
    },
    {
      "cell_type": "code",
      "source": [
        "# Q14 : Write a Python program to check if a given string is a pangram (contains all letters of the alphabet).\n",
        "\n",
        "import string\n",
        "\n",
        "# Function to check if a string is a pangram\n",
        "def is_pangram(sentence):\n",
        "    # Convert the sentence to lowercase\n",
        "    sentence = sentence.lower()\n",
        "    # Create a set of alphabets\n",
        "    alphabets = set(string.ascii_lowercase)\n",
        "    # Check if all alphabets are present in the sentence\n",
        "    return set(sentence) >= alphabets\n",
        "sentence = input(\"Enter a sentence: \")\n",
        "\n",
        "if is_pangram(sentence):\n",
        "    print(\"The sentence is a pangram.\")\n",
        "else:\n",
        "    print(\"The sentence is not a pangram.\")\n"
      ],
      "metadata": {
        "colab": {
          "base_uri": "https://localhost:8080/"
        },
        "id": "wUj9XeJOAN3i",
        "outputId": "2089d857-99b2-41fb-f2ec-e387298d5825"
      },
      "execution_count": 14,
      "outputs": [
        {
          "output_type": "stream",
          "name": "stdout",
          "text": [
            "Enter a sentence: Good Night\n",
            "The sentence is not a pangram.\n"
          ]
        }
      ]
    },
    {
      "cell_type": "code",
      "source": [
        "# Q15 : Calculate the area and circumference of a circle given its radius.\n",
        "\n",
        "\n",
        "radius = float(input(\"Enter the radius of the circle: \"))\n",
        "\n",
        "area = 3.14159 * radius**2\n",
        "\n",
        "circumference = 2 * 3.14159 * radius\n",
        "\n",
        "print(\"Area of the circle:\", area)\n",
        "print(\"Circumference of the circle:\", circumference)\n"
      ],
      "metadata": {
        "colab": {
          "base_uri": "https://localhost:8080/"
        },
        "id": "OeLi5or3AOSN",
        "outputId": "5238cc00-2054-47bc-97d6-172ceb4665f9"
      },
      "execution_count": 15,
      "outputs": [
        {
          "output_type": "stream",
          "name": "stdout",
          "text": [
            "Enter the radius of the circle: 15\n",
            "Area of the circle: 706.85775\n",
            "Circumference of the circle: 94.2477\n"
          ]
        }
      ]
    },
    {
      "cell_type": "code",
      "source": [
        "# Q16 : Implement a program that converts a given number of minutes into hours and minutes.\n",
        "\n",
        "minutes = int(input(\"Enter the number of minutes: \"))\n",
        "\n",
        "\n",
        "hours = minutes // 60\n",
        "remaining_minutes = minutes % 60\n",
        "\n",
        "\n",
        "print(minutes, \"minutes is equal to\", hours, \"hours and\", remaining_minutes, \"minutes.\")"
      ],
      "metadata": {
        "colab": {
          "base_uri": "https://localhost:8080/"
        },
        "id": "R3c_QnEaAOe1",
        "outputId": "50d20f47-2b58-4d81-9dc1-a2a669c61f6b"
      },
      "execution_count": 17,
      "outputs": [
        {
          "output_type": "stream",
          "name": "stdout",
          "text": [
            "Enter the number of minutes: 125\n",
            "125 minutes is equal to 2 hours and 5 minutes.\n"
          ]
        }
      ]
    },
    {
      "cell_type": "code",
      "source": [
        "# Q17 : Create a function to count the number of vowels in a given string.\n",
        "\n",
        "def count_vowels(string):\n",
        "    # Define a set of vowels\n",
        "    vowels = {'a', 'e', 'i', 'o', 'u'}\n",
        "    # Convert the string to lowercase\n",
        "    string = string.lower()\n",
        "    # Initialize a count variable for vowels\n",
        "    vowel_count = 0\n",
        "    # Iterate through the characters in the string\n",
        "    for char in string:\n",
        "        # Check if the character is a vowel\n",
        "        if char in vowels:\n",
        "            vowel_count += 1\n",
        "    # Return the count of vowels\n",
        "    return vowel_count\n",
        "\n",
        "# Take input from the user\n",
        "input_string = input(\"Enter a string: \")\n",
        "\n",
        "# Call the function and print the result\n",
        "print(\"Number of vowels in the string:\", count_vowels(input_string))\n"
      ],
      "metadata": {
        "colab": {
          "base_uri": "https://localhost:8080/"
        },
        "id": "8K5cwF0AAOp-",
        "outputId": "c864c894-7794-458c-ea02-0eb3392fb86b"
      },
      "execution_count": 18,
      "outputs": [
        {
          "output_type": "stream",
          "name": "stdout",
          "text": [
            "Enter a string: Shivaram Babar\n",
            "Number of vowels in the string: 5\n"
          ]
        }
      ]
    },
    {
      "cell_type": "code",
      "source": [
        "# Q18 : Write a program to check if a number is prime.\n",
        "\n",
        "\n",
        "number = int(input(\"Enter a number: \"))\n",
        "\n",
        "if number > 1:\n",
        "    # Iterate from 2 to the square root of the number\n",
        "    for i in range(2, int(number**0.5) + 1):\n",
        "        # Check if the number is divisible by any number in this range\n",
        "        if number % i == 0:\n",
        "            print(number, \"is not a prime number.\")\n",
        "            break\n",
        "    else:\n",
        "        print(number, \"is a prime number.\")\n",
        "else:\n",
        "    print(number, \"is not a prime number.\")\n"
      ],
      "metadata": {
        "colab": {
          "base_uri": "https://localhost:8080/"
        },
        "id": "L2Da33JuAO4n",
        "outputId": "bfd67fd6-241e-45a2-ce7d-afe2d028c223"
      },
      "execution_count": 19,
      "outputs": [
        {
          "output_type": "stream",
          "name": "stdout",
          "text": [
            "Enter a number: 9067\n",
            "9067 is a prime number.\n"
          ]
        }
      ]
    }
  ]
}