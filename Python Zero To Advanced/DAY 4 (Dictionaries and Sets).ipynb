{
  "nbformat": 4,
  "nbformat_minor": 0,
  "metadata": {
    "colab": {
      "provenance": []
    },
    "kernelspec": {
      "name": "python3",
      "display_name": "Python 3"
    },
    "language_info": {
      "name": "python"
    }
  },
  "cells": [
    {
      "cell_type": "code",
      "execution_count": 2,
      "metadata": {
        "colab": {
          "base_uri": "https://localhost:8080/"
        },
        "id": "6LRtiQn0UCJJ",
        "outputId": "5b037c7c-e1e5-4cfa-9c38-404862d044b4"
      },
      "outputs": [
        {
          "output_type": "stream",
          "name": "stdout",
          "text": [
            "{'cat': 'a small animal', 'table': ['a piece of furniture', 'list of facts & figures']}\n"
          ]
        }
      ],
      "source": [
        "# Q1. Store following word meanings in a python dictionary: table: \"a piece of furniture\", \"list of facts & figures\" cat: \"a small animal\"\n",
        "\n",
        "dictionary = {\"cat\": \"a small animal\",\"table\": [\"a piece of furniture\", \"list of facts & figures\"]}\n",
        "print(dictionary)"
      ]
    },
    {
      "cell_type": "code",
      "source": [
        "# Q2. You are given a list of subjects for students. Assume one classroom is required for 1 subject. How many classrooms are needed by all students.\"python\", \"java\", \"C++\", \"python\", \"javascript\", \"java\", \"python\", \"java\", \"C++\", \"C\"\n",
        "\n",
        "subjects = {\"python\", \"java\", \"c++\", \"python\", \"javascript\", \"java\",\"python\", \"java\", \"c++\", \"c\"}\n",
        "print(len(subjects))"
      ],
      "metadata": {
        "colab": {
          "base_uri": "https://localhost:8080/"
        },
        "id": "yVM9y2nFUP50",
        "outputId": "03c33674-09aa-44f5-b093-3fee5af5a472"
      },
      "execution_count": 1,
      "outputs": [
        {
          "output_type": "stream",
          "name": "stdout",
          "text": [
            "5\n"
          ]
        }
      ]
    },
    {
      "cell_type": "code",
      "source": [
        "# Q3. WAP to enter marks of 3 subjects from the user and store them in a dictionary. Start with an empty dictionary & add one by one. Use subject name as key & marks as value.\n",
        "\n",
        "marks = {}\n",
        "x = int(input(\"enter phy: \"))\n",
        "marks.update({\"phy\" : x})\n",
        "x = int(input(\"enter math : \"))\n",
        "marks.update({\"math\": x})\n",
        "x = int(input(\"enter chem: \"))\n",
        "marks.update({\"chem\" : x})\n",
        "print(marks)"
      ],
      "metadata": {
        "colab": {
          "base_uri": "https://localhost:8080/"
        },
        "id": "nWdVemM3WNiE",
        "outputId": "81e45460-dd70-4409-e48c-fcc63645554f"
      },
      "execution_count": 3,
      "outputs": [
        {
          "output_type": "stream",
          "name": "stdout",
          "text": [
            "enter phy: 98\n",
            "enter math : 99\n",
            "enter chem: 100\n",
            "{'phy': 98, 'math': 99, 'chem': 100}\n"
          ]
        }
      ]
    },
    {
      "cell_type": "code",
      "source": [
        "# Q4. Figure out a way to store 9 & 9.0 as separate values in the set.(You can take help of built-in data types)\n",
        "\n",
        "values = {\n",
        "(\"float\", 9.0),\n",
        "(\"int\", 9)\n",
        "}\n",
        "print(values)"
      ],
      "metadata": {
        "colab": {
          "base_uri": "https://localhost:8080/"
        },
        "id": "j5SZcCPSWtiL",
        "outputId": "36d887b7-df58-4397-a340-1e572f33d573"
      },
      "execution_count": 4,
      "outputs": [
        {
          "output_type": "stream",
          "name": "stdout",
          "text": [
            "{('int', 9), ('float', 9.0)}\n"
          ]
        }
      ]
    },
    {
      "cell_type": "code",
      "source": [
        "# Q5: Create a dictionary to store information about a person (name, age, address).\n",
        "\n",
        "person = {\"name\": \"John Doe\", \"age\": 30, \"address\": \"123 Main St\"}"
      ],
      "metadata": {
        "id": "b0kgIrvOY_jB"
      },
      "execution_count": 8,
      "outputs": []
    },
    {
      "cell_type": "code",
      "source": [
        "# Q6: Add a new key-value pair to an existing dictionary.\n",
        "\n",
        "person[\"email\"] = \"john@example.com\""
      ],
      "metadata": {
        "id": "XyNKp8UUZZaV"
      },
      "execution_count": 9,
      "outputs": []
    },
    {
      "cell_type": "code",
      "source": [
        "# Q7: Create a set of unique numbers from a list of numbers.\n",
        "\n",
        "numbers = [1, 2, 3, 4, 5, 1, 2, 3]\n",
        "unique_numbers = set(numbers)"
      ],
      "metadata": {
        "id": "Yk1M0LbbZpGU"
      },
      "execution_count": 10,
      "outputs": []
    },
    {
      "cell_type": "code",
      "source": [
        "# Q8: Given two dictionaries, merge them into a single dictionary.\n",
        "\n",
        "dict1 = {\"a\": 1, \"b\": 2}\n",
        "dict2 = {\"c\": 3, \"d\": 4}\n",
        "merged_dict = {**dict1, **dict2}"
      ],
      "metadata": {
        "id": "HM2tG-sTZroD"
      },
      "execution_count": 11,
      "outputs": []
    },
    {
      "cell_type": "code",
      "source": [
        "# Q9: Given two sets, find the union, intersection, and difference between them.\n",
        "set1 = {1, 2, 3}\n",
        "set2 = {3, 4, 5}\n",
        "\n",
        "union_set = set1.union(set2)\n",
        "intersection_set = set1.intersection(set2)\n",
        "difference_set = set1.difference(set2)\n",
        "\n",
        "print(\"Union:\", union_set)\n",
        "print(\"Intersection:\", intersection_set)\n",
        "print(\"Difference:\", difference_set)"
      ],
      "metadata": {
        "colab": {
          "base_uri": "https://localhost:8080/"
        },
        "id": "00oPJEPFZ3GO",
        "outputId": "c509da95-b9db-48d6-d65f-111c11c1aa10"
      },
      "execution_count": 12,
      "outputs": [
        {
          "output_type": "stream",
          "name": "stdout",
          "text": [
            "Union: {1, 2, 3, 4, 5}\n",
            "Intersection: {3}\n",
            "Difference: {1, 2}\n"
          ]
        }
      ]
    }
  ]
}