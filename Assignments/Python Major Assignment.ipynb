{
  "nbformat": 4,
  "nbformat_minor": 0,
  "metadata": {
    "colab": {
      "provenance": []
    },
    "kernelspec": {
      "name": "python3",
      "display_name": "Python 3"
    },
    "language_info": {
      "name": "python"
    }
  },
  "cells": [
    {
      "cell_type": "code",
      "execution_count": 6,
      "metadata": {
        "colab": {
          "base_uri": "https://localhost:8080/"
        },
        "id": "kQQGHa0kGAHw",
        "outputId": "7fdf7c0e-06fb-4d8f-bd00-b600f60e127a"
      },
      "outputs": [
        {
          "output_type": "stream",
          "name": "stdout",
          "text": [
            "<class 'int'>\n",
            "<class 'str'>\n"
          ]
        }
      ],
      "source": [
        "# Q1) Find the datatype of these two declarations.\n",
        "x = 5\n",
        "y = \"John\"\n",
        "\n",
        "print(type(x))\n",
        "print(type(y))"
      ]
    },
    {
      "cell_type": "code",
      "source": [
        "# Q2) Check whether the following syntax is valid or invalid for naming a variable.Example: abc=100 #valid syntax\n",
        "\n",
        "1) 3a=10 - Invalid syntax\n",
        "2) @abc=10 - Invalid syntax\n",
        "3) a100=100 - valid syntax\n",
        "4) _a984_=100 - valid syntax\n",
        "5) a9967$=100 - Invalid syntax\n",
        "6) xyz-2=100 - Invalid syntax"
      ],
      "metadata": {
        "id": "6YvXnX1Id3K8"
      },
      "execution_count": null,
      "outputs": []
    },
    {
      "cell_type": "code",
      "source": [
        "\"\"\"Q3) Check if an element exists in the list in Python.\n",
        "list = test_list = [1, 6, 3, 5, 3, 4]\n",
        "1) Check if 3 exist or not.\n",
        "2) Check if 9 exists or not\"\"\"\n",
        "\n",
        "test_list = [1, 6, 3, 5, 3, 4]\n",
        "# Check if 3 exists\n",
        "if 3 in test_list:\n",
        "    print(\"3 exists in the list\")\n",
        "else:\n",
        "    print(\"3 does not exist in the list\")\n",
        "\n",
        "# Check if 9 exists\n",
        "if 9 in test_list:\n",
        "    print(\"9 exists in the list\")\n",
        "else:\n",
        "    print(\"9 does not exist in the list\")"
      ],
      "metadata": {
        "colab": {
          "base_uri": "https://localhost:8080/"
        },
        "id": "qLaXJB8EegEq",
        "outputId": "7f8715b8-da26-4626-ed83-6840d4382b0e"
      },
      "execution_count": 13,
      "outputs": [
        {
          "output_type": "stream",
          "name": "stdout",
          "text": [
            "3 exists in the list\n",
            "9 does not exist in the list\n"
          ]
        }
      ]
    },
    {
      "cell_type": "code",
      "source": [
        "# Q4) Take the user input to print the current date?\n",
        "\n",
        "from datetime import datetime\n",
        "user_input = input(\"Enter any text to display the current date: \")\n",
        "current_date = datetime.now()\n",
        "print(\"Current date:\", current_date.strftime(\"%Y-%m-%d\"))"
      ],
      "metadata": {
        "colab": {
          "base_uri": "https://localhost:8080/"
        },
        "id": "aMYn1bYse5gm",
        "outputId": "44711278-7b56-4d16-c5cc-c09705a4c1c7"
      },
      "execution_count": 15,
      "outputs": [
        {
          "output_type": "stream",
          "name": "stdout",
          "text": [
            "Enter any text to display the current date: hello\n",
            "Current date: 2024-04-04\n"
          ]
        }
      ]
    },
    {
      "cell_type": "code",
      "source": [
        "# Q5) What is the output of the following code?\n",
        "\n",
        "#a)\n",
        "print (9//2)\n",
        "\n",
        "#b)\n",
        "print (9%2)"
      ],
      "metadata": {
        "colab": {
          "base_uri": "https://localhost:8080/"
        },
        "id": "nZZMXC7vfhPv",
        "outputId": "bd603b35-3320-46a2-c572-197fdb5e0461"
      },
      "execution_count": 21,
      "outputs": [
        {
          "output_type": "stream",
          "name": "stdout",
          "text": [
            "4\n",
            "1\n"
          ]
        }
      ]
    },
    {
      "cell_type": "code",
      "source": [
        "# Q6) Print the First 10 Natural Numbers using a while loop.\n",
        "\n",
        "num = 1\n",
        "while num <= 10:\n",
        "    print(num)\n",
        "    num += 1"
      ],
      "metadata": {
        "colab": {
          "base_uri": "https://localhost:8080/"
        },
        "id": "RByTSc7fil6u",
        "outputId": "16a4b8ba-33bc-4f11-8f8a-586c0157be00"
      },
      "execution_count": 23,
      "outputs": [
        {
          "output_type": "stream",
          "name": "stdout",
          "text": [
            "1\n",
            "2\n",
            "3\n",
            "4\n",
            "5\n",
            "6\n",
            "7\n",
            "8\n",
            "9\n",
            "10\n"
          ]
        }
      ]
    },
    {
      "cell_type": "code",
      "source": [
        "# Q7) Write a program to accept a number from a user and calculate the sum of all numbers from 1 to a given number.\n",
        "\n",
        "num = int(input(\"Enter a number: \"))\n",
        "total_sum = sum(range(1, num + 1))\n",
        "print(\"The sum of all numbers from 1 to\", num, \"is:\", total_sum)"
      ],
      "metadata": {
        "colab": {
          "base_uri": "https://localhost:8080/"
        },
        "id": "aaBOUbMki5JD",
        "outputId": "9fb11761-71be-4a82-f317-a35fb472f374"
      },
      "execution_count": 24,
      "outputs": [
        {
          "output_type": "stream",
          "name": "stdout",
          "text": [
            "Enter a number: 5\n",
            "The sum of all numbers from 1 to 5 is: 15\n"
          ]
        }
      ]
    },
    {
      "cell_type": "code",
      "source": [
        "Q8)Write a Python program that iterates the integers from 1 to 50. For\n",
        "multiples of three print \"Fizz\" instead of the number and for multiples\n",
        "of five print \"Buzz\". For numbers that are multiples of both three and\n",
        "five print \"FizzBuzz\"?\n",
        "Example:\n",
        "FizzBuzz\n",
        "1\n",
        "2\n",
        "Fizz\n",
        "4\n",
        "Buzz"
      ],
      "metadata": {
        "id": "Z2G5d9xVkLor"
      },
      "execution_count": null,
      "outputs": []
    },
    {
      "cell_type": "code",
      "source": [
        "for num in range(1, 51):\n",
        "    # Check if the number is a multiple of both 3 and 5\n",
        "    if num % 3 == 0 and num % 5 == 0:\n",
        "        print(\"FizzBuzz\")\n",
        "    # Check if the number is a multiple of 3\n",
        "    elif num % 3 == 0:\n",
        "        print(\"Fizz\")\n",
        "    # Check if the number is a multiple of 5\n",
        "    elif num % 5 == 0:\n",
        "        print(\"Buzz\")\n",
        "    # If the number is neither a multiple of 3 nor 5, print the number itself\n",
        "    else:\n",
        "        print(num)\n"
      ],
      "metadata": {
        "colab": {
          "base_uri": "https://localhost:8080/"
        },
        "id": "Xjpt0Ht_kwbz",
        "outputId": "a0fd100a-c5d0-4e64-853a-e482c91045cb"
      },
      "execution_count": 25,
      "outputs": [
        {
          "output_type": "stream",
          "name": "stdout",
          "text": [
            "1\n",
            "2\n",
            "Fizz\n",
            "4\n",
            "Buzz\n",
            "Fizz\n",
            "7\n",
            "8\n",
            "Fizz\n",
            "Buzz\n",
            "11\n",
            "Fizz\n",
            "13\n",
            "14\n",
            "FizzBuzz\n",
            "16\n",
            "17\n",
            "Fizz\n",
            "19\n",
            "Buzz\n",
            "Fizz\n",
            "22\n",
            "23\n",
            "Fizz\n",
            "Buzz\n",
            "26\n",
            "Fizz\n",
            "28\n",
            "29\n",
            "FizzBuzz\n",
            "31\n",
            "32\n",
            "Fizz\n",
            "34\n",
            "Buzz\n",
            "Fizz\n",
            "37\n",
            "38\n",
            "Fizz\n",
            "Buzz\n",
            "41\n",
            "Fizz\n",
            "43\n",
            "44\n",
            "FizzBuzz\n",
            "46\n",
            "47\n",
            "Fizz\n",
            "49\n",
            "Buzz\n"
          ]
        }
      ]
    }
  ]
}