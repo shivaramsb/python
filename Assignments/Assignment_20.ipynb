{
  "nbformat": 4,
  "nbformat_minor": 0,
  "metadata": {
    "colab": {
      "provenance": []
    },
    "kernelspec": {
      "name": "python3",
      "display_name": "Python 3"
    },
    "language_info": {
      "name": "python"
    }
  },
  "cells": [
    {
      "cell_type": "code",
      "source": [
        "1. Set the variable testi to the string 'This is a test of the emergency text system, and save test1 to a file named test.bxt.\n"
      ],
      "metadata": {
        "id": "hldii9iIWfRg"
      },
      "execution_count": null,
      "outputs": []
    },
    {
      "cell_type": "code",
      "source": [
        "test1 = 'This is a test of the emergency text system'\n",
        "with open('test.txt', 'w') as file:\n",
        "    file.write(test1)\n"
      ],
      "metadata": {
        "id": "bpKE9tH0WfY-"
      },
      "execution_count": 1,
      "outputs": []
    },
    {
      "cell_type": "code",
      "source": [
        "2. Read the contents of the file test.txt into the variable test2. Is there a difference between test 1 and test 2?\n"
      ],
      "metadata": {
        "id": "j-0Y_riWWfej"
      },
      "execution_count": null,
      "outputs": []
    },
    {
      "cell_type": "code",
      "source": [
        "with open('test.txt', 'r') as file:\n",
        "    test2 = file.read()\n",
        "\n",
        "# Checking for differences\n",
        "if test1 == test2:\n",
        "    print(\"There is no difference between test1 and test2\")\n",
        "else:\n",
        "    print(\"There is a difference between test1 and test2\")\n"
      ],
      "metadata": {
        "colab": {
          "base_uri": "https://localhost:8080/"
        },
        "id": "0mLE1o3MWo99",
        "outputId": "53527594-3845-454d-93dd-717a7b3f0d6e"
      },
      "execution_count": 2,
      "outputs": [
        {
          "output_type": "stream",
          "name": "stdout",
          "text": [
            "There is no difference between test1 and test2\n"
          ]
        }
      ]
    },
    {
      "cell_type": "code",
      "source": [
        "3. Create a CSV file called books.csv by using these lines:\n",
        "\n",
        "title, author, year\n",
        "\n",
        "The Weirdstone of Brisingamen, Alan Garner, 1960\n",
        "\n",
        "Perdido Street Station, China Miéville, 2000\n",
        "\n",
        "Thud!, Terry Pratchett, 2005\n",
        "\n",
        "The Spellman Files, Lisa Lutz, 2007\n",
        "\n",
        "Small Gods, Terry Pratchett, 1992"
      ],
      "metadata": {
        "id": "iV-0shTfWr3q"
      },
      "execution_count": null,
      "outputs": []
    },
    {
      "cell_type": "code",
      "source": [
        "import csv\n",
        "\n",
        "data = [\n",
        "    ['title', 'author', 'year'],\n",
        "    ['The Weirdstone of Brisingamen', 'Alan Garner', 1960],\n",
        "    ['Perdido Street Station', 'China Miéville', 2000],\n",
        "    ['Thud!', 'Terry Pratchett', 2005],\n",
        "    ['The Spellman Files', 'Lisa Lutz', 2007],\n",
        "    ['Small Gods', 'Terry Pratchett', 1992]\n",
        "]\n",
        "\n",
        "with open('books.csv', 'w', newline='') as file:\n",
        "    writer = csv.writer(file)\n",
        "    writer.writerows(data)\n"
      ],
      "metadata": {
        "id": "wMBKsggNWvhk"
      },
      "execution_count": 3,
      "outputs": []
    },
    {
      "cell_type": "code",
      "source": [
        "4. Use the sqlite3 module to create a SQLite database called books db, and a table called books with these fields: title (text), author (text), and year (integer).\n"
      ],
      "metadata": {
        "id": "c3D_YROXWzFR"
      },
      "execution_count": null,
      "outputs": []
    },
    {
      "cell_type": "code",
      "source": [
        "import sqlite3\n",
        "\n",
        "conn = sqlite3.connect('books.db')\n",
        "cursor = conn.cursor()\n",
        "\n",
        "cursor.execute('''CREATE TABLE IF NOT EXISTS books (\n",
        "                    title TEXT,\n",
        "                    author TEXT,\n",
        "                    year INTEGER\n",
        "                )''')\n",
        "\n",
        "conn.commit()\n",
        "conn.close()\n"
      ],
      "metadata": {
        "id": "qilplD-6W6hj"
      },
      "execution_count": 4,
      "outputs": []
    },
    {
      "cell_type": "code",
      "source": [
        "5. Read books.csv and insert its data into the book table\n"
      ],
      "metadata": {
        "id": "KmRYzVgVW_oX"
      },
      "execution_count": null,
      "outputs": []
    },
    {
      "cell_type": "code",
      "source": [
        "import csv\n",
        "import sqlite3\n",
        "\n",
        "conn = sqlite3.connect('books.db')\n",
        "cursor = conn.cursor()\n",
        "\n",
        "with open('books.csv', 'r') as file:\n",
        "    reader = csv.reader(file)\n",
        "    next(reader)  # Skip header row\n",
        "    for row in reader:\n",
        "        cursor.execute('INSERT INTO books VALUES (?, ?, ?)', row)\n",
        "\n",
        "conn.commit()\n",
        "conn.close()\n"
      ],
      "metadata": {
        "id": "3wAJhNoTW_r-"
      },
      "execution_count": 5,
      "outputs": []
    },
    {
      "cell_type": "code",
      "source": [
        "6. Select and print the title column from the book table in alphabetical order.\n"
      ],
      "metadata": {
        "id": "WOQtBMdCW_u7"
      },
      "execution_count": null,
      "outputs": []
    },
    {
      "cell_type": "code",
      "source": [
        "conn = sqlite3.connect('books.db')\n",
        "cursor = conn.cursor()\n",
        "\n",
        "cursor.execute('SELECT title FROM books ORDER BY title')\n",
        "titles = cursor.fetchall()\n",
        "for title in titles:\n",
        "    print(title[0])\n",
        "\n",
        "conn.close()\n"
      ],
      "metadata": {
        "colab": {
          "base_uri": "https://localhost:8080/"
        },
        "id": "EruB-jbuW_yH",
        "outputId": "661a939e-28b0-4fc8-d4e3-7a5b9f9e516d"
      },
      "execution_count": 6,
      "outputs": [
        {
          "output_type": "stream",
          "name": "stdout",
          "text": [
            "Perdido Street Station\n",
            "Small Gods\n",
            "The Spellman Files\n",
            "The Weirdstone of Brisingamen\n",
            "Thud!\n"
          ]
        }
      ]
    },
    {
      "cell_type": "code",
      "source": [
        "7. From the book table, select and print all columns in the order of publication\n"
      ],
      "metadata": {
        "id": "qew8BZZ9XIov"
      },
      "execution_count": null,
      "outputs": []
    },
    {
      "cell_type": "code",
      "source": [
        "conn = sqlite3.connect('books.db')\n",
        "cursor = conn.cursor()\n",
        "\n",
        "cursor.execute('SELECT * FROM books ORDER BY year')\n",
        "books = cursor.fetchall()\n",
        "for book in books:\n",
        "    print(book)\n",
        "\n",
        "conn.close()\n"
      ],
      "metadata": {
        "colab": {
          "base_uri": "https://localhost:8080/"
        },
        "id": "J4UOpXNjXIsz",
        "outputId": "863ac901-05b9-40f6-f86e-0c698a29e1bf"
      },
      "execution_count": 7,
      "outputs": [
        {
          "output_type": "stream",
          "name": "stdout",
          "text": [
            "('The Weirdstone of Brisingamen', 'Alan Garner', 1960)\n",
            "('Small Gods', 'Terry Pratchett', 1992)\n",
            "('Perdido Street Station', 'China Miéville', 2000)\n",
            "('Thud!', 'Terry Pratchett', 2005)\n",
            "('The Spellman Files', 'Lisa Lutz', 2007)\n"
          ]
        }
      ]
    },
    {
      "cell_type": "code",
      "source": [
        "8. Use the sqlalchemy module to connect to the sqlite3 database books.db that you just made in Exercise 6\n"
      ],
      "metadata": {
        "id": "mls4vyA1XIw0"
      },
      "execution_count": null,
      "outputs": []
    },
    {
      "cell_type": "code",
      "source": [
        "from sqlalchemy import create_engine\n",
        "from sqlalchemy.orm import sessionmaker\n",
        "from sqlalchemy.ext.declarative import declarative_base\n",
        "from sqlalchemy import Column, Integer, String\n",
        "\n",
        "# Creating a database engine\n",
        "engine = create_engine('sqlite:///books.db')\n",
        "\n",
        "# Creating a session\n",
        "Session = sessionmaker(bind=engine)\n",
        "session = Session()\n",
        "\n",
        "# Creating a base class for declarative class definitions\n",
        "Base = declarative_base()\n",
        "\n",
        "# Defining the Book class\n",
        "class Book(Base):\n",
        "    __tablename__ = 'books'\n",
        "\n",
        "    id = Column(Integer, primary_key=True)\n",
        "    title = Column(String)\n",
        "    author = Column(String)\n",
        "    year = Column(Integer)\n",
        "\n",
        "# Creating tables in the database\n",
        "Base.metadata.create_all(engine)\n"
      ],
      "metadata": {
        "colab": {
          "base_uri": "https://localhost:8080/"
        },
        "id": "UdUxed5nXPLw",
        "outputId": "191c20b4-ce5c-42ac-fb09-b3d8027ba170"
      },
      "execution_count": 8,
      "outputs": [
        {
          "output_type": "stream",
          "name": "stderr",
          "text": [
            "<ipython-input-8-73ed2af7a5bd>:14: MovedIn20Warning: The ``declarative_base()`` function is now available as sqlalchemy.orm.declarative_base(). (deprecated since: 2.0) (Background on SQLAlchemy 2.0 at: https://sqlalche.me/e/b8d9)\n",
            "  Base = declarative_base()\n"
          ]
        }
      ]
    },
    {
      "cell_type": "code",
      "source": [
        "9. Install the Redis server and the Python redis library (pip install redis) on your computer.\n",
        "Create a Redo hash called test with the fields count (1) and name (Fester Bestertester'). Print all the fields for test."
      ],
      "metadata": {
        "id": "NzxeXOKrXS1w"
      },
      "execution_count": null,
      "outputs": []
    },
    {
      "cell_type": "code",
      "source": [
        "import redis\n",
        "\n",
        "# Connecting to Redis server\n",
        "r = redis.Redis(host='localhost', port=6379, db=0)\n",
        "\n",
        "# Creating a Redis hash called test\n",
        "r.hset('test', 'count', 1)\n",
        "r.hset('test', 'name', 'Fester Bestertester')\n",
        "\n",
        "# Printing all fields for test\n",
        "print(r.hgetall('test'))\n"
      ],
      "metadata": {
        "id": "tk1abS2OXS7i"
      },
      "execution_count": null,
      "outputs": []
    },
    {
      "cell_type": "code",
      "source": [
        "10. Increment the count field of test and print it."
      ],
      "metadata": {
        "id": "2JUVBv45W6k0"
      },
      "execution_count": null,
      "outputs": []
    },
    {
      "cell_type": "code",
      "source": [
        "import redis\n",
        "\n",
        "# Connecting to Redis server\n",
        "r = redis.Redis(host='localhost', port=6379, db=0)\n",
        "\n",
        "# Incrementing the count field\n",
        "r.hincrby('test', 'count', 1)\n",
        "\n",
        "# Printing the updated count field\n",
        "print(r.hget('test', 'count'))\n",
        "\n"
      ],
      "metadata": {
        "id": "0akOXAyOW6oU"
      },
      "execution_count": null,
      "outputs": []
    }
  ]
}