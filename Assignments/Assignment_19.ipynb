{
  "nbformat": 4,
  "nbformat_minor": 0,
  "metadata": {
    "colab": {
      "provenance": []
    },
    "kernelspec": {
      "name": "python3",
      "display_name": "Python 3"
    },
    "language_info": {
      "name": "python"
    }
  },
  "cells": [
    {
      "cell_type": "code",
      "source": [
        "1. Make a class called Thing with no contents and print it. Then, create an object called example from this class and also print it. Are the printed values the same or different?\n"
      ],
      "metadata": {
        "id": "8yIS6XvdU5xX"
      },
      "execution_count": null,
      "outputs": []
    },
    {
      "cell_type": "code",
      "source": [
        "class Thing:\n",
        "    pass\n",
        "\n",
        "print(Thing)\n"
      ],
      "metadata": {
        "colab": {
          "base_uri": "https://localhost:8080/"
        },
        "id": "NdR0bdPzU6fA",
        "outputId": "c9519d37-15b3-44c7-d52e-6c2f0e64ecc0"
      },
      "execution_count": 1,
      "outputs": [
        {
          "output_type": "stream",
          "name": "stdout",
          "text": [
            "<class '__main__.Thing'>\n"
          ]
        }
      ]
    },
    {
      "cell_type": "code",
      "source": [
        "example = Thing()\n",
        "print(example)\n"
      ],
      "metadata": {
        "colab": {
          "base_uri": "https://localhost:8080/"
        },
        "id": "ZtZ1Mj6jU8iz",
        "outputId": "4aceacaf-f3f9-4a04-ed72-2c1b1e056aa2"
      },
      "execution_count": 2,
      "outputs": [
        {
          "output_type": "stream",
          "name": "stdout",
          "text": [
            "<__main__.Thing object at 0x7ebe12e14f40>\n"
          ]
        }
      ]
    },
    {
      "cell_type": "code",
      "source": [
        "2. Create a new class called Thing2 and add the value 'abc' to the letters class attribute. Letters should be printed.\n"
      ],
      "metadata": {
        "id": "f_qaSnuDVBKy"
      },
      "execution_count": null,
      "outputs": []
    },
    {
      "cell_type": "code",
      "source": [
        "class Thing2:\n",
        "    letters = 'abc'\n",
        "\n",
        "print(Thing2.letters)\n"
      ],
      "metadata": {
        "colab": {
          "base_uri": "https://localhost:8080/"
        },
        "id": "1ypCjaqIVFC7",
        "outputId": "f3a73186-f22a-4d2e-8e98-3d3daa6cbfb5"
      },
      "execution_count": 3,
      "outputs": [
        {
          "output_type": "stream",
          "name": "stdout",
          "text": [
            "abc\n"
          ]
        }
      ]
    },
    {
      "cell_type": "code",
      "source": [
        "3. Make yet another class called, of course, Thing3. This time, assign the value 'xyz' to an instance\n",
        "\n",
        "(object) attribute called letters. Print letters. Do you need to make an object from the class to do this?"
      ],
      "metadata": {
        "id": "_a6nJ3BkVG55"
      },
      "execution_count": null,
      "outputs": []
    },
    {
      "cell_type": "code",
      "source": [
        "class Thing3:\n",
        "    def __init__(self):\n",
        "        self.letters = 'xyz'\n",
        "\n",
        "# No need to make an object from the class to access the instance attribute\n",
        "print(Thing3().letters)\n"
      ],
      "metadata": {
        "colab": {
          "base_uri": "https://localhost:8080/"
        },
        "id": "uPE-F14eVK3Y",
        "outputId": "04cfe4a9-08d1-4ec7-93b2-c53121508757"
      },
      "execution_count": 4,
      "outputs": [
        {
          "output_type": "stream",
          "name": "stdout",
          "text": [
            "xyz\n"
          ]
        }
      ]
    },
    {
      "cell_type": "code",
      "source": [
        "4. Create an Element class with the instance attributes name, symbol, and number. Create a class object with the values 'Hydrogen, \"H, and 1.\n"
      ],
      "metadata": {
        "id": "GHGEgLQgVMz9"
      },
      "execution_count": null,
      "outputs": []
    },
    {
      "cell_type": "code",
      "source": [
        "class Element:\n",
        "    def __init__(self, name, symbol, number):\n",
        "        self.name = name\n",
        "        self.symbol = symbol\n",
        "        self.number = number\n",
        "\n",
        "# Creating a class object with values\n",
        "element_object = Element('Hydrogen', 'H', 1)\n"
      ],
      "metadata": {
        "id": "b6-ouB-GVQEm"
      },
      "execution_count": 5,
      "outputs": []
    },
    {
      "cell_type": "code",
      "source": [
        "5. Make a dictionary with these keys and values: 'name': 'Hydrogen', 'symbol': 'H', 'number': 1. Then, create an object called hydrogen from class Element using this dictionary.\n"
      ],
      "metadata": {
        "id": "59KDq0LBVRt7"
      },
      "execution_count": null,
      "outputs": []
    },
    {
      "cell_type": "code",
      "source": [
        "element_dict = {'name': 'Hydrogen', 'symbol': 'H', 'number': 1}\n",
        "hydrogen = Element(**element_dict)\n"
      ],
      "metadata": {
        "id": "LPRyVOh6VWCL"
      },
      "execution_count": 6,
      "outputs": []
    },
    {
      "cell_type": "code",
      "source": [
        "6. For the Element class, define a method called dump() that prints the values of the object's attributes (name, symbol, and number). Create the hydrogen object from this new definition and use dump() to print its attributes.\n"
      ],
      "metadata": {
        "id": "YSKhImluVYBz"
      },
      "execution_count": null,
      "outputs": []
    },
    {
      "cell_type": "code",
      "source": [
        "class Element:\n",
        "    def __init__(self, name, symbol, number):\n",
        "        self.name = name\n",
        "        self.symbol = symbol\n",
        "        self.number = number\n",
        "\n",
        "    def dump(self):\n",
        "        print(f\"Name: {self.name}, Symbol: {self.symbol}, Number: {self.number}\")\n",
        "\n",
        "# Creating the hydrogen object\n",
        "hydrogen = Element('Hydrogen', 'H', 1)\n",
        "# Using dump() method to print its attributes\n",
        "hydrogen.dump()\n"
      ],
      "metadata": {
        "colab": {
          "base_uri": "https://localhost:8080/"
        },
        "id": "AzzMkpW4VbGB",
        "outputId": "8ffdd501-c6f2-4de4-e63a-6e5bddd17ef0"
      },
      "execution_count": 7,
      "outputs": [
        {
          "output_type": "stream",
          "name": "stdout",
          "text": [
            "Name: Hydrogen, Symbol: H, Number: 1\n"
          ]
        }
      ]
    },
    {
      "cell_type": "code",
      "source": [
        "7. Call print(hydrogen). In the definition of Element, change the name of method dump to_str create a new hydrogen object, and call print(hydrogen) again.\n"
      ],
      "metadata": {
        "id": "P7zsMMzoVdFV"
      },
      "execution_count": null,
      "outputs": []
    },
    {
      "cell_type": "code",
      "source": [
        "class Element:\n",
        "    def __init__(self, name, symbol, number):\n",
        "        self.name = name\n",
        "        self.symbol = symbol\n",
        "        self.number = number\n",
        "\n",
        "    def __str__(self):\n",
        "        return f\"Name: {self.name}, Symbol: {self.symbol}, Number: {self.number}\"\n",
        "\n",
        "# Creating the hydrogen object\n",
        "hydrogen = Element('Hydrogen', 'H', 1)\n",
        "# Using print() to print the object\n",
        "print(hydrogen)\n"
      ],
      "metadata": {
        "colab": {
          "base_uri": "https://localhost:8080/"
        },
        "id": "t9OYUbaPVla7",
        "outputId": "a0c466f7-7471-4520-c065-3ed578e25ac7"
      },
      "execution_count": 8,
      "outputs": [
        {
          "output_type": "stream",
          "name": "stdout",
          "text": [
            "Name: Hydrogen, Symbol: H, Number: 1\n"
          ]
        }
      ]
    },
    {
      "cell_type": "code",
      "source": [
        "8. Modify Element to make the attributes name, symbol, and number private. Define a getter property for each to return its value.\n"
      ],
      "metadata": {
        "id": "JnPZiFGcVoPV"
      },
      "execution_count": null,
      "outputs": []
    },
    {
      "cell_type": "code",
      "source": [
        "class Element:\n",
        "    def __init__(self, name, symbol, number):\n",
        "        self.__name = name\n",
        "        self.__symbol = symbol\n",
        "        self.__number = number\n",
        "\n",
        "    @property\n",
        "    def name(self):\n",
        "        return self.__name\n",
        "\n",
        "    @property\n",
        "    def symbol(self):\n",
        "        return self.__symbol\n",
        "\n",
        "    @property\n",
        "    def number(self):\n",
        "        return self.__number\n",
        "\n",
        "# Creating the hydrogen object\n",
        "hydrogen = Element('Hydrogen', 'H', 1)\n",
        "# Accessing the attributes using getter properties\n",
        "print(hydrogen.name)\n",
        "print(hydrogen.symbol)\n",
        "print(hydrogen.number)\n"
      ],
      "metadata": {
        "colab": {
          "base_uri": "https://localhost:8080/"
        },
        "id": "QemDoySDVqE8",
        "outputId": "6bbf9bb6-2a6d-4c13-895e-b45e64275ffa"
      },
      "execution_count": 9,
      "outputs": [
        {
          "output_type": "stream",
          "name": "stdout",
          "text": [
            "Hydrogen\n",
            "H\n",
            "1\n"
          ]
        }
      ]
    },
    {
      "cell_type": "code",
      "source": [
        "9. Define three classes: Bear, Rabbit, and Octothorpe. For each, define only one method: eats(). This should return 'berries\" (Bear), 'clover' (Rabbit), or 'campers' (Octothorpe). Create one object from each and print what it eats.\n"
      ],
      "metadata": {
        "id": "azRoCOIFVuFu"
      },
      "execution_count": null,
      "outputs": []
    },
    {
      "cell_type": "code",
      "source": [
        "class Bear:\n",
        "    def eats(self):\n",
        "        return 'berries'\n",
        "\n",
        "class Rabbit:\n",
        "    def eats(self):\n",
        "        return 'clover'\n",
        "\n",
        "class Octothorpe:\n",
        "    def eats(self):\n",
        "        return 'campers'\n",
        "\n",
        "# Creating objects from each class and printing what they eat\n",
        "bear = Bear()\n",
        "print(bear.eats())\n",
        "\n",
        "rabbit = Rabbit()\n",
        "print(rabbit.eats())\n",
        "\n",
        "octothorpe = Octothorpe()\n",
        "print(octothorpe.eats())\n"
      ],
      "metadata": {
        "colab": {
          "base_uri": "https://localhost:8080/"
        },
        "id": "hMzL9WHmVv0o",
        "outputId": "1849e500-b867-43c9-9f07-4140839c002e"
      },
      "execution_count": 10,
      "outputs": [
        {
          "output_type": "stream",
          "name": "stdout",
          "text": [
            "berries\n",
            "clover\n",
            "campers\n"
          ]
        }
      ]
    },
    {
      "cell_type": "code",
      "source": [
        "10. Define these classes: Laser, Claw, and SmartPhone. Each has only one method: does().\n",
        "This returns 'disintegrate' (Laser), 'crush' (Claw), or 'ring' (SmartPhone).\n",
        "Then, define the class Robot that has one instance (object) of each of these.\n",
        "Define a does() method for the Robot that prints what its component objects do."
      ],
      "metadata": {
        "id": "IbNaEBVJVjz0"
      },
      "execution_count": null,
      "outputs": []
    },
    {
      "cell_type": "code",
      "source": [
        "class Robot:\n",
        "    def __init__(self):\n",
        "        self.laser = Laser()\n",
        "        self.claw = Claw()\n",
        "        self.smartphone = SmartPhone()\n",
        "\n",
        "    def does(self):\n",
        "        return f\"Laser: {self.laser.does()}, Claw: {self.claw.does()}, Smartphone: {self.smartphone.does()}\"\n"
      ],
      "metadata": {
        "id": "TpbdQkZ1Vz_9"
      },
      "execution_count": 12,
      "outputs": []
    }
  ]
}