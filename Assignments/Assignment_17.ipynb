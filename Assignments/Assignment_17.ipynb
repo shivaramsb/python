{
  "nbformat": 4,
  "nbformat_minor": 0,
  "metadata": {
    "colab": {
      "provenance": []
    },
    "kernelspec": {
      "name": "python3",
      "display_name": "Python 3"
    },
    "language_info": {
      "name": "python"
    }
  },
  "cells": [
    {
      "cell_type": "code",
      "source": [
        "1. Assign the value 7 to the variable guess_me. Then, write the conditional tests (if, else, and elif)\n",
        "to print the string 'too low if guess me is less than 7, 'too high' if greater than 7, and 'just right' if equal to 7.\n"
      ],
      "metadata": {
        "id": "h15HALMKUm_S"
      },
      "execution_count": null,
      "outputs": []
    },
    {
      "cell_type": "code",
      "source": [
        "guess_me = 7\n",
        "\n",
        "if guess_me < 7:\n",
        "    print('too low')\n",
        "elif guess_me > 7:\n",
        "    print('too high')\n",
        "else:\n",
        "    print('just right')\n"
      ],
      "metadata": {
        "colab": {
          "base_uri": "https://localhost:8080/"
        },
        "id": "6IYflEB4UriC",
        "outputId": "3a9ac85e-a654-4007-92b4-0ca1ed0bcd19"
      },
      "execution_count": 1,
      "outputs": [
        {
          "output_type": "stream",
          "name": "stdout",
          "text": [
            "just right\n"
          ]
        }
      ]
    },
    {
      "cell_type": "code",
      "source": [
        "2. Assign the value 7 to the variable guess_me and the value 1 to the variable start.\n",
        "Write a while loop that compares start with guess me. Print too low if start is less than guess me. If start equals guess_me, print 'found it!' and exit the loop. If start is greater than guess_me, print 'oops' and exit the loop. Increment start at the end of the loop.\n"
      ],
      "metadata": {
        "id": "abmNgBtiUtfZ"
      },
      "execution_count": null,
      "outputs": []
    },
    {
      "cell_type": "code",
      "source": [
        "guess_me = 7\n",
        "start = 1\n",
        "\n",
        "while start <= guess_me:\n",
        "    if start < guess_me:\n",
        "        print('too low')\n",
        "    elif start == guess_me:\n",
        "        print('found it!')\n",
        "        break\n",
        "    else:\n",
        "        print('oops')\n",
        "        break\n",
        "    start += 1\n"
      ],
      "metadata": {
        "colab": {
          "base_uri": "https://localhost:8080/"
        },
        "id": "wKYk0P7AU8pv",
        "outputId": "26978367-fece-468b-ea81-2ef121c6aceb"
      },
      "execution_count": 2,
      "outputs": [
        {
          "output_type": "stream",
          "name": "stdout",
          "text": [
            "too low\n",
            "too low\n",
            "too low\n",
            "too low\n",
            "too low\n",
            "too low\n",
            "found it!\n"
          ]
        }
      ]
    },
    {
      "cell_type": "code",
      "source": [
        "3. Print the following values of the list [3, 2, 1, 0) using a for loop.\n"
      ],
      "metadata": {
        "id": "d3L4EvceU-3-"
      },
      "execution_count": null,
      "outputs": []
    },
    {
      "cell_type": "code",
      "source": [
        "for num in [3, 2, 1, 0]:\n",
        "    print(num)\n"
      ],
      "metadata": {
        "colab": {
          "base_uri": "https://localhost:8080/"
        },
        "id": "-eH623UJVC-u",
        "outputId": "e096a169-10e4-4583-b444-b09b136450d8"
      },
      "execution_count": 3,
      "outputs": [
        {
          "output_type": "stream",
          "name": "stdout",
          "text": [
            "3\n",
            "2\n",
            "1\n",
            "0\n"
          ]
        }
      ]
    },
    {
      "cell_type": "code",
      "source": [
        "4. Use a list comprehension to make a list of the even numbers in range(10)\n"
      ],
      "metadata": {
        "id": "F1Oly64oVFYI"
      },
      "execution_count": null,
      "outputs": []
    },
    {
      "cell_type": "code",
      "source": [
        "even_numbers = [num for num in range(10) if num % 2 == 0]\n"
      ],
      "metadata": {
        "id": "o0zW6albVJtG"
      },
      "execution_count": 4,
      "outputs": []
    },
    {
      "cell_type": "code",
      "source": [
        "5. Use a dictionary comprehension to create the dictionary squares.\n",
        "Use range(10) to return the keys, and use the square of each key as its value.\n"
      ],
      "metadata": {
        "id": "6D6_Kbe4VJwG"
      },
      "execution_count": null,
      "outputs": []
    },
    {
      "cell_type": "code",
      "source": [
        "squares = {num: num ** 2 for num in range(10)}\n"
      ],
      "metadata": {
        "id": "pikvuiOmVJzR"
      },
      "execution_count": 5,
      "outputs": []
    },
    {
      "cell_type": "code",
      "source": [
        "6. Construct the set odd from the odd numbers in the range using a set comprehension (10).\n"
      ],
      "metadata": {
        "id": "a4b6uEhDVJ2V"
      },
      "execution_count": null,
      "outputs": []
    },
    {
      "cell_type": "code",
      "source": [
        "odd = {num for num in range(10) if num % 2 != 0}\n"
      ],
      "metadata": {
        "id": "_PdBxDQQVJ5K"
      },
      "execution_count": 6,
      "outputs": []
    },
    {
      "cell_type": "code",
      "source": [
        "7. Use a generator comprehension to return the string 'Got' and a number for the numbers in range(10).\n",
        "Iterate through this by using a for loop.\n"
      ],
      "metadata": {
        "id": "HooG0MtSVJ8R"
      },
      "execution_count": null,
      "outputs": []
    },
    {
      "cell_type": "code",
      "source": [
        "generator = ('Got ' + str(num) for num in range(10))\n",
        "\n",
        "for item in generator:\n",
        "    print(item)\n"
      ],
      "metadata": {
        "colab": {
          "base_uri": "https://localhost:8080/"
        },
        "id": "uQBxyUncVJ_w",
        "outputId": "56c61045-80a5-4682-a68d-558be32d7640"
      },
      "execution_count": 7,
      "outputs": [
        {
          "output_type": "stream",
          "name": "stdout",
          "text": [
            "Got 0\n",
            "Got 1\n",
            "Got 2\n",
            "Got 3\n",
            "Got 4\n",
            "Got 5\n",
            "Got 6\n",
            "Got 7\n",
            "Got 8\n",
            "Got 9\n"
          ]
        }
      ]
    },
    {
      "cell_type": "code",
      "source": [
        "8. Define a function called good that returns the list ['Harry', 'Ron', 'Hermione').\n"
      ],
      "metadata": {
        "id": "hGQr31HpVhuJ"
      },
      "execution_count": null,
      "outputs": []
    },
    {
      "cell_type": "code",
      "source": [
        "def good():\n",
        "    return ['Harry', 'Ron', 'Hermione']\n"
      ],
      "metadata": {
        "id": "-Ha08bCAV0-D"
      },
      "execution_count": 8,
      "outputs": []
    },
    {
      "cell_type": "code",
      "source": [
        "9. Define a generator function called get_odds that returns the odd numbers from range(10). Use a for loop to find and print the third value returned.\n"
      ],
      "metadata": {
        "id": "IsnMsi3IVnH2"
      },
      "execution_count": null,
      "outputs": []
    },
    {
      "cell_type": "code",
      "source": [
        "def get_odds():\n",
        "    for num in range(10):\n",
        "        if num % 2 != 0:\n",
        "            yield num\n",
        "\n",
        "count = 0\n",
        "for num in get_odds():\n",
        "    count += 1\n",
        "    if count == 3:\n",
        "        print(num)\n",
        "        break\n"
      ],
      "metadata": {
        "colab": {
          "base_uri": "https://localhost:8080/"
        },
        "id": "XptauTDsV4Bk",
        "outputId": "41c3bbf6-07e6-4957-cdf1-10bba8de385c"
      },
      "execution_count": 9,
      "outputs": [
        {
          "output_type": "stream",
          "name": "stdout",
          "text": [
            "5\n"
          ]
        }
      ]
    },
    {
      "cell_type": "code",
      "source": [
        "10. Define an exception called OopsException. Raise this exception to see what happens. Then write the code to catch this exception and print 'Caught an oops'.\n"
      ],
      "metadata": {
        "id": "DZ-FcqiAVnPP"
      },
      "execution_count": null,
      "outputs": []
    },
    {
      "cell_type": "code",
      "source": [
        "class OopsException(Exception):\n",
        "    pass\n",
        "\n",
        "try:\n",
        "    raise OopsException\n",
        "except OopsException:\n",
        "    print('Caught an oops')\n"
      ],
      "metadata": {
        "colab": {
          "base_uri": "https://localhost:8080/"
        },
        "id": "uOc24iwcV7vk",
        "outputId": "a736236c-e7e0-4929-e67e-2ca00174ae0b"
      },
      "execution_count": 10,
      "outputs": [
        {
          "output_type": "stream",
          "name": "stdout",
          "text": [
            "Caught an oops\n"
          ]
        }
      ]
    },
    {
      "cell_type": "code",
      "source": [
        "11. Use zip() to make a dictionary called movies that pairs these lists: titles = ['Creature of Habit', 'Crewel Fate'] and plots = ['A nun turns into a monster', 'A haunted yarn shop')."
      ],
      "metadata": {
        "id": "qxX0_NhwVnUW"
      },
      "execution_count": null,
      "outputs": []
    },
    {
      "cell_type": "code",
      "source": [
        "\n",
        "titles = ['Creature of Habit', 'Crewel Fate']\n",
        "plots = ['A nun turns into a monster', 'A haunted yarn shop']\n",
        "\n",
        "movies = dict(zip(titles, plots))"
      ],
      "metadata": {
        "id": "Zi6htoWNVnat"
      },
      "execution_count": 11,
      "outputs": []
    }
  ]
}