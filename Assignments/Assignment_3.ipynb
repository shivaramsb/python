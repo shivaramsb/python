{
  "nbformat": 4,
  "nbformat_minor": 0,
  "metadata": {
    "colab": {
      "provenance": []
    },
    "kernelspec": {
      "name": "python3",
      "display_name": "Python 3"
    },
    "language_info": {
      "name": "python"
    }
  },
  "cells": [
    {
      "cell_type": "code",
      "source": [
        "1. Why are functions advantageous to have in your programs?\n",
        "\n",
        "    -we do not have to write the same code again and again.(i.e - avoid repetition of codes.)\n",
        "    -makes it reuseble.\n",
        "    -breaking the big code into smaller smaller functions,which is easy to understand.\n",
        "    -reduce the chances of error\n",
        "    -increases program readability."
      ],
      "metadata": {
        "id": "SHRevIoR35P5"
      },
      "execution_count": null,
      "outputs": []
    },
    {
      "cell_type": "code",
      "source": [
        "2. When does the code in a function run: when it's specified or when it's called?\n",
        "\n",
        "The code in a function will run only if we call that function."
      ],
      "metadata": {
        "id": "lE7NgsRD46T0"
      },
      "execution_count": null,
      "outputs": []
    },
    {
      "cell_type": "code",
      "source": [
        "3. What statement creates a function?\n",
        "\n",
        "The 'def' keyword is a statement for defining a function.\n",
        "ex-\n",
        "    def add():\n",
        "        pass"
      ],
      "metadata": {
        "id": "F77yBvTh5p6x"
      },
      "execution_count": null,
      "outputs": []
    },
    {
      "cell_type": "code",
      "source": [
        "4. What is the difference between a function and a function call?\n",
        "\n",
        "    function is the block of code that performs perticular operations and returns the results.\n",
        "    It usually accepts inputs as parameters and returns a result,but the parameter are not mandatory.\n",
        "    function call - means we call to the function\n",
        "    function call is the code used to pass control to a function"
      ],
      "metadata": {
        "id": "2kUwi25f5qnQ"
      },
      "execution_count": null,
      "outputs": []
    },
    {
      "cell_type": "code",
      "source": [
        "5. How many global scopes are there in a Python program? How many local scopes?\n",
        "\n",
        "There is only one global scope in python per program.\n",
        "There may have more than one local scope in python per program."
      ],
      "metadata": {
        "id": "C-VZSeep5qxz"
      },
      "execution_count": null,
      "outputs": []
    },
    {
      "cell_type": "code",
      "source": [
        "6. What happens to variables in a local scope when the function call returns?\n",
        "\n",
        "The Local Variable Can Be Used Outside The Function Any Time After The Function Call Completes.\n",
        "Local Variable Becomes Undefined After The Function Call Completes."
      ],
      "metadata": {
        "id": "_rkx_q5u5q56"
      },
      "execution_count": null,
      "outputs": []
    },
    {
      "cell_type": "code",
      "source": [
        "7. What is the concept of a return value ? Is it possible to have a return value in an expression?\n",
        "\n",
        "    The return statement is used to end of execution of a function call.\n",
        "    it returns the result to the caller.\n",
        "    the statement which we define after return, will not be execute.\n",
        "    if there is no expression then return will give None as return.\n",
        "    No, it is not possible to have a return value in an expression"
      ],
      "metadata": {
        "id": "q6VCUolp5rCh"
      },
      "execution_count": null,
      "outputs": []
    },
    {
      "cell_type": "code",
      "source": [
        "8. If a function does not have a return statement, what is the return value of a call to that function?\n",
        "\n",
        "It returns None value of a call to that function."
      ],
      "metadata": {
        "id": "7hAiaKYs5rKb"
      },
      "execution_count": null,
      "outputs": []
    },
    {
      "cell_type": "code",
      "source": [
        "9. How do you make a function variable refer to the global variable?\n",
        "\n",
        "use the keyword global before the variable.\n",
        "    ex-\n",
        "        def add():\n",
        "            global a=5\n",
        "            global b=6\n",
        "            pass"
      ],
      "metadata": {
        "id": "Bvq7ooRx5rTi"
      },
      "execution_count": null,
      "outputs": []
    },
    {
      "cell_type": "code",
      "source": [
        "10. What is the data type of None?\n",
        "\n",
        "    The data type of None is : NoneType\n",
        "    The None keyword is used to define a null variable or an object.\n",
        "    In Python, None keyword is an object."
      ],
      "metadata": {
        "id": "dmdwkb5U5rd9"
      },
      "execution_count": null,
      "outputs": []
    },
    {
      "cell_type": "code",
      "source": [
        "11. If you had a bacon() feature in a spam module, what would you call it after importing spam?\n",
        "\n",
        "import spam.bacon as bacon\n",
        "    bacon()#if require,then pass parameters"
      ],
      "metadata": {
        "id": "Jx4U3kIC7NBz"
      },
      "execution_count": null,
      "outputs": []
    },
    {
      "cell_type": "code",
      "source": [
        "12. What is the purpose of the try clause? What is the purpose of the except clause?\n",
        "\n",
        "try clause:- it is used to chech whether there is any error in code while running the code.\n",
        "            if any error occurs then it will break the flow of program.it passes error to the except cause to handle it.\n",
        "           except clause:-it except the code which is passed from the try clause.and handle the error."
      ],
      "metadata": {
        "id": "-HfJo2ac7NMh"
      },
      "execution_count": null,
      "outputs": []
    }
  ]
}