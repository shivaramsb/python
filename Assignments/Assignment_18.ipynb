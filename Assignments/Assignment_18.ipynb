{
  "nbformat": 4,
  "nbformat_minor": 0,
  "metadata": {
    "colab": {
      "provenance": []
    },
    "kernelspec": {
      "name": "python3",
      "display_name": "Python 3"
    },
    "language_info": {
      "name": "python"
    }
  },
  "cells": [
    {
      "cell_type": "code",
      "source": [
        "1. Create a zoo.py file first. Define the hours() function, which prints the string 'Open 9-5 dally. Then, use the interactive interpreter to import the zoo module and call its hours() function.\n"
      ],
      "metadata": {
        "id": "2OABpoRpWh1d"
      },
      "execution_count": null,
      "outputs": []
    },
    {
      "cell_type": "code",
      "source": [
        "# zoo.py\n",
        "\n",
        "def hours():\n",
        "    print('Open 9-5 daily.')\n"
      ],
      "metadata": {
        "id": "GZVatQKoWimD"
      },
      "execution_count": 1,
      "outputs": []
    },
    {
      "cell_type": "code",
      "source": [
        "import zoo\n",
        "zoo.hours()\n"
      ],
      "metadata": {
        "id": "EMOYR76yW4gc"
      },
      "execution_count": null,
      "outputs": []
    },
    {
      "cell_type": "code",
      "source": [
        "2. In the interactive interpreter, import the zoo module as menagerie and call its hours() function.\n"
      ],
      "metadata": {
        "id": "Kj4RWVqHWipX"
      },
      "execution_count": null,
      "outputs": []
    },
    {
      "cell_type": "code",
      "source": [
        "import zoo as menagerie\n",
        "menagerie.hours()\n"
      ],
      "metadata": {
        "id": "NOB_05q8WjHU"
      },
      "execution_count": null,
      "outputs": []
    },
    {
      "cell_type": "code",
      "source": [
        "from zoo import hours\n",
        "hours()\n"
      ],
      "metadata": {
        "id": "bLAcm2sZXI36"
      },
      "execution_count": null,
      "outputs": []
    },
    {
      "cell_type": "code",
      "source": [
        "3. Using the interpreter, explicitly import and call the hours() function from 200.\n"
      ],
      "metadata": {
        "id": "d1Mr862JWjTH"
      },
      "execution_count": null,
      "outputs": []
    },
    {
      "cell_type": "code",
      "source": [
        "from zoo import hours\n",
        "hours()\n"
      ],
      "metadata": {
        "id": "bjkb96CiWjf7"
      },
      "execution_count": null,
      "outputs": []
    },
    {
      "cell_type": "code",
      "source": [
        "4. Import the hours() function as info and call it.\n"
      ],
      "metadata": {
        "id": "ne4RKRdrWjqr"
      },
      "execution_count": null,
      "outputs": []
    },
    {
      "cell_type": "code",
      "source": [
        "from zoo import hours as info\n",
        "info()\n"
      ],
      "metadata": {
        "id": "Al4yonMSWqU3"
      },
      "execution_count": null,
      "outputs": []
    },
    {
      "cell_type": "code",
      "source": [
        "5. Create a plain dictionary with the key-value pairs 'a': 1, 'b': 2, and 'c': 3, and print it out.\n"
      ],
      "metadata": {
        "id": "AniTfhFWWqiW"
      },
      "execution_count": null,
      "outputs": []
    },
    {
      "cell_type": "code",
      "source": [
        "plain_dict = {'a': 1, 'b': 2, 'c': 3}\n",
        "print(plain_dict)\n"
      ],
      "metadata": {
        "colab": {
          "base_uri": "https://localhost:8080/"
        },
        "id": "Mv8yEGOOWquq",
        "outputId": "1ae0e9d5-d8a8-4405-86c0-e41d1f2c4187"
      },
      "execution_count": 4,
      "outputs": [
        {
          "output_type": "stream",
          "name": "stdout",
          "text": [
            "{'a': 1, 'b': 2, 'c': 3}\n"
          ]
        }
      ]
    },
    {
      "cell_type": "code",
      "source": [
        "6. Make an OrderedDict called fancy from the same pairs listed in 5 and print it. Did it print in the same order as plain?\n"
      ],
      "metadata": {
        "id": "SJul7ktsWq3R"
      },
      "execution_count": null,
      "outputs": []
    },
    {
      "cell_type": "code",
      "source": [
        "from collections import OrderedDict\n",
        "fancy = OrderedDict([('a', 1), ('b', 2), ('c', 3)])\n",
        "print(fancy)\n"
      ],
      "metadata": {
        "colab": {
          "base_uri": "https://localhost:8080/"
        },
        "id": "bg6F1jWCWwBB",
        "outputId": "b99d1ae9-d85e-40e8-bbcf-577b41f84bf5"
      },
      "execution_count": 5,
      "outputs": [
        {
          "output_type": "stream",
          "name": "stdout",
          "text": [
            "OrderedDict([('a', 1), ('b', 2), ('c', 3)])\n"
          ]
        }
      ]
    },
    {
      "cell_type": "code",
      "source": [
        "7. Make a default dictionary called dict_of_lists and pass it the argument list. Make the list dict_of_lists['a'] and append the value 'something for a' to it in one assignment.\n",
        "Print dict_of_lists['a']."
      ],
      "metadata": {
        "id": "nOSoCYhVWwIp"
      },
      "execution_count": null,
      "outputs": []
    },
    {
      "cell_type": "code",
      "source": [
        "from collections import defaultdict\n",
        "dict_of_lists = defaultdict(list)\n",
        "dict_of_lists['a'].append('something for a')\n",
        "print(dict_of_lists['a'])\n"
      ],
      "metadata": {
        "colab": {
          "base_uri": "https://localhost:8080/"
        },
        "id": "K89BFP4jXVWf",
        "outputId": "0bfd3afd-f1d1-4f4c-d1ef-c5228dab6ebd"
      },
      "execution_count": 6,
      "outputs": [
        {
          "output_type": "stream",
          "name": "stdout",
          "text": [
            "['something for a']\n"
          ]
        }
      ]
    }
  ]
}