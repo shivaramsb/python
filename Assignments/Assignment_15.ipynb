{
  "nbformat": 4,
  "nbformat_minor": 0,
  "metadata": {
    "colab": {
      "provenance": []
    },
    "kernelspec": {
      "name": "python3",
      "display_name": "Python 3"
    },
    "language_info": {
      "name": "python"
    }
  },
  "cells": [
    {
      "cell_type": "code",
      "source": [
        "1.How many seconds are in an hour? Use the interactive interpreter as a calculator and multiply the\n",
        "number of seconds in a minute (60) by the number of minutes in an hour (also 60).\n",
        "sol. 60"
      ],
      "metadata": {
        "id": "x16PBVG64RKH"
      },
      "execution_count": null,
      "outputs": []
    },
    {
      "cell_type": "code",
      "source": [
        "'''To calculate the number of seconds in an hour, you can multiply the number of seconds in a minute (60)\n",
        "by the number of minutes in an hour (60):'''\n",
        "\n",
        "\n"
      ],
      "metadata": {
        "id": "eoNwDgmN4VHX"
      },
      "execution_count": 1,
      "outputs": []
    },
    {
      "cell_type": "code",
      "source": [
        "seconds_in_an_hour = 60 * 60  # Result: 3600"
      ],
      "metadata": {
        "id": "8wrH2ZC-4g1x"
      },
      "execution_count": 2,
      "outputs": []
    },
    {
      "cell_type": "code",
      "source": [
        "2. Assign the result from the previous task (seconds in an hour) to a variable called\n",
        "seconds_per_hour."
      ],
      "metadata": {
        "id": "5BW3D4cL4qiy"
      },
      "execution_count": null,
      "outputs": []
    },
    {
      "cell_type": "code",
      "source": [
        "#Assign the result from the previous task (seconds in an hour) to a variable called seconds_per_hour:\n",
        "\n",
        "seconds_per_hour = 60 * 60  # 3600\n"
      ],
      "metadata": {
        "id": "85FdhvPQ4t25"
      },
      "execution_count": 3,
      "outputs": []
    },
    {
      "cell_type": "code",
      "source": [
        "3. How many seconds do you think there are in a day? Make use of the variables seconds per hour\n",
        "and minutes per hour.\n",
        "\n",
        "\n",
        "To calculate the number of seconds in a day, you can multiply the seconds_per_hour variable by the number of hours in a day (24):"
      ],
      "metadata": {
        "id": "x6y5gyf7401n"
      },
      "execution_count": null,
      "outputs": []
    },
    {
      "cell_type": "code",
      "source": [
        "seconds_per_day = seconds_per_hour * 24  # 86400\n"
      ],
      "metadata": {
        "id": "Unluyfoj5Bbg"
      },
      "execution_count": 4,
      "outputs": []
    },
    {
      "cell_type": "code",
      "source": [
        "4. Calculate seconds per day again, but this time save the result in a variable called seconds_per_day\n",
        "\n",
        "Save the result of seconds per day calculation in a variable called seconds_per_day:\n"
      ],
      "metadata": {
        "id": "qE5M6W3u5CAc"
      },
      "execution_count": null,
      "outputs": []
    },
    {
      "cell_type": "code",
      "source": [
        "seconds_per_day = seconds_per_hour * 24  # 86400\n"
      ],
      "metadata": {
        "id": "-Xxq2AFn5I9D"
      },
      "execution_count": 5,
      "outputs": []
    },
    {
      "cell_type": "code",
      "source": [
        "5. Divide seconds_per_day by seconds_per_hour. Use floating-point (/) division.\n",
        "\n",
        "To calculate how many times seconds_per_hour fits into seconds_per_day, you can use floating-point division (/):\n"
      ],
      "metadata": {
        "id": "99FLfu0i5LHt"
      },
      "execution_count": null,
      "outputs": []
    },
    {
      "cell_type": "code",
      "source": [
        "seconds_per_hour = 3600\n",
        "seconds_per_day = 86400\n",
        "division_result = seconds_per_day / seconds_per_hour  # Result: 24.0\n"
      ],
      "metadata": {
        "id": "6hkIMOVo5UKk"
      },
      "execution_count": 6,
      "outputs": []
    },
    {
      "cell_type": "code",
      "source": [
        "6. Divide seconds_per_day by seconds_per_hour, using integer (//) division. Did this number agree\n",
        "with the floating-point value from the previous question, aside from the final .0?\n",
        "\n",
        "\n",
        "To perform integer division (//) between seconds_per_day and seconds_per_hour:\n"
      ],
      "metadata": {
        "id": "LbN2uXrb5UtP"
      },
      "execution_count": null,
      "outputs": []
    },
    {
      "cell_type": "code",
      "source": [
        "integer_division_result = seconds_per_day // seconds_per_hour  # Result: 24\n"
      ],
      "metadata": {
        "id": "OjZJnbuF5ZV5"
      },
      "execution_count": 7,
      "outputs": []
    },
    {
      "cell_type": "code",
      "source": [
        "7. Write a generator, genPrimes, that returns the sequence of prime numbers on successive calls to\n",
        "its next() method: 2, 3, 5, 7, 11, ...\n",
        "\n",
        "Here's a generator function called genPrimes that returns the sequence of prime numbers on successive calls to its next() method:"
      ],
      "metadata": {
        "id": "6whclj7h5d5u"
      },
      "execution_count": null,
      "outputs": []
    },
    {
      "cell_type": "code",
      "source": [
        "def genPrimes():\n",
        "    prime_numbers = [2]\n",
        "    yield 2\n",
        "    number = 3\n",
        "    while True:\n",
        "        is_prime = True\n",
        "        for prime in prime_numbers:\n",
        "            if number % prime == 0:\n",
        "                is_prime = False\n",
        "                break\n",
        "        if is_prime:\n",
        "            prime_numbers.append(number)\n",
        "            yield number\n",
        "        number += 2\n",
        "\n",
        "# Example usage:\n",
        "prime_generator = genPrimes()\n",
        "print(next(prime_generator))  # Output: 2\n",
        "print(next(prime_generator))  # Output: 3\n",
        "print(next(prime_generator))  # Output: 5\n",
        "print(next(prime_generator))  # Output: 7\n",
        "print(next(prime_generator))  # Output: 11\n",
        "# Continue calling next() to generate more prime numbers\n"
      ],
      "metadata": {
        "colab": {
          "base_uri": "https://localhost:8080/"
        },
        "id": "g4Ehtk6s5p4R",
        "outputId": "10323c55-3cb4-48f3-9954-01140f02bfb9"
      },
      "execution_count": 8,
      "outputs": [
        {
          "output_type": "stream",
          "name": "stdout",
          "text": [
            "2\n",
            "3\n",
            "5\n",
            "7\n",
            "11\n"
          ]
        }
      ]
    },
    {
      "cell_type": "code",
      "source": [],
      "metadata": {
        "id": "Eo6XZDnw5rgz"
      },
      "execution_count": null,
      "outputs": []
    }
  ]
}