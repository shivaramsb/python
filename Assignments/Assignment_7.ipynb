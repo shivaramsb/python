{
  "nbformat": 4,
  "nbformat_minor": 0,
  "metadata": {
    "colab": {
      "provenance": []
    },
    "kernelspec": {
      "name": "python3",
      "display_name": "Python 3"
    },
    "language_info": {
      "name": "python"
    }
  },
  "cells": [
    {
      "cell_type": "markdown",
      "metadata": {
        "id": "0dnFAt1y3IwL"
      },
      "source": [
        "#Python Basic Assignment 7"
      ]
    },
    {
      "cell_type": "markdown",
      "metadata": {
        "id": "h5KT9aIZ3P7_"
      },
      "source": [
        "\n",
        "\n",
        "*   Ques. What is the name of the feature responsible for generating Regex objects?\n",
        "\n",
        "\n",
        "\n"
      ]
    },
    {
      "cell_type": "code",
      "metadata": {
        "colab": {
          "base_uri": "https://localhost:8080/"
        },
        "id": "-wn5uDxNzDUY",
        "outputId": "a175e7a7-c52f-4afc-922c-77a635575c86"
      },
      "source": [
        "import re\n",
        "re.compile(\"string\")\n",
        "#The re.compile() function returns Regex objects."
      ],
      "execution_count": null,
      "outputs": [
        {
          "output_type": "execute_result",
          "data": {
            "text/plain": [
              "re.compile(r'string', re.UNICODE)"
            ]
          },
          "metadata": {
            "tags": []
          },
          "execution_count": 1
        }
      ]
    },
    {
      "cell_type": "markdown",
      "metadata": {
        "id": "zeRjHhl83owV"
      },
      "source": [
        "\n",
        "\n",
        "*   Ques. Why do raw strings often appear in Regex objects?\n",
        "\n"
      ]
    },
    {
      "cell_type": "markdown",
      "metadata": {
        "id": "7UQIoWXQ3uM7"
      },
      "source": [
        "\n",
        "\n",
        "> Ans . Raw strings are used so that backslashes do not have to be escaped\n",
        "\n",
        "\n",
        "\n",
        "\n"
      ]
    },
    {
      "cell_type": "markdown",
      "metadata": {
        "id": "9dv6DaB73vZ4"
      },
      "source": [
        "\n",
        "\n",
        "*   Ques. What is the return value of the search() method ?\n",
        "\n"
      ]
    },
    {
      "cell_type": "markdown",
      "metadata": {
        "id": "XFBhJNIH3612"
      },
      "source": [
        "\n",
        "\n",
        "> Ans . The search() method searches a string for a specified value, and returns the position of the match.\n",
        "The search value can be string or a regular expression.\n",
        "This method returns -1 if no match is found\n",
        "\n"
      ]
    },
    {
      "cell_type": "markdown",
      "metadata": {
        "id": "FKP9VHEe4kZQ"
      },
      "source": [
        "\n",
        "\n",
        "*   Ques. From a Match item, how do you get the actual strings that match the pattern?\n",
        "\n"
      ]
    },
    {
      "cell_type": "code",
      "metadata": {
        "colab": {
          "base_uri": "https://localhost:8080/"
        },
        "id": "yh74Otgi3lmZ",
        "outputId": "4426d436-17a7-4bf3-b61d-750847e9a3ea"
      },
      "source": [
        "phoneNumRegex = re.compile(r'\\d\\d\\d-\\d\\d\\d-\\d\\d\\d\\d')\n",
        "mo = phoneNumRegex.search('My number is 345-444-4542.')\n",
        "print('Phone number is: ' + mo.group())\n",
        "#Calling matchingObject.group() will return the string."
      ],
      "execution_count": null,
      "outputs": [
        {
          "output_type": "stream",
          "text": [
            "Phone number is: 345-444-4542\n"
          ],
          "name": "stdout"
        }
      ]
    },
    {
      "cell_type": "markdown",
      "metadata": {
        "id": "Z616wHEc5MhK"
      },
      "source": [
        "\n",
        "\n",
        "*   Ques. In the regex which created from the r&#39;(\\d\\d\\d)-(\\d\\d\\d-\\d\\d\\d\\d)&#39;, what does group zero cover?\n",
        "Group 2? Group 1?\n",
        "\n"
      ]
    },
    {
      "cell_type": "code",
      "metadata": {
        "colab": {
          "base_uri": "https://localhost:8080/",
          "height": 35
        },
        "id": "ZupsFAS_5kci",
        "outputId": "5c9b954e-2f91-4d18-885f-b2bcaed2f5ef"
      },
      "source": [
        "phoneNumRegex = re.compile(r'(\\d\\d\\d)-(\\d\\d\\d-\\d\\d\\d\\d)')\n",
        "mo = phoneNumRegex.search('My number is 345-444-4542.')\n",
        "mo.group(1)"
      ],
      "execution_count": null,
      "outputs": [
        {
          "output_type": "execute_result",
          "data": {
            "application/vnd.google.colaboratory.intrinsic+json": {
              "type": "string"
            },
            "text/plain": [
              "'345'"
            ]
          },
          "metadata": {
            "tags": []
          },
          "execution_count": 7
        }
      ]
    },
    {
      "cell_type": "code",
      "metadata": {
        "colab": {
          "base_uri": "https://localhost:8080/",
          "height": 35
        },
        "id": "u5NITkUr47ke",
        "outputId": "1de02b0d-cdc5-40f6-e0c9-5d04bfd6fda1"
      },
      "source": [
        "mo.group(2)\n"
      ],
      "execution_count": null,
      "outputs": [
        {
          "output_type": "execute_result",
          "data": {
            "application/vnd.google.colaboratory.intrinsic+json": {
              "type": "string"
            },
            "text/plain": [
              "'444-4542'"
            ]
          },
          "metadata": {
            "tags": []
          },
          "execution_count": 8
        }
      ]
    },
    {
      "cell_type": "code",
      "metadata": {
        "colab": {
          "base_uri": "https://localhost:8080/",
          "height": 35
        },
        "id": "zJhsZipZ5r77",
        "outputId": "8f0c615c-87ee-4ec8-af5c-9ddc7b937ad7"
      },
      "source": [
        "mo.group(0)"
      ],
      "execution_count": null,
      "outputs": [
        {
          "output_type": "execute_result",
          "data": {
            "application/vnd.google.colaboratory.intrinsic+json": {
              "type": "string"
            },
            "text/plain": [
              "'345-444-4542'"
            ]
          },
          "metadata": {
            "tags": []
          },
          "execution_count": 9
        }
      ]
    },
    {
      "cell_type": "markdown",
      "metadata": {
        "id": "uNwfPkrJ5xSu"
      },
      "source": [
        "\n",
        "\n",
        "*   Ques. In standard expression syntax, parentheses and intervals have distinct meanings. How can you tell a regex that you want it to fit real parentheses and periods?\n",
        "\n"
      ]
    },
    {
      "cell_type": "markdown",
      "metadata": {
        "id": "lj7oo6Bs55ST"
      },
      "source": [
        "\n",
        "\n",
        "> Ans. Periods and parentheses can be escaped with a backslash: \\., \\(, and \\).\n",
        "\n",
        "\n",
        "\n"
      ]
    },
    {
      "cell_type": "markdown",
      "metadata": {
        "id": "OsJ95R7i6PFZ"
      },
      "source": [
        "\n",
        "\n",
        "*   Ques. The findall() method returns a string list or a list of string tuples. What causes it to return one of the two options?\n",
        "\n"
      ]
    },
    {
      "cell_type": "markdown",
      "metadata": {
        "id": "GM0EEgRa6R8G"
      },
      "source": [
        "\n",
        "\n",
        "> Ans. If the regex has no groups, a list of strings is returned. If the regex has groups, a list of tuples of strings is\n",
        "returned.\n",
        "\n"
      ]
    },
    {
      "cell_type": "markdown",
      "metadata": {
        "id": "mJnhkXQC6jqP"
      },
      "source": [
        "\n",
        "\n",
        "*   Ques. In standard expressions, what does the | character mean?\n",
        "\n"
      ]
    },
    {
      "cell_type": "markdown",
      "metadata": {
        "id": "s2NQN5_e60Qo"
      },
      "source": [
        "\n",
        "\n",
        "> Ans. The | character is called a pipe. You can use it anywhere you want to match one of many expressions.\n",
        "For example, the regular expression r'Cricket|Soccer Sport' will match either 'Cricket' or 'Soccer Sport'.\n",
        "\n",
        "\n",
        "\n",
        "> When both Cricket and Soccer Sport occur in the searched string, the first occurrence of matching text will be returned as the Match object.\n",
        "\n",
        "\n",
        "\n",
        "\n",
        "\n",
        "> The | character signifies matching “either, or” between two groups\n",
        "\n",
        "\n",
        "\n"
      ]
    },
    {
      "cell_type": "code",
      "metadata": {
        "colab": {
          "base_uri": "https://localhost:8080/",
          "height": 35
        },
        "id": "pDIuHXUu5tny",
        "outputId": "0c592d3c-610b-4734-e602-03278cd56105"
      },
      "source": [
        "\n",
        "SportRegex = re.compile (r'Cricket|Soccer Sport')\n",
        "s1 = SportRegex.search('Cricket and Soccer Sport')\n",
        "s1.group()"
      ],
      "execution_count": null,
      "outputs": [
        {
          "output_type": "execute_result",
          "data": {
            "application/vnd.google.colaboratory.intrinsic+json": {
              "type": "string"
            },
            "text/plain": [
              "'Cricket'"
            ]
          },
          "metadata": {
            "tags": []
          },
          "execution_count": 14
        }
      ]
    },
    {
      "cell_type": "code",
      "metadata": {
        "colab": {
          "base_uri": "https://localhost:8080/",
          "height": 35
        },
        "id": "dR0iJ_oz8SmJ",
        "outputId": "4c630174-16a1-41dc-d80a-6e998ca262d4"
      },
      "source": [
        "s2 = SportRegex.search('Soccer Sport and Cricket')\n",
        "s2.group()\n"
      ],
      "execution_count": null,
      "outputs": [
        {
          "output_type": "execute_result",
          "data": {
            "application/vnd.google.colaboratory.intrinsic+json": {
              "type": "string"
            },
            "text/plain": [
              "'Soccer Sport'"
            ]
          },
          "metadata": {
            "tags": []
          },
          "execution_count": 13
        }
      ]
    },
    {
      "cell_type": "markdown",
      "metadata": {
        "id": "MpSISV2S8zma"
      },
      "source": [
        "\n",
        "\n",
        "*   Ques. In regular expressions, what does the ? character stand for?\n",
        "\n"
      ]
    },
    {
      "cell_type": "markdown",
      "metadata": {
        "id": "HHrL_aoQ87kF"
      },
      "source": [
        "\n",
        "\n",
        "> Ans. The ? character can either mean “match zero or one of the preceding group”.\n",
        "\n",
        "\n",
        "\n",
        "\n"
      ]
    },
    {
      "cell_type": "code",
      "metadata": {
        "colab": {
          "base_uri": "https://localhost:8080/",
          "height": 35
        },
        "id": "mwQ1ASFP86Ev",
        "outputId": "432764c0-999d-422b-db46-d40b3096ae6d"
      },
      "source": [
        "batRegex = re.compile(r'Bat(wo)?man')\n",
        "mo1 = batRegex.search('The Adventures of Batman')\n",
        "mo1.group()"
      ],
      "execution_count": null,
      "outputs": [
        {
          "output_type": "execute_result",
          "data": {
            "application/vnd.google.colaboratory.intrinsic+json": {
              "type": "string"
            },
            "text/plain": [
              "'Batman'"
            ]
          },
          "metadata": {
            "tags": []
          },
          "execution_count": 17
        }
      ]
    },
    {
      "cell_type": "code",
      "metadata": {
        "colab": {
          "base_uri": "https://localhost:8080/",
          "height": 35
        },
        "id": "Qbzo3jie9eRE",
        "outputId": "eacdadd8-fe9d-4719-ae8d-e432b83f3fb4"
      },
      "source": [
        "mo2 = batRegex.search('The Adventures of Batwoman')\n",
        "mo2.group()"
      ],
      "execution_count": null,
      "outputs": [
        {
          "output_type": "execute_result",
          "data": {
            "application/vnd.google.colaboratory.intrinsic+json": {
              "type": "string"
            },
            "text/plain": [
              "'Batwoman'"
            ]
          },
          "metadata": {
            "tags": []
          },
          "execution_count": 18
        }
      ]
    },
    {
      "cell_type": "markdown",
      "metadata": {
        "id": "4K6g_Pti9lDb"
      },
      "source": [
        "\n",
        "\n",
        "*   Ques.In regular expressions, what is the difference between the + and * characters?\n",
        "\n"
      ]
    },
    {
      "cell_type": "markdown",
      "metadata": {
        "id": "kUi4B6f59qF4"
      },
      "source": [
        "\n",
        "\n",
        "> Ans. The + matches one or more. The * matches zero or more\n",
        "\n"
      ]
    },
    {
      "cell_type": "markdown",
      "metadata": {
        "id": "jAPfVcOC96oK"
      },
      "source": [
        "\n",
        "\n",
        "*   Ques. What is the difference between {4} and {4,5} in regular expression?\n",
        "\n"
      ]
    },
    {
      "cell_type": "markdown",
      "metadata": {
        "id": "IAXmSgyL-FYr"
      },
      "source": [
        "\n",
        "\n",
        "> Ans. The {3} matches exactly three instances of the preceding group.\n",
        "\n",
        "\n",
        "> The {3,5} matches between three and five instances\n",
        "\n",
        "\n",
        "\n"
      ]
    },
    {
      "cell_type": "markdown",
      "metadata": {
        "id": "8vSdR1JH-VSj"
      },
      "source": [
        "\n",
        "\n",
        "*   Ques. What do you mean by the \\d, \\w, and \\s shorthand character classes signify in regular expressions?\n",
        "\n"
      ]
    },
    {
      "cell_type": "markdown",
      "metadata": {
        "id": "HqHZ6aRe-YWo"
      },
      "source": [
        "\n",
        "\n",
        "> Ans .The \\d, stands for single digit, Any numeric digit from 0 to 9\n",
        "\\w, stands for single word, Any letter, numeric digit, or the underscore character. (Think of this as matching “word”\n",
        "characters.)\n",
        "\\s stands for single space character, Any space, tab, or newline character. (Think of this as matching “space”\n",
        "characters.)\n",
        "\n",
        "\n",
        "\n",
        "\n",
        "\n"
      ]
    },
    {
      "cell_type": "markdown",
      "metadata": {
        "id": "y_lm-zuN-mFQ"
      },
      "source": [
        "\n",
        "\n",
        "*   Ques. What do means by \\D, \\W, and \\S shorthand character classes signify in regular expressions?\n",
        "\n"
      ]
    },
    {
      "cell_type": "markdown",
      "metadata": {
        "id": "U1N2GQYBA8_G"
      },
      "source": [
        "\n",
        "\n",
        "> Ans. \\D - > Any character that is not a numeric digit from 0 to 9. <br>\n",
        "\\W - > Any character that is not a letter, numeric digit, or the underscore character.<br>\n",
        "\\S - > Any character that is not a space, tab, or newline.\n",
        "\n",
        "\n",
        "\n",
        "\n",
        "\n"
      ]
    },
    {
      "cell_type": "markdown",
      "metadata": {
        "id": "fLmx6Z02BHc5"
      },
      "source": [
        "\n",
        "\n",
        "*  Ques. What is the difference between .? and .?\n",
        "\n"
      ]
    },
    {
      "cell_type": "markdown",
      "metadata": {
        "id": "nawc80RnBONu"
      },
      "source": [
        "\n",
        "\n",
        "> Ans) .* - The dot-star uses greedy mode: It will always try to match as much text as possible. <br>\n",
        ".*? -  To match any and all text in a non-greedy fashion, use the dot, star, and question mark (.*?). Like with braces,\n",
        "the question mark tells Python to match in a non-greedy way.\n",
        "\n",
        "\n",
        "\n",
        "\n"
      ]
    },
    {
      "cell_type": "code",
      "metadata": {
        "colab": {
          "base_uri": "https://localhost:8080/",
          "height": 35
        },
        "id": "nKIb8VfV9gIm",
        "outputId": "1f70cff4-2556-468c-ac87-6410e5a430fa"
      },
      "source": [
        "\n",
        "greedyRegex = re.compile(r'<.*>')\n",
        "mo = greedyRegex.search('<To serve man> for dinner.>')\n",
        "mo.group()"
      ],
      "execution_count": null,
      "outputs": [
        {
          "output_type": "execute_result",
          "data": {
            "application/vnd.google.colaboratory.intrinsic+json": {
              "type": "string"
            },
            "text/plain": [
              "'<To serve man> for dinner.>'"
            ]
          },
          "metadata": {
            "tags": []
          },
          "execution_count": 19
        }
      ]
    },
    {
      "cell_type": "code",
      "metadata": {
        "colab": {
          "base_uri": "https://localhost:8080/",
          "height": 35
        },
        "id": "VMicD_dBBZ4M",
        "outputId": "6d4f1856-cf80-4e1e-ef51-8c410218af49"
      },
      "source": [
        "\n",
        "nongreedyRegex = re.compile(r'<.*?>')\n",
        "mo = nongreedyRegex.search('<To serve man> for dinner.>')\n",
        "mo.group()"
      ],
      "execution_count": null,
      "outputs": [
        {
          "output_type": "execute_result",
          "data": {
            "application/vnd.google.colaboratory.intrinsic+json": {
              "type": "string"
            },
            "text/plain": [
              "'<To serve man>'"
            ]
          },
          "metadata": {
            "tags": []
          },
          "execution_count": 20
        }
      ]
    },
    {
      "cell_type": "markdown",
      "metadata": {
        "id": "yXjgCrPBBqnE"
      },
      "source": [
        "\n",
        "\n",
        "* Ques. What is the syntax for matching both numbers and lowercase letters with a character class?\n",
        "\n"
      ]
    },
    {
      "cell_type": "markdown",
      "metadata": {
        "id": "yBOewe8ZCGOx"
      },
      "source": [
        "\n",
        "\n",
        "> Ans. Either [0-9a-z] or [a-z0-9]\n",
        "\n"
      ]
    },
    {
      "cell_type": "code",
      "metadata": {
        "colab": {
          "base_uri": "https://localhost:8080/",
          "height": 35
        },
        "id": "97V2lHqYCM1G",
        "outputId": "6e872be8-1756-428a-97e0-65e6f23541d4"
      },
      "source": [
        "reg1 = re.compile(r'[0-9a-z]')\n",
        "reg2 = re.compile(r'[a-z0-9]')\n",
        "\n",
        "mo1 = reg1.search('100 times I am Reading  this for 100 th time')\n",
        "mo1.group()"
      ],
      "execution_count": null,
      "outputs": [
        {
          "output_type": "execute_result",
          "data": {
            "application/vnd.google.colaboratory.intrinsic+json": {
              "type": "string"
            },
            "text/plain": [
              "'1'"
            ]
          },
          "metadata": {
            "tags": []
          },
          "execution_count": 22
        }
      ]
    },
    {
      "cell_type": "code",
      "metadata": {
        "colab": {
          "base_uri": "https://localhost:8080/",
          "height": 35
        },
        "id": "_h2dYEM9CMoX",
        "outputId": "f7c2eb70-3237-45cd-b68a-8adf5558af52"
      },
      "source": [
        "reg2 = re.compile(r'[a-z0-9]')\n",
        "\n",
        "mo1 = reg2.search('times I am Reading  this for 100 th time')\n",
        "mo1.group()"
      ],
      "execution_count": null,
      "outputs": [
        {
          "output_type": "execute_result",
          "data": {
            "application/vnd.google.colaboratory.intrinsic+json": {
              "type": "string"
            },
            "text/plain": [
              "'t'"
            ]
          },
          "metadata": {
            "tags": []
          },
          "execution_count": 24
        }
      ]
    },
    {
      "cell_type": "markdown",
      "metadata": {
        "id": "jGKK0qBoCF04"
      },
      "source": [
        "\n",
        "\n",
        "* Ques. What is the procedure for making a normal expression in regax case insensitive?\n",
        "\n"
      ]
    },
    {
      "cell_type": "markdown",
      "metadata": {
        "id": "mYgVMxh7B1dD"
      },
      "source": [
        "\n",
        "\n",
        "> Ans.  Passing re.I or re.IGNORECASE as the second argument to re.compile() will make the matching case insensitive\n",
        "\n"
      ]
    },
    {
      "cell_type": "code",
      "metadata": {
        "colab": {
          "base_uri": "https://localhost:8080/",
          "height": 35
        },
        "id": "w3IZCyceBlxj",
        "outputId": "187098a2-d303-4a62-a9b0-faf3cc04bb82"
      },
      "source": [
        "casesen = re.compile(r'machine', re.I)\n",
        "casesen.search('Machine learning is part of data science').group()"
      ],
      "execution_count": null,
      "outputs": [
        {
          "output_type": "execute_result",
          "data": {
            "application/vnd.google.colaboratory.intrinsic+json": {
              "type": "string"
            },
            "text/plain": [
              "'Machine'"
            ]
          },
          "metadata": {
            "tags": []
          },
          "execution_count": 21
        }
      ]
    },
    {
      "cell_type": "code",
      "metadata": {
        "colab": {
          "base_uri": "https://localhost:8080/",
          "height": 35
        },
        "id": "mt4tM7NTB61a",
        "outputId": "f71ba16d-0eb3-469c-a4bf-29db4eb9a563"
      },
      "source": [
        "casesen.search('MACHINE is learning.').group()"
      ],
      "execution_count": null,
      "outputs": [
        {
          "output_type": "execute_result",
          "data": {
            "application/vnd.google.colaboratory.intrinsic+json": {
              "type": "string"
            },
            "text/plain": [
              "'MACHINE'"
            ]
          },
          "metadata": {
            "tags": []
          },
          "execution_count": 25
        }
      ]
    },
    {
      "cell_type": "markdown",
      "metadata": {
        "id": "P-EwSWlDEHrp"
      },
      "source": [
        "\n",
        "\n",
        "*   Ques. What does the . character normally match? What does it match if re.DOTALL is passed as 2nd argument in re.compile()?\n",
        "\n"
      ]
    },
    {
      "cell_type": "markdown",
      "metadata": {
        "id": "g8XACPjKENQk"
      },
      "source": [
        "\n",
        "\n",
        "> The . character normally matches any character except the newline character.\n",
        "If re.DOTALL is passed as the second argument to re.compile(), then the dot will also match newline characters.\n",
        "\n",
        "\n",
        "\n",
        "\n",
        "\n"
      ]
    },
    {
      "cell_type": "markdown",
      "metadata": {
        "id": "m94NPgL6ENF7"
      },
      "source": [
        "\n",
        "\n",
        "*   Ques. If numRegex = re.compile(r'\\d+'), what will numRegex.sub('X', '11 drummers, 10 pipers, five rings, 4 hen') return?\n",
        "\n"
      ]
    },
    {
      "cell_type": "code",
      "metadata": {
        "colab": {
          "base_uri": "https://localhost:8080/",
          "height": 35
        },
        "id": "guY1OCTVCdiJ",
        "outputId": "512f657e-5f46-421b-c1fd-df199dac20c4"
      },
      "source": [
        "numRegex = re.compile(r'\\d+')\n",
        "mo = numRegex.sub('X', '11 drummers, 10 pipers, five rings, 4 hen')\n",
        "mo"
      ],
      "execution_count": null,
      "outputs": [
        {
          "output_type": "execute_result",
          "data": {
            "application/vnd.google.colaboratory.intrinsic+json": {
              "type": "string"
            },
            "text/plain": [
              "'X drummers, X pipers, five rings, X hen'"
            ]
          },
          "metadata": {
            "tags": []
          },
          "execution_count": 26
        }
      ]
    },
    {
      "cell_type": "markdown",
      "metadata": {
        "id": "F503cwSBEeUV"
      },
      "source": [
        "\n",
        "\n",
        "*   Ques. What does passing re.VERBOSE as the 2nd argument to re.compile() allow to do?\n",
        "\n"
      ]
    },
    {
      "cell_type": "markdown",
      "metadata": {
        "id": "MKzOOok3EmOT"
      },
      "source": [
        "\n",
        "\n",
        "> Ans. The re.VERBOSE argument allows you to add whitespace and comments to the string passed to re.compile()\n",
        "\n"
      ]
    },
    {
      "cell_type": "markdown",
      "metadata": {
        "id": "NRhReW8DFN-9"
      },
      "source": [
        "\n",
        "\n",
        "\n",
        "\n",
        "*   Ques. How would you write a regex that match a number with comma for every three digits? It must match the given following:\n",
        "\n",
        "\n",
        "\n",
        "\n",
        "\n",
        "\n",
        "\n"
      ]
    },
    {
      "cell_type": "code",
      "metadata": {
        "colab": {
          "base_uri": "https://localhost:8080/",
          "height": 35
        },
        "id": "DmvS6uugEjFp",
        "outputId": "694077b7-1582-48d0-f240-6dfd0ca197fd"
      },
      "source": [
        "reg1 = re.compile(r'^\\d{1,3}(,\\d{3})*$')\n",
        "mo1 = reg1.search('42')\n",
        "mo1.group()"
      ],
      "execution_count": null,
      "outputs": [
        {
          "output_type": "execute_result",
          "data": {
            "application/vnd.google.colaboratory.intrinsic+json": {
              "type": "string"
            },
            "text/plain": [
              "'42'"
            ]
          },
          "metadata": {
            "tags": []
          },
          "execution_count": 28
        }
      ]
    },
    {
      "cell_type": "code",
      "metadata": {
        "colab": {
          "base_uri": "https://localhost:8080/",
          "height": 35
        },
        "id": "J9-2oHZWFfSz",
        "outputId": "10b05064-cc01-4fb6-ffe4-03b45d2266e1"
      },
      "source": [
        "reg1 = re.compile(r'^\\d{1,3}(,\\d{3})*$')\n",
        "mo1 = reg1.search('1,234')\n",
        "mo1.group()"
      ],
      "execution_count": null,
      "outputs": [
        {
          "output_type": "execute_result",
          "data": {
            "application/vnd.google.colaboratory.intrinsic+json": {
              "type": "string"
            },
            "text/plain": [
              "'1,234'"
            ]
          },
          "metadata": {
            "tags": []
          },
          "execution_count": 29
        }
      ]
    },
    {
      "cell_type": "code",
      "metadata": {
        "colab": {
          "base_uri": "https://localhost:8080/",
          "height": 35
        },
        "id": "hFD-RL40Fh4I",
        "outputId": "9c5fdf8b-7458-4691-e0f4-46cfa0fcd733"
      },
      "source": [
        "\n",
        "reg1 = re.compile(r'^\\d{1,3}(,\\d{3})*$')\n",
        "mo1 = reg1.search('6,368,745')\n",
        "mo1.group()"
      ],
      "execution_count": null,
      "outputs": [
        {
          "output_type": "execute_result",
          "data": {
            "application/vnd.google.colaboratory.intrinsic+json": {
              "type": "string"
            },
            "text/plain": [
              "'6,368,745'"
            ]
          },
          "metadata": {
            "tags": []
          },
          "execution_count": 30
        }
      ]
    },
    {
      "cell_type": "markdown",
      "metadata": {
        "id": "ft916vYEFqLG"
      },
      "source": [
        "\n",
        "\n",
        "*   Ques. How would you write a regex that matches the full name of someone whose last name is Watanabe? You can assume that the first name that comes before it will always be one word that begins with a capital letter. The regex must match the following:\n",
        "\n"
      ]
    },
    {
      "cell_type": "code",
      "metadata": {
        "colab": {
          "base_uri": "https://localhost:8080/",
          "height": 35
        },
        "id": "l73ku8egFlJL",
        "outputId": "43c61efa-45a8-44b1-b2a0-c5c6374eb5af"
      },
      "source": [
        "name = re.compile(r'[A-Z][a-z]*\\sWatanabe')\n",
        "reg1 = re.compile(r'^\\d{1,3}(,\\d{haruto Watanabe3})*$')\n",
        "mo1 = name.search('Haruto Watanabe')\n",
        "mo1.group()"
      ],
      "execution_count": null,
      "outputs": [
        {
          "output_type": "execute_result",
          "data": {
            "application/vnd.google.colaboratory.intrinsic+json": {
              "type": "string"
            },
            "text/plain": [
              "'Haruto Watanabe'"
            ]
          },
          "metadata": {
            "tags": []
          },
          "execution_count": 31
        }
      ]
    },
    {
      "cell_type": "code",
      "metadata": {
        "colab": {
          "base_uri": "https://localhost:8080/",
          "height": 35
        },
        "id": "qRy4V9tlFwgU",
        "outputId": "d1504c60-8d17-4d5e-9723-3d1050ff9a39"
      },
      "source": [
        "name = re.compile(r'[A-Z][a-z]*\\sWatanabe')\n",
        "reg1 = re.compile(r'^\\d{1,3}(,\\d{3})*$')\n",
        "mo1 = name.search('Alice Watanabe')\n",
        "mo1.group()"
      ],
      "execution_count": null,
      "outputs": [
        {
          "output_type": "execute_result",
          "data": {
            "application/vnd.google.colaboratory.intrinsic+json": {
              "type": "string"
            },
            "text/plain": [
              "'Alice Watanabe'"
            ]
          },
          "metadata": {
            "tags": []
          },
          "execution_count": 32
        }
      ]
    },
    {
      "cell_type": "code",
      "metadata": {
        "colab": {
          "base_uri": "https://localhost:8080/",
          "height": 35
        },
        "id": "jnzfGhFiFyVo",
        "outputId": "f5c9c256-7ddd-4b6d-b70c-8015be94b498"
      },
      "source": [
        "\n",
        "name = re.compile(r'[A-Z][a-z]*\\sWatanabe')\n",
        "reg1 = re.compile(r'^\\d{1,3}(,\\d{3})*$')\n",
        "mo1 = name.search('Robocop Watanabe')\n",
        "mo1.group()"
      ],
      "execution_count": null,
      "outputs": [
        {
          "output_type": "execute_result",
          "data": {
            "application/vnd.google.colaboratory.intrinsic+json": {
              "type": "string"
            },
            "text/plain": [
              "'Robocop Watanabe'"
            ]
          },
          "metadata": {
            "tags": []
          },
          "execution_count": 33
        }
      ]
    },
    {
      "cell_type": "markdown",
      "metadata": {
        "id": "NdOKYWGlGGBM"
      },
      "source": [
        "\n",
        "\n",
        "* Ques. How would you write a regex that matches a sentence where the first word is either Alice, Bob,or Carol; the second word is either eats, pets, or throws; the third word is apples, cats, or baseballs; and the sentence ends with a period? This regex should be case-insensitive. It must match the following:\n",
        "\n"
      ]
    },
    {
      "cell_type": "code",
      "metadata": {
        "colab": {
          "base_uri": "https://localhost:8080/",
          "height": 35
        },
        "id": "ji3MPrQhF0tR",
        "outputId": "2e6acdd5-5609-46a0-ba83-180ce637942d"
      },
      "source": [
        "name = re.compile(r'(Alice|Bob|Carol)\\s(eats|pets|throws)\\s(apples|cats|baseballs)\\.', re.IGNORECASE)\n",
        "\n",
        "mo1 = name.search('Alice eats apples.')\n",
        "mo1.group()"
      ],
      "execution_count": null,
      "outputs": [
        {
          "output_type": "execute_result",
          "data": {
            "application/vnd.google.colaboratory.intrinsic+json": {
              "type": "string"
            },
            "text/plain": [
              "'Alice eats apples.'"
            ]
          },
          "metadata": {
            "tags": []
          },
          "execution_count": 37
        }
      ]
    },
    {
      "cell_type": "code",
      "metadata": {
        "colab": {
          "base_uri": "https://localhost:8080/",
          "height": 35
        },
        "id": "7fbdOIQ4HT0W",
        "outputId": "9051a4e4-1522-4fe1-9057-c9797a93447a"
      },
      "source": [
        "name = re.compile(r'(Alice|Bob|Carol)\\s(eats|pets|throws)\\s(apples|cats|baseballs)\\.', re.IGNORECASE)\n",
        "\n",
        "mo1 = name.search('Carol throws baseballs.')\n",
        "mo1.group()"
      ],
      "execution_count": null,
      "outputs": [
        {
          "output_type": "execute_result",
          "data": {
            "application/vnd.google.colaboratory.intrinsic+json": {
              "type": "string"
            },
            "text/plain": [
              "'Carol throws baseballs.'"
            ]
          },
          "metadata": {
            "tags": []
          },
          "execution_count": 38
        }
      ]
    }
  ]
}