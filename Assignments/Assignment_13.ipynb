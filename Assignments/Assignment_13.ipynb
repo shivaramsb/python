{
  "nbformat": 4,
  "nbformat_minor": 0,
  "metadata": {
    "colab": {
      "provenance": []
    },
    "kernelspec": {
      "name": "python3",
      "display_name": "Python 3"
    },
    "language_info": {
      "name": "python"
    }
  },
  "cells": [
    {
      "cell_type": "code",
      "execution_count": null,
      "metadata": {
        "id": "qQ-HWAkpbdhp"
      },
      "outputs": [],
      "source": [
        "Q. What advantages do Excel spreadsheets have over CSV spreadsheets?\n",
        "\n",
        "It is a binary file that holds information about all the worksheets in a workbook\n",
        "An Excel not only stores data but can also do operations on the data\n",
        "Files saved in excel cannot be opened or edited by text editors\n",
        "large files user is much easier in Excel for the end user. Also, you can have additional functions like selecting individual cells for import, convert dates and time automatically, reading formulas and their results, filters, sorting, etc\n",
        "Apart from text, data can also be stored in form of charts and graphs\n",
        "Excel can connect to external data sources to fetch data. You can use custom add-in in Excel to increase its functionality.\n",
        "Excel allows for Review of Data with detailed tracking and commenting feature\n",
        "In Excel, spreadsheets can have values of data types other than strings; cells can have different fonts, sizes, or color settings; cells can have varying widths and heights; adjacent cells can be merged"
      ]
    },
    {
      "cell_type": "code",
      "source": [
        "Q. What do you pass to csv.reader() and csv.writer() to create reader and writer objects?\n",
        "\n"
      ],
      "metadata": {
        "id": "7obODemXbii5"
      },
      "execution_count": null,
      "outputs": []
    },
    {
      "cell_type": "code",
      "source": [
        "#we pass a File object, obtained from a call to open().\n",
        "import csv\n",
        "file_csv = open('abc.csv')\n",
        "filereader = csv.reader(file_csv)\n",
        "fileData = list(filereader)\n",
        "fileData"
      ],
      "metadata": {
        "id": "0PODAQzzbil8"
      },
      "execution_count": null,
      "outputs": []
    },
    {
      "cell_type": "code",
      "source": [
        "Q. What modes do File objects for reader and writer objects need to be opened in?\n",
        "\n",
        "File objects need to be opened in read-binary ('rb') for Reader objects and write-binary ('wb') for Writer objects"
      ],
      "metadata": {
        "id": "ucLyI6wGbipH"
      },
      "execution_count": null,
      "outputs": []
    },
    {
      "cell_type": "code",
      "source": [
        "Q. What method takes a list argument and writes it to a CSV file?\n",
        "\n",
        " #The writerow() method\n",
        "File_abc = open('abc.csv','w')\n",
        "File_Writer = csv.writer(File_abc)\n",
        "csv.writer(File_abc).writerow(['cat','fish','dog'])"
      ],
      "metadata": {
        "id": "9cgr4vHybir1"
      },
      "execution_count": null,
      "outputs": []
    },
    {
      "cell_type": "code",
      "source": [
        "Q. What do the keyword arguments delimiter and line terminator do?\n",
        "\n",
        "The delimiter argument changes the string used to separate cells in a row.\n",
        "The line terminator argument changes the string used to separate rows."
      ],
      "metadata": {
        "id": "b5HL3eEibiu5"
      },
      "execution_count": null,
      "outputs": []
    },
    {
      "cell_type": "code",
      "source": [
        "Q. What function takes a string of JSON data and returns a Python data structure?\n",
        "\n",
        "json.loads()\n"
      ],
      "metadata": {
        "id": "yKpxVnyibiyZ"
      },
      "execution_count": null,
      "outputs": []
    },
    {
      "cell_type": "code",
      "source": [
        "Q. What function takes a Python data structure and returns a string of JSON data?\n",
        "\n",
        "json.dumps()"
      ],
      "metadata": {
        "id": "D4g60OpicBjk"
      },
      "execution_count": null,
      "outputs": []
    }
  ]
}