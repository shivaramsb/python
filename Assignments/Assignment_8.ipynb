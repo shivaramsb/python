{
  "nbformat": 4,
  "nbformat_minor": 0,
  "metadata": {
    "colab": {
      "provenance": []
    },
    "kernelspec": {
      "name": "python3",
      "display_name": "Python 3"
    },
    "language_info": {
      "name": "python"
    }
  },
  "cells": [
    {
      "cell_type": "code",
      "execution_count": null,
      "metadata": {
        "id": "-Uh-aK5g8Ici"
      },
      "outputs": [],
      "source": [
        "1. Is the Python Standard Library included with PyInputPlus?\n",
        "\n",
        "No, PyInputPlus is a separate library from the Python Standard Library.\n",
        "PyInputPlus is a third-party library designed to provide additional functionality for handling user input in Python, such as input validation, timeout handling, and retrying.\n",
        "It is not included in the Python Standard Library by default.\n",
        "If you want to use PyInputPlus in your Python project, you need to install it separately using a package manager like pip."
      ]
    },
    {
      "cell_type": "code",
      "source": [
        "2. Why is PyInputPlus commonly imported with import pyinputplus as pypi?\n",
        "\n",
        "PyInputPlus is commonly imported with the alias `pypi` for brevity and convenience.\n",
        "Using `import pyinputplus as pypi` allows developers to shorten the module name when referring to it in their code.\n",
        "This aliasing helps make the code more readable and reduces the amount of typing required when using PyInputPlus functions and classes.\n",
        "\n",
        "For instance, instead of writing `pyinputplus.inputInt()`, which can be quite verbose, developers can use `pypi.inputInt()` after importing the module with the alias `pypi`.\n",
        "This aliasing convention is not mandatory, but it is a common practice to improve code readability and maintainability."
      ],
      "metadata": {
        "id": "2xXlMIRW8Q6y"
      },
      "execution_count": null,
      "outputs": []
    },
    {
      "cell_type": "code",
      "source": [
        "3. How do you distinguish between inputInt() and inputFloat()?\n",
        "\n",
        "inputInt(): This function is used when you expect the user to input an integer value. It will prompt the user to enter a value, and if the entered value cannot be converted to an integer, it will keep prompting until a valid integer is entered.\n",
        "If the input is valid, it returns the integer value.\n",
        "\n",
        "inputFloat(): This function is used when you expect the user to input a floating-point number.\n",
        "Similar to inputInt(), it prompts the user to enter a value, and if the entered value cannot be converted to a float, it will keep prompting until a valid float is entered.\n",
        "If the input is valid, it returns the floating-point value."
      ],
      "metadata": {
        "id": "LixA0jdk8RE_"
      },
      "execution_count": null,
      "outputs": []
    },
    {
      "cell_type": "code",
      "source": [
        "4. Using PyInputPlus, how do you ensure that the user enters a whole number between 0 and 99?"
      ],
      "metadata": {
        "id": "H1nM20-l8RMs"
      },
      "execution_count": null,
      "outputs": []
    },
    {
      "cell_type": "code",
      "source": [
        "#!pip install pyinputplus\n",
        "\n",
        "import pyinputplus as pyip\n",
        "\n",
        "# Prompt the user to enter a whole number between 0 and 99\n",
        "number = pyip.inputInt(prompt='Please enter a number between 0 and 99: ', min=0, max=99)\n",
        "\n",
        "print(\"You entered:\", number)\n"
      ],
      "metadata": {
        "colab": {
          "base_uri": "https://localhost:8080/"
        },
        "id": "k8ieuqyq9dwp",
        "outputId": "b66ba398-2427-4fef-9386-fe09df23fe25"
      },
      "execution_count": 7,
      "outputs": [
        {
          "output_type": "stream",
          "name": "stdout",
          "text": [
            "Please enter a number between 0 and 99: 98\n",
            "You entered: 98\n"
          ]
        }
      ]
    },
    {
      "cell_type": "code",
      "source": [
        "5. What is transferred to the keyword arguments allowRegexes and blockRegexes?\n",
        "\n",
        "allowRegexes: This argument accepts a list of regex patterns. If provided, only input strings that match any of the regex patterns in the list will be accepted as valid input.\n",
        "Any input that doesn't match any of the specified patterns will be rejected.\n",
        "\n",
        "blockRegexes: This argument also accepts a list of regex patterns.\n",
        "If provided, any input strings that match any of the regex patterns in the list will be rejected.\n",
        "Input strings that don't match any of the specified block patterns will be accepted."
      ],
      "metadata": {
        "colab": {
          "base_uri": "https://localhost:8080/"
        },
        "id": "1R909ie68ZV8",
        "outputId": "3ff1a419-b779-4f1a-92a7-4d05ccc07750"
      },
      "execution_count": 1,
      "outputs": [
        {
          "output_type": "stream",
          "name": "stdout",
          "text": [
            "Object `blockRegexes` not found.\n"
          ]
        }
      ]
    },
    {
      "cell_type": "code",
      "source": [
        "6. If a blank input is entered three times, what does inputStr(limit=3) do?\n",
        "\n",
        "If a blank input is entered three times while using `inputStr(limit=3)`, the function will raise a `pyinputplus.RetryLimitException`.\n",
        "This exception indicates that the user has exceeded the specified limit of attempts to provide valid input.\n",
        "Therefore, after the third attempt with a blank input, the function will stop prompting the user and raise the exception."
      ],
      "metadata": {
        "id": "6HP7rphe8ZZF"
      },
      "execution_count": null,
      "outputs": []
    }
  ]
}