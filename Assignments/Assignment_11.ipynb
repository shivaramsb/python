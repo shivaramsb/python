{
  "nbformat": 4,
  "nbformat_minor": 0,
  "metadata": {
    "colab": {
      "provenance": []
    },
    "kernelspec": {
      "name": "python3",
      "display_name": "Python 3"
    },
    "language_info": {
      "name": "python"
    }
  },
  "cells": [
    {
      "cell_type": "code",
      "execution_count": null,
      "metadata": {
        "id": "WqD8v2d2YfCl"
      },
      "outputs": [],
      "source": [
        "1. Create an assert statement that throws an AssertionError if the variable spam is a negative\n",
        "integer.\n",
        "\n",
        "An assert statement to throw an AssertionError if the variable spam is a negative integer:\n"
      ]
    },
    {
      "cell_type": "code",
      "source": [
        "# Define the variable 'spam' before using it\n",
        "spam = \"eggs\"\n",
        "\n",
        "# Now, using the 'spam' variable\n",
        "print(spam)\n"
      ],
      "metadata": {
        "id": "m3hZBSdKaug9"
      },
      "execution_count": null,
      "outputs": []
    },
    {
      "cell_type": "code",
      "source": [
        "assert spam >= 0, \"spam cannot be a negative integer\""
      ],
      "metadata": {
        "id": "noDjOpmfZVbV"
      },
      "execution_count": null,
      "outputs": []
    },
    {
      "cell_type": "code",
      "source": [
        "2. Write an assert statement that triggers an AssertionError if the variables eggs and bacon contain\n",
        "strings that are the same as each other, even if their cases are different (that is, 'hello' and 'hello are\n",
        "considered the same, and 'goodbye' and 'GOODbye' are also considered the same)."
      ],
      "metadata": {
        "id": "i7LhPv3gYwJs"
      },
      "execution_count": null,
      "outputs": []
    },
    {
      "cell_type": "code",
      "source": [
        "An assert statement to trigger an AssertionError if the variables eggs and bacon contain strings that are the same as each other, regardless of case:\n"
      ],
      "metadata": {
        "id": "XvYXPvTEZYt1"
      },
      "execution_count": null,
      "outputs": []
    },
    {
      "cell_type": "code",
      "source": [
        "# Define the variable 'eggs' before using it\n",
        "eggs = \"bacon\"\n",
        "\n",
        "# Now, using the 'eggs' variable\n",
        "print(eggs)\n"
      ],
      "metadata": {
        "colab": {
          "base_uri": "https://localhost:8080/"
        },
        "id": "ySHNAf5mbcVk",
        "outputId": "095a5e00-d7d5-4239-bd7a-f2c0a2dfce1b"
      },
      "execution_count": 11,
      "outputs": [
        {
          "output_type": "stream",
          "name": "stdout",
          "text": [
            "bacon\n"
          ]
        }
      ]
    },
    {
      "cell_type": "code",
      "source": [
        "assert eggs.lower() != bacon.lower(), \"eggs and bacon should not have the same value\"\n"
      ],
      "metadata": {
        "id": "11KbMu_eZhVp"
      },
      "execution_count": null,
      "outputs": []
    },
    {
      "cell_type": "code",
      "source": [
        "3. Create an assert statement that throws an AssertionError every time.\n",
        "\n",
        "\n",
        "An assert statement that throws an AssertionError every time:\n"
      ],
      "metadata": {
        "id": "xOWUVoPBY7Dv"
      },
      "execution_count": null,
      "outputs": []
    },
    {
      "cell_type": "code",
      "source": [
        "# Assertion that always triggers an AssertionError\n",
        "assert False, \"This assert statement will always trigger an AssertionError\"\n"
      ],
      "metadata": {
        "id": "yO7sEaskZrrV"
      },
      "execution_count": null,
      "outputs": []
    },
    {
      "cell_type": "code",
      "source": [
        "4. What are the two lines that must be present in your software in order to call logging.debug()?\n",
        "\n",
        "The two lines needed to call logging.debug():\n"
      ],
      "metadata": {
        "id": "UqlVBTY2Y8pc"
      },
      "execution_count": null,
      "outputs": []
    },
    {
      "cell_type": "code",
      "source": [
        "import logging\n",
        "logging.basicConfig(level=logging.DEBUG)\n"
      ],
      "metadata": {
        "id": "uul38EskZzSw"
      },
      "execution_count": 4,
      "outputs": []
    },
    {
      "cell_type": "code",
      "source": [
        "5. What are the two lines that your program must have in order to have logging.debug() send a\n",
        "logging message to a file named programLog.txt?\n",
        "\n",
        "\n",
        "Two lines to send logging.debug() messages to a file named \"programLog.txt\":\n"
      ],
      "metadata": {
        "id": "Fe3KUcGFY-a3"
      },
      "execution_count": null,
      "outputs": []
    },
    {
      "cell_type": "code",
      "source": [
        "import logging\n",
        "logging.basicConfig(filename='programLog.txt', level=logging.DEBUG)\n"
      ],
      "metadata": {
        "id": "xH-YxBUJZ4Md"
      },
      "execution_count": 5,
      "outputs": []
    },
    {
      "cell_type": "code",
      "source": [
        "6. What are the five levels of logging?\n",
        "\n",
        "\n",
        "The five levels of logging are: DEBUG, INFO, WARNING, ERROR, and CRITICAL.\n"
      ],
      "metadata": {
        "id": "oMGzGRkjZAnh"
      },
      "execution_count": null,
      "outputs": []
    },
    {
      "cell_type": "code",
      "source": [
        "7. What line of code would you add to your software to disable all logging messages?\n",
        "\n",
        "To disable all logging messages, add the following line of code:\n"
      ],
      "metadata": {
        "id": "KrvdN0WcZDh2"
      },
      "execution_count": null,
      "outputs": []
    },
    {
      "cell_type": "code",
      "source": [
        "logging.disable(logging.CRITICAL)\n"
      ],
      "metadata": {
        "id": "UrIiN6ePaL9L"
      },
      "execution_count": 6,
      "outputs": []
    },
    {
      "cell_type": "code",
      "source": [
        "8.Why is using logging messages better than using print() to display the same message?\n",
        "\n",
        "Using logging messages is better than using print() because logging allows for more granular control over the output, including different levels of severity, logging to files, and easy integration with external systems for log management and analysis.\n"
      ],
      "metadata": {
        "id": "j91wvHggZDse"
      },
      "execution_count": null,
      "outputs": []
    },
    {
      "cell_type": "code",
      "source": [
        "9. What are the differences between the Step Over, Step In, and Step Out buttons in the debugger?\n",
        "\n",
        "\n",
        "The differences between the Step Over, Step In, and Step Out buttons in the debugger are:\n",
        "Step Over: Executes the current line of code and stops at the next line. If the current line contains a function call, it executes the entire function without stepping into it.\n",
        "Step In: Executes the current line of code and steps into any function calls on that line, stopping at the first line of the called function.\n",
        "Step Out: Continues execution until the current function returns, then stops at the line immediately after the function call."
      ],
      "metadata": {
        "id": "TtGdY7jzZGFa"
      },
      "execution_count": null,
      "outputs": []
    },
    {
      "cell_type": "code",
      "source": [
        "10.After you click Continue, when will the debugger stop ?\n",
        "\n",
        "After clicking Continue, the debugger will stop when it encounters the next breakpoint or when the program finishes execution.\n"
      ],
      "metadata": {
        "id": "Ikxgxyb-ZH9S"
      },
      "execution_count": null,
      "outputs": []
    },
    {
      "cell_type": "code",
      "source": [
        "11. What is the concept of a breakpoint?\n",
        "\n",
        "A breakpoint is a designated point in the code where the debugger will pause execution,\n",
        "allowing you to inspect the program's state and variables at that point. Breakpoints are useful for debugging and troubleshooting code.\n"
      ],
      "metadata": {
        "id": "bfFBTJYuYweM"
      },
      "execution_count": null,
      "outputs": []
    }
  ]
}