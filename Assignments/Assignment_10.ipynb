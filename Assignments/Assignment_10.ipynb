{
  "nbformat": 4,
  "nbformat_minor": 0,
  "metadata": {
    "colab": {
      "provenance": []
    },
    "kernelspec": {
      "name": "python3",
      "display_name": "Python 3"
    },
    "language_info": {
      "name": "python"
    }
  },
  "cells": [
    {
      "cell_type": "code",
      "execution_count": null,
      "metadata": {
        "id": "okSVCrw727Hh"
      },
      "outputs": [],
      "source": [
        "1. How do you distinguish between shutil.copy() and shutil.copytree()?\n",
        "\n",
        "shutil.copy() is used to copy a single file from one location to another, while shutil.copytree() is used to recursively copy an entire directory tree from one location to another.\n"
      ]
    },
    {
      "cell_type": "code",
      "source": [
        "2. What function is used to rename files?\n",
        "\n",
        "The os.rename() function is used to rename files in Python.\n"
      ],
      "metadata": {
        "id": "S2bdXqE529l0"
      },
      "execution_count": null,
      "outputs": []
    },
    {
      "cell_type": "code",
      "source": [
        "3. What is the difference between the delete functions in the send2trash and shutil modules?\n",
        "\n",
        "The delete function in the send2trash module moves files or directories to the system trash instead of permanently deleting them, while the delete function in the shutil module permanently deletes files or directories.\n"
      ],
      "metadata": {
        "id": "7DE50tmg29yz"
      },
      "execution_count": null,
      "outputs": []
    },
    {
      "cell_type": "code",
      "source": [
        "4.ZipFile objects have a close() method just like File objects’ close() method. What ZipFile method is\n",
        "equivalent to File objects’ open() method?\n",
        "\n",
        "The equivalent method in ZipFile objects to File objects' open() method is ZipFile().\n"
      ],
      "metadata": {
        "id": "C4NwJDzh2-A7"
      },
      "execution_count": null,
      "outputs": []
    },
    {
      "cell_type": "code",
      "source": [
        "5. Create a programme that searches a folder tree for files with a certain file extension (such as .pdf\n",
        "or .jpg). Copy these files from whatever location they are in to a new folder.\n",
        "\n",
        "Here's a Python program that searches a folder tree for files with a certain file extension and copies them to a new folder:"
      ],
      "metadata": {
        "id": "yH8dsWHd2-rw"
      },
      "execution_count": null,
      "outputs": []
    }
  ]
}