{
  "nbformat": 4,
  "nbformat_minor": 0,
  "metadata": {
    "colab": {
      "provenance": []
    },
    "kernelspec": {
      "name": "python3",
      "display_name": "Python 3"
    },
    "language_info": {
      "name": "python"
    }
  },
  "cells": [
    {
      "cell_type": "code",
      "execution_count": null,
      "metadata": {
        "id": "YYVmTIragRuC"
      },
      "outputs": [],
      "source": [
        "Q1. What are the two values of the Boolean data type? How do you write them?\n",
        "\n",
        "The two values of the Boolean data type are represented as True and False."
      ]
    },
    {
      "cell_type": "code",
      "source": [
        "Q2. What are the three different types of Boolean operators?\n",
        "\n",
        "\n",
        "The three different types of Boolean operators are:\n",
        "AND operator\n",
        "OR operator\n",
        "NOT operator"
      ],
      "metadata": {
        "id": "M3H7B2u2gUrp"
      },
      "execution_count": null,
      "outputs": []
    },
    {
      "cell_type": "code",
      "source": [
        "Q3. Make a list of each Boolean operators truth tables (i.e. every possible combination of Boolean values for the operator and what it evaluate ).\n",
        "\n",
        "here are the truth tables for each Boolean operator:\n",
        "\n",
        "1. AND Operator:\n",
        "\n",
        "| A     | B     | A AND B |\n",
        "|-------|-------|---------|\n",
        "| False | False | False   |\n",
        "| False | True  | False   |\n",
        "| True  | False | False   |\n",
        "| True  | True  | True    |\n",
        "\n",
        "2. OR Operator:\n",
        "\n",
        "| A     | B     | A OR B  |\n",
        "|-------|-------|---------|\n",
        "| False | False | False   |\n",
        "| False | True  | True    |\n",
        "| True  | False | True    |\n",
        "| True  | True  | True    |\n",
        "\n",
        "3. NOT Operator:\n",
        "\n",
        "| A     | NOT A |\n",
        "|-------|-------|\n",
        "| False | True  |\n",
        "| True  | False |"
      ],
      "metadata": {
        "id": "YF9pPc34gUvM"
      },
      "execution_count": null,
      "outputs": []
    },
    {
      "cell_type": "code",
      "source": [
        "#Q4. What are the values of the following expressions?\n",
        "(5 > 4) and (3 == 5)\n",
        "not (5 > 4)\n",
        "(5 > 4) or (3 == 5)\n",
        "not ((5> 4) or (3 == 5))\n",
        "(True and True) and (True == False)\n",
        "(not False) or (not True)"
      ],
      "metadata": {
        "colab": {
          "base_uri": "https://localhost:8080/"
        },
        "id": "ZfTOPvWJgU1k",
        "outputId": "0737b69c-9f41-432b-e1e1-ef9dc4da20f3"
      },
      "execution_count": 1,
      "outputs": [
        {
          "output_type": "execute_result",
          "data": {
            "text/plain": [
              "True"
            ]
          },
          "metadata": {},
          "execution_count": 1
        }
      ]
    },
    {
      "cell_type": "code",
      "source": [
        "(5 > 4) and (3 == 5)"
      ],
      "metadata": {
        "colab": {
          "base_uri": "https://localhost:8080/"
        },
        "id": "rkzR3rqljEQ7",
        "outputId": "8f98cd34-dcae-4d69-c831-57ce862acdfc"
      },
      "execution_count": 2,
      "outputs": [
        {
          "output_type": "execute_result",
          "data": {
            "text/plain": [
              "False"
            ]
          },
          "metadata": {},
          "execution_count": 2
        }
      ]
    },
    {
      "cell_type": "code",
      "source": [
        "not (5 > 4)"
      ],
      "metadata": {
        "colab": {
          "base_uri": "https://localhost:8080/"
        },
        "id": "2X4Uui3cjVtC",
        "outputId": "d42cfb6a-c91e-49e6-c608-65c4d03cf641"
      },
      "execution_count": 3,
      "outputs": [
        {
          "output_type": "execute_result",
          "data": {
            "text/plain": [
              "False"
            ]
          },
          "metadata": {},
          "execution_count": 3
        }
      ]
    },
    {
      "cell_type": "code",
      "source": [
        "(5 > 4) or (3 == 5)"
      ],
      "metadata": {
        "colab": {
          "base_uri": "https://localhost:8080/"
        },
        "id": "FMZBvJbljVwa",
        "outputId": "db007c20-30b1-435a-a46c-e388af9b9b37"
      },
      "execution_count": 4,
      "outputs": [
        {
          "output_type": "execute_result",
          "data": {
            "text/plain": [
              "True"
            ]
          },
          "metadata": {},
          "execution_count": 4
        }
      ]
    },
    {
      "cell_type": "code",
      "source": [
        "not ((5> 4) or (3 == 5))"
      ],
      "metadata": {
        "colab": {
          "base_uri": "https://localhost:8080/"
        },
        "id": "Dd3N7Qo3jV39",
        "outputId": "0da094d8-96bb-4400-e594-ee615f3774f7"
      },
      "execution_count": 5,
      "outputs": [
        {
          "output_type": "execute_result",
          "data": {
            "text/plain": [
              "False"
            ]
          },
          "metadata": {},
          "execution_count": 5
        }
      ]
    },
    {
      "cell_type": "code",
      "source": [
        "(True and True) and (True == False)"
      ],
      "metadata": {
        "colab": {
          "base_uri": "https://localhost:8080/"
        },
        "id": "ZhAF3-kejV7P",
        "outputId": "72553dbb-485e-4171-ce59-0f7e7ce31cba"
      },
      "execution_count": 6,
      "outputs": [
        {
          "output_type": "execute_result",
          "data": {
            "text/plain": [
              "False"
            ]
          },
          "metadata": {},
          "execution_count": 6
        }
      ]
    },
    {
      "cell_type": "code",
      "source": [
        "(not False) or (not True)"
      ],
      "metadata": {
        "colab": {
          "base_uri": "https://localhost:8080/"
        },
        "id": "ydD7P5nZjd4m",
        "outputId": "e2f4e641-36c3-42d8-993f-029a360eb595"
      },
      "execution_count": 7,
      "outputs": [
        {
          "output_type": "execute_result",
          "data": {
            "text/plain": [
              "True"
            ]
          },
          "metadata": {},
          "execution_count": 7
        }
      ]
    },
    {
      "cell_type": "code",
      "source": [
        "Q5. What are the six comparison operators?\n",
        "\n",
        "The six comparison operators in Python are:\n",
        "1. Equal to (==)\n",
        "2. Not equal to (!=)\n",
        "3. Greater than (>)\n",
        "4. Less than (<)\n",
        "5. Greater than or equal to (>=)\n",
        "6. Less than or equal to (<=)"
      ],
      "metadata": {
        "id": "_Is_ejmmgU5H"
      },
      "execution_count": null,
      "outputs": []
    },
    {
      "cell_type": "code",
      "source": [
        "Q6. How do you tell the difference between the equal to and assignment operators? Describe a condition and when you would use one.\n",
        "\n",
        "\n",
        "In Python, the equal to operator (`==`) is used for comparison, to check if two values are equal. On the other hand,\n",
        "the assignment operator (`=`) is used to assign a value to a variable.\n",
        "To differentiate between them, consider the following:\n",
        "Use the equal to operator (`==`) when you want to compare two values to check if they are equal.\n",
        "For example:\n",
        "  x = 5\n",
        "  y = 10\n",
        "  if x == y:\n",
        "      print(\"x is equal to y\")\n",
        "\n",
        "Use the assignment operator (`=`) when you want to assign a value to a variable. For example:\n",
        "  x = 5  # Assigns the value 5 to the variable x"
      ],
      "metadata": {
        "id": "GoqANSK9gU8z"
      },
      "execution_count": null,
      "outputs": []
    },
    {
      "cell_type": "code",
      "source": [
        "Q7. Identify the three blocks in this code:\n",
        "\n",
        "spam = 0\n",
        "if spam == 10:\n",
        "print('eggs')\n",
        "if spam > 5:\n",
        "print('bacon')\n",
        "else:\n",
        "print('ham')\n",
        "print('spam')\n",
        "print('spam')"
      ],
      "metadata": {
        "id": "yXelx9xAgVAk"
      },
      "execution_count": null,
      "outputs": []
    },
    {
      "cell_type": "code",
      "source": [
        "#Block 1\n",
        "spam = 0\n",
        "if spam == 10:\n",
        "    print('eggs')\n",
        "\n",
        "#Block 2\n",
        "if spam > 5:\n",
        "    print('bacon')\n",
        "\n",
        "#Block 3\n",
        "else:\n",
        "    print('ham')\n",
        "    print('spam')\n",
        "    print('spam')"
      ],
      "metadata": {
        "colab": {
          "base_uri": "https://localhost:8080/"
        },
        "id": "BQiv--u2kpyN",
        "outputId": "5bd4aff2-36d8-49d5-e8f2-53e82da49470"
      },
      "execution_count": 10,
      "outputs": [
        {
          "output_type": "stream",
          "name": "stdout",
          "text": [
            "ham\n",
            "spam\n",
            "spam\n"
          ]
        }
      ]
    },
    {
      "cell_type": "code",
      "source": [
        "#8. Write code that prints Hello if 1 is stored in spam, prints Howdy if 2 is stored in spam, and prints Greetings! if anything else is stored in spam.\n",
        "\n",
        "spam = 2 # Insert the value of spam here\n",
        "if spam == 1:\n",
        "    print('Hello')\n",
        "elif spam == 2:\n",
        "    print('Howdy')\n",
        "else:\n",
        "    print('Greetings!')"
      ],
      "metadata": {
        "colab": {
          "base_uri": "https://localhost:8080/"
        },
        "id": "dO8WbuGpgVEK",
        "outputId": "5037cf88-6413-4846-92e4-a3e70dd992ef"
      },
      "execution_count": 12,
      "outputs": [
        {
          "output_type": "stream",
          "name": "stdout",
          "text": [
            "Howdy\n"
          ]
        }
      ]
    },
    {
      "cell_type": "code",
      "source": [
        "Q9.If your programme is stuck in an endless loop, what keys you’ll press?\n",
        "\n",
        "\n",
        "If your program is stuck in an endless loop, you can typically interrupt it by pressing the keyboard shortcut \"Ctrl + C\"\n",
        "(Control key and C key simultaneously) on most operating systems. This keyboard shortcut sends a signal to the running program to terminate execution."
      ],
      "metadata": {
        "id": "Ivx1GMPngVHc"
      },
      "execution_count": null,
      "outputs": []
    },
    {
      "cell_type": "code",
      "source": [
        "Q10. How can you tell the difference between break and continue?\n",
        "\n",
        "The `break` and `continue` statements are both used in loops (such as `for` and `while` loops) to alter the flow of control, but they serve different purposes:\n",
        "\n",
        "1. `break` statement:\n",
        "   - When encountered within a loop, the `break` statement immediately exits the loop, regardless of the loop's condition.\n",
        "   - It is typically used to terminate the loop prematurely if a certain condition is met, effectively ending the loop's execution.\n",
        "   - After encountering a `break` statement, the program continues with the next statement after the loop.\n",
        "\n",
        "2. `continue` statement:\n",
        "   - When encountered within a loop, the `continue` statement skips the rest of the loop's body for the current iteration and continues with the next iteration of the loop.\n",
        "   - It is typically used to skip over certain iterations of a loop based on a condition, without exiting the loop entirely.\n",
        "   - After encountering a `continue` statement, the program continues with the next iteration of the loop."
      ],
      "metadata": {
        "id": "dg_phgtygVLV"
      },
      "execution_count": null,
      "outputs": []
    },
    {
      "cell_type": "code",
      "source": [
        "Q11. In a for loop, what is the difference between range(10), range(0, 10), and range(0, 10, 1)?\n",
        "\n",
        "In a `for` loop, the differences between `range(10)`, `range(0, 10)`, and `range(0, 10, 1)` are as follows:\n",
        "\n",
        "1. `range(10)`:\n",
        "   - This creates a sequence of numbers starting from 0 (inclusive) up to, but not including, 10.\n",
        "   - It is equivalent to `range(0, 10, 1)`, where the start value is implicitly 0 and the step value is implicitly 1.\n",
        "   - The syntax `range(10)` generates numbers from 0 to 9.\n",
        "\n",
        "2. `range(0, 10)`:\n",
        "   - This also creates a sequence of numbers starting from 0 (inclusive) up to, but not including, 10.\n",
        "   - It explicitly specifies the start value (0), while the end value (10) is exclusive.\n",
        "   - The syntax `range(0, 10)` generates numbers from 0 to 9, similar to `range(10)`.\n",
        "\n",
        "3. `range(0, 10, 1)`:\n",
        "   - This creates a sequence of numbers starting from 0 (inclusive) up to, but not including, 10, with a step size of 1.\n",
        "   - It explicitly specifies both the start value (0), the end value (10), and the step value (1).\n",
        "   - The syntax `range(0, 10, 1)` generates numbers from 0 to 9 with a step size of 1, which is the same as the previous two cases."
      ],
      "metadata": {
        "id": "ZpGuGLxugVO_"
      },
      "execution_count": null,
      "outputs": []
    },
    {
      "cell_type": "code",
      "source": [
        "#Q12. Write a short program that prints the numbers 1 to 10 using a for loop. Then write an equivalent program that prints the numbers 1 to 10 using a while loop.\n",
        "\n",
        "# Using a for loop\n",
        "for i in range(1, 11):\n",
        "    print(i)\n"
      ],
      "metadata": {
        "colab": {
          "base_uri": "https://localhost:8080/"
        },
        "id": "V4dvOHFGgVS4",
        "outputId": "95daa995-df96-4c57-8132-de8a23ed4c30"
      },
      "execution_count": 13,
      "outputs": [
        {
          "output_type": "stream",
          "name": "stdout",
          "text": [
            "1\n",
            "2\n",
            "3\n",
            "4\n",
            "5\n",
            "6\n",
            "7\n",
            "8\n",
            "9\n",
            "10\n"
          ]
        }
      ]
    },
    {
      "cell_type": "code",
      "source": [
        "# Using a while loop\n",
        "i = 1\n",
        "while i <= 10:\n",
        "    print(i)\n",
        "    i += 1\n"
      ],
      "metadata": {
        "colab": {
          "base_uri": "https://localhost:8080/"
        },
        "id": "osL9r4T_nf2U",
        "outputId": "ea35b06c-f111-4d8d-b02e-15154b053c66"
      },
      "execution_count": 14,
      "outputs": [
        {
          "output_type": "stream",
          "name": "stdout",
          "text": [
            "1\n",
            "2\n",
            "3\n",
            "4\n",
            "5\n",
            "6\n",
            "7\n",
            "8\n",
            "9\n",
            "10\n"
          ]
        }
      ]
    },
    {
      "cell_type": "code",
      "source": [
        "#Q13. If you had a function named bacon() inside a module named spam, how would you call it after importing spam?\n",
        "\n",
        "import spam\n",
        "spam.bacon()"
      ],
      "metadata": {
        "id": "2_9zoUELgVWa"
      },
      "execution_count": null,
      "outputs": []
    }
  ]
}