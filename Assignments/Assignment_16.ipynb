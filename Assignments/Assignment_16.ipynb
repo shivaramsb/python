{
  "nbformat": 4,
  "nbformat_minor": 0,
  "metadata": {
    "colab": {
      "provenance": []
    },
    "kernelspec": {
      "name": "python3",
      "display_name": "Python 3"
    },
    "language_info": {
      "name": "python"
    }
  },
  "cells": [
    {
      "cell_type": "code",
      "source": [
        "1. Create a list called years_list, starting with the year of your birth, and each year thereafter until\n",
        "the year of your fifth birthday. For example, if you were born in 1980. the list would be years_list =\n",
        "[1980, 1981, 1982, 1983, 1984, 1985]."
      ],
      "metadata": {
        "id": "Bq7Uem4I6nMs"
      },
      "execution_count": null,
      "outputs": []
    },
    {
      "cell_type": "code",
      "source": [
        "years_list = [year for year in range(1980, 1985)]\n"
      ],
      "metadata": {
        "id": "B9j9M3ZJ6svf"
      },
      "execution_count": 1,
      "outputs": []
    },
    {
      "cell_type": "code",
      "source": [
        "2. In which year in years_list was your third birthday? Remember, you were 0 years of age for your\n",
        "first year."
      ],
      "metadata": {
        "id": "BmGAhMtk6uo3"
      },
      "execution_count": null,
      "outputs": []
    },
    {
      "cell_type": "code",
      "source": [
        "third_birthday_year = years_list[3]  # Assuming the index of your third birthday is 3\n"
      ],
      "metadata": {
        "id": "WfLwJYg16zUR"
      },
      "execution_count": 2,
      "outputs": []
    },
    {
      "cell_type": "code",
      "source": [
        "3.In the years list, which year were you the oldest?\n"
      ],
      "metadata": {
        "id": "IKvYUPdz6z5J"
      },
      "execution_count": null,
      "outputs": []
    },
    {
      "cell_type": "code",
      "source": [
        "oldest_year = years_list[-1]\n"
      ],
      "metadata": {
        "id": "BtqEfI9C64Xz"
      },
      "execution_count": 3,
      "outputs": []
    },
    {
      "cell_type": "code",
      "source": [
        "4. Make a list called things with these three strings as elements: \"mozzarella\", \"cinderella\", \"salmonella\".\n"
      ],
      "metadata": {
        "id": "0DP6bmg464ak"
      },
      "execution_count": null,
      "outputs": []
    },
    {
      "cell_type": "code",
      "source": [
        "things = [\"mozzarella\", \"cinderella\", \"salmonella\"]\n"
      ],
      "metadata": {
        "id": "k_LH5NKO64dI"
      },
      "execution_count": 4,
      "outputs": []
    },
    {
      "cell_type": "code",
      "source": [
        "5. Capitalize the element in things that refers to a person and then print the list. Did it change the element in the list?\n"
      ],
      "metadata": {
        "id": "Ebf8y7yn64f9"
      },
      "execution_count": null,
      "outputs": []
    },
    {
      "cell_type": "code",
      "source": [
        "things[1] = things[1].capitalize()\n",
        "print(things)\n"
      ],
      "metadata": {
        "colab": {
          "base_uri": "https://localhost:8080/"
        },
        "id": "ddqK1jHX64jQ",
        "outputId": "2f074adf-75e6-4176-f56f-83112f032591"
      },
      "execution_count": 5,
      "outputs": [
        {
          "output_type": "stream",
          "name": "stdout",
          "text": [
            "['mozzarella', 'Cinderella', 'salmonella']\n"
          ]
        }
      ]
    },
    {
      "cell_type": "code",
      "source": [
        "6. Make a surprise list with the elements \"Groucho,\" \"Chico,\" and \"Harpo.\"\n"
      ],
      "metadata": {
        "id": "5-OZGn8n7r0I"
      },
      "execution_count": null,
      "outputs": []
    },
    {
      "cell_type": "code",
      "source": [
        "surprise = [\"Groucho\", \"Chico\", \"Harpo\"]\n"
      ],
      "metadata": {
        "id": "1uluF7YJ7v8C"
      },
      "execution_count": 6,
      "outputs": []
    },
    {
      "cell_type": "code",
      "source": [
        "7. Lowercase the last element of the surprise list, reverse it, and then capitalize it.\n"
      ],
      "metadata": {
        "id": "_rForVJM7v_A"
      },
      "execution_count": null,
      "outputs": []
    },
    {
      "cell_type": "code",
      "source": [
        "surprise[-1] = surprise[-1].lower()[::-1].capitalize()\n"
      ],
      "metadata": {
        "id": "BvfPSOAu7wCD"
      },
      "execution_count": 7,
      "outputs": []
    },
    {
      "cell_type": "code",
      "source": [
        "8. Make an English-to-French dictionary called e2f and print it. Here are your starter words: dog is chien, cat is chat, and walrus is morse.\n"
      ],
      "metadata": {
        "id": "BgcOqKDD7wEu"
      },
      "execution_count": null,
      "outputs": []
    },
    {
      "cell_type": "code",
      "source": [
        "e2f = {'dog': 'chien', 'cat': 'chat', 'walrus': 'morse'}\n",
        "print(e2f)\n"
      ],
      "metadata": {
        "colab": {
          "base_uri": "https://localhost:8080/"
        },
        "id": "8sBn_hvF7wHx",
        "outputId": "49155952-8082-425d-d415-992bec2942af"
      },
      "execution_count": 8,
      "outputs": [
        {
          "output_type": "stream",
          "name": "stdout",
          "text": [
            "{'dog': 'chien', 'cat': 'chat', 'walrus': 'morse'}\n"
          ]
        }
      ]
    },
    {
      "cell_type": "code",
      "source": [
        "9. Write the French word for walrus in your three-word dictionary e2f.\n"
      ],
      "metadata": {
        "id": "it__qqFJ7wKp"
      },
      "execution_count": null,
      "outputs": []
    },
    {
      "cell_type": "code",
      "source": [
        "e2f['walrus']  # Output: 'morse'\n"
      ],
      "metadata": {
        "colab": {
          "base_uri": "https://localhost:8080/",
          "height": 35
        },
        "id": "dIc3Kowu7wNY",
        "outputId": "edf4eb70-f808-4d94-b0c2-926d9617ae0d"
      },
      "execution_count": 9,
      "outputs": [
        {
          "output_type": "execute_result",
          "data": {
            "text/plain": [
              "'morse'"
            ],
            "application/vnd.google.colaboratory.intrinsic+json": {
              "type": "string"
            }
          },
          "metadata": {},
          "execution_count": 9
        }
      ]
    },
    {
      "cell_type": "code",
      "source": [
        "10. Make a French-to-English dictionary called f2e from e2f. Use the items method.\n"
      ],
      "metadata": {
        "id": "ULyBaOb07wQz"
      },
      "execution_count": null,
      "outputs": []
    },
    {
      "cell_type": "code",
      "source": [
        "f2e = {value: key for key, value in e2f.items()}\n"
      ],
      "metadata": {
        "id": "WTLuZFyA8J2o"
      },
      "execution_count": 12,
      "outputs": []
    },
    {
      "cell_type": "code",
      "source": [
        "11. Print the English version of the French word chien using f2e.\n"
      ],
      "metadata": {
        "id": "8Lb1OWCF8J5v"
      },
      "execution_count": null,
      "outputs": []
    },
    {
      "cell_type": "code",
      "source": [
        "print(f2e['chien'])  # Output: 'dog'\n"
      ],
      "metadata": {
        "colab": {
          "base_uri": "https://localhost:8080/"
        },
        "id": "uEq9O06h8J8u",
        "outputId": "ab9773e2-03b6-43e9-be0d-dcaadf373ddf"
      },
      "execution_count": 11,
      "outputs": [
        {
          "output_type": "stream",
          "name": "stdout",
          "text": [
            "dog\n"
          ]
        }
      ]
    },
    {
      "cell_type": "code",
      "source": [
        "12. Make and print a set of English words from the keys in e2f.\n"
      ],
      "metadata": {
        "id": "OClBlKT48J_w"
      },
      "execution_count": null,
      "outputs": []
    },
    {
      "cell_type": "code",
      "source": [
        "english_words_set = set(e2f.keys())\n",
        "print(english_words_set)\n"
      ],
      "metadata": {
        "colab": {
          "base_uri": "https://localhost:8080/"
        },
        "id": "DcDd3S5f8KDO",
        "outputId": "ce76a3d8-5675-4f5b-d3ff-e74be27324bb"
      },
      "execution_count": 13,
      "outputs": [
        {
          "output_type": "stream",
          "name": "stdout",
          "text": [
            "{'walrus', 'cat', 'dog'}\n"
          ]
        }
      ]
    },
    {
      "cell_type": "code",
      "source": [
        "13. Make a multilevel dictionary called life. Use these strings for the topmost keys: 'animals', 'plants\", and other. Make the 'animals' key refer to another dictionary with the keys 'cats', 'octopi\", and 'emus. Make the 'cats' key refer to a list of strings with the values \"Henri', 'Grumpy', and \"Lucy\". Make all the other keys refer to empty dictionaries.\n"
      ],
      "metadata": {
        "id": "7yhpMse18bJy"
      },
      "execution_count": null,
      "outputs": []
    },
    {
      "cell_type": "code",
      "source": [
        "life = {\n",
        "    'animals': {\n",
        "        'cats': [\"Henri\", \"Grumpy\", \"Lucy\"],\n",
        "        'octopi': {},\n",
        "        'emus': {}\n",
        "    },\n",
        "    'plants': {},\n",
        "    'other': {}\n",
        "}\n"
      ],
      "metadata": {
        "id": "6rgSYUvD8guT"
      },
      "execution_count": 15,
      "outputs": []
    },
    {
      "cell_type": "code",
      "source": [
        "14. Print the top-level keys of life.\n"
      ],
      "metadata": {
        "id": "SJAGDfRY8hMx"
      },
      "execution_count": null,
      "outputs": []
    },
    {
      "cell_type": "code",
      "source": [
        "print(list(life.keys()))\n"
      ],
      "metadata": {
        "colab": {
          "base_uri": "https://localhost:8080/"
        },
        "id": "b9RAgC9F8uSr",
        "outputId": "4f8e9a5a-db35-463c-fdc9-522cd116e7aa"
      },
      "execution_count": 16,
      "outputs": [
        {
          "output_type": "stream",
          "name": "stdout",
          "text": [
            "['animals', 'plants', 'other']\n"
          ]
        }
      ]
    },
    {
      "cell_type": "code",
      "source": [
        "15. Print the keys for life['animals']."
      ],
      "metadata": {
        "id": "sipApY2i8ud8"
      },
      "execution_count": null,
      "outputs": []
    },
    {
      "cell_type": "code",
      "source": [
        "print(list(life['animals'].keys()))"
      ],
      "metadata": {
        "colab": {
          "base_uri": "https://localhost:8080/"
        },
        "id": "isJAe35w8obP",
        "outputId": "f77cfd76-a5fb-45c8-d61d-c603618898b0"
      },
      "execution_count": 17,
      "outputs": [
        {
          "output_type": "stream",
          "name": "stdout",
          "text": [
            "['cats', 'octopi', 'emus']\n"
          ]
        }
      ]
    },
    {
      "cell_type": "code",
      "source": [
        "16. Print the values for life['animals']['cats\"]"
      ],
      "metadata": {
        "id": "PtVzgTZO8oex"
      },
      "execution_count": null,
      "outputs": []
    },
    {
      "cell_type": "code",
      "source": [
        "print(life['animals']['cats'])\n"
      ],
      "metadata": {
        "colab": {
          "base_uri": "https://localhost:8080/"
        },
        "id": "ugalCqW285yM",
        "outputId": "d4d03dea-367d-46af-9543-c7304e46ad19"
      },
      "execution_count": 18,
      "outputs": [
        {
          "output_type": "stream",
          "name": "stdout",
          "text": [
            "['Henri', 'Grumpy', 'Lucy']\n"
          ]
        }
      ]
    }
  ]
}