{
  "nbformat": 4,
  "nbformat_minor": 0,
  "metadata": {
    "colab": {
      "provenance": []
    },
    "kernelspec": {
      "name": "python3",
      "display_name": "Python 3"
    },
    "language_info": {
      "name": "python"
    }
  },
  "cells": [
    {
      "cell_type": "code",
      "execution_count": null,
      "metadata": {
        "id": "mvk2PIxUvNvD"
      },
      "outputs": [],
      "source": [
        "1. To what does a relative path refer?\n",
        "\n",
        "A relative path refers to the path of a file or directory relative to the current working directory.\n"
      ]
    },
    {
      "cell_type": "code",
      "source": [
        "2. What does an absolute path start with your operating system?\n",
        "\n",
        "An absolute path starts with the root directory of the operating system. In Unix-like systems, it starts with \"/\", and in Windows, it starts with the drive letter followed by \":\".\n"
      ],
      "metadata": {
        "id": "xWTz2hWOvcA0"
      },
      "execution_count": null,
      "outputs": []
    },
    {
      "cell_type": "code",
      "source": [
        "3. What do the functions os.getcwd() and os.chdir() do?\n",
        "\n",
        "The os.getcwd() function returns the current working directory, while os.chdir() changes the current working directory to the specified path.\n"
      ],
      "metadata": {
        "id": "niu2WAljvcGS"
      },
      "execution_count": null,
      "outputs": []
    },
    {
      "cell_type": "code",
      "source": [
        "4. What are the . and .. folders?\n",
        "\n",
        "The \".\" folder represents the current directory, while the \"..\" folder represents the parent directory.\n"
      ],
      "metadata": {
        "id": "nBj1jypUvcMV"
      },
      "execution_count": null,
      "outputs": []
    },
    {
      "cell_type": "code",
      "source": [
        "5. In C:\\bacon\\eggs\\spam.txt, which part is the dir name, and which part is the base name?\n",
        "\n",
        "In \"C:\\bacon\\eggs\\spam.txt\", \"C:\\bacon\\eggs\" is the dir name, and \"spam.txt\" is the base name.\n"
      ],
      "metadata": {
        "id": "uPwZsTEJvcQI"
      },
      "execution_count": null,
      "outputs": []
    },
    {
      "cell_type": "code",
      "source": [
        "6. What are the three “mode” arguments that can be passed to the open() function?\n",
        "\n",
        "The three mode arguments that can be passed to the open() function are \"r\" (read mode), \"w\" (write mode), and \"a\" (append mode).\n"
      ],
      "metadata": {
        "id": "-CNBEhWHvcTi"
      },
      "execution_count": null,
      "outputs": []
    },
    {
      "cell_type": "code",
      "source": [
        "7. What happens if an existing file is opened in write mode?\n",
        "\n",
        "If an existing file is opened in write mode, its contents will be overwritten. If the file does not exist, a new file will be created.\n"
      ],
      "metadata": {
        "id": "R9jZbyN_vcZN"
      },
      "execution_count": null,
      "outputs": []
    },
    {
      "cell_type": "code",
      "source": [
        "8. How do you tell the difference between read() and readlines()?\n",
        "\n",
        "The read() method reads the entire contents of a file as a single string, while the readlines() method reads the contents of the file line by line and returns a list of strings, each representing a line.\n"
      ],
      "metadata": {
        "id": "pugSJQdUvpw7"
      },
      "execution_count": null,
      "outputs": []
    },
    {
      "cell_type": "code",
      "source": [
        "9. What data structure does a shelf value resemble?\n",
        "\n",
        "A shelf value resembles a dictionary-like data structure, as it stores key-value pairs.\n",
        "It is provided by the shelve module in Python and is useful for persistent storage of Python objects.\n"
      ],
      "metadata": {
        "id": "BSMQdFRDvp_4"
      },
      "execution_count": null,
      "outputs": []
    }
  ]
}