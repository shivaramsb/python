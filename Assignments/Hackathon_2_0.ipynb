{
  "nbformat": 4,
  "nbformat_minor": 0,
  "metadata": {
    "colab": {
      "provenance": []
    },
    "kernelspec": {
      "name": "python3",
      "display_name": "Python 3"
    },
    "language_info": {
      "name": "python"
    }
  },
  "cells": [
    {
      "cell_type": "code",
      "source": [
        "# Major Question 1"
      ],
      "metadata": {
        "id": "HMuCPCsrqF5v"
      },
      "execution_count": null,
      "outputs": []
    },
    {
      "cell_type": "code",
      "execution_count": null,
      "metadata": {
        "id": "Pc0lTHN9n-iw"
      },
      "outputs": [],
      "source": [
        "1. Write a program to print the following pattern :\n",
        "*\n",
        "* *\n",
        "* * *\n",
        "* * * *\n",
        "* * *\n",
        "* *\n",
        "*"
      ]
    },
    {
      "cell_type": "code",
      "source": [
        "num_rows = 7\n",
        "for i in range(1, num_rows + 1):\n",
        "    if i <= (num_rows // 2) + 1:\n",
        "        for j in range(1, i + 1):\n",
        "            print(\"*\", end=\" \")\n",
        "    else:\n",
        "        for j in range(1, num_rows - i + 2):\n",
        "            print(\"*\", end=\" \")\n",
        "    print()\n"
      ],
      "metadata": {
        "colab": {
          "base_uri": "https://localhost:8080/"
        },
        "id": "XIy0Y94hoeCn",
        "outputId": "b0ac374a-c5f1-4c93-8652-faaa711a3a53"
      },
      "execution_count": 3,
      "outputs": [
        {
          "output_type": "stream",
          "name": "stdout",
          "text": [
            "* \n",
            "* * \n",
            "* * * \n",
            "* * * * \n",
            "* * * \n",
            "* * \n",
            "* \n"
          ]
        }
      ]
    },
    {
      "cell_type": "code",
      "source": [
        "2. Write a program to accept 5 even and 5 odd numbers from the user and display :\n",
        "● sum of even numbers,\n",
        "● product of odd numbers\n",
        "● absolute dif erence of the sum and product.\n",
        "Check if the final result (absolute dif erence) is a prime number or not."
      ],
      "metadata": {
        "id": "XZzrLdCmoeg-"
      },
      "execution_count": null,
      "outputs": []
    },
    {
      "cell_type": "code",
      "source": [
        "def is_prime(num):\n",
        "    if num <= 1:\n",
        "        return False\n",
        "    for i in range(2, int(num**0.5) + 1):\n",
        "        if num % i == 0:\n",
        "            return False\n",
        "    return True\n",
        "\n",
        "# Accept 5 even and 5 odd numbers from the user\n",
        "even_numbers = []\n",
        "odd_numbers = []\n",
        "\n",
        "print(\"Enter 5 even numbers:\")\n",
        "for _ in range(5):\n",
        "    num = int(input())\n",
        "    if num % 2 == 0:\n",
        "        even_numbers.append(num)\n",
        "    else:\n",
        "        print(\"Please enter an even number.\")\n",
        "        exit()\n",
        "\n",
        "print(\"Enter 5 odd numbers:\")\n",
        "for _ in range(5):\n",
        "    num = int(input())\n",
        "    if num % 2 != 0:\n",
        "        odd_numbers.append(num)\n",
        "    else:\n",
        "        print(\"Please enter an odd number.\")\n",
        "        exit()\n",
        "\n",
        "# Calculate sum of even numbers\n",
        "even_sum = sum(even_numbers)\n",
        "\n",
        "# Calculate product of odd numbers\n",
        "odd_product = 1\n",
        "for num in odd_numbers:\n",
        "    odd_product *= num\n",
        "\n",
        "# Calculate absolute difference of sum and product\n",
        "absolute_difference = abs(even_sum - odd_product)\n",
        "\n",
        "# Check if the absolute difference is prime\n",
        "if is_prime(absolute_difference):\n",
        "    prime_status = \"a prime number\"\n",
        "else:\n",
        "    prime_status = \"not a prime number\"\n",
        "\n",
        "# Display results\n",
        "print(\"Sum of even numbers:\", even_sum)\n",
        "print(\"Product of odd numbers:\", odd_product)\n",
        "print(\"Absolute difference of sum and product:\", absolute_difference)\n",
        "print(\"The absolute difference is\", prime_status)\n"
      ],
      "metadata": {
        "colab": {
          "base_uri": "https://localhost:8080/"
        },
        "id": "d5QGl8EEo-Pl",
        "outputId": "d557516e-d81a-4b76-8dbb-be0c53a4589e"
      },
      "execution_count": 4,
      "outputs": [
        {
          "output_type": "stream",
          "name": "stdout",
          "text": [
            "Enter 5 even numbers:\n",
            "2\n",
            "4\n",
            "6\n",
            "8\n",
            "10\n",
            "Enter 5 odd numbers:\n",
            "1\n",
            "3\n",
            "5\n",
            "7\n",
            "9\n",
            "Sum of even numbers: 30\n",
            "Product of odd numbers: 945\n",
            "Absolute difference of sum and product: 915\n",
            "The absolute difference is not a prime number\n"
          ]
        }
      ]
    },
    {
      "cell_type": "code",
      "source": [
        "3. Create a class named Item that holds data about an item in a retail store. The class should\n",
        "have the following three properties:\n",
        "● name: the name property is a String object that holds the name of the item.\n",
        "● price: the price property is a double variable that holds the item's retail price\n",
        "● quantity: the quantity property is an int variable that holds the number of units\n",
        "currently in inventory\n",
        "Write the following four methods to retrieve the values from the three fields and their\n",
        "current inventory value\n",
        "● getName( ) returns the item name of type String\n",
        "● getPrice( ) returns the price of the item of type double\n",
        "● getQuantity( ) returns the number of quantities of type int\n",
        "● getValue( ) that returns the current inventory value (quantity * price) of type double"
      ],
      "metadata": {
        "id": "eWXxx1lepMzC"
      },
      "execution_count": null,
      "outputs": []
    },
    {
      "cell_type": "code",
      "source": [
        "class Item:\n",
        "    def __init__(self, name, price, quantity):\n",
        "        self.name = name\n",
        "        self.price = price\n",
        "        self.quantity = quantity\n",
        "\n",
        "    def getName(self):\n",
        "        return self.name\n",
        "\n",
        "    def getPrice(self):\n",
        "        return self.price\n",
        "\n",
        "    def getQuantity(self):\n",
        "        return self.quantity\n",
        "\n",
        "    def getValue(self):\n",
        "        return self.quantity * self.price\n",
        "\n",
        "\n",
        "# Example usage:\n",
        "item1 = Item(\"Shirt\", 25.99, 10)\n",
        "print(\"Item:\", item1.getName())\n",
        "print(\"Price:\", item1.getPrice())\n",
        "print(\"Quantity:\", item1.getQuantity())\n",
        "print(\"Inventory Value:\", item1.getValue())\n"
      ],
      "metadata": {
        "colab": {
          "base_uri": "https://localhost:8080/"
        },
        "id": "2hnDVeakp7t-",
        "outputId": "284c89cd-fdae-4335-e897-b7c95195da8e"
      },
      "execution_count": 5,
      "outputs": [
        {
          "output_type": "stream",
          "name": "stdout",
          "text": [
            "Item: Shirt\n",
            "Price: 25.99\n",
            "Quantity: 10\n",
            "Inventory Value: 259.9\n"
          ]
        }
      ]
    },
    {
      "cell_type": "code",
      "source": [
        "# Major Question 2"
      ],
      "metadata": {
        "id": "ZH-yJBCzp8w9"
      },
      "execution_count": null,
      "outputs": []
    },
    {
      "cell_type": "code",
      "source": [
        "1. Ask the user number of rows to be generated of a series. Suppose user enters no. of rows =\n",
        "5 then the series shall be :\n",
        "9\n",
        "99\n",
        "999\n",
        "9999\n",
        "99999"
      ],
      "metadata": {
        "id": "X8kdpweqqPMj"
      },
      "execution_count": null,
      "outputs": []
    },
    {
      "cell_type": "code",
      "source": [
        "# Ask the user for the number of rows\n",
        "num_rows = int(input(\"Enter the number of rows: \"))\n",
        "\n",
        "# Generate the series\n",
        "for i in range(1, num_rows + 1):\n",
        "    print(\"9\" * i)\n"
      ],
      "metadata": {
        "colab": {
          "base_uri": "https://localhost:8080/"
        },
        "id": "spJRpU_kqoCw",
        "outputId": "d339e0ff-ae25-4344-f78c-3f04740a0e6a"
      },
      "execution_count": 6,
      "outputs": [
        {
          "output_type": "stream",
          "name": "stdout",
          "text": [
            "Enter the number of rows: 5\n",
            "9\n",
            "99\n",
            "999\n",
            "9999\n",
            "99999\n"
          ]
        }
      ]
    },
    {
      "cell_type": "code",
      "source": [
        "2. Write a program to accept a number from the user and check whether the number entered is\n",
        "prime or not."
      ],
      "metadata": {
        "id": "mG3jCSd-qo8u"
      },
      "execution_count": null,
      "outputs": []
    },
    {
      "cell_type": "code",
      "source": [
        "def is_prime(num):\n",
        "    if num <= 1:\n",
        "        return False\n",
        "    for i in range(2, int(num**0.5) + 1):\n",
        "        if num % i == 0:\n",
        "            return False\n",
        "    return True\n",
        "\n",
        "# Accept a number from the user\n",
        "num = int(input(\"Enter a number: \"))\n",
        "\n",
        "# Check if the number is prime\n",
        "if is_prime(num):\n",
        "    print(num, \"is a prime number.\")\n",
        "else:\n",
        "    print(num, \"is not a prime number.\")"
      ],
      "metadata": {
        "colab": {
          "base_uri": "https://localhost:8080/"
        },
        "id": "AhDRF2FvrZpm",
        "outputId": "4d9e97d8-8ab2-4583-88bd-856707dba227"
      },
      "execution_count": 7,
      "outputs": [
        {
          "output_type": "stream",
          "name": "stdout",
          "text": [
            "Enter a number: 95\n",
            "95 is not a prime number.\n"
          ]
        }
      ]
    },
    {
      "cell_type": "code",
      "source": [
        "3. Continued from Major Question 1. Write a separate class called Inventory with methods\n",
        "● generate() - creates three Item objects\n",
        "● getDetails() - produces a neatly formatted table of the store's inventory displaying\n",
        "the three items, their current inventory value, and the total inventory value for the\n",
        "store."
      ],
      "metadata": {
        "id": "9dEdVQD3tHLx"
      },
      "execution_count": null,
      "outputs": []
    },
    {
      "cell_type": "code",
      "source": [
        "class Item:\n",
        "    def __init__(self, name, price, quantity):\n",
        "        self.name = name\n",
        "        self.price = price\n",
        "        self.quantity = quantity\n",
        "\n",
        "    def getName(self):\n",
        "        return self.name\n",
        "\n",
        "    def getPrice(self):\n",
        "        return self.price\n",
        "\n",
        "    def getQuantity(self):\n",
        "        return self.quantity\n",
        "\n",
        "    def getValue(self):\n",
        "        return self.quantity * self.price\n",
        "\n",
        "\n",
        "class Inventory:\n",
        "    def __init__(self):\n",
        "        self.items = []\n",
        "\n",
        "    def generate(self):\n",
        "        self.items.append(Item(\"Stapler\", 2.25, 15))\n",
        "        self.items.append(Item(\"Paper\", 32.99, 255))\n",
        "        self.items.append(Item(\"Binder\", 4.75, 9))\n",
        "\n",
        "    def getDetails(self):\n",
        "        total_inventory_value = 0\n",
        "\n",
        "        # Print table header\n",
        "        print(\"Name\".ljust(15), \"Price\".ljust(10), \"Quantity\".ljust(10), \"Value\".ljust(10))\n",
        "        print(\"-\" * 40)\n",
        "\n",
        "        # Print details of each item\n",
        "        for item in self.items:\n",
        "            print(item.getName().ljust(15), str(item.getPrice()).ljust(10), str(item.getQuantity()).ljust(10),\n",
        "                  str(item.getValue()).ljust(10))\n",
        "            total_inventory_value += item.getValue()\n",
        "\n",
        "        # Print total inventory value\n",
        "        print(\"Total Inventory is\", total_inventory_value)\n",
        "\n",
        "\n",
        "# Example usage:\n",
        "inventory = Inventory()\n",
        "inventory.generate()\n",
        "inventory.getDetails()"
      ],
      "metadata": {
        "colab": {
          "base_uri": "https://localhost:8080/"
        },
        "id": "4MBR4fAErgEd",
        "outputId": "2affa86e-a311-48f3-b637-45cf21eaae0f"
      },
      "execution_count": 8,
      "outputs": [
        {
          "output_type": "stream",
          "name": "stdout",
          "text": [
            "Name            Price      Quantity   Value     \n",
            "----------------------------------------\n",
            "Stapler         2.25       15         33.75     \n",
            "Paper           32.99      255        8412.45   \n",
            "Binder          4.75       9          42.75     \n",
            "Total Inventory is 8488.95\n"
          ]
        }
      ]
    }
  ]
}