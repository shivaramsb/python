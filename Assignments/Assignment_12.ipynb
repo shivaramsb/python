{
  "nbformat": 4,
  "nbformat_minor": 0,
  "metadata": {
    "colab": {
      "provenance": []
    },
    "kernelspec": {
      "name": "python3",
      "display_name": "Python 3"
    },
    "language_info": {
      "name": "python"
    }
  },
  "cells": [
    {
      "cell_type": "code",
      "execution_count": null,
      "metadata": {
        "id": "PPhvxrmBc1L1"
      },
      "outputs": [],
      "source": [
        "1. In what modes should the PdfFileReader() and PdfFileWriter() File objects will be opened?\n",
        "\n",
        "The PdfFileReader() and PdfFileWriter() File objects should be opened in \"rb\" (read binary) mode."
      ]
    },
    {
      "cell_type": "code",
      "source": [
        "2. From a PdfFileReader object, how do you get a Page object for page 5?\n",
        "\n",
        "To get a Page object for page 5 from a PdfFileReader object, you can use the .getPage() method:\n"
      ],
      "metadata": {
        "id": "98xFdtBMdQfL"
      },
      "execution_count": null,
      "outputs": []
    },
    {
      "cell_type": "code",
      "source": [
        " page_5 = pdf_reader.getPage(4)  # Page numbering starts from 0, so page 5 is at index 4\n",
        "\n"
      ],
      "metadata": {
        "id": "m9RIbh6td5An"
      },
      "execution_count": null,
      "outputs": []
    },
    {
      "cell_type": "code",
      "source": [
        "3. What PdfFileReader variable stores the number of pages in the PDF document?\n",
        "\n",
        "The PdfFileReader variable that stores the number of pages in the PDF document is numPages.\n"
      ],
      "metadata": {
        "id": "_w2woPKLdTWX"
      },
      "execution_count": null,
      "outputs": []
    },
    {
      "cell_type": "code",
      "source": [
        "4. If a PdfFileReader object’s PDF is encrypted with the password swordfish, what must you do\n",
        "before you can obtain Page objects from it?\n",
        "\n",
        "If a PdfFileReader object's PDF is encrypted with the password \"swordfish\", you must decrypt it using the .decrypt() method before obtaining Page objects from it:\n"
      ],
      "metadata": {
        "id": "DOE1KKEVdTe1"
      },
      "execution_count": null,
      "outputs": []
    },
    {
      "cell_type": "code",
      "source": [
        "pdf_reader.decrypt(\"swordfish\")\n"
      ],
      "metadata": {
        "id": "tTFiHBQXeEH1"
      },
      "execution_count": null,
      "outputs": []
    },
    {
      "cell_type": "code",
      "source": [
        "5. What methods do you use to rotate a page?\n",
        "\n",
        "To rotate a page, you can use the .rotateClockwise() or .rotateCounterClockwise() methods of a Page object.\n"
      ],
      "metadata": {
        "id": "Cw5NPWy_dTkp"
      },
      "execution_count": null,
      "outputs": []
    },
    {
      "cell_type": "code",
      "source": [
        "6. What is the difference between a Run object and a Paragraph object?\n",
        "\n",
        "A Run object represents a contiguous run of text with the same style within a Paragraph object, while a Paragraph object represents a single paragraph of text.\n"
      ],
      "metadata": {
        "id": "ZEeF5MRddew2"
      },
      "execution_count": null,
      "outputs": []
    },
    {
      "cell_type": "code",
      "source": [
        "7. How do you obtain a list of Paragraph objects for a Document object that’s stored in a variable\n",
        "named doc?\n",
        "\n",
        "To obtain a list of Paragraph objects for a Document object stored in a variable named doc, you can use the .paragraphs attribute:\n"
      ],
      "metadata": {
        "id": "PFJqXKI9dez2"
      },
      "execution_count": null,
      "outputs": []
    },
    {
      "cell_type": "code",
      "source": [
        "paragraphs_list = doc.paragraphs\n"
      ],
      "metadata": {
        "id": "ADO7ZAPheQjJ"
      },
      "execution_count": null,
      "outputs": []
    },
    {
      "cell_type": "code",
      "source": [
        "8. What type of object has bold, underline, italic, strike, and outline variables?\n",
        "\n",
        "The type of object that has bold, underline, italic, strike, and outline variables is a Run object.\n"
      ],
      "metadata": {
        "id": "VCQeVxhUde2_"
      },
      "execution_count": null,
      "outputs": []
    },
    {
      "cell_type": "code",
      "source": [
        "9. What is the difference between False, True, and None for the bold variable?\n",
        "\n",
        "For the bold variable:\n",
        "False indicates that the text is not bold.\n",
        "True indicates that the text is bold.\n",
        "None indicates that the text inherits the bold property from the style of the parent paragraph."
      ],
      "metadata": {
        "id": "Z9bYcwCWde51"
      },
      "execution_count": null,
      "outputs": []
    },
    {
      "cell_type": "code",
      "source": [
        "10. How do you create a Document object for a new Word document?\n",
        "\n",
        "To create a Document object for a new Word document, you can use the docx.Document() constructor:\n"
      ],
      "metadata": {
        "id": "TBQtTem0de8B"
      },
      "execution_count": null,
      "outputs": []
    },
    {
      "cell_type": "code",
      "source": [
        "from docx import Document\n",
        "\n",
        "doc = Document()\n"
      ],
      "metadata": {
        "id": "6RrkbO15eehe"
      },
      "execution_count": null,
      "outputs": []
    },
    {
      "cell_type": "code",
      "source": [
        "11. How do you add a paragraph with the text 'Hello, there! to a Document object stored in a\n",
        "variable named doc?\n",
        "\n",
        "To add a paragraph with the text \"Hello, there!\" to a Document object stored in a variable named doc, you can use the .add_paragraph() method:\n"
      ],
      "metadata": {
        "id": "8pXEj1U0de_g"
      },
      "execution_count": null,
      "outputs": []
    },
    {
      "cell_type": "code",
      "source": [
        "doc.add_paragraph('Hello, there!')\n"
      ],
      "metadata": {
        "id": "xsHi77NSek5-"
      },
      "execution_count": null,
      "outputs": []
    },
    {
      "cell_type": "code",
      "source": [
        "12. What integers represent the levels of headings available in Word documents?\n",
        "\n",
        "The integers representing the levels of headings available in Word documents are 0 to 9, where\n",
        "0 represents the highest level of heading and 9 represents the lowest level.\n"
      ],
      "metadata": {
        "id": "NeONiMmedot4"
      },
      "execution_count": null,
      "outputs": []
    }
  ]
}