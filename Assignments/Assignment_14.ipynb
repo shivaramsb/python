{
  "nbformat": 4,
  "nbformat_minor": 0,
  "metadata": {
    "colab": {
      "provenance": []
    },
    "kernelspec": {
      "name": "python3",
      "display_name": "Python 3"
    },
    "language_info": {
      "name": "python"
    }
  },
  "cells": [
    {
      "cell_type": "code",
      "execution_count": null,
      "metadata": {
        "id": "WWyBd-YvcmGr"
      },
      "outputs": [],
      "source": [
        "Q. What does RGBA stand for?\n",
        "\n",
        "RGBA stands for red, green, blue, and alpha (transparency) in the color\n",
        "An RGBA value is a tuple of 4 integers, each ranging from 0 to 255. The four integers correspond to the amount of red, green, blue, and alpha (transparency) in the color"
      ]
    },
    {
      "cell_type": "code",
      "source": [
        "Q. From the Pillow module, how do you get the RGBA value of any images ?\n",
        "\n"
      ],
      "metadata": {
        "id": "dMOg1FM8csqv"
      },
      "execution_count": null,
      "outputs": []
    },
    {
      "cell_type": "code",
      "source": [
        "from PIL import ImageColor\n",
        "ImageColor.getcolor('green', 'RGBA')\n",
        "ImageColor.getcolor('red', 'RGBA')"
      ],
      "metadata": {
        "colab": {
          "base_uri": "https://localhost:8080/"
        },
        "id": "yLEF8VlacySd",
        "outputId": "fca4aea6-665c-48cb-c7ce-5c8d20ccfe41"
      },
      "execution_count": 1,
      "outputs": [
        {
          "output_type": "execute_result",
          "data": {
            "text/plain": [
              "(255, 0, 0, 255)"
            ]
          },
          "metadata": {},
          "execution_count": 1
        }
      ]
    },
    {
      "cell_type": "code",
      "source": [
        "Q. What is a box tuple, and how does it work?\n",
        "\n",
        "A box tuple is a tuple value of four integers: the left edge x-coordinate,\n",
        "the top edge y-coordinate, the width, and the height, respectively"
      ],
      "metadata": {
        "id": "yYBn_anMcstp"
      },
      "execution_count": null,
      "outputs": []
    },
    {
      "cell_type": "code",
      "source": [
        "Q. What method would you call to get Image object for a 100×100 image, excluding the lower-left quarter of it?\n",
        "\n",
        "\n",
        "ImageObject.crop((0, 50, 50, 50))"
      ],
      "metadata": {
        "id": "iCqJZ9SGcswY"
      },
      "execution_count": null,
      "outputs": []
    },
    {
      "cell_type": "code",
      "source": [
        "Q. After making changes to an Image object, how could you save it as an image file?\n",
        "\n",
        "By Calling the imageObj.save('new_filename.png') method of the Image object."
      ],
      "metadata": {
        "id": "L7SFqBq9cszC"
      },
      "execution_count": null,
      "outputs": []
    },
    {
      "cell_type": "code",
      "source": [
        "Q. What module contains Pillow’s shape-drawing code?\n",
        "\n",
        "The ImageDraw module contains code to draw on images"
      ],
      "metadata": {
        "id": "eACpPZMics13"
      },
      "execution_count": null,
      "outputs": []
    },
    {
      "cell_type": "code",
      "source": [
        "Q. Image objects do not have drawing methods. What kind of object does? How do you get this kind of object?\n",
        "\n",
        "ImageDraw objects have shape-drawing methods such as point(), line(), or rectangle().\n",
        "They are returned by passing the Image object to the ImageDraw.Draw() function"
      ],
      "metadata": {
        "id": "JaQSPGmUcs5k"
      },
      "execution_count": null,
      "outputs": []
    }
  ]
}