{
  "nbformat": 4,
  "nbformat_minor": 0,
  "metadata": {
    "colab": {
      "provenance": []
    },
    "kernelspec": {
      "name": "python3",
      "display_name": "Python 3"
    },
    "language_info": {
      "name": "python"
    }
  },
  "cells": [
    {
      "cell_type": "code",
      "execution_count": null,
      "metadata": {
        "id": "2VacxlvgtrK5"
      },
      "outputs": [],
      "source": [
        "1. What exactly is []?\n",
        "\n",
        "Ans : [] is a empty list, like a =[]"
      ]
    },
    {
      "cell_type": "code",
      "source": [
        "# 2. In a list of values stored in a variable called spam, how would you assign the value hello' as the third value? (Assume [2, 4, 6, 8, 10] are in spam.)\n",
        "\n",
        "# solution by changing the value in index 3\n",
        "spam = [2, 4, 6, 8, 10]\n",
        "spam[2] = 'hello'\n",
        "spam"
      ],
      "metadata": {
        "colab": {
          "base_uri": "https://localhost:8080/"
        },
        "id": "XrD18Ve-vNy-",
        "outputId": "a0f956e5-f4b6-44fb-d1b4-c6dcf21d8414"
      },
      "execution_count": 2,
      "outputs": [
        {
          "output_type": "execute_result",
          "data": {
            "text/plain": [
              "[2, 4, 'hello', 8, 10]"
            ]
          },
          "metadata": {},
          "execution_count": 2
        }
      ]
    },
    {
      "cell_type": "code",
      "source": [
        "#3. What is the value of spam[int(int(3 * 2) / 11)]?\n",
        "\n",
        "spam = ['a', 'b','c','d']\n",
        "spam[int(int('3' * 2) / 11)] # spam[int(33/11)] = spam[3]"
      ],
      "metadata": {
        "colab": {
          "base_uri": "https://localhost:8080/",
          "height": 35
        },
        "id": "uPk4PMRKwnwP",
        "outputId": "c15747ce-f4f0-43ac-9cb0-c44960ea1395"
      },
      "execution_count": 3,
      "outputs": [
        {
          "output_type": "execute_result",
          "data": {
            "text/plain": [
              "'d'"
            ],
            "application/vnd.google.colaboratory.intrinsic+json": {
              "type": "string"
            }
          },
          "metadata": {},
          "execution_count": 3
        }
      ]
    },
    {
      "cell_type": "code",
      "source": [
        "# 4. What is the value of spam[-1]?\n",
        "\n",
        "\n",
        "spam = ['a', 'b','c','d']\n",
        "spam[-1] # negative index # d"
      ],
      "metadata": {
        "colab": {
          "base_uri": "https://localhost:8080/",
          "height": 35
        },
        "id": "7s26j6F6x8Ga",
        "outputId": "6acee3e1-5135-43b7-8910-31b2954ea7ba"
      },
      "execution_count": 4,
      "outputs": [
        {
          "output_type": "execute_result",
          "data": {
            "text/plain": [
              "'d'"
            ],
            "application/vnd.google.colaboratory.intrinsic+json": {
              "type": "string"
            }
          },
          "metadata": {},
          "execution_count": 4
        }
      ]
    },
    {
      "cell_type": "code",
      "source": [
        "#5. What is the value of spam[:2]?\n",
        "\n",
        "spam[:2] # c"
      ],
      "metadata": {
        "colab": {
          "base_uri": "https://localhost:8080/"
        },
        "id": "JGOZvGeeyEVv",
        "outputId": "8e106845-5e59-4643-c5d7-31eaedac096a"
      },
      "execution_count": 5,
      "outputs": [
        {
          "output_type": "execute_result",
          "data": {
            "text/plain": [
              "['a', 'b']"
            ]
          },
          "metadata": {},
          "execution_count": 5
        }
      ]
    },
    {
      "cell_type": "code",
      "source": [
        "# Q6. What is the value of bacon.index('cat')?\n",
        "\n",
        "bacon = [3.14, 'cat', 11, 'cat', True]\n",
        "bacon.index('cat') # it returns the index of first occurrence of 'cat'"
      ],
      "metadata": {
        "colab": {
          "base_uri": "https://localhost:8080/"
        },
        "id": "nlDG4SLNyOu2",
        "outputId": "0f3fd228-7dfc-4560-e8e4-79bb1bf11988"
      },
      "execution_count": 6,
      "outputs": [
        {
          "output_type": "execute_result",
          "data": {
            "text/plain": [
              "1"
            ]
          },
          "metadata": {},
          "execution_count": 6
        }
      ]
    },
    {
      "cell_type": "code",
      "source": [
        "# Q7. How does bacon.append(99) change the look of the list value in bacon?\n",
        "\n",
        "bacon = [3.14, 'cat', 11, 'cat', True]\n",
        "bacon.append(99) # append adds the item at the end of the list\n",
        "bacon"
      ],
      "metadata": {
        "colab": {
          "base_uri": "https://localhost:8080/"
        },
        "id": "iY8cl3dUyVN-",
        "outputId": "edcdf8d1-1fff-457f-ff11-c54c4efeb728"
      },
      "execution_count": 7,
      "outputs": [
        {
          "output_type": "execute_result",
          "data": {
            "text/plain": [
              "[3.14, 'cat', 11, 'cat', True, 99]"
            ]
          },
          "metadata": {},
          "execution_count": 7
        }
      ]
    },
    {
      "cell_type": "code",
      "source": [
        "# Q8. How does bacon.remove('cat') change the look of the list in bacon?\n",
        "\n",
        "\n",
        "bacon = [3.14, 'cat', 11, 'cat', True]\n",
        "bacon.remove('cat') # remove first occurrence of item\n",
        "bacon"
      ],
      "metadata": {
        "colab": {
          "base_uri": "https://localhost:8080/"
        },
        "id": "dXxobE5ByaqI",
        "outputId": "e2c5b3d7-c072-49a5-c4f4-a7e9fd5f9a4e"
      },
      "execution_count": 8,
      "outputs": [
        {
          "output_type": "execute_result",
          "data": {
            "text/plain": [
              "[3.14, 11, 'cat', True]"
            ]
          },
          "metadata": {},
          "execution_count": 8
        }
      ]
    },
    {
      "cell_type": "code",
      "source": [
        "# 9. What are the list concatenation and list replication operators?\n",
        "\n",
        "\n",
        "l1 = [1,4]\n",
        "l2 = [2,5]\n",
        "# list concatination\n",
        "l1+l2"
      ],
      "metadata": {
        "colab": {
          "base_uri": "https://localhost:8080/"
        },
        "id": "-cq7bYeLyfpq",
        "outputId": "45536036-96e1-47fa-9ce2-b73fcad8684b"
      },
      "execution_count": 9,
      "outputs": [
        {
          "output_type": "execute_result",
          "data": {
            "text/plain": [
              "[1, 4, 2, 5]"
            ]
          },
          "metadata": {},
          "execution_count": 9
        }
      ]
    },
    {
      "cell_type": "code",
      "source": [
        "l1 = [7,4]\n",
        "\n",
        "# list replication\n",
        "l1*3"
      ],
      "metadata": {
        "colab": {
          "base_uri": "https://localhost:8080/"
        },
        "id": "HtCCXsbH0rW0",
        "outputId": "f3eb52f0-a569-4a69-d0f2-bb653765037c"
      },
      "execution_count": 10,
      "outputs": [
        {
          "output_type": "execute_result",
          "data": {
            "text/plain": [
              "[7, 4, 7, 4, 7, 4]"
            ]
          },
          "metadata": {},
          "execution_count": 10
        }
      ]
    },
    {
      "cell_type": "code",
      "source": [
        "# 10. What is difference between the list methods append() and insert()?\n",
        "\n",
        "bacon = [3.14, 'cat', 11, 'cat', True]\n",
        "bacon.append(99) # append adds the item at the end of the list\n",
        "bacon"
      ],
      "metadata": {
        "colab": {
          "base_uri": "https://localhost:8080/"
        },
        "id": "5W5nI5blyfs2",
        "outputId": "ad236c7a-e742-49a2-86d3-6950d893ff70"
      },
      "execution_count": 11,
      "outputs": [
        {
          "output_type": "execute_result",
          "data": {
            "text/plain": [
              "[3.14, 'cat', 11, 'cat', True, 99]"
            ]
          },
          "metadata": {},
          "execution_count": 11
        }
      ]
    },
    {
      "cell_type": "code",
      "source": [
        "# solution by inserting value in 3rd index\n",
        "spam = [2, 4, 6, 8, 10]\n",
        "spam.insert(2,'hello')\n",
        "spam"
      ],
      "metadata": {
        "colab": {
          "base_uri": "https://localhost:8080/"
        },
        "id": "tPQT-hSr055m",
        "outputId": "abe6c128-c6ad-43c7-f3c8-8192124a6bcf"
      },
      "execution_count": 12,
      "outputs": [
        {
          "output_type": "execute_result",
          "data": {
            "text/plain": [
              "[2, 4, 'hello', 6, 8, 10]"
            ]
          },
          "metadata": {},
          "execution_count": 12
        }
      ]
    },
    {
      "cell_type": "code",
      "source": [
        "# 11. What are the two methods for removing items from a list?\n",
        "\n",
        "# solution by inserting value in 3rd index\n",
        "spam = [2, 4, 6, 8, 10]\n",
        "spam.insert(2,'hello')\n",
        "spam"
      ],
      "metadata": {
        "colab": {
          "base_uri": "https://localhost:8080/"
        },
        "id": "8bWKHBjpyfwb",
        "outputId": "72a95cb0-4665-4de4-9a34-57258795c7b7"
      },
      "execution_count": 13,
      "outputs": [
        {
          "output_type": "execute_result",
          "data": {
            "text/plain": [
              "[2, 4, 'hello', 6, 8, 10]"
            ]
          },
          "metadata": {},
          "execution_count": 13
        }
      ]
    },
    {
      "cell_type": "code",
      "source": [
        "#pop() - Remove and returns item at index (default last).\n",
        "bacon = [3.14, 'cat', 11, 'cat', True]\n",
        "bacon.pop()\n",
        "bacon"
      ],
      "metadata": {
        "colab": {
          "base_uri": "https://localhost:8080/"
        },
        "id": "oef_J6Y62H-6",
        "outputId": "eaa3c862-e4de-4784-ab3c-e00a62ab403e"
      },
      "execution_count": 14,
      "outputs": [
        {
          "output_type": "execute_result",
          "data": {
            "text/plain": [
              "[3.14, 'cat', 11, 'cat']"
            ]
          },
          "metadata": {},
          "execution_count": 14
        }
      ]
    },
    {
      "cell_type": "code",
      "source": [
        "# 12. Describe how list values and string values are identical.\n",
        "\n",
        "Both lists and strings can be passed to len()\n",
        "Have indexes and slices\n",
        "Can be used in for loops\n",
        "Can be concatenated or replicated\n",
        "Can be used with the in and not in operators"
      ],
      "metadata": {
        "id": "wtPG50aby3Nt"
      },
      "execution_count": null,
      "outputs": []
    },
    {
      "cell_type": "code",
      "source": [
        "13. What is the difference between tuples and lists?\n",
        "\n",
        "Tuples are immutable, meaning once they are created, their elements cannot be modified, added, or removed.\n",
        "Lists, on the other hand, are mutable, allowing modification of their elements after creation.\n",
        "\n",
        "Tuples are defined using parentheses () and elements are separated by commas ,.\n",
        "Lists are defined using square brackets [] and elements are separated by commas ,."
      ],
      "metadata": {
        "id": "wj18r_4Qy3Y6"
      },
      "execution_count": null,
      "outputs": []
    },
    {
      "cell_type": "code",
      "source": [
        "# 14. How do you type a tuple value that only contains the integer 42?\n",
        "\n",
        "\n",
        "tuple = (42,)\n",
        "tuple"
      ],
      "metadata": {
        "colab": {
          "base_uri": "https://localhost:8080/"
        },
        "id": "ULshohqOy3j4",
        "outputId": "df805464-4eb0-4f64-adbb-e2e4828557d8"
      },
      "execution_count": 22,
      "outputs": [
        {
          "output_type": "execute_result",
          "data": {
            "text/plain": [
              "(42,)"
            ]
          },
          "metadata": {},
          "execution_count": 22
        }
      ]
    },
    {
      "cell_type": "code",
      "source": [
        "# 15. How do you get a list value's tuple form? How do you get a tuple value's list form?\n",
        "\n",
        "my_tuple = (1, 2, 3, 4, 5)\n",
        "my_list = list(my_tuple)\n",
        "print(my_list)  # Output: [1, 2, 3, 4, 5]\n"
      ],
      "metadata": {
        "colab": {
          "base_uri": "https://localhost:8080/"
        },
        "id": "dqlkPqNly_6R",
        "outputId": "b064cdec-d9f5-4a94-bf80-fe8e2b5b3c25"
      },
      "execution_count": 21,
      "outputs": [
        {
          "output_type": "stream",
          "name": "stdout",
          "text": [
            "[1, 2, 3, 4, 5]\n"
          ]
        }
      ]
    },
    {
      "cell_type": "code",
      "source": [
        "# Q16. Variables that \"contain\" list values are not necessarily lists themselves. Instead, what do they contain?\n",
        "\n",
        "ANS : They contain references to list values."
      ],
      "metadata": {
        "id": "8D_7tC8O33xE"
      },
      "execution_count": null,
      "outputs": []
    },
    {
      "cell_type": "code",
      "source": [
        "17. How do you distinguish between copy.copy() and copy.deepcopy()?\n",
        "\n",
        "Ans . The copy.copy() function will do a shallow copy of a list,\n",
        "The copy.deepcopy() function will do a deep copy of a list. only copy.deepcopy() will duplicate any lists inside the list"
      ],
      "metadata": {
        "id": "zGmNMHayzHPy"
      },
      "execution_count": null,
      "outputs": []
    }
  ]
}