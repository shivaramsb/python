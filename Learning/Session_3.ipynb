{
  "nbformat": 4,
  "nbformat_minor": 0,
  "metadata": {
    "colab": {
      "provenance": []
    },
    "kernelspec": {
      "name": "python3",
      "display_name": "Python 3"
    },
    "language_info": {
      "name": "python"
    }
  },
  "cells": [
    {
      "cell_type": "code",
      "execution_count": 1,
      "metadata": {
        "colab": {
          "base_uri": "https://localhost:8080/"
        },
        "id": "l9SnkxTsSmBe",
        "outputId": "061341a1-10e5-494c-98fd-ab4d1eb84d95"
      },
      "outputs": [
        {
          "output_type": "stream",
          "name": "stdout",
          "text": [
            "1\n",
            "2\n",
            "3\n",
            "4\n",
            "no 10 rs notes are available\n"
          ]
        }
      ],
      "source": [
        "notes =5\n",
        "i=1\n",
        "while i < notes:\n",
        "  print(i)\n",
        "  i+=1\n",
        "else :\n",
        "  print(\"no 10 rs notes are available\")\n"
      ]
    },
    {
      "cell_type": "code",
      "source": [
        "notes =5\n",
        "i=1\n",
        "j=1\n",
        "while i < notes:\n",
        "  print(i)\n",
        "  i+=1\n",
        "else :\n",
        "  while j < 2:\n",
        "    print(i)\n",
        "    j=j+1\n",
        "  print(\"no 10 rs notes are available\")\n"
      ],
      "metadata": {
        "colab": {
          "base_uri": "https://localhost:8080/"
        },
        "id": "B5UWZfjJVTzZ",
        "outputId": "a3e640e6-5d41-40bb-97bb-b5641f76eaaf"
      },
      "execution_count": 6,
      "outputs": [
        {
          "output_type": "stream",
          "name": "stdout",
          "text": [
            "1\n",
            "2\n",
            "3\n",
            "4\n",
            "5\n",
            "no 10 rs notes are available\n"
          ]
        }
      ]
    },
    {
      "cell_type": "code",
      "source": [
        "s=\"shivaram\""
      ],
      "metadata": {
        "id": "Xag9lIMxWEk6"
      },
      "execution_count": 7,
      "outputs": []
    },
    {
      "cell_type": "code",
      "source": [
        "s"
      ],
      "metadata": {
        "colab": {
          "base_uri": "https://localhost:8080/",
          "height": 36
        },
        "id": "9jo0PfrKXSWW",
        "outputId": "ca720535-f588-4f59-dad2-7988c78129c6"
      },
      "execution_count": 8,
      "outputs": [
        {
          "output_type": "execute_result",
          "data": {
            "text/plain": [
              "'shivaram'"
            ],
            "application/vnd.google.colaboratory.intrinsic+json": {
              "type": "string"
            }
          },
          "metadata": {},
          "execution_count": 8
        }
      ]
    },
    {
      "cell_type": "code",
      "source": [
        "s[2]"
      ],
      "metadata": {
        "colab": {
          "base_uri": "https://localhost:8080/",
          "height": 36
        },
        "id": "3SCgCw_QXT9h",
        "outputId": "f8a74cfe-282f-454c-9033-437c72c11b51"
      },
      "execution_count": 9,
      "outputs": [
        {
          "output_type": "execute_result",
          "data": {
            "text/plain": [
              "'i'"
            ],
            "application/vnd.google.colaboratory.intrinsic+json": {
              "type": "string"
            }
          },
          "metadata": {},
          "execution_count": 9
        }
      ]
    },
    {
      "cell_type": "code",
      "source": [
        "s[3:5]"
      ],
      "metadata": {
        "colab": {
          "base_uri": "https://localhost:8080/",
          "height": 36
        },
        "id": "DltgQwR4XYIR",
        "outputId": "68088227-a085-4941-dc44-345f267dc205"
      },
      "execution_count": 10,
      "outputs": [
        {
          "output_type": "execute_result",
          "data": {
            "text/plain": [
              "'va'"
            ],
            "application/vnd.google.colaboratory.intrinsic+json": {
              "type": "string"
            }
          },
          "metadata": {},
          "execution_count": 10
        }
      ]
    },
    {
      "cell_type": "code",
      "source": [
        "s[3:5:2]"
      ],
      "metadata": {
        "colab": {
          "base_uri": "https://localhost:8080/",
          "height": 36
        },
        "id": "i6c_jLQWYXOi",
        "outputId": "5980b02c-e4ba-4378-8d00-7913531eb627"
      },
      "execution_count": 11,
      "outputs": [
        {
          "output_type": "execute_result",
          "data": {
            "text/plain": [
              "'v'"
            ],
            "application/vnd.google.colaboratory.intrinsic+json": {
              "type": "string"
            }
          },
          "metadata": {},
          "execution_count": 11
        }
      ]
    },
    {
      "cell_type": "code",
      "source": [
        "s[3:5:-2]"
      ],
      "metadata": {
        "colab": {
          "base_uri": "https://localhost:8080/",
          "height": 36
        },
        "id": "LNmoiztjZZxP",
        "outputId": "7475bb12-4584-4ace-9ee7-cf5a59764172"
      },
      "execution_count": 12,
      "outputs": [
        {
          "output_type": "execute_result",
          "data": {
            "text/plain": [
              "''"
            ],
            "application/vnd.google.colaboratory.intrinsic+json": {
              "type": "string"
            }
          },
          "metadata": {},
          "execution_count": 12
        }
      ]
    },
    {
      "cell_type": "code",
      "source": [
        "s[::-1]"
      ],
      "metadata": {
        "colab": {
          "base_uri": "https://localhost:8080/",
          "height": 36
        },
        "id": "S1Z69tahajN1",
        "outputId": "5b3089c2-68d3-48c0-a216-d6294fcee77c"
      },
      "execution_count": 13,
      "outputs": [
        {
          "output_type": "execute_result",
          "data": {
            "text/plain": [
              "'maravihs'"
            ],
            "application/vnd.google.colaboratory.intrinsic+json": {
              "type": "string"
            }
          },
          "metadata": {},
          "execution_count": 13
        }
      ]
    },
    {
      "cell_type": "code",
      "source": [
        "s[2:-5]"
      ],
      "metadata": {
        "colab": {
          "base_uri": "https://localhost:8080/",
          "height": 36
        },
        "id": "GJJMKQRBe3aF",
        "outputId": "bd35204e-e0cd-4fe4-f579-d4c986b2f294"
      },
      "execution_count": 15,
      "outputs": [
        {
          "output_type": "execute_result",
          "data": {
            "text/plain": [
              "'i'"
            ],
            "application/vnd.google.colaboratory.intrinsic+json": {
              "type": "string"
            }
          },
          "metadata": {},
          "execution_count": 15
        }
      ]
    },
    {
      "cell_type": "code",
      "source": [
        "s=\"my name is shivaram\""
      ],
      "metadata": {
        "id": "jy4prsS6fwZj"
      },
      "execution_count": 17,
      "outputs": []
    },
    {
      "cell_type": "code",
      "source": [
        "for i in s :\n",
        "  print(i)"
      ],
      "metadata": {
        "colab": {
          "base_uri": "https://localhost:8080/"
        },
        "id": "BsOr9kSugkFL",
        "outputId": "a5fa1303-6b41-44e4-93cd-7ba2205a44dd"
      },
      "execution_count": 18,
      "outputs": [
        {
          "output_type": "stream",
          "name": "stdout",
          "text": [
            "m\n",
            "y\n",
            " \n",
            "n\n",
            "a\n",
            "m\n",
            "e\n",
            " \n",
            "i\n",
            "s\n",
            " \n",
            "s\n",
            "h\n",
            "i\n",
            "v\n",
            "a\n",
            "r\n",
            "a\n",
            "m\n"
          ]
        }
      ]
    },
    {
      "cell_type": "code",
      "source": [
        "s[2:-6]"
      ],
      "metadata": {
        "colab": {
          "base_uri": "https://localhost:8080/",
          "height": 36
        },
        "id": "Kou6MsgigucW",
        "outputId": "2538f4c0-ca03-46fc-ee0b-737f46494bba"
      },
      "execution_count": 19,
      "outputs": [
        {
          "output_type": "execute_result",
          "data": {
            "text/plain": [
              "' name is sh'"
            ],
            "application/vnd.google.colaboratory.intrinsic+json": {
              "type": "string"
            }
          },
          "metadata": {},
          "execution_count": 19
        }
      ]
    },
    {
      "cell_type": "code",
      "source": [
        "for i in s :\n",
        "  if i== 's' :\n",
        "    print(\"i got s as a string\")\n",
        "  print(i)"
      ],
      "metadata": {
        "colab": {
          "base_uri": "https://localhost:8080/"
        },
        "id": "xlUGezzmg4x6",
        "outputId": "bc50426a-d3c7-43d5-dd86-44ab5c6a9615"
      },
      "execution_count": 20,
      "outputs": [
        {
          "output_type": "stream",
          "name": "stdout",
          "text": [
            "m\n",
            "y\n",
            " \n",
            "n\n",
            "a\n",
            "m\n",
            "e\n",
            " \n",
            "i\n",
            "i got s as a string\n",
            "s\n",
            " \n",
            "i got s as a string\n",
            "s\n",
            "h\n",
            "i\n",
            "v\n",
            "a\n",
            "r\n",
            "a\n",
            "m\n"
          ]
        }
      ]
    },
    {
      "cell_type": "code",
      "source": [
        "s"
      ],
      "metadata": {
        "colab": {
          "base_uri": "https://localhost:8080/",
          "height": 36
        },
        "id": "w4zHLaHahNqk",
        "outputId": "58b13bf3-838d-487a-d984-72296ba2a859"
      },
      "execution_count": 21,
      "outputs": [
        {
          "output_type": "execute_result",
          "data": {
            "text/plain": [
              "'my name is shivaram'"
            ],
            "application/vnd.google.colaboratory.intrinsic+json": {
              "type": "string"
            }
          },
          "metadata": {},
          "execution_count": 21
        }
      ]
    },
    {
      "cell_type": "code",
      "source": [
        "for i in s:\n",
        "  print(i)\n",
        "else :\n",
        "  print(\"this is else condition\")"
      ],
      "metadata": {
        "colab": {
          "base_uri": "https://localhost:8080/"
        },
        "id": "IGDvvkKQhRqm",
        "outputId": "266e8feb-22f5-4f37-e1b9-f1be30555192"
      },
      "execution_count": 22,
      "outputs": [
        {
          "output_type": "stream",
          "name": "stdout",
          "text": [
            "m\n",
            "y\n",
            " \n",
            "n\n",
            "a\n",
            "m\n",
            "e\n",
            " \n",
            "i\n",
            "s\n",
            " \n",
            "s\n",
            "h\n",
            "i\n",
            "v\n",
            "a\n",
            "r\n",
            "a\n",
            "m\n",
            "this is else condition\n"
          ]
        }
      ]
    },
    {
      "cell_type": "code",
      "source": [
        "for i in s:\n",
        "  if i == \"n\":\n",
        "    break\n",
        "  print(i)\n",
        "else :\n",
        "  if i== 'u' :\n",
        "    print(\"last char was u \")\n",
        "  print(\"this is else condition\")"
      ],
      "metadata": {
        "colab": {
          "base_uri": "https://localhost:8080/"
        },
        "id": "u61rIiQ-hdCl",
        "outputId": "d5ea4b6f-614a-49d6-9615-730516bbc5f1"
      },
      "execution_count": 23,
      "outputs": [
        {
          "output_type": "stream",
          "name": "stdout",
          "text": [
            "m\n",
            "y\n",
            " \n",
            "n\n",
            "a\n",
            "m\n",
            "e\n",
            " \n",
            "i\n",
            "s\n",
            " \n",
            "s\n",
            "h\n",
            "i\n",
            "v\n",
            "a\n",
            "r\n",
            "a\n",
            "m\n",
            "this is else condition\n"
          ]
        }
      ]
    },
    {
      "cell_type": "code",
      "source": [
        "for i in s:\n",
        "  if i == \"n\":\n",
        "    continue\n",
        "  print(i)\n",
        "else :\n",
        "  if i== 'u' :\n",
        "    print(\"last char was u \")\n",
        "  print(\"this is else condition\")"
      ],
      "metadata": {
        "colab": {
          "base_uri": "https://localhost:8080/"
        },
        "id": "_FK83k-IhspD",
        "outputId": "3151d27b-fbcc-41c5-c433-cc7788d5d7cc"
      },
      "execution_count": 24,
      "outputs": [
        {
          "output_type": "stream",
          "name": "stdout",
          "text": [
            "m\n",
            "y\n",
            " \n",
            "a\n",
            "m\n",
            "e\n",
            " \n",
            "i\n",
            "s\n",
            " \n",
            "s\n",
            "h\n",
            "i\n",
            "v\n",
            "a\n",
            "r\n",
            "a\n",
            "m\n",
            "this is else condition\n"
          ]
        }
      ]
    },
    {
      "cell_type": "code",
      "source": [
        "s = \"ineuron\"\n",
        "ss = \"\"\n",
        "for i in range(len(s)):\n",
        "    if s[i] == \"n\":\n",
        "        continue\n",
        "    else:\n",
        "        ss = ss + s[i]\n"
      ],
      "metadata": {
        "id": "4J_QD-mujE_0"
      },
      "execution_count": 29,
      "outputs": []
    },
    {
      "cell_type": "code",
      "source": [
        "ss"
      ],
      "metadata": {
        "colab": {
          "base_uri": "https://localhost:8080/",
          "height": 36
        },
        "id": "gjpUK-bpke7p",
        "outputId": "f1e81bb9-0c07-4ec4-b41c-a146073834af"
      },
      "execution_count": 30,
      "outputs": [
        {
          "output_type": "execute_result",
          "data": {
            "text/plain": [
              "'ieuro'"
            ],
            "application/vnd.google.colaboratory.intrinsic+json": {
              "type": "string"
            }
          },
          "metadata": {},
          "execution_count": 30
        }
      ]
    },
    {
      "cell_type": "code",
      "source": [
        "len(s)"
      ],
      "metadata": {
        "colab": {
          "base_uri": "https://localhost:8080/"
        },
        "id": "mTQc5Ccsk0S-",
        "outputId": "d239a08e-3de3-47ef-ded3-5439b01dd906"
      },
      "execution_count": 31,
      "outputs": [
        {
          "output_type": "execute_result",
          "data": {
            "text/plain": [
              "7"
            ]
          },
          "metadata": {},
          "execution_count": 31
        }
      ]
    },
    {
      "cell_type": "code",
      "source": [
        "n = 7\n",
        "for i in range(0 ,n):\n",
        "    for j in range(0 ,i +1):\n",
        "        print(\"+ \" , end = \"\")\n",
        "    print(\"\\r\")"
      ],
      "metadata": {
        "colab": {
          "base_uri": "https://localhost:8080/"
        },
        "id": "yaV-A1tzlU68",
        "outputId": "afb0b89b-c361-47c9-a04c-318b24f6fbbb"
      },
      "execution_count": 35,
      "outputs": [
        {
          "output_type": "stream",
          "name": "stdout",
          "text": [
            "+ \r\n",
            "+ + \r\n",
            "+ + + \r\n",
            "+ + + + \r\n",
            "+ + + + + \r\n",
            "+ + + + + + \r\n",
            "+ + + + + + + \r\n"
          ]
        }
      ]
    },
    {
      "cell_type": "code",
      "source": [
        "def pattern(n):\n",
        "      k = 2*n -2\n",
        "      for i in range(n,-1,-1):\n",
        "           for j in range(k,0,-1):\n",
        "                print(end=\" \")\n",
        "           k = k +1\n",
        "           for j in range(0, i+1):\n",
        "                print(\"*\", end=\" \")\n",
        "           print(\"\\r\")\n",
        "\n",
        "pattern(5)"
      ],
      "metadata": {
        "colab": {
          "base_uri": "https://localhost:8080/"
        },
        "id": "BAJYVFP5niCl",
        "outputId": "291331ec-e84b-4421-a397-bf8e9e1e1b15"
      },
      "execution_count": 36,
      "outputs": [
        {
          "output_type": "stream",
          "name": "stdout",
          "text": [
            "        * * * * * * \r\n",
            "         * * * * * \r\n",
            "          * * * * \r\n",
            "           * * * \r\n",
            "            * * \r\n",
            "             * \r\n"
          ]
        }
      ]
    },
    {
      "cell_type": "code",
      "source": [
        "n =9\n",
        "i=0\n",
        "while i < n :\n",
        "    print(' '*(n-i-1) + '* '*(i+1))\n",
        "    i +=1"
      ],
      "metadata": {
        "colab": {
          "base_uri": "https://localhost:8080/"
        },
        "id": "4DeWDCcNnprF",
        "outputId": "124b14c7-f57a-41b3-a558-1ffd819fd67f"
      },
      "execution_count": 37,
      "outputs": [
        {
          "output_type": "stream",
          "name": "stdout",
          "text": [
            "        * \n",
            "       * * \n",
            "      * * * \n",
            "     * * * * \n",
            "    * * * * * \n",
            "   * * * * * * \n",
            "  * * * * * * * \n",
            " * * * * * * * * \n",
            "* * * * * * * * * \n"
          ]
        }
      ]
    },
    {
      "cell_type": "code",
      "source": [
        "for i in range(7,0,-1):\n",
        "    print(i)\n"
      ],
      "metadata": {
        "colab": {
          "base_uri": "https://localhost:8080/"
        },
        "id": "zBMsJuVjofps",
        "outputId": "6b2ee96e-75c9-47de-b814-dad845c7e95b"
      },
      "execution_count": 41,
      "outputs": [
        {
          "output_type": "stream",
          "name": "stdout",
          "text": [
            "7\n",
            "6\n",
            "5\n",
            "4\n",
            "3\n",
            "2\n",
            "1\n"
          ]
        }
      ]
    },
    {
      "cell_type": "code",
      "source": [
        "for i in range(8, 0, -1):\n",
        "    print(i)"
      ],
      "metadata": {
        "colab": {
          "base_uri": "https://localhost:8080/"
        },
        "id": "ijJy3XbUpGtH",
        "outputId": "83e8b6b1-c473-4d91-b075-86051f75dc67"
      },
      "execution_count": 42,
      "outputs": [
        {
          "output_type": "stream",
          "name": "stdout",
          "text": [
            "8\n",
            "7\n",
            "6\n",
            "5\n",
            "4\n",
            "3\n",
            "2\n",
            "1\n"
          ]
        }
      ]
    },
    {
      "cell_type": "code",
      "source": [
        "n = int(input('Enter number of rows required: '))\n",
        "\n",
        "for i in range(n,0,-1):\n",
        "    for j in range(n-i):\n",
        "        print(' ', end='')\n",
        "\n",
        "    for j in range(2*i-1):\n",
        "        print('*',end='')\n",
        "    print()"
      ],
      "metadata": {
        "colab": {
          "base_uri": "https://localhost:8080/"
        },
        "id": "oIycIF_FpkFA",
        "outputId": "fbec7c6f-8610-4e8d-adce-8e1075b79620"
      },
      "execution_count": 43,
      "outputs": [
        {
          "output_type": "stream",
          "name": "stdout",
          "text": [
            "Enter number of rows required: 5\n",
            "*********\n",
            " *******\n",
            "  *****\n",
            "   ***\n",
            "    *\n"
          ]
        }
      ]
    },
    {
      "cell_type": "code",
      "source": [
        "i=1\n",
        "k=1 #for printing starts with the increament of 2\n",
        "\n",
        "while i<=5:\n",
        "    b=1\n",
        "    while b<=5-i:\n",
        "        print(' ',end='')\n",
        "        b=b+1\n",
        "\n",
        "    j=1\n",
        "    while j<=k:\n",
        "        print('*', end='')\n",
        "        j=j+1\n",
        "    print()\n",
        "\n",
        "    k=k+2\n",
        "\n",
        "    i=i+1"
      ],
      "metadata": {
        "colab": {
          "base_uri": "https://localhost:8080/"
        },
        "id": "r3aHEeaQsCHt",
        "outputId": "b88f4168-52c6-4fa1-eca8-65d97115aa8e"
      },
      "execution_count": 44,
      "outputs": [
        {
          "output_type": "stream",
          "name": "stdout",
          "text": [
            "    *\n",
            "   ***\n",
            "  *****\n",
            " *******\n",
            "*********\n"
          ]
        }
      ]
    },
    {
      "cell_type": "code",
      "source": [
        "userInput = int(input(\"Please enter the amount of rows: \"))\n",
        "\n",
        "row = 0\n",
        "while(row < userInput):\n",
        "    row += 1\n",
        "    spaces = userInput - row\n",
        "\n",
        "    spaces_counter = 0\n",
        "    while(spaces_counter < spaces):\n",
        "        print(\" \", end='')\n",
        "        spaces_counter += 1\n",
        "\n",
        "    num_stars = 2*row-1\n",
        "    while(num_stars > 0):\n",
        "        print(\"*\", end='')\n",
        "        num_stars -= 1\n",
        "\n",
        "    print()\n",
        "print(\"**iNeuron-FSDS**\")"
      ],
      "metadata": {
        "colab": {
          "base_uri": "https://localhost:8080/"
        },
        "id": "VbKiHu6uubmE",
        "outputId": "4a7efacc-eb55-4290-9850-72f1d8f49908"
      },
      "execution_count": 45,
      "outputs": [
        {
          "output_type": "stream",
          "name": "stdout",
          "text": [
            "Please enter the amount of rows: 7\n",
            "      *\n",
            "     ***\n",
            "    *****\n",
            "   *******\n",
            "  *********\n",
            " ***********\n",
            "*************\n",
            "**iNeuron-FSDS**\n"
          ]
        }
      ]
    },
    {
      "cell_type": "code",
      "source": [
        "name = \"shivaram\"\n",
        "phno = 543535345\n",
        "addr = \"sdfsff\"\n",
        "\n",
        "name , phno , addr = \"sudh \" , 54353453,\"fgfd\""
      ],
      "metadata": {
        "id": "LETAUVltugmh"
      },
      "execution_count": null,
      "outputs": []
    },
    {
      "cell_type": "code",
      "source": [
        "l = [\"shivaram\" , 34535,\"sfsfsafa\", True, 45+8j , [3,5,6,\"dfg\"],6.787]\n",
        "\n",
        "len(l)"
      ],
      "metadata": {
        "colab": {
          "base_uri": "https://localhost:8080/"
        },
        "id": "xQjTDG_RychS",
        "outputId": "ad7e0abd-b33a-4d55-c09c-06f0d6792625"
      },
      "execution_count": 46,
      "outputs": [
        {
          "output_type": "execute_result",
          "data": {
            "text/plain": [
              "7"
            ]
          },
          "metadata": {},
          "execution_count": 46
        },
        {
          "output_type": "execute_result",
          "data": {
            "text/plain": [
              "7"
            ]
          },
          "metadata": {},
          "execution_count": 47
        }
      ]
    },
    {
      "cell_type": "code",
      "source": [
        "range(10)"
      ],
      "metadata": {
        "id": "nnDQs9gyycmi"
      },
      "execution_count": null,
      "outputs": []
    },
    {
      "cell_type": "code",
      "source": [
        "list(range(10))"
      ],
      "metadata": {
        "id": "LegUfgLfycrd"
      },
      "execution_count": null,
      "outputs": []
    },
    {
      "cell_type": "code",
      "source": [
        "for i in l :\n",
        "    if type(i) == list:\n",
        "        n = 0\n",
        "        for  j in i :\n",
        "            if type(j) == int :\n",
        "                n = n + j\n",
        "        print(n)\n",
        "\n",
        "        print(type(j))"
      ],
      "metadata": {
        "id": "gojIAf9Ayr1_"
      },
      "execution_count": null,
      "outputs": []
    }
  ]
}