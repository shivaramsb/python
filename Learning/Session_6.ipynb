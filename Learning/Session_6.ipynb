{
  "nbformat": 4,
  "nbformat_minor": 0,
  "metadata": {
    "colab": {
      "provenance": []
    },
    "kernelspec": {
      "name": "python3",
      "display_name": "Python 3"
    },
    "language_info": {
      "name": "python"
    }
  },
  "cells": [
    {
      "cell_type": "code",
      "execution_count": 3,
      "metadata": {
        "id": "p5y3iPqktNwj"
      },
      "outputs": [],
      "source": [
        "l  = [\"shivaram\" , 234,45.56, [45,56,6,\"c\"] , True]"
      ]
    },
    {
      "cell_type": "code",
      "source": [
        "for i in l :\n",
        "  print(i)"
      ],
      "metadata": {
        "colab": {
          "base_uri": "https://localhost:8080/"
        },
        "id": "K9GX8T-6taSF",
        "outputId": "f0c61254-e5b8-4c43-dc62-ad753edc832e"
      },
      "execution_count": 4,
      "outputs": [
        {
          "output_type": "stream",
          "name": "stdout",
          "text": [
            "shivaram\n",
            "234\n",
            "45.56\n",
            "[45, 56, 6, 'c']\n",
            "True\n"
          ]
        }
      ]
    },
    {
      "cell_type": "code",
      "source": [
        "l[0]"
      ],
      "metadata": {
        "colab": {
          "base_uri": "https://localhost:8080/",
          "height": 36
        },
        "id": "WeG7sUJFtnK4",
        "outputId": "cc7c2588-40b2-43e6-ab0b-6e9fff1c1045"
      },
      "execution_count": 5,
      "outputs": [
        {
          "output_type": "execute_result",
          "data": {
            "text/plain": [
              "'shivaram'"
            ],
            "application/vnd.google.colaboratory.intrinsic+json": {
              "type": "string"
            }
          },
          "metadata": {},
          "execution_count": 5
        }
      ]
    },
    {
      "cell_type": "code",
      "source": [
        "l[::-1]"
      ],
      "metadata": {
        "colab": {
          "base_uri": "https://localhost:8080/"
        },
        "id": "eCMzFHHJuNli",
        "outputId": "cfd92620-a451-4ca6-bcae-416ade1a0c66"
      },
      "execution_count": 6,
      "outputs": [
        {
          "output_type": "execute_result",
          "data": {
            "text/plain": [
              "[True, [45, 56, 6, 'c'], 45.56, 234, 'shivaram']"
            ]
          },
          "metadata": {},
          "execution_count": 6
        }
      ]
    },
    {
      "cell_type": "code",
      "source": [
        "for i in l :\n",
        "    if type(i)== list :\n",
        "        print(\"this is a list \" ,i)\n",
        "    else :\n",
        "        print(\"no element is not a list \", i)"
      ],
      "metadata": {
        "colab": {
          "base_uri": "https://localhost:8080/"
        },
        "id": "PURAnzCmuQZz",
        "outputId": "bf49596a-0a80-46a1-fbe1-12d2a1744d11"
      },
      "execution_count": 7,
      "outputs": [
        {
          "output_type": "stream",
          "name": "stdout",
          "text": [
            "no element is not a list  shivaram\n",
            "no element is not a list  234\n",
            "no element is not a list  45.56\n",
            "this is a list  [45, 56, 6, 'c']\n",
            "no element is not a list  True\n"
          ]
        }
      ]
    },
    {
      "cell_type": "code",
      "source": [
        "l"
      ],
      "metadata": {
        "colab": {
          "base_uri": "https://localhost:8080/"
        },
        "id": "yuSnUSlSuS_m",
        "outputId": "74b2ceea-a16f-4e3a-fd09-901bda505a1a"
      },
      "execution_count": 8,
      "outputs": [
        {
          "output_type": "execute_result",
          "data": {
            "text/plain": [
              "['shivaram', 234, 45.56, [45, 56, 6, 'c'], True]"
            ]
          },
          "metadata": {},
          "execution_count": 8
        }
      ]
    },
    {
      "cell_type": "code",
      "source": [
        "l1= [345,2345, \"ineuron\" , \"tech \"]"
      ],
      "metadata": {
        "id": "sakwa4mruVje"
      },
      "execution_count": 9,
      "outputs": []
    },
    {
      "cell_type": "code",
      "source": [
        "l + l1"
      ],
      "metadata": {
        "colab": {
          "base_uri": "https://localhost:8080/"
        },
        "id": "I344ZRP3uXyt",
        "outputId": "b90363a1-79cc-4379-cc8b-bd31660adc77"
      },
      "execution_count": 10,
      "outputs": [
        {
          "output_type": "execute_result",
          "data": {
            "text/plain": [
              "['shivaram', 234, 45.56, [45, 56, 6, 'c'], True, 345, 2345, 'ineuron', 'tech ']"
            ]
          },
          "metadata": {},
          "execution_count": 10
        }
      ]
    },
    {
      "cell_type": "code",
      "source": [
        "l * 2"
      ],
      "metadata": {
        "colab": {
          "base_uri": "https://localhost:8080/"
        },
        "id": "aP7vUNLKuZ40",
        "outputId": "0a6d1ee4-207f-4ca7-e0b2-8a0f9cd378cc"
      },
      "execution_count": 11,
      "outputs": [
        {
          "output_type": "execute_result",
          "data": {
            "text/plain": [
              "['shivaram',\n",
              " 234,\n",
              " 45.56,\n",
              " [45, 56, 6, 'c'],\n",
              " True,\n",
              " 'shivaram',\n",
              " 234,\n",
              " 45.56,\n",
              " [45, 56, 6, 'c'],\n",
              " True]"
            ]
          },
          "metadata": {},
          "execution_count": 11
        }
      ]
    },
    {
      "cell_type": "code",
      "source": [
        "len(l)"
      ],
      "metadata": {
        "colab": {
          "base_uri": "https://localhost:8080/"
        },
        "id": "9MBesoMzucSr",
        "outputId": "21971314-d870-44ae-ccef-543847ac0f2d"
      },
      "execution_count": 12,
      "outputs": [
        {
          "output_type": "execute_result",
          "data": {
            "text/plain": [
              "5"
            ]
          },
          "metadata": {},
          "execution_count": 12
        }
      ]
    },
    {
      "cell_type": "code",
      "source": [
        "234  in l"
      ],
      "metadata": {
        "colab": {
          "base_uri": "https://localhost:8080/"
        },
        "id": "-j0aSHgUueSY",
        "outputId": "2292031c-9bab-4c4c-8842-81713ccc9599"
      },
      "execution_count": 13,
      "outputs": [
        {
          "output_type": "execute_result",
          "data": {
            "text/plain": [
              "True"
            ]
          },
          "metadata": {},
          "execution_count": 13
        }
      ]
    },
    {
      "cell_type": "code",
      "source": [
        "print(max([2,3,4,5,45.56]))"
      ],
      "metadata": {
        "colab": {
          "base_uri": "https://localhost:8080/"
        },
        "id": "Lz-u9y0PuhRp",
        "outputId": "0f086ca9-37c4-4e92-c64f-eacedc6749ef"
      },
      "execution_count": 14,
      "outputs": [
        {
          "output_type": "stream",
          "name": "stdout",
          "text": [
            "45.56\n"
          ]
        }
      ]
    },
    {
      "cell_type": "code",
      "source": [
        "max([\"sdfs\",\"sdfs\" , 234])"
      ],
      "metadata": {
        "colab": {
          "base_uri": "https://localhost:8080/",
          "height": 141
        },
        "id": "5JBt0C4jujar",
        "outputId": "f10d1872-343a-4eea-8984-a1be955656d3"
      },
      "execution_count": 15,
      "outputs": [
        {
          "output_type": "error",
          "ename": "TypeError",
          "evalue": "'>' not supported between instances of 'int' and 'str'",
          "traceback": [
            "\u001b[0;31m---------------------------------------------------------------------------\u001b[0m",
            "\u001b[0;31mTypeError\u001b[0m                                 Traceback (most recent call last)",
            "\u001b[0;32m<ipython-input-15-738f7be65a3a>\u001b[0m in \u001b[0;36m<cell line: 1>\u001b[0;34m()\u001b[0m\n\u001b[0;32m----> 1\u001b[0;31m \u001b[0mmax\u001b[0m\u001b[0;34m(\u001b[0m\u001b[0;34m[\u001b[0m\u001b[0;34m\"sdfs\"\u001b[0m\u001b[0;34m,\u001b[0m\u001b[0;34m\"sdfs\"\u001b[0m \u001b[0;34m,\u001b[0m \u001b[0;36m234\u001b[0m\u001b[0;34m]\u001b[0m\u001b[0;34m)\u001b[0m\u001b[0;34m\u001b[0m\u001b[0;34m\u001b[0m\u001b[0m\n\u001b[0m",
            "\u001b[0;31mTypeError\u001b[0m: '>' not supported between instances of 'int' and 'str'"
          ]
        }
      ]
    },
    {
      "cell_type": "code",
      "source": [
        "max([\"sudh\" , \"ineruon\" , \"AI\",\"z\"])"
      ],
      "metadata": {
        "colab": {
          "base_uri": "https://localhost:8080/",
          "height": 36
        },
        "id": "qt5Uo5FnuldH",
        "outputId": "8177876f-43bf-4abe-c6ce-ffe8ef74491b"
      },
      "execution_count": 16,
      "outputs": [
        {
          "output_type": "execute_result",
          "data": {
            "text/plain": [
              "'z'"
            ],
            "application/vnd.google.colaboratory.intrinsic+json": {
              "type": "string"
            }
          },
          "metadata": {},
          "execution_count": 16
        }
      ]
    },
    {
      "cell_type": "code",
      "source": [
        "min([\"fsdfa3434\",\"fsd\",\"fsdfaaaaaaaaa\",\"a\" , \"A\"])"
      ],
      "metadata": {
        "colab": {
          "base_uri": "https://localhost:8080/",
          "height": 36
        },
        "id": "ZNios7BUurjt",
        "outputId": "8bfc0121-7bd8-4627-eba5-1181a78df985"
      },
      "execution_count": 17,
      "outputs": [
        {
          "output_type": "execute_result",
          "data": {
            "text/plain": [
              "'A'"
            ],
            "application/vnd.google.colaboratory.intrinsic+json": {
              "type": "string"
            }
          },
          "metadata": {},
          "execution_count": 17
        }
      ]
    },
    {
      "cell_type": "code",
      "source": [
        "min([2,3,4,5,0])"
      ],
      "metadata": {
        "colab": {
          "base_uri": "https://localhost:8080/"
        },
        "id": "mmmtwG0Xuy-0",
        "outputId": "ca93a432-f37e-4988-9946-1c5617e08d08"
      },
      "execution_count": 18,
      "outputs": [
        {
          "output_type": "execute_result",
          "data": {
            "text/plain": [
              "0"
            ]
          },
          "metadata": {},
          "execution_count": 18
        }
      ]
    },
    {
      "cell_type": "code",
      "source": [
        "min(\"34345\",234,234.345,\"344\")"
      ],
      "metadata": {
        "colab": {
          "base_uri": "https://localhost:8080/",
          "height": 141
        },
        "id": "Ub1v_q08u2Wj",
        "outputId": "8b9b51ec-312f-45c1-b5f7-ab9d447b4af3"
      },
      "execution_count": 19,
      "outputs": [
        {
          "output_type": "error",
          "ename": "TypeError",
          "evalue": "'<' not supported between instances of 'int' and 'str'",
          "traceback": [
            "\u001b[0;31m---------------------------------------------------------------------------\u001b[0m",
            "\u001b[0;31mTypeError\u001b[0m                                 Traceback (most recent call last)",
            "\u001b[0;32m<ipython-input-19-3877a0cf8210>\u001b[0m in \u001b[0;36m<cell line: 1>\u001b[0;34m()\u001b[0m\n\u001b[0;32m----> 1\u001b[0;31m \u001b[0mmin\u001b[0m\u001b[0;34m(\u001b[0m\u001b[0;34m\"34345\"\u001b[0m\u001b[0;34m,\u001b[0m\u001b[0;36m234\u001b[0m\u001b[0;34m,\u001b[0m\u001b[0;36m234.345\u001b[0m\u001b[0;34m,\u001b[0m\u001b[0;34m\"344\"\u001b[0m\u001b[0;34m)\u001b[0m\u001b[0;34m\u001b[0m\u001b[0;34m\u001b[0m\u001b[0m\n\u001b[0m",
            "\u001b[0;31mTypeError\u001b[0m: '<' not supported between instances of 'int' and 'str'"
          ]
        }
      ]
    },
    {
      "cell_type": "code",
      "source": [
        "l=[1,2,3,4]"
      ],
      "metadata": {
        "id": "g60NUaCwu4Yc"
      },
      "execution_count": 20,
      "outputs": []
    },
    {
      "cell_type": "code",
      "source": [
        "l.append(6+6j)"
      ],
      "metadata": {
        "id": "_A1Pdna6vtS8"
      },
      "execution_count": 23,
      "outputs": []
    },
    {
      "cell_type": "code",
      "source": [
        "l"
      ],
      "metadata": {
        "colab": {
          "base_uri": "https://localhost:8080/"
        },
        "id": "1iYyO7HEvwge",
        "outputId": "1baff92a-750d-4c88-f572-d85a422dddf5"
      },
      "execution_count": 24,
      "outputs": [
        {
          "output_type": "execute_result",
          "data": {
            "text/plain": [
              "[1, 2, 3, 4, 'shivaram', (6+6j)]"
            ]
          },
          "metadata": {},
          "execution_count": 24
        }
      ]
    },
    {
      "cell_type": "code",
      "source": [
        "l+ \"shivaram\""
      ],
      "metadata": {
        "colab": {
          "base_uri": "https://localhost:8080/",
          "height": 141
        },
        "id": "EMM-tOULv0AU",
        "outputId": "de7e8fc7-7b6a-4212-8a01-4ccef1426c29"
      },
      "execution_count": 25,
      "outputs": [
        {
          "output_type": "error",
          "ename": "TypeError",
          "evalue": "can only concatenate list (not \"str\") to list",
          "traceback": [
            "\u001b[0;31m---------------------------------------------------------------------------\u001b[0m",
            "\u001b[0;31mTypeError\u001b[0m                                 Traceback (most recent call last)",
            "\u001b[0;32m<ipython-input-25-59720ffc9d82>\u001b[0m in \u001b[0;36m<cell line: 1>\u001b[0;34m()\u001b[0m\n\u001b[0;32m----> 1\u001b[0;31m \u001b[0ml\u001b[0m\u001b[0;34m+\u001b[0m \u001b[0;34m\"shivaram\"\u001b[0m\u001b[0;34m\u001b[0m\u001b[0;34m\u001b[0m\u001b[0m\n\u001b[0m",
            "\u001b[0;31mTypeError\u001b[0m: can only concatenate list (not \"str\") to list"
          ]
        }
      ]
    },
    {
      "cell_type": "code",
      "source": [
        "l.append(\"shivaram\")"
      ],
      "metadata": {
        "id": "FEYZ-ZhvwC_M"
      },
      "execution_count": 26,
      "outputs": []
    },
    {
      "cell_type": "code",
      "source": [
        "l"
      ],
      "metadata": {
        "colab": {
          "base_uri": "https://localhost:8080/"
        },
        "id": "2pqSoTSnwI5O",
        "outputId": "6b2faf40-b6be-41fb-f280-9b63c328dfbe"
      },
      "execution_count": 27,
      "outputs": [
        {
          "output_type": "execute_result",
          "data": {
            "text/plain": [
              "[1, 2, 3, 4, 'shivaram', (6+6j), 'shivaram']"
            ]
          },
          "metadata": {},
          "execution_count": 27
        }
      ]
    },
    {
      "cell_type": "code",
      "source": [
        "l=[1,2,3,4,5]"
      ],
      "metadata": {
        "id": "I1l3zSSCwKu4"
      },
      "execution_count": 28,
      "outputs": []
    },
    {
      "cell_type": "code",
      "source": [
        "l.append(\"shivaram\")"
      ],
      "metadata": {
        "id": "shUeK9lTwWzy"
      },
      "execution_count": 29,
      "outputs": []
    },
    {
      "cell_type": "code",
      "source": [
        "l"
      ],
      "metadata": {
        "colab": {
          "base_uri": "https://localhost:8080/"
        },
        "id": "AR-ZjfvWwaZe",
        "outputId": "e8d815ca-1625-467d-b751-37a1987cdaeb"
      },
      "execution_count": 30,
      "outputs": [
        {
          "output_type": "execute_result",
          "data": {
            "text/plain": [
              "[1, 2, 3, 4, 5, 'shivaram']"
            ]
          },
          "metadata": {},
          "execution_count": 30
        }
      ]
    },
    {
      "cell_type": "code",
      "source": [
        "l.insert(3,\"ineuron\")"
      ],
      "metadata": {
        "id": "TplwT_CNwbv4"
      },
      "execution_count": 32,
      "outputs": []
    },
    {
      "cell_type": "code",
      "source": [
        "l"
      ],
      "metadata": {
        "colab": {
          "base_uri": "https://localhost:8080/"
        },
        "id": "_AQ9mp-LwfVu",
        "outputId": "b476ec0f-d495-4420-9f5b-7a84598df4be"
      },
      "execution_count": 39,
      "outputs": [
        {
          "output_type": "execute_result",
          "data": {
            "text/plain": [
              "[1, 2, 3, 'ineuron', 4, 5, 'test', 'shivaram']"
            ]
          },
          "metadata": {},
          "execution_count": 39
        }
      ]
    },
    {
      "cell_type": "code",
      "source": [
        "l.insert(-1 , \"test\")"
      ],
      "metadata": {
        "id": "kweLDeF1wmGM"
      },
      "execution_count": 38,
      "outputs": []
    },
    {
      "cell_type": "code",
      "source": [
        "l"
      ],
      "metadata": {
        "colab": {
          "base_uri": "https://localhost:8080/"
        },
        "id": "260bFIruxL39",
        "outputId": "58478cf6-013b-4926-8e69-068906e041e1"
      },
      "execution_count": 43,
      "outputs": [
        {
          "output_type": "execute_result",
          "data": {
            "text/plain": [
              "[1, 2, 3, 'ineuron', 4, 5, 'test', 'shivaram']"
            ]
          },
          "metadata": {},
          "execution_count": 43
        }
      ]
    },
    {
      "cell_type": "code",
      "source": [
        "l.insert(-1 , \"test2\")\n"
      ],
      "metadata": {
        "id": "a-z5bNCny6tZ"
      },
      "execution_count": 44,
      "outputs": []
    },
    {
      "cell_type": "code",
      "source": [
        "l"
      ],
      "metadata": {
        "colab": {
          "base_uri": "https://localhost:8080/"
        },
        "id": "Rqi7j_MH0uU-",
        "outputId": "5a18532f-4f86-4f31-c958-2e4dbd2ab7c6"
      },
      "execution_count": 45,
      "outputs": [
        {
          "output_type": "execute_result",
          "data": {
            "text/plain": [
              "[1, 2, 3, 'ineuron', 4, 5, 'test', 'test2', 'shivaram']"
            ]
          },
          "metadata": {},
          "execution_count": 45
        }
      ]
    },
    {
      "cell_type": "code",
      "source": [
        "l.count(\"test\")"
      ],
      "metadata": {
        "colab": {
          "base_uri": "https://localhost:8080/"
        },
        "id": "nMsaYuEP0vJd",
        "outputId": "aecda5a3-43d8-4545-8aff-faccdb22ec4b"
      },
      "execution_count": 47,
      "outputs": [
        {
          "output_type": "execute_result",
          "data": {
            "text/plain": [
              "1"
            ]
          },
          "metadata": {},
          "execution_count": 47
        }
      ]
    },
    {
      "cell_type": "code",
      "source": [
        "l"
      ],
      "metadata": {
        "colab": {
          "base_uri": "https://localhost:8080/"
        },
        "id": "5A6WfRcw06I7",
        "outputId": "9c2904b7-7d28-4353-c143-91d80cc28218"
      },
      "execution_count": 48,
      "outputs": [
        {
          "output_type": "execute_result",
          "data": {
            "text/plain": [
              "[1, 2, 3, 'ineuron', 4, 5, 'test', 'test2', 'shivaram']"
            ]
          },
          "metadata": {},
          "execution_count": 48
        }
      ]
    },
    {
      "cell_type": "code",
      "source": [
        "l=[1,2,3,4]"
      ],
      "metadata": {
        "id": "lmM5uRzR1BcC"
      },
      "execution_count": 49,
      "outputs": []
    },
    {
      "cell_type": "code",
      "source": [
        "l.append(\"shivaram\")"
      ],
      "metadata": {
        "id": "Rmaf9WIP1S-X"
      },
      "execution_count": 50,
      "outputs": []
    },
    {
      "cell_type": "code",
      "source": [
        "l"
      ],
      "metadata": {
        "colab": {
          "base_uri": "https://localhost:8080/"
        },
        "id": "46Fyg8J11X6C",
        "outputId": "3f387736-eca9-4f8e-fe4b-02f40622f8f3"
      },
      "execution_count": 51,
      "outputs": [
        {
          "output_type": "execute_result",
          "data": {
            "text/plain": [
              "[1, 2, 3, 4, 'shivaram']"
            ]
          },
          "metadata": {},
          "execution_count": 51
        }
      ]
    },
    {
      "cell_type": "code",
      "source": [
        "l.append([1,2,4,56])"
      ],
      "metadata": {
        "id": "QKItH1qK1b4U"
      },
      "execution_count": 53,
      "outputs": []
    },
    {
      "cell_type": "code",
      "source": [
        "l.extend(\"test1\")"
      ],
      "metadata": {
        "id": "hgXztl3i1k7u"
      },
      "execution_count": 54,
      "outputs": []
    },
    {
      "cell_type": "code",
      "source": [
        "l"
      ],
      "metadata": {
        "colab": {
          "base_uri": "https://localhost:8080/"
        },
        "id": "b5iOkUyu1rQj",
        "outputId": "b7b7170f-1e3c-41b3-b090-89a6bc8d4e15"
      },
      "execution_count": 68,
      "outputs": [
        {
          "output_type": "execute_result",
          "data": {
            "text/plain": [
              "[3, 4, 7, 8, 9, 3, 4, 7, 89, ['sdfusdf', 4, 5]]"
            ]
          },
          "metadata": {},
          "execution_count": 68
        }
      ]
    },
    {
      "cell_type": "code",
      "source": [
        "s=\"test\"\n",
        "list(s)"
      ],
      "metadata": {
        "colab": {
          "base_uri": "https://localhost:8080/"
        },
        "id": "PhsPnhlh1sg6",
        "outputId": "7e66097c-5b14-4408-cc9f-d4fc449656e9"
      },
      "execution_count": 56,
      "outputs": [
        {
          "output_type": "execute_result",
          "data": {
            "text/plain": [
              "['t', 'e', 's', 't']"
            ]
          },
          "metadata": {},
          "execution_count": 56
        }
      ]
    },
    {
      "cell_type": "code",
      "source": [
        "l.extend(56)"
      ],
      "metadata": {
        "colab": {
          "base_uri": "https://localhost:8080/",
          "height": 141
        },
        "id": "GWKcW3K112aM",
        "outputId": "0745d932-cefb-458e-f607-911d2b08a91a"
      },
      "execution_count": 58,
      "outputs": [
        {
          "output_type": "error",
          "ename": "TypeError",
          "evalue": "'int' object is not iterable",
          "traceback": [
            "\u001b[0;31m---------------------------------------------------------------------------\u001b[0m",
            "\u001b[0;31mTypeError\u001b[0m                                 Traceback (most recent call last)",
            "\u001b[0;32m<ipython-input-58-665d41f20ac5>\u001b[0m in \u001b[0;36m<cell line: 1>\u001b[0;34m()\u001b[0m\n\u001b[0;32m----> 1\u001b[0;31m \u001b[0ml\u001b[0m\u001b[0;34m.\u001b[0m\u001b[0mextend\u001b[0m\u001b[0;34m(\u001b[0m\u001b[0;36m56\u001b[0m\u001b[0;34m)\u001b[0m\u001b[0;34m\u001b[0m\u001b[0;34m\u001b[0m\u001b[0m\n\u001b[0m",
            "\u001b[0;31mTypeError\u001b[0m: 'int' object is not iterable"
          ]
        }
      ]
    },
    {
      "cell_type": "code",
      "source": [
        "l=[3,4,7,8,9]"
      ],
      "metadata": {
        "id": "rdPbyYpX2Jo6"
      },
      "execution_count": 59,
      "outputs": []
    },
    {
      "cell_type": "code",
      "source": [
        "l"
      ],
      "metadata": {
        "colab": {
          "base_uri": "https://localhost:8080/"
        },
        "id": "gqbj7JTL2beQ",
        "outputId": "cd2a692f-6dc1-41b6-c43b-0a7c0019910c"
      },
      "execution_count": 60,
      "outputs": [
        {
          "output_type": "execute_result",
          "data": {
            "text/plain": [
              "[3, 4, 7, 8, 9]"
            ]
          },
          "metadata": {},
          "execution_count": 60
        }
      ]
    },
    {
      "cell_type": "code",
      "source": [
        "l.extend([3,4,7,89,[\"sdfusdf\",4,5]])"
      ],
      "metadata": {
        "id": "hxXKZ7ZE2kSD"
      },
      "execution_count": 63,
      "outputs": []
    },
    {
      "cell_type": "code",
      "source": [
        "l"
      ],
      "metadata": {
        "colab": {
          "base_uri": "https://localhost:8080/"
        },
        "id": "zzcD6ACU3Bes",
        "outputId": "f543e717-7e1f-4670-8933-19e84ec37326"
      },
      "execution_count": 64,
      "outputs": [
        {
          "output_type": "execute_result",
          "data": {
            "text/plain": [
              "[3, 4, 7, 8, 9, 3, 4, 7, 89, ['sdfusdf', 4, 5]]"
            ]
          },
          "metadata": {},
          "execution_count": 64
        }
      ]
    },
    {
      "cell_type": "code",
      "source": [
        "l.index(3)"
      ],
      "metadata": {
        "colab": {
          "base_uri": "https://localhost:8080/"
        },
        "id": "JDhZZ8kw3F5q",
        "outputId": "d0bbef8c-17b5-4821-aa33-f7850e3ab762"
      },
      "execution_count": 69,
      "outputs": [
        {
          "output_type": "execute_result",
          "data": {
            "text/plain": [
              "0"
            ]
          },
          "metadata": {},
          "execution_count": 69
        }
      ]
    },
    {
      "cell_type": "code",
      "source": [
        "l"
      ],
      "metadata": {
        "colab": {
          "base_uri": "https://localhost:8080/"
        },
        "id": "-LqGXuTI3Opr",
        "outputId": "4dab1aab-f34a-4ee7-d88d-af89ff10ca39"
      },
      "execution_count": 70,
      "outputs": [
        {
          "output_type": "execute_result",
          "data": {
            "text/plain": [
              "[3, 4, 7, 8, 9, 3, 4, 7, 89, ['sdfusdf', 4, 5]]"
            ]
          },
          "metadata": {},
          "execution_count": 70
        }
      ]
    },
    {
      "cell_type": "code",
      "source": [
        "l=[2,3,4,5,6,7]"
      ],
      "metadata": {
        "id": "I7asWxYP3Y8u"
      },
      "execution_count": 71,
      "outputs": []
    },
    {
      "cell_type": "code",
      "source": [
        "l.pop()"
      ],
      "metadata": {
        "colab": {
          "base_uri": "https://localhost:8080/"
        },
        "id": "N1QDeMxk3pGs",
        "outputId": "53ec3a69-9098-414b-c31e-de2ab55a41de"
      },
      "execution_count": 72,
      "outputs": [
        {
          "output_type": "execute_result",
          "data": {
            "text/plain": [
              "7"
            ]
          },
          "metadata": {},
          "execution_count": 72
        }
      ]
    },
    {
      "cell_type": "code",
      "source": [
        "l"
      ],
      "metadata": {
        "colab": {
          "base_uri": "https://localhost:8080/"
        },
        "id": "mdDERvSB3xTV",
        "outputId": "5e099c6a-cb05-4bb5-f922-7e15583c4619"
      },
      "execution_count": 73,
      "outputs": [
        {
          "output_type": "execute_result",
          "data": {
            "text/plain": [
              "[2, 3, 4, 5, 6]"
            ]
          },
          "metadata": {},
          "execution_count": 73
        }
      ]
    },
    {
      "cell_type": "code",
      "source": [
        "l.pop(0)"
      ],
      "metadata": {
        "colab": {
          "base_uri": "https://localhost:8080/"
        },
        "id": "PCjrEqYP3yhk",
        "outputId": "1792a059-56f2-40d0-eaf2-4128990f7017"
      },
      "execution_count": 74,
      "outputs": [
        {
          "output_type": "execute_result",
          "data": {
            "text/plain": [
              "2"
            ]
          },
          "metadata": {},
          "execution_count": 74
        }
      ]
    },
    {
      "cell_type": "code",
      "source": [
        "l"
      ],
      "metadata": {
        "colab": {
          "base_uri": "https://localhost:8080/"
        },
        "id": "3e80pAK83_jV",
        "outputId": "4e216fb1-58ee-4dd5-bbd3-f790628500c5"
      },
      "execution_count": 75,
      "outputs": [
        {
          "output_type": "execute_result",
          "data": {
            "text/plain": [
              "[3, 4, 5, 6]"
            ]
          },
          "metadata": {},
          "execution_count": 75
        }
      ]
    },
    {
      "cell_type": "code",
      "source": [
        "l=[4,5,6,7,8,9]"
      ],
      "metadata": {
        "id": "JFKrUk8g4A9b"
      },
      "execution_count": 76,
      "outputs": []
    },
    {
      "cell_type": "code",
      "source": [
        "l.remove(6)"
      ],
      "metadata": {
        "id": "B84dve4-4Lyx"
      },
      "execution_count": 77,
      "outputs": []
    },
    {
      "cell_type": "code",
      "source": [
        "l"
      ],
      "metadata": {
        "colab": {
          "base_uri": "https://localhost:8080/"
        },
        "id": "rEv3188f4Opn",
        "outputId": "c2325103-e47b-44f2-e205-24b6dc03a2f0"
      },
      "execution_count": 78,
      "outputs": [
        {
          "output_type": "execute_result",
          "data": {
            "text/plain": [
              "[4, 5, 7, 8, 9]"
            ]
          },
          "metadata": {},
          "execution_count": 78
        }
      ]
    },
    {
      "cell_type": "code",
      "source": [
        "l\n"
      ],
      "metadata": {
        "colab": {
          "base_uri": "https://localhost:8080/"
        },
        "id": "KMYwo9784Pjl",
        "outputId": "cc861801-6dc1-4676-c3b7-1f27745d1c47"
      },
      "execution_count": 79,
      "outputs": [
        {
          "output_type": "execute_result",
          "data": {
            "text/plain": [
              "[4, 5, 7, 8, 9]"
            ]
          },
          "metadata": {},
          "execution_count": 79
        }
      ]
    },
    {
      "cell_type": "code",
      "source": [
        "l.reverse()"
      ],
      "metadata": {
        "id": "SosNuEPp4Xhz"
      },
      "execution_count": 80,
      "outputs": []
    },
    {
      "cell_type": "code",
      "source": [
        "l"
      ],
      "metadata": {
        "colab": {
          "base_uri": "https://localhost:8080/"
        },
        "id": "vs2WQKpH4d1Q",
        "outputId": "b1317adf-1448-4201-90c2-9afcedd47d42"
      },
      "execution_count": 81,
      "outputs": [
        {
          "output_type": "execute_result",
          "data": {
            "text/plain": [
              "[9, 8, 7, 5, 4]"
            ]
          },
          "metadata": {},
          "execution_count": 81
        }
      ]
    },
    {
      "cell_type": "code",
      "source": [
        "l.sort()"
      ],
      "metadata": {
        "id": "bs96-nkR4eht"
      },
      "execution_count": 82,
      "outputs": []
    },
    {
      "cell_type": "code",
      "source": [
        "l"
      ],
      "metadata": {
        "colab": {
          "base_uri": "https://localhost:8080/"
        },
        "id": "LMLUWowy4mCw",
        "outputId": "ec6bdc79-aafc-4cc0-deea-3a5ce45c13e3"
      },
      "execution_count": 83,
      "outputs": [
        {
          "output_type": "execute_result",
          "data": {
            "text/plain": [
              "[4, 5, 7, 8, 9]"
            ]
          },
          "metadata": {},
          "execution_count": 83
        }
      ]
    },
    {
      "cell_type": "code",
      "source": [
        "l = [3,4,5,6,78,\"sudh\" , \"ineuron\" , 45.67]"
      ],
      "metadata": {
        "id": "y0h8GTbS4m-O"
      },
      "execution_count": 84,
      "outputs": []
    },
    {
      "cell_type": "code",
      "source": [
        "l.sort()"
      ],
      "metadata": {
        "colab": {
          "base_uri": "https://localhost:8080/",
          "height": 141
        },
        "id": "MvsKI1TP4u5m",
        "outputId": "274b784a-c3e6-410e-b44e-38322e4fc3cf"
      },
      "execution_count": 85,
      "outputs": [
        {
          "output_type": "error",
          "ename": "TypeError",
          "evalue": "'<' not supported between instances of 'str' and 'int'",
          "traceback": [
            "\u001b[0;31m---------------------------------------------------------------------------\u001b[0m",
            "\u001b[0;31mTypeError\u001b[0m                                 Traceback (most recent call last)",
            "\u001b[0;32m<ipython-input-85-fb07ac7c73ab>\u001b[0m in \u001b[0;36m<cell line: 1>\u001b[0;34m()\u001b[0m\n\u001b[0;32m----> 1\u001b[0;31m \u001b[0ml\u001b[0m\u001b[0;34m.\u001b[0m\u001b[0msort\u001b[0m\u001b[0;34m(\u001b[0m\u001b[0;34m)\u001b[0m\u001b[0;34m\u001b[0m\u001b[0;34m\u001b[0m\u001b[0m\n\u001b[0m",
            "\u001b[0;31mTypeError\u001b[0m: '<' not supported between instances of 'str' and 'int'"
          ]
        }
      ]
    },
    {
      "cell_type": "code",
      "source": [
        "l = [3,4,5,6,78 , 45.67]"
      ],
      "metadata": {
        "id": "2uGjJoCC4wkA"
      },
      "execution_count": 86,
      "outputs": []
    },
    {
      "cell_type": "code",
      "source": [
        "l.sort()"
      ],
      "metadata": {
        "id": "z7oKJW3i40wj"
      },
      "execution_count": 87,
      "outputs": []
    },
    {
      "cell_type": "code",
      "source": [
        "l"
      ],
      "metadata": {
        "colab": {
          "base_uri": "https://localhost:8080/"
        },
        "id": "W31QJZ4845A4",
        "outputId": "c9516a96-9fff-43e3-a24e-04e71c545c7d"
      },
      "execution_count": 88,
      "outputs": [
        {
          "output_type": "execute_result",
          "data": {
            "text/plain": [
              "[3, 4, 5, 6, 45.67, 78]"
            ]
          },
          "metadata": {},
          "execution_count": 88
        }
      ]
    },
    {
      "cell_type": "code",
      "source": [
        "l = [[1,2,3,4],[5,6,7,\"hello\",8],[8,7,66],2,6]\n",
        "l.append([2,3,4])\n",
        "l.append(8+6j)\n",
        "l.append([5,6,7])\n",
        "for i in l:\n",
        "\n",
        "  if type(i) == list:\n",
        "    for j,v in enumerate(i):\n",
        "\n",
        "      if type(v) == str:\n",
        "        print(\"index of string: \",j)\n",
        "        i[j]=\"hi\"\n",
        "    print(i[1])\n",
        "print(l)\n"
      ],
      "metadata": {
        "colab": {
          "base_uri": "https://localhost:8080/"
        },
        "id": "EubYXN6D5KZD",
        "outputId": "c696f6b8-e247-47de-ee00-df31a771529e"
      },
      "execution_count": 89,
      "outputs": [
        {
          "output_type": "stream",
          "name": "stdout",
          "text": [
            "2\n",
            "index of string:  3\n",
            "6\n",
            "7\n",
            "3\n",
            "6\n",
            "[[1, 2, 3, 4], [5, 6, 7, 'hi', 8], [8, 7, 66], 2, 6, [2, 3, 4], (8+6j), [5, 6, 7]]\n"
          ]
        }
      ]
    },
    {
      "cell_type": "code",
      "source": [
        "l = [[23,45],[6,7,'78S'],'ABC','REV']\n",
        "\n",
        "#Q1\n",
        "\n",
        "l.insert(2,['sdf','sdf'])\n",
        "print(l)\n",
        "l.insert(3,[11,12])\n",
        "print(l)\n",
        "l.insert(1,(2+3j))\n",
        "print('After complex number- ',l)\n",
        "\n",
        "#Q2\n",
        "for i in l:\n",
        "    if type(i) == list:\n",
        "        for j in i:\n",
        "            if type(j) == str:\n",
        "                print('Found String in Neasted List at index={} : {}'.format(i,j))\n",
        "                print('Removed',j)\n",
        "                i.remove(j)\n",
        "\n",
        "print('List after remove ',l)\n",
        "\n",
        "#Q3\n",
        "k=1\n",
        "for i in l:\n",
        "    if type(i) == list and len(i) >=2:\n",
        "        print('Neasted List ',k)\n",
        "        print('2nd element of it is=',i[1])\n",
        "        k+=1\n"
      ],
      "metadata": {
        "colab": {
          "base_uri": "https://localhost:8080/"
        },
        "id": "gAd7xvsT5_aS",
        "outputId": "8e92b587-436a-4c8c-bcbc-dca960d8fded"
      },
      "execution_count": 90,
      "outputs": [
        {
          "output_type": "stream",
          "name": "stdout",
          "text": [
            "[[23, 45], [6, 7, '78S'], ['sdf', 'sdf'], 'ABC', 'REV']\n",
            "[[23, 45], [6, 7, '78S'], ['sdf', 'sdf'], [11, 12], 'ABC', 'REV']\n",
            "After complex number-  [[23, 45], (2+3j), [6, 7, '78S'], ['sdf', 'sdf'], [11, 12], 'ABC', 'REV']\n",
            "Found String in Neasted List at index=[6, 7, '78S'] : 78S\n",
            "Removed 78S\n",
            "Found String in Neasted List at index=['sdf', 'sdf'] : sdf\n",
            "Removed sdf\n",
            "List after remove  [[23, 45], (2+3j), [6, 7], ['sdf'], [11, 12], 'ABC', 'REV']\n",
            "Neasted List  1\n",
            "2nd element of it is= 45\n",
            "Neasted List  2\n",
            "2nd element of it is= 7\n",
            "Neasted List  3\n",
            "2nd element of it is= 12\n"
          ]
        }
      ]
    },
    {
      "cell_type": "code",
      "source": [
        "l = [[1,'a'],[3,4],[5,'b'],1,3,4,5,6]\n",
        "# Append 2 more list and 1 complex number in between\n",
        "l.insert(3,6j)\n",
        "l.insert(4,[7,8])\n",
        "l.insert(5,[9,0])\n",
        "print (l)\n",
        "for i in l:\n",
        "    if type(i) == list:\n",
        "        for t in i:\n",
        "            if type(t) == str:\n",
        "                print(t)\n"
      ],
      "metadata": {
        "colab": {
          "base_uri": "https://localhost:8080/"
        },
        "id": "jOW6v3TT_4Ce",
        "outputId": "ee1db7a6-6222-41ba-b033-df8e12dc5f42"
      },
      "execution_count": 91,
      "outputs": [
        {
          "output_type": "stream",
          "name": "stdout",
          "text": [
            "[[1, 'a'], [3, 4], [5, 'b'], 6j, [7, 8], [9, 0], 1, 3, 4, 5, 6]\n",
            "a\n",
            "b\n"
          ]
        }
      ]
    },
    {
      "cell_type": "code",
      "source": [
        "l1 = [[22,\"mahendra\",55,22.4],[\"dhoni\",77,11,55,78.9],[77,88,99],2,5,8]\n",
        "\n",
        "l1.insert(2,[2,5,6])\n",
        "l1.insert(4,[99,\"pravin\",88,True])\n",
        "l1.insert(-1,6+4j)\n",
        "l1"
      ],
      "metadata": {
        "colab": {
          "base_uri": "https://localhost:8080/"
        },
        "id": "59rqXtNI_7Q0",
        "outputId": "2cd97212-7260-48cd-c4a3-812d62029003"
      },
      "execution_count": 92,
      "outputs": [
        {
          "output_type": "execute_result",
          "data": {
            "text/plain": [
              "[[22, 'mahendra', 55, 22.4],\n",
              " ['dhoni', 77, 11, 55, 78.9],\n",
              " [2, 5, 6],\n",
              " [77, 88, 99],\n",
              " [99, 'pravin', 88, True],\n",
              " 2,\n",
              " 5,\n",
              " (6+4j),\n",
              " 8]"
            ]
          },
          "metadata": {},
          "execution_count": 92
        }
      ]
    },
    {
      "cell_type": "code",
      "source": [
        "for i in l1:\n",
        "    if type(i) == list :\n",
        "        for j in i:\n",
        "            if type(j) == str :\n",
        "                print(i.index(j))\n",
        "                i.remove(j)"
      ],
      "metadata": {
        "colab": {
          "base_uri": "https://localhost:8080/"
        },
        "id": "H490Xj7k_-Ww",
        "outputId": "de4a8627-9c66-43f9-8e89-320a52a394fe"
      },
      "execution_count": 93,
      "outputs": [
        {
          "output_type": "stream",
          "name": "stdout",
          "text": [
            "1\n",
            "0\n",
            "1\n"
          ]
        }
      ]
    },
    {
      "cell_type": "code",
      "source": [
        "l=[[\"gh\",56],[89,\"yhg\"],[\"90\",98],78,90.0]"
      ],
      "metadata": {
        "id": "005phA70ABvf"
      },
      "execution_count": 94,
      "outputs": []
    },
    {
      "cell_type": "code",
      "source": [
        "for e in l:\n",
        "    if type(e)==list:\n",
        "        l.insert(l.index(e)+1,[78,90])\n",
        "        l.insert(l.index(e)+2,[89,\"90\",\"90\",\"90\"])\n",
        "        l.insert(l.index(e)+3,6+7j)\n",
        "        break\n",
        "print(l)"
      ],
      "metadata": {
        "colab": {
          "base_uri": "https://localhost:8080/"
        },
        "id": "eEB5I2o7AEKa",
        "outputId": "39f88ef0-5f33-42b9-f16c-a201606c6243"
      },
      "execution_count": 95,
      "outputs": [
        {
          "output_type": "stream",
          "name": "stdout",
          "text": [
            "[['gh', 56], [78, 90], [89, '90', '90', '90'], (6+7j), [89, 'yhg'], ['90', 98], 78, 90.0]\n"
          ]
        }
      ]
    },
    {
      "cell_type": "code",
      "source": [
        "for i in l:\n",
        "    if type(i)==list:\n",
        "        for e in i:\n",
        "            if type(e)==str:\n",
        "                print(f\"index of string in nested list of index number {l.index(i)} is {i.index(e)}\")\n",
        "                i.remove(e)\n",
        "print(\"new list\",l)"
      ],
      "metadata": {
        "colab": {
          "base_uri": "https://localhost:8080/"
        },
        "id": "1FLBR6MfAGpj",
        "outputId": "bd47fed0-0665-4e77-ebd5-3ec030e84857"
      },
      "execution_count": 96,
      "outputs": [
        {
          "output_type": "stream",
          "name": "stdout",
          "text": [
            "index of string in nested list of index number 0 is 0\n",
            "index of string in nested list of index number 2 is 1\n",
            "index of string in nested list of index number 2 is 1\n",
            "index of string in nested list of index number 4 is 1\n",
            "index of string in nested list of index number 5 is 0\n",
            "new list [[56], [78, 90], [89, '90'], (6+7j), [89], [98], 78, 90.0]\n"
          ]
        }
      ]
    },
    {
      "cell_type": "code",
      "source": [
        "l=[[\"gh\",56],[89,\"yhg\"],[\"90\",98],78,90.0]\n",
        "for e in l:\n",
        "    if type(e)==list:\n",
        "        l.insert(l.index(e)+1,[78,90])\n",
        "        l.insert(l.index(e)+2,[89,\"90\"])\n",
        "        l.insert(l.index(e)+3,6+7j)\n",
        "        break\n",
        "print(l)\n",
        "for i in l:\n",
        "    if type(i)==list:\n",
        "        for e in i:\n",
        "            if type(e)==str:\n",
        "                print(f\"index of string in nested list of index number {l.index(i)} is {i.index(e)}\")\n",
        "                i.remove(e)\n",
        "print(\"new list\",l)\n",
        "for i in l:\n",
        "    if type(i)==list:\n",
        "        for e in i:\n",
        "            if len(i)>1:\n",
        "                i.pop(1)\n",
        "print(\"final list\",l)\n"
      ],
      "metadata": {
        "colab": {
          "base_uri": "https://localhost:8080/"
        },
        "id": "vjOO6ohRAJoe",
        "outputId": "1abe7478-2a4b-4fc0-dbf8-743c57336fdc"
      },
      "execution_count": 97,
      "outputs": [
        {
          "output_type": "stream",
          "name": "stdout",
          "text": [
            "[['gh', 56], [78, 90], [89, '90'], (6+7j), [89, 'yhg'], ['90', 98], 78, 90.0]\n",
            "index of string in nested list of index number 0 is 0\n",
            "index of string in nested list of index number 2 is 1\n",
            "index of string in nested list of index number 4 is 1\n",
            "index of string in nested list of index number 5 is 0\n",
            "new list [[56], [78, 90], [89], (6+7j), [89], [98], 78, 90.0]\n",
            "final list [[56], [78], [89], (6+7j), [89], [98], 78, 90.0]\n"
          ]
        }
      ]
    },
    {
      "cell_type": "code",
      "source": [
        "l1 = [[22,\"mahendra\",55,22.4],[\"dhoni\",77,11,55,78.9],[77,88,99],2,5,8]\n",
        "\n",
        "l1.insert(2,[2,5,6])\n",
        "l1.insert(4,[99,\"pravin\",88,True])\n",
        "l1.insert(-1,6+4j)\n",
        "\n",
        "print(l1)\n",
        "\n",
        "for i in l1:\n",
        "    if type(i) == list :\n",
        "        for j in i:\n",
        "            if type(j) == str :\n",
        "                print(i.index(j))\n",
        "                i.remove(j)\n",
        "\n",
        "\n",
        "print(l1)\n",
        "\n",
        "for i in l1 :\n",
        "    if type(i) == list :\n",
        "        print(i[2], end = \",\")\n"
      ],
      "metadata": {
        "colab": {
          "base_uri": "https://localhost:8080/"
        },
        "id": "7GUUeJfOANP-",
        "outputId": "a0726bac-6cee-4a4e-b7fd-b24b2437e0eb"
      },
      "execution_count": 98,
      "outputs": [
        {
          "output_type": "stream",
          "name": "stdout",
          "text": [
            "[[22, 'mahendra', 55, 22.4], ['dhoni', 77, 11, 55, 78.9], [2, 5, 6], [77, 88, 99], [99, 'pravin', 88, True], 2, 5, (6+4j), 8]\n",
            "1\n",
            "0\n",
            "1\n",
            "[[22, 55, 22.4], [77, 11, 55, 78.9], [2, 5, 6], [77, 88, 99], [99, 88, True], 2, 5, (6+4j), 8]\n",
            "22.4,55,6,99,True,"
          ]
        }
      ]
    },
    {
      "cell_type": "code",
      "source": [
        "l = [[1,2,3],[4,5,6],[7,8,9],12,\"Santosh\"]\n",
        "l.insert(2,[3,2,1,\"test\",\"test\",\"test\"])\n",
        "l.insert(2,[6,5,4])\n",
        "l.insert(0, 5 + 6j)\n",
        "print(\"Q1\")\n",
        "print(l)"
      ],
      "metadata": {
        "colab": {
          "base_uri": "https://localhost:8080/"
        },
        "id": "XWRI-5lSATEB",
        "outputId": "4357882d-806c-444f-d6b4-32411c9368fb"
      },
      "execution_count": 99,
      "outputs": [
        {
          "output_type": "stream",
          "name": "stdout",
          "text": [
            "Q1\n",
            "[(5+6j), [1, 2, 3], [4, 5, 6], [6, 5, 4], [3, 2, 1, 'test', 'test', 'test'], [7, 8, 9], 12, 'Santosh']\n"
          ]
        }
      ]
    },
    {
      "cell_type": "code",
      "source": [
        "l=[[4,5,\"Sameer\",\"Sameer\",\"Sameer\"],[346,7,3426,76],[34657,\"Jadhav\",74557,45,6],23095,'ineuron']\n",
        "l.append([67,67])\n",
        "l.append([55,55])\n",
        "l.insert(3,3+6j)\n",
        "l"
      ],
      "metadata": {
        "colab": {
          "base_uri": "https://localhost:8080/"
        },
        "id": "wLVOu2HgAWCK",
        "outputId": "f88d0321-6fa9-43da-b641-f3fa27c896e5"
      },
      "execution_count": 100,
      "outputs": [
        {
          "output_type": "execute_result",
          "data": {
            "text/plain": [
              "[[4, 5, 'Sameer', 'Sameer', 'Sameer'],\n",
              " [346, 7, 3426, 76],\n",
              " [34657, 'Jadhav', 74557, 45, 6],\n",
              " (3+6j),\n",
              " 23095,\n",
              " 'ineuron',\n",
              " [67, 67],\n",
              " [55, 55]]"
            ]
          },
          "metadata": {},
          "execution_count": 100
        }
      ]
    },
    {
      "cell_type": "code",
      "source": [
        "l=[[4,5,\"Sameer\",\"Sameer\",\"Sameer\"],[346,7,3426,76],[34657,\"Jadhav\",74557,45,6],23095,'ineuron']\n",
        "l.append([67,67])\n",
        "l.append([55,55])\n",
        "l.insert(3,3+6j)\n",
        "l\n",
        "\n",
        "for i in l:\n",
        "    if type(i)==list:\n",
        "        for j in i:\n",
        "            if type(j)== str:\n",
        "                print (\" got {} string at {} location\".format(j,i))\n",
        "                i.remove(j)\n",
        "                print(i)\n"
      ],
      "metadata": {
        "colab": {
          "base_uri": "https://localhost:8080/"
        },
        "id": "LWA4v6GfAZO8",
        "outputId": "66287611-1e69-4e61-edbd-2b15279d0fe2"
      },
      "execution_count": 101,
      "outputs": [
        {
          "output_type": "stream",
          "name": "stdout",
          "text": [
            " got Sameer string at [4, 5, 'Sameer', 'Sameer', 'Sameer'] location\n",
            "[4, 5, 'Sameer', 'Sameer']\n",
            " got Sameer string at [4, 5, 'Sameer', 'Sameer'] location\n",
            "[4, 5, 'Sameer']\n",
            " got Jadhav string at [34657, 'Jadhav', 74557, 45, 6] location\n",
            "[34657, 74557, 45, 6]\n"
          ]
        }
      ]
    },
    {
      "cell_type": "code",
      "source": [
        "l=[[4,5,\"Sameer\",\"Sameer\",\"Sameer\"],[346,7,3426,76],[34657,\"Jadhav\",74557,45,6],23095,'ineuron']\n",
        "l.append([67,67])\n",
        "l.append([55,55])\n",
        "l.insert(3,3+6j)\n",
        "l\n",
        "\n",
        "for i in l:\n",
        "    if type(i)==list:\n",
        "        for j in i:\n",
        "            if type(j)== str:\n",
        "                print (\" got {} string at {} location\".format(j,i))\n",
        "                i.remove(j)\n",
        "                print(i)\n"
      ],
      "metadata": {
        "colab": {
          "base_uri": "https://localhost:8080/"
        },
        "id": "0WQEZi-WAbvs",
        "outputId": "643cbf26-8f85-40b0-9e85-0ef11d1983b1"
      },
      "execution_count": 102,
      "outputs": [
        {
          "output_type": "stream",
          "name": "stdout",
          "text": [
            " got Sameer string at [4, 5, 'Sameer', 'Sameer', 'Sameer'] location\n",
            "[4, 5, 'Sameer', 'Sameer']\n",
            " got Sameer string at [4, 5, 'Sameer', 'Sameer'] location\n",
            "[4, 5, 'Sameer']\n",
            " got Jadhav string at [34657, 'Jadhav', 74557, 45, 6] location\n",
            "[34657, 74557, 45, 6]\n"
          ]
        }
      ]
    },
    {
      "cell_type": "code",
      "source": [
        "Main List :  [[1, 2, 3], [11, 12, 'b', 'b', 'b'], [21, 't', 223], [4, 5, 6], [7, 8, 9], 'demo', 12.5]\n",
        "Index :  2\n",
        "Index :  2\n",
        "Index :  1\n",
        "Second Element :  2\n",
        "Second Element :  12\n",
        "Second Element :  223\n",
        "Second Element :  5\n",
        "Second Element :  8"
      ],
      "metadata": {
        "colab": {
          "base_uri": "https://localhost:8080/",
          "height": 106
        },
        "id": "L4f8azfaAf4d",
        "outputId": "4a4e18bf-396b-488c-ab1f-81fa693c8e06"
      },
      "execution_count": 103,
      "outputs": [
        {
          "output_type": "error",
          "ename": "SyntaxError",
          "evalue": "invalid syntax (<ipython-input-103-6a95c2f2dda6>, line 1)",
          "traceback": [
            "\u001b[0;36m  File \u001b[0;32m\"<ipython-input-103-6a95c2f2dda6>\"\u001b[0;36m, line \u001b[0;32m1\u001b[0m\n\u001b[0;31m    Main List :  [[1, 2, 3], [11, 12, 'b', 'b', 'b'], [21, 't', 223], [4, 5, 6], [7, 8, 9], 'demo', 12.5]\u001b[0m\n\u001b[0m         ^\u001b[0m\n\u001b[0;31mSyntaxError\u001b[0m\u001b[0;31m:\u001b[0m invalid syntax\n"
          ]
        }
      ]
    },
    {
      "cell_type": "code",
      "source": [
        "\n",
        "l1 = [[1,2,3],[4,5,6],[7,8,9],'demo',12.5]\n",
        "l2 = [11,12,'b','b','b']\n",
        "l3 = [21,'t',223]\n",
        "# 1)\n",
        "l1.insert(1,l2)\n",
        "l1.insert(2,l3)\n",
        "l1"
      ],
      "metadata": {
        "colab": {
          "base_uri": "https://localhost:8080/"
        },
        "id": "xbQ90cskAlDr",
        "outputId": "ac15a3ca-b316-4bb9-a09c-99810447976f"
      },
      "execution_count": 104,
      "outputs": [
        {
          "output_type": "execute_result",
          "data": {
            "text/plain": [
              "[[1, 2, 3],\n",
              " [11, 12, 'b', 'b', 'b'],\n",
              " [21, 't', 223],\n",
              " [4, 5, 6],\n",
              " [7, 8, 9],\n",
              " 'demo',\n",
              " 12.5]"
            ]
          },
          "metadata": {},
          "execution_count": 104
        }
      ]
    },
    {
      "cell_type": "code",
      "source": [
        "l = [[1, 2, 3],\n",
        " [11, 12, 'b', 'b', 'b'],\n",
        " [21, 't', 223],\n",
        " [4, 5, 6],\n",
        " [7, 8, 9],\n",
        " 'demo',\n",
        " 12.5]\n",
        "\n",
        "li=[]\n",
        "for i,j in enumerate(l):\n",
        "    if type(j) == list:\n",
        "        for k,d in enumerate(j):\n",
        "            if type(d) == str:\n",
        "                print('index of string in the list is ',k)\n",
        "                l[i][k] = 'ccc'\n",
        "            if k == 1:\n",
        "                li.append(j[k])\n",
        "print(l)\n",
        "li\n"
      ],
      "metadata": {
        "colab": {
          "base_uri": "https://localhost:8080/"
        },
        "id": "5HntnLUnAojB",
        "outputId": "14bc7c09-8a85-4ae3-a4b0-61d9a7ea858a"
      },
      "execution_count": 105,
      "outputs": [
        {
          "output_type": "stream",
          "name": "stdout",
          "text": [
            "index of string in the list is  2\n",
            "index of string in the list is  3\n",
            "index of string in the list is  4\n",
            "index of string in the list is  1\n",
            "[[1, 2, 3], [11, 12, 'ccc', 'ccc', 'ccc'], [21, 'ccc', 223], [4, 5, 6], [7, 8, 9], 'demo', 12.5]\n"
          ]
        },
        {
          "output_type": "execute_result",
          "data": {
            "text/plain": [
              "[2, 12, 'ccc', 5, 8]"
            ]
          },
          "metadata": {},
          "execution_count": 105
        }
      ]
    },
    {
      "cell_type": "code",
      "source": [
        "l"
      ],
      "metadata": {
        "colab": {
          "base_uri": "https://localhost:8080/"
        },
        "id": "DRhQAExKA4th",
        "outputId": "31afcbd7-34fa-47b4-82f8-5455f3ac8044"
      },
      "execution_count": 106,
      "outputs": [
        {
          "output_type": "execute_result",
          "data": {
            "text/plain": [
              "[[1, 2, 3],\n",
              " [11, 12, 'ccc', 'ccc', 'ccc'],\n",
              " [21, 'ccc', 223],\n",
              " [4, 5, 6],\n",
              " [7, 8, 9],\n",
              " 'demo',\n",
              " 12.5]"
            ]
          },
          "metadata": {},
          "execution_count": 106
        }
      ]
    },
    {
      "cell_type": "code",
      "source": [
        "l = [[1, 2, 3],[11, 12, 'b', 'b', 'b'],[21, 't', 223],[4, 5, 6],[7, 8, 9],'demo',12.5]\n",
        "for i in l:\n",
        "    b=False\n",
        "    if type(i) == list:\n",
        "        a=False\n",
        "        for j in i:\n",
        "            if type(j)==str:\n",
        "                i.remove(j)\n",
        "                a=True\n",
        "                break\n",
        "        if a :\n",
        "            print(l.index(i))\n",
        "            l.remove(i)"
      ],
      "metadata": {
        "colab": {
          "base_uri": "https://localhost:8080/"
        },
        "id": "4bwFQVJ9A8L6",
        "outputId": "7e6c8240-a746-4ef2-a8e8-7204eb29ee6a"
      },
      "execution_count": 107,
      "outputs": [
        {
          "output_type": "stream",
          "name": "stdout",
          "text": [
            "1\n"
          ]
        }
      ]
    },
    {
      "cell_type": "code",
      "source": [
        "l"
      ],
      "metadata": {
        "colab": {
          "base_uri": "https://localhost:8080/"
        },
        "id": "eBwaH-xSA_3n",
        "outputId": "4a6edf40-c7ff-47f9-f97e-39926b1e30ea"
      },
      "execution_count": 108,
      "outputs": [
        {
          "output_type": "execute_result",
          "data": {
            "text/plain": [
              "[[1, 2, 3], [21, 't', 223], [4, 5, 6], [7, 8, 9], 'demo', 12.5]"
            ]
          },
          "metadata": {},
          "execution_count": 108
        }
      ]
    },
    {
      "cell_type": "code",
      "source": [
        "\n",
        "l = [[1, 2, 3],\n",
        " [11, 12, 'b', 'b', 'b'],\n",
        " [21, 't', 223,44],\n",
        " [4, 5, 6],\n",
        " [7, 8, 9],\n",
        " 'demo',\n",
        " 12.5]\n",
        "\n",
        "#part 2\n",
        "for sublist in l:\n",
        "    if isinstance(sublist,list):\n",
        "           for obj in sublist:\n",
        "                if isinstance(obj,str):\n",
        "                    print('Occurance found in sublist',sublist ,' at ',sublist.index(obj))\n",
        "                    sublist.remove(obj)\n",
        "\n",
        "    print(sublist)\n",
        "\n",
        "#part 3\n",
        "\n",
        "for i in l:\n",
        "    if type(i)== list:\n",
        "        print(i[2])\n"
      ],
      "metadata": {
        "colab": {
          "base_uri": "https://localhost:8080/"
        },
        "id": "VfESfITuBBXG",
        "outputId": "c6186eaf-3b96-4ae5-af2e-fd458d803f24"
      },
      "execution_count": 109,
      "outputs": [
        {
          "output_type": "stream",
          "name": "stdout",
          "text": [
            "[1, 2, 3]\n",
            "Occurance found in sublist [11, 12, 'b', 'b', 'b']  at  2\n",
            "Occurance found in sublist [11, 12, 'b', 'b']  at  2\n",
            "[11, 12, 'b']\n",
            "Occurance found in sublist [21, 't', 223, 44]  at  1\n",
            "[21, 223, 44]\n",
            "[4, 5, 6]\n",
            "[7, 8, 9]\n",
            "demo\n",
            "12.5\n",
            "3\n",
            "b\n",
            "44\n",
            "6\n",
            "9\n"
          ]
        }
      ]
    },
    {
      "cell_type": "code",
      "source": [
        "l"
      ],
      "metadata": {
        "colab": {
          "base_uri": "https://localhost:8080/"
        },
        "id": "BFfUEjWwBECE",
        "outputId": "38c49c8c-3573-4833-d8b5-a5fbfa0e6e14"
      },
      "execution_count": 110,
      "outputs": [
        {
          "output_type": "execute_result",
          "data": {
            "text/plain": [
              "[[1, 2, 3], [11, 12, 'b'], [21, 223, 44], [4, 5, 6], [7, 8, 9], 'demo', 12.5]"
            ]
          },
          "metadata": {},
          "execution_count": 110
        }
      ]
    },
    {
      "cell_type": "code",
      "source": [
        "l = [1,2,3,4,5]"
      ],
      "metadata": {
        "id": "yicn_KG0FecB"
      },
      "execution_count": 114,
      "outputs": []
    },
    {
      "cell_type": "code",
      "source": [
        "l1 = []"
      ],
      "metadata": {
        "id": "bB4b_YMFBI04"
      },
      "execution_count": 115,
      "outputs": []
    },
    {
      "cell_type": "code",
      "source": [
        "for i in \"shivaram\":\n",
        "    l1.append(i)"
      ],
      "metadata": {
        "id": "JJUJ3atPFk9Q"
      },
      "execution_count": 116,
      "outputs": []
    },
    {
      "cell_type": "code",
      "source": [
        "l1"
      ],
      "metadata": {
        "colab": {
          "base_uri": "https://localhost:8080/"
        },
        "id": "WIbPgzVtG6DI",
        "outputId": "83ce42fe-f4bd-4701-de09-0191b1ec4020"
      },
      "execution_count": 117,
      "outputs": [
        {
          "output_type": "execute_result",
          "data": {
            "text/plain": [
              "['s', 'h', 'i', 'v', 'a', 'r', 'a', 'm']"
            ]
          },
          "metadata": {},
          "execution_count": 117
        }
      ]
    },
    {
      "cell_type": "code",
      "source": [
        "[[i] for i in \"shivaram\"]"
      ],
      "metadata": {
        "colab": {
          "base_uri": "https://localhost:8080/"
        },
        "id": "IhkUbpvIG9m_",
        "outputId": "3c2c074e-303e-45a1-d823-7213f3d9f327"
      },
      "execution_count": 118,
      "outputs": [
        {
          "output_type": "execute_result",
          "data": {
            "text/plain": [
              "[['s'], ['h'], ['i'], ['v'], ['a'], ['r'], ['a'], ['m']]"
            ]
          },
          "metadata": {},
          "execution_count": 118
        }
      ]
    },
    {
      "cell_type": "code",
      "source": [
        "l = []\n",
        "for i in range(10) :\n",
        "    if i%2 ==0:\n",
        "        l.append(i)"
      ],
      "metadata": {
        "id": "JxMf_yBOHDXr"
      },
      "execution_count": 119,
      "outputs": []
    },
    {
      "cell_type": "code",
      "source": [
        "l"
      ],
      "metadata": {
        "colab": {
          "base_uri": "https://localhost:8080/"
        },
        "id": "j4lj_xABHGIM",
        "outputId": "dcbe8198-979b-4dba-ff67-73c31e633121"
      },
      "execution_count": 120,
      "outputs": [
        {
          "output_type": "execute_result",
          "data": {
            "text/plain": [
              "[0, 2, 4, 6, 8]"
            ]
          },
          "metadata": {},
          "execution_count": 120
        }
      ]
    },
    {
      "cell_type": "code",
      "source": [
        "[i for i in range(10) if i %2 == 0 ]"
      ],
      "metadata": {
        "colab": {
          "base_uri": "https://localhost:8080/"
        },
        "id": "v9TG6a4MHIWp",
        "outputId": "0b1d70ff-880d-4fa4-8e7b-0b2e060ce44a"
      },
      "execution_count": 121,
      "outputs": [
        {
          "output_type": "execute_result",
          "data": {
            "text/plain": [
              "[0, 2, 4, 6, 8]"
            ]
          },
          "metadata": {},
          "execution_count": 121
        }
      ]
    },
    {
      "cell_type": "code",
      "source": [
        "8%3"
      ],
      "metadata": {
        "colab": {
          "base_uri": "https://localhost:8080/"
        },
        "id": "UxKpaA2iHK52",
        "outputId": "d60ad645-d09f-44c0-a9c9-72df7678c12a"
      },
      "execution_count": 122,
      "outputs": [
        {
          "output_type": "execute_result",
          "data": {
            "text/plain": [
              "2"
            ]
          },
          "metadata": {},
          "execution_count": 122
        }
      ]
    },
    {
      "cell_type": "code",
      "source": [
        "8%2"
      ],
      "metadata": {
        "colab": {
          "base_uri": "https://localhost:8080/"
        },
        "id": "BLFT-t9nHNFn",
        "outputId": "aa44ebe1-0a1a-448f-fd24-62e434344f94"
      },
      "execution_count": 123,
      "outputs": [
        {
          "output_type": "execute_result",
          "data": {
            "text/plain": [
              "0"
            ]
          },
          "metadata": {},
          "execution_count": 123
        }
      ]
    },
    {
      "cell_type": "code",
      "source": [
        "l = []\n",
        "for i in range(10):\n",
        "    if i % 2 != 0:\n",
        "        l.append(\"odd\")\n",
        "    else :\n",
        "        l.append(\"even\")"
      ],
      "metadata": {
        "id": "_HXG70R5HPgS"
      },
      "execution_count": 124,
      "outputs": []
    },
    {
      "cell_type": "code",
      "source": [
        "l"
      ],
      "metadata": {
        "colab": {
          "base_uri": "https://localhost:8080/"
        },
        "id": "FL2SrTSjHR4a",
        "outputId": "6e1c17e3-8383-4ba8-fb8f-bc7a69bbf1e0"
      },
      "execution_count": 125,
      "outputs": [
        {
          "output_type": "execute_result",
          "data": {
            "text/plain": [
              "['even', 'odd', 'even', 'odd', 'even', 'odd', 'even', 'odd', 'even', 'odd']"
            ]
          },
          "metadata": {},
          "execution_count": 125
        }
      ]
    },
    {
      "cell_type": "code",
      "source": [
        "[\"odd\" if i%2 != 0 else \"even\" for i in range(10)]"
      ],
      "metadata": {
        "colab": {
          "base_uri": "https://localhost:8080/"
        },
        "id": "BzZLDPg6HTv8",
        "outputId": "c9164775-ef70-4c58-a0eb-b03f350373e5"
      },
      "execution_count": 126,
      "outputs": [
        {
          "output_type": "execute_result",
          "data": {
            "text/plain": [
              "['even', 'odd', 'even', 'odd', 'even', 'odd', 'even', 'odd', 'even', 'odd']"
            ]
          },
          "metadata": {},
          "execution_count": 126
        }
      ]
    },
    {
      "cell_type": "code",
      "source": [
        "mat = []\n",
        "for i in range(3):\n",
        "    mat.append([])\n",
        "    for j in range(3):\n",
        "        mat[i].append(j)\n",
        "mat"
      ],
      "metadata": {
        "colab": {
          "base_uri": "https://localhost:8080/"
        },
        "id": "-qANDbt3HWHG",
        "outputId": "eaf25d79-53a8-43ba-a384-195c7138bf9a"
      },
      "execution_count": 127,
      "outputs": [
        {
          "output_type": "execute_result",
          "data": {
            "text/plain": [
              "[[0, 1, 2], [0, 1, 2], [0, 1, 2]]"
            ]
          },
          "metadata": {},
          "execution_count": 127
        }
      ]
    },
    {
      "cell_type": "code",
      "source": [
        "[[j for j in range(3)]for i in range(3)]"
      ],
      "metadata": {
        "colab": {
          "base_uri": "https://localhost:8080/"
        },
        "id": "sOfurWCeHYGZ",
        "outputId": "90b0c82d-7f01-4da1-d330-1c3692f4e2f0"
      },
      "execution_count": 128,
      "outputs": [
        {
          "output_type": "execute_result",
          "data": {
            "text/plain": [
              "[[0, 1, 2], [0, 1, 2], [0, 1, 2]]"
            ]
          },
          "metadata": {},
          "execution_count": 128
        }
      ]
    },
    {
      "cell_type": "code",
      "source": [
        "[i for i in range(8) if i % 2 == 0 if i % 3 == 0  ]"
      ],
      "metadata": {
        "colab": {
          "base_uri": "https://localhost:8080/"
        },
        "id": "J7lHA-fTHbBa",
        "outputId": "458ad9aa-ccc0-4629-9ce1-435b541faf39"
      },
      "execution_count": 129,
      "outputs": [
        {
          "output_type": "execute_result",
          "data": {
            "text/plain": [
              "[0, 6]"
            ]
          },
          "metadata": {},
          "execution_count": 129
        }
      ]
    },
    {
      "cell_type": "code",
      "source": [
        "l = []\n",
        "for i in range(8):\n",
        "    if i % 2 == 0 :\n",
        "        if i % 3 == 0 :\n",
        "            l.append(i)"
      ],
      "metadata": {
        "id": "Z8UUoCkPHdGV"
      },
      "execution_count": 130,
      "outputs": []
    },
    {
      "cell_type": "code",
      "source": [
        "l"
      ],
      "metadata": {
        "colab": {
          "base_uri": "https://localhost:8080/"
        },
        "id": "zIecgqK2HfUy",
        "outputId": "15384df5-f8c5-46d7-bf0e-5da16daac20f"
      },
      "execution_count": 131,
      "outputs": [
        {
          "output_type": "execute_result",
          "data": {
            "text/plain": [
              "[0, 6]"
            ]
          },
          "metadata": {},
          "execution_count": 131
        }
      ]
    },
    {
      "cell_type": "code",
      "source": [
        "l = []\n",
        "for i in range(10):\n",
        "    l.append(i)"
      ],
      "metadata": {
        "id": "NiqxoI6gHgVh"
      },
      "execution_count": 132,
      "outputs": []
    },
    {
      "cell_type": "code",
      "source": [
        "l"
      ],
      "metadata": {
        "colab": {
          "base_uri": "https://localhost:8080/"
        },
        "id": "acp7jh9ZHi5n",
        "outputId": "d82e6446-10f1-4a29-abbb-450a9511ff8e"
      },
      "execution_count": 133,
      "outputs": [
        {
          "output_type": "execute_result",
          "data": {
            "text/plain": [
              "[0, 1, 2, 3, 4, 5, 6, 7, 8, 9]"
            ]
          },
          "metadata": {},
          "execution_count": 133
        }
      ]
    },
    {
      "cell_type": "code",
      "source": [
        "[\"yes \" if i == 1  else \"no\" if i == 2 else \"test \" for i in l]"
      ],
      "metadata": {
        "colab": {
          "base_uri": "https://localhost:8080/"
        },
        "id": "j3RrW57IHkQ6",
        "outputId": "f66ce196-1f7e-432c-b1f8-a3319e4c388e"
      },
      "execution_count": 134,
      "outputs": [
        {
          "output_type": "execute_result",
          "data": {
            "text/plain": [
              "['test ',\n",
              " 'yes ',\n",
              " 'no',\n",
              " 'test ',\n",
              " 'test ',\n",
              " 'test ',\n",
              " 'test ',\n",
              " 'test ',\n",
              " 'test ',\n",
              " 'test ']"
            ]
          },
          "metadata": {},
          "execution_count": 134
        }
      ]
    },
    {
      "cell_type": "code",
      "source": [
        "l"
      ],
      "metadata": {
        "colab": {
          "base_uri": "https://localhost:8080/"
        },
        "id": "kE5Lf24cHmTL",
        "outputId": "0b5b5723-f16b-4924-ad41-b5968bbeae32"
      },
      "execution_count": 135,
      "outputs": [
        {
          "output_type": "execute_result",
          "data": {
            "text/plain": [
              "[0, 1, 2, 3, 4, 5, 6, 7, 8, 9]"
            ]
          },
          "metadata": {},
          "execution_count": 135
        }
      ]
    },
    {
      "cell_type": "code",
      "source": [
        "res = []\n",
        "for i in l :\n",
        "    if i == 1 :\n",
        "        res.append(\"yes\")\n",
        "    elif i ==2 :\n",
        "        res.append(\"no\")\n",
        "    else :\n",
        "        res.append(\"test\")"
      ],
      "metadata": {
        "id": "OsMV3tpUHn28"
      },
      "execution_count": 136,
      "outputs": []
    },
    {
      "cell_type": "code",
      "source": [
        "res"
      ],
      "metadata": {
        "colab": {
          "base_uri": "https://localhost:8080/"
        },
        "id": "jQXZ0txTHp5t",
        "outputId": "84752f75-b56b-4445-b3c2-e56197dc41dd"
      },
      "execution_count": 137,
      "outputs": [
        {
          "output_type": "execute_result",
          "data": {
            "text/plain": [
              "['test', 'yes', 'no', 'test', 'test', 'test', 'test', 'test', 'test', 'test']"
            ]
          },
          "metadata": {},
          "execution_count": 137
        }
      ]
    },
    {
      "cell_type": "code",
      "source": [],
      "metadata": {
        "id": "AdKDd3IgHs8h"
      },
      "execution_count": null,
      "outputs": []
    }
  ]
}