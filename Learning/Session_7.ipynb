{
  "nbformat": 4,
  "nbformat_minor": 0,
  "metadata": {
    "colab": {
      "provenance": []
    },
    "kernelspec": {
      "name": "python3",
      "display_name": "Python 3"
    },
    "language_info": {
      "name": "python"
    }
  },
  "cells": [
    {
      "cell_type": "code",
      "source": [
        "# Tuple"
      ],
      "metadata": {
        "id": "GZY6ZdJKY6Iz"
      },
      "execution_count": null,
      "outputs": []
    },
    {
      "cell_type": "code",
      "execution_count": 1,
      "metadata": {
        "id": "Tf4W8_i2_s70"
      },
      "outputs": [],
      "source": [
        "t=()"
      ]
    },
    {
      "cell_type": "code",
      "source": [
        "type(t)"
      ],
      "metadata": {
        "colab": {
          "base_uri": "https://localhost:8080/"
        },
        "id": "TPgyQeMqNt_y",
        "outputId": "143b4d3b-7029-4d5a-b769-03396a37fa1b"
      },
      "execution_count": 2,
      "outputs": [
        {
          "output_type": "execute_result",
          "data": {
            "text/plain": [
              "tuple"
            ]
          },
          "metadata": {},
          "execution_count": 2
        }
      ]
    },
    {
      "cell_type": "code",
      "source": [
        "l=[]\n",
        "type(l)"
      ],
      "metadata": {
        "colab": {
          "base_uri": "https://localhost:8080/"
        },
        "id": "1-NMgL8wNuC1",
        "outputId": "9dcbf159-a704-48e6-8f0d-ba5a9f4d5c63"
      },
      "execution_count": 3,
      "outputs": [
        {
          "output_type": "execute_result",
          "data": {
            "text/plain": [
              "list"
            ]
          },
          "metadata": {},
          "execution_count": 3
        }
      ]
    },
    {
      "cell_type": "code",
      "source": [
        "t1=(234,34,\"shivaram\",3.45,True)"
      ],
      "metadata": {
        "id": "kM6lxuAxNuGA"
      },
      "execution_count": 4,
      "outputs": []
    },
    {
      "cell_type": "code",
      "source": [
        "t1[0]"
      ],
      "metadata": {
        "colab": {
          "base_uri": "https://localhost:8080/"
        },
        "id": "auDCNOu0NuJY",
        "outputId": "ead94246-88eb-42e5-ea13-32e542a94f95"
      },
      "execution_count": 6,
      "outputs": [
        {
          "output_type": "execute_result",
          "data": {
            "text/plain": [
              "234"
            ]
          },
          "metadata": {},
          "execution_count": 6
        }
      ]
    },
    {
      "cell_type": "code",
      "source": [
        "t1[0:4]"
      ],
      "metadata": {
        "colab": {
          "base_uri": "https://localhost:8080/"
        },
        "id": "1u5FAW4RNuMt",
        "outputId": "3376d391-68b3-4de8-9a8c-6c2abb073e6f"
      },
      "execution_count": 7,
      "outputs": [
        {
          "output_type": "execute_result",
          "data": {
            "text/plain": [
              "(234, 34, 'shivaram', 3.45)"
            ]
          },
          "metadata": {},
          "execution_count": 7
        }
      ]
    },
    {
      "cell_type": "code",
      "source": [
        "t1[::-1]"
      ],
      "metadata": {
        "colab": {
          "base_uri": "https://localhost:8080/"
        },
        "id": "Qyp_KIGsNuPt",
        "outputId": "a22bd3a6-4b61-490d-adb3-b11fab5b9189"
      },
      "execution_count": 8,
      "outputs": [
        {
          "output_type": "execute_result",
          "data": {
            "text/plain": [
              "(True, 3.45, 'shivaram', 34, 234)"
            ]
          },
          "metadata": {},
          "execution_count": 8
        }
      ]
    },
    {
      "cell_type": "code",
      "source": [
        "t1[-1]"
      ],
      "metadata": {
        "colab": {
          "base_uri": "https://localhost:8080/"
        },
        "id": "29rx3Y2VNuSq",
        "outputId": "054490ca-4264-43d3-c6a5-23d62cb486f5"
      },
      "execution_count": 9,
      "outputs": [
        {
          "output_type": "execute_result",
          "data": {
            "text/plain": [
              "True"
            ]
          },
          "metadata": {},
          "execution_count": 9
        }
      ]
    },
    {
      "cell_type": "code",
      "source": [
        " l1=[234,34,\"shivaram\",3.45,True]"
      ],
      "metadata": {
        "id": "HpteXeplNuV2"
      },
      "execution_count": 11,
      "outputs": []
    },
    {
      "cell_type": "code",
      "source": [
        "l1[0]=\"babar\""
      ],
      "metadata": {
        "id": "uvBWOyCCNuZc"
      },
      "execution_count": 12,
      "outputs": []
    },
    {
      "cell_type": "code",
      "source": [
        "l1"
      ],
      "metadata": {
        "colab": {
          "base_uri": "https://localhost:8080/"
        },
        "id": "9xVXR5JSQkBD",
        "outputId": "a66a30de-da08-48bb-8e48-9bea754fae2c"
      },
      "execution_count": 13,
      "outputs": [
        {
          "output_type": "execute_result",
          "data": {
            "text/plain": [
              "['babar', 34, 'shivaram', 3.45, True]"
            ]
          },
          "metadata": {},
          "execution_count": 13
        }
      ]
    },
    {
      "cell_type": "code",
      "source": [
        "t1[0]=\"babar\""
      ],
      "metadata": {
        "colab": {
          "base_uri": "https://localhost:8080/",
          "height": 144
        },
        "id": "n7rX8TXeQlJ_",
        "outputId": "0cf34cbd-f674-4373-82e3-2dcba0e3b082"
      },
      "execution_count": 14,
      "outputs": [
        {
          "output_type": "error",
          "ename": "TypeError",
          "evalue": "'tuple' object does not support item assignment",
          "traceback": [
            "\u001b[0;31m---------------------------------------------------------------------------\u001b[0m",
            "\u001b[0;31mTypeError\u001b[0m                                 Traceback (most recent call last)",
            "\u001b[0;32m<ipython-input-14-2ed2d069db19>\u001b[0m in \u001b[0;36m<cell line: 1>\u001b[0;34m()\u001b[0m\n\u001b[0;32m----> 1\u001b[0;31m \u001b[0mt1\u001b[0m\u001b[0;34m[\u001b[0m\u001b[0;36m0\u001b[0m\u001b[0;34m]\u001b[0m\u001b[0;34m=\u001b[0m\u001b[0;34m\"babar\"\u001b[0m\u001b[0;34m\u001b[0m\u001b[0;34m\u001b[0m\u001b[0m\n\u001b[0m",
            "\u001b[0;31mTypeError\u001b[0m: 'tuple' object does not support item assignment"
          ]
        }
      ]
    },
    {
      "cell_type": "code",
      "source": [
        "tuples are called as immutable entity\n",
        "list is mutable entity"
      ],
      "metadata": {
        "id": "VcxxHrNgQ8RM"
      },
      "execution_count": null,
      "outputs": []
    },
    {
      "cell_type": "code",
      "source": [
        "t2=(234,54,565)"
      ],
      "metadata": {
        "id": "KP1JJr62RTXF"
      },
      "execution_count": 18,
      "outputs": []
    },
    {
      "cell_type": "code",
      "source": [
        "t1+t2"
      ],
      "metadata": {
        "colab": {
          "base_uri": "https://localhost:8080/"
        },
        "id": "I2IMT8cPRVsE",
        "outputId": "7ad3fc87-014f-4a59-f057-2cd2b63a65f8"
      },
      "execution_count": 19,
      "outputs": [
        {
          "output_type": "execute_result",
          "data": {
            "text/plain": [
              "(234, 34, 'shivaram', 3.45, True, 234, 54, 565)"
            ]
          },
          "metadata": {},
          "execution_count": 19
        }
      ]
    },
    {
      "cell_type": "code",
      "source": [
        "t1*4"
      ],
      "metadata": {
        "colab": {
          "base_uri": "https://localhost:8080/"
        },
        "id": "g_VWNNKFRVwZ",
        "outputId": "b4736506-b353-4d53-d57f-7cced611c5d0"
      },
      "execution_count": 20,
      "outputs": [
        {
          "output_type": "execute_result",
          "data": {
            "text/plain": [
              "(234,\n",
              " 34,\n",
              " 'shivaram',\n",
              " 3.45,\n",
              " True,\n",
              " 234,\n",
              " 34,\n",
              " 'shivaram',\n",
              " 3.45,\n",
              " True,\n",
              " 234,\n",
              " 34,\n",
              " 'shivaram',\n",
              " 3.45,\n",
              " True,\n",
              " 234,\n",
              " 34,\n",
              " 'shivaram',\n",
              " 3.45,\n",
              " True)"
            ]
          },
          "metadata": {},
          "execution_count": 20
        }
      ]
    },
    {
      "cell_type": "code",
      "source": [
        "t1"
      ],
      "metadata": {
        "colab": {
          "base_uri": "https://localhost:8080/"
        },
        "id": "GbL9XpgIRVzt",
        "outputId": "6687702f-d98f-47dc-d73e-7d4ecdfdcb69"
      },
      "execution_count": 21,
      "outputs": [
        {
          "output_type": "execute_result",
          "data": {
            "text/plain": [
              "(234, 34, 'shivaram', 3.45, True)"
            ]
          },
          "metadata": {},
          "execution_count": 21
        }
      ]
    },
    {
      "cell_type": "code",
      "source": [
        "34 in t1"
      ],
      "metadata": {
        "colab": {
          "base_uri": "https://localhost:8080/"
        },
        "id": "pWv-AhX-RV24",
        "outputId": "f1351233-eba1-4903-a38c-efea166cd6cb"
      },
      "execution_count": 22,
      "outputs": [
        {
          "output_type": "execute_result",
          "data": {
            "text/plain": [
              "True"
            ]
          },
          "metadata": {},
          "execution_count": 22
        }
      ]
    },
    {
      "cell_type": "code",
      "source": [
        "\"babar\" in t1"
      ],
      "metadata": {
        "colab": {
          "base_uri": "https://localhost:8080/"
        },
        "id": "3g_XfP1aRV6V",
        "outputId": "3954534f-0208-468a-e846-746143b5ae65"
      },
      "execution_count": 24,
      "outputs": [
        {
          "output_type": "execute_result",
          "data": {
            "text/plain": [
              "False"
            ]
          },
          "metadata": {},
          "execution_count": 24
        }
      ]
    },
    {
      "cell_type": "code",
      "source": [
        "max(t1)"
      ],
      "metadata": {
        "colab": {
          "base_uri": "https://localhost:8080/",
          "height": 144
        },
        "id": "J80OURquRWEs",
        "outputId": "9e410d0c-b063-43e6-9eea-83a4fbdf4f38"
      },
      "execution_count": 25,
      "outputs": [
        {
          "output_type": "error",
          "ename": "TypeError",
          "evalue": "'>' not supported between instances of 'str' and 'int'",
          "traceback": [
            "\u001b[0;31m---------------------------------------------------------------------------\u001b[0m",
            "\u001b[0;31mTypeError\u001b[0m                                 Traceback (most recent call last)",
            "\u001b[0;32m<ipython-input-25-07c1bf72392e>\u001b[0m in \u001b[0;36m<cell line: 1>\u001b[0;34m()\u001b[0m\n\u001b[0;32m----> 1\u001b[0;31m \u001b[0mmax\u001b[0m\u001b[0;34m(\u001b[0m\u001b[0mt1\u001b[0m\u001b[0;34m)\u001b[0m\u001b[0;34m\u001b[0m\u001b[0;34m\u001b[0m\u001b[0m\n\u001b[0m",
            "\u001b[0;31mTypeError\u001b[0m: '>' not supported between instances of 'str' and 'int'"
          ]
        }
      ]
    },
    {
      "cell_type": "code",
      "source": [
        "t3=(23,343,45,454,54)"
      ],
      "metadata": {
        "id": "ZPA67jrFRWIt"
      },
      "execution_count": 26,
      "outputs": []
    },
    {
      "cell_type": "code",
      "source": [
        "max(t3)"
      ],
      "metadata": {
        "colab": {
          "base_uri": "https://localhost:8080/"
        },
        "id": "OVO-aNmtRWMG",
        "outputId": "a123fc76-4709-4efa-9dde-aabd90a6ebfe"
      },
      "execution_count": 27,
      "outputs": [
        {
          "output_type": "execute_result",
          "data": {
            "text/plain": [
              "454"
            ]
          },
          "metadata": {},
          "execution_count": 27
        }
      ]
    },
    {
      "cell_type": "code",
      "source": [
        "min(t3)"
      ],
      "metadata": {
        "colab": {
          "base_uri": "https://localhost:8080/"
        },
        "id": "JsqGSeIjRWRs",
        "outputId": "bf4bff85-9e91-4f35-b214-cd00d21e7917"
      },
      "execution_count": 28,
      "outputs": [
        {
          "output_type": "execute_result",
          "data": {
            "text/plain": [
              "23"
            ]
          },
          "metadata": {},
          "execution_count": 28
        }
      ]
    },
    {
      "cell_type": "code",
      "source": [
        "t4=(\"sagar\", \"nikhil\")"
      ],
      "metadata": {
        "id": "rzhmyMTNRWVb"
      },
      "execution_count": 29,
      "outputs": []
    },
    {
      "cell_type": "code",
      "source": [
        "max(t4)"
      ],
      "metadata": {
        "colab": {
          "base_uri": "https://localhost:8080/",
          "height": 36
        },
        "id": "FXfhp5umRWZ1",
        "outputId": "b6575019-3459-47e8-b33e-c9174977b08a"
      },
      "execution_count": 30,
      "outputs": [
        {
          "output_type": "execute_result",
          "data": {
            "text/plain": [
              "'sagar'"
            ],
            "application/vnd.google.colaboratory.intrinsic+json": {
              "type": "string"
            }
          },
          "metadata": {},
          "execution_count": 30
        }
      ]
    },
    {
      "cell_type": "code",
      "source": [
        "t1"
      ],
      "metadata": {
        "colab": {
          "base_uri": "https://localhost:8080/"
        },
        "id": "73OqO0_nRWdc",
        "outputId": "039200a2-4a14-4807-8e51-20a00de76917"
      },
      "execution_count": 31,
      "outputs": [
        {
          "output_type": "execute_result",
          "data": {
            "text/plain": [
              "(234, 34, 'shivaram', 3.45, True)"
            ]
          },
          "metadata": {},
          "execution_count": 31
        }
      ]
    },
    {
      "cell_type": "code",
      "source": [
        "t1.index(34)"
      ],
      "metadata": {
        "colab": {
          "base_uri": "https://localhost:8080/"
        },
        "id": "GPc67w14RWgp",
        "outputId": "808e7134-6983-496d-ed6e-fb213926cf24"
      },
      "execution_count": 32,
      "outputs": [
        {
          "output_type": "execute_result",
          "data": {
            "text/plain": [
              "1"
            ]
          },
          "metadata": {},
          "execution_count": 32
        }
      ]
    },
    {
      "cell_type": "code",
      "source": [
        "t1.count(34)"
      ],
      "metadata": {
        "colab": {
          "base_uri": "https://localhost:8080/"
        },
        "id": "kfcehDZ2RWjf",
        "outputId": "188f4aad-04c8-4690-9e69-75cf245a84da"
      },
      "execution_count": 33,
      "outputs": [
        {
          "output_type": "execute_result",
          "data": {
            "text/plain": [
              "1"
            ]
          },
          "metadata": {},
          "execution_count": 33
        }
      ]
    },
    {
      "cell_type": "code",
      "source": [
        "min(t4)"
      ],
      "metadata": {
        "colab": {
          "base_uri": "https://localhost:8080/",
          "height": 36
        },
        "id": "CrPn338eRWnG",
        "outputId": "3a726ded-bd06-4068-e280-07e171fe0fe3"
      },
      "execution_count": 34,
      "outputs": [
        {
          "output_type": "execute_result",
          "data": {
            "text/plain": [
              "'nikhil'"
            ],
            "application/vnd.google.colaboratory.intrinsic+json": {
              "type": "string"
            }
          },
          "metadata": {},
          "execution_count": 34
        }
      ]
    },
    {
      "cell_type": "code",
      "source": [
        "t"
      ],
      "metadata": {
        "colab": {
          "base_uri": "https://localhost:8080/"
        },
        "id": "hFmiqJG9T0He",
        "outputId": "2fe703a4-b44b-46b3-bf14-d589fccb0cf5"
      },
      "execution_count": 35,
      "outputs": [
        {
          "output_type": "execute_result",
          "data": {
            "text/plain": [
              "()"
            ]
          },
          "metadata": {},
          "execution_count": 35
        }
      ]
    },
    {
      "cell_type": "code",
      "source": [
        "t1"
      ],
      "metadata": {
        "colab": {
          "base_uri": "https://localhost:8080/"
        },
        "id": "NVPScFRRT2Ew",
        "outputId": "57b91783-76a4-4be2-9fee-aad0cd001eff"
      },
      "execution_count": 36,
      "outputs": [
        {
          "output_type": "execute_result",
          "data": {
            "text/plain": [
              "(234, 34, 'shivaram', 3.45, True)"
            ]
          },
          "metadata": {},
          "execution_count": 36
        }
      ]
    },
    {
      "cell_type": "code",
      "source": [
        "t5=(90,45)"
      ],
      "metadata": {
        "id": "ubyW9JGGT5JE"
      },
      "execution_count": 39,
      "outputs": []
    },
    {
      "cell_type": "code",
      "source": [
        "t1+t5"
      ],
      "metadata": {
        "colab": {
          "base_uri": "https://localhost:8080/"
        },
        "id": "t2BQIYvuUBeS",
        "outputId": "a014d392-f57d-450b-d45f-0e42be311678"
      },
      "execution_count": 40,
      "outputs": [
        {
          "output_type": "execute_result",
          "data": {
            "text/plain": [
              "(234, 34, 'shivaram', 3.45, True, 90, 45)"
            ]
          },
          "metadata": {},
          "execution_count": 40
        }
      ]
    },
    {
      "cell_type": "code",
      "source": [
        "t6=56"
      ],
      "metadata": {
        "id": "FuuTZsKyUD1z"
      },
      "execution_count": 41,
      "outputs": []
    },
    {
      "cell_type": "code",
      "source": [
        "l5=list(t1)"
      ],
      "metadata": {
        "id": "WIxS-MMHUiIS"
      },
      "execution_count": 42,
      "outputs": []
    },
    {
      "cell_type": "code",
      "source": [
        "l5.insert(3,t6)"
      ],
      "metadata": {
        "id": "aqpBo52cUlLA"
      },
      "execution_count": 43,
      "outputs": []
    },
    {
      "cell_type": "code",
      "source": [
        "l5"
      ],
      "metadata": {
        "colab": {
          "base_uri": "https://localhost:8080/"
        },
        "id": "U38TAP0gUodO",
        "outputId": "e3074aa2-710e-421f-be3d-6a14c28a97aa"
      },
      "execution_count": 44,
      "outputs": [
        {
          "output_type": "execute_result",
          "data": {
            "text/plain": [
              "[234, 34, 'shivaram', 56, 3.45, True]"
            ]
          },
          "metadata": {},
          "execution_count": 44
        }
      ]
    },
    {
      "cell_type": "code",
      "source": [
        "tuple(l5)"
      ],
      "metadata": {
        "colab": {
          "base_uri": "https://localhost:8080/"
        },
        "id": "qE1ydAfYUqFB",
        "outputId": "fa6a2d48-a23e-4ed2-adb4-8156e3c2f059"
      },
      "execution_count": 52,
      "outputs": [
        {
          "output_type": "execute_result",
          "data": {
            "text/plain": [
              "(234, 34, 'shivaram', 56, 3.45, True)"
            ]
          },
          "metadata": {},
          "execution_count": 52
        }
      ]
    },
    {
      "cell_type": "code",
      "source": [
        "t=((3,4,5,6,7)),(\"babar\",45,45),45,454,67,[4,5,6,7]"
      ],
      "metadata": {
        "id": "3g0-dkSXUs-X"
      },
      "execution_count": 46,
      "outputs": []
    },
    {
      "cell_type": "code",
      "source": [
        "[t6][1:4]"
      ],
      "metadata": {
        "colab": {
          "base_uri": "https://localhost:8080/"
        },
        "id": "JKKPnA5HUuet",
        "outputId": "a9066795-fab7-4aca-8db8-01fc10025cae"
      },
      "execution_count": 53,
      "outputs": [
        {
          "output_type": "execute_result",
          "data": {
            "text/plain": [
              "[]"
            ]
          },
          "metadata": {},
          "execution_count": 53
        }
      ]
    },
    {
      "cell_type": "code",
      "source": [
        "t[1][0]"
      ],
      "metadata": {
        "colab": {
          "base_uri": "https://localhost:8080/",
          "height": 36
        },
        "id": "IeYyHaZ-Uujf",
        "outputId": "a56fdbcd-f285-484f-c1d6-b31892288d9d"
      },
      "execution_count": 54,
      "outputs": [
        {
          "output_type": "execute_result",
          "data": {
            "text/plain": [
              "'babar'"
            ],
            "application/vnd.google.colaboratory.intrinsic+json": {
              "type": "string"
            }
          },
          "metadata": {},
          "execution_count": 54
        }
      ]
    },
    {
      "cell_type": "code",
      "source": [
        "for i in t :\n",
        "  print(i)"
      ],
      "metadata": {
        "colab": {
          "base_uri": "https://localhost:8080/"
        },
        "id": "P0w-7-_WUup0",
        "outputId": "69d82e60-0cac-4a75-a83b-151c7ff4fbb4"
      },
      "execution_count": 55,
      "outputs": [
        {
          "output_type": "stream",
          "name": "stdout",
          "text": [
            "(3, 4, 5, 6, 7)\n",
            "('babar', 45, 45)\n",
            "45\n",
            "454\n",
            "67\n",
            "[4, 5, 6, 7]\n"
          ]
        }
      ]
    },
    {
      "cell_type": "code",
      "source": [
        "for i in t :\n",
        "  if type(i)==tuple :\n",
        "    print(i[0])"
      ],
      "metadata": {
        "colab": {
          "base_uri": "https://localhost:8080/"
        },
        "id": "2b2ADTB5Uus5",
        "outputId": "4f4779db-9972-4b2d-cbb8-8aaa52873e67"
      },
      "execution_count": 56,
      "outputs": [
        {
          "output_type": "stream",
          "name": "stdout",
          "text": [
            "3\n",
            "babar\n"
          ]
        }
      ]
    },
    {
      "cell_type": "code",
      "source": [
        "t1"
      ],
      "metadata": {
        "colab": {
          "base_uri": "https://localhost:8080/"
        },
        "id": "UOMOc2DbUuv2",
        "outputId": "d4a7ba9e-c78c-4d3a-a841-862b9ca0ec47"
      },
      "execution_count": 57,
      "outputs": [
        {
          "output_type": "execute_result",
          "data": {
            "text/plain": [
              "(234, 34, 'shivaram', 3.45, True)"
            ]
          },
          "metadata": {},
          "execution_count": 57
        }
      ]
    },
    {
      "cell_type": "code",
      "source": [
        "t2"
      ],
      "metadata": {
        "colab": {
          "base_uri": "https://localhost:8080/"
        },
        "id": "9BV-poA4UuzD",
        "outputId": "547e3c68-55c8-4391-e20e-02beb4125827"
      },
      "execution_count": 58,
      "outputs": [
        {
          "output_type": "execute_result",
          "data": {
            "text/plain": [
              "(234, 54, 565)"
            ]
          },
          "metadata": {},
          "execution_count": 58
        }
      ]
    },
    {
      "cell_type": "code",
      "source": [
        "if len (t1) == len(t2) :\n",
        "  print(\"its same \")\n",
        "else :\n",
        "  print(\"not same\")"
      ],
      "metadata": {
        "colab": {
          "base_uri": "https://localhost:8080/"
        },
        "id": "PNT_LvDUUu2B",
        "outputId": "5f0d3075-d4bc-454d-e53b-e1c8133a65fa"
      },
      "execution_count": 59,
      "outputs": [
        {
          "output_type": "stream",
          "name": "stdout",
          "text": [
            "not same\n"
          ]
        }
      ]
    },
    {
      "cell_type": "code",
      "source": [
        "t = (234, 34, 'shivaram', 3.45,34,34, True, \"babar\")\n"
      ],
      "metadata": {
        "id": "QGM1FibEUu5L"
      },
      "execution_count": 60,
      "outputs": []
    },
    {
      "cell_type": "code",
      "source": [
        "i=input(\"take a user input \")\n",
        "\n",
        "if i in t :\n",
        "  print(\"yes your name is available \")\n",
        "else :\n",
        "  print(\"your name is not available \")"
      ],
      "metadata": {
        "colab": {
          "base_uri": "https://localhost:8080/"
        },
        "id": "pRC-G4ANUu8O",
        "outputId": "c68a221c-cdb0-42c2-c1df-54df7553acec"
      },
      "execution_count": 62,
      "outputs": [
        {
          "output_type": "stream",
          "name": "stdout",
          "text": [
            "take a user input hello\n",
            "your name is not available \n"
          ]
        }
      ]
    },
    {
      "cell_type": "code",
      "source": [
        "t"
      ],
      "metadata": {
        "colab": {
          "base_uri": "https://localhost:8080/"
        },
        "id": "4L7olXBbUu_G",
        "outputId": "45c35676-0673-45a3-ed13-b790887b4ba7"
      },
      "execution_count": 63,
      "outputs": [
        {
          "output_type": "execute_result",
          "data": {
            "text/plain": [
              "(234, 34, 'shivaram', 3.45, 34, 34, True, 'babar')"
            ]
          },
          "metadata": {},
          "execution_count": 63
        }
      ]
    },
    {
      "cell_type": "code",
      "source": [
        "l1"
      ],
      "metadata": {
        "colab": {
          "base_uri": "https://localhost:8080/"
        },
        "id": "kyayXn3TUvCL",
        "outputId": "0d312f4f-5cfe-49e9-91eb-f7f3c4b92acc"
      },
      "execution_count": 64,
      "outputs": [
        {
          "output_type": "execute_result",
          "data": {
            "text/plain": [
              "['babar', 34, 'shivaram', 3.45, True]"
            ]
          },
          "metadata": {},
          "execution_count": 64
        }
      ]
    },
    {
      "cell_type": "code",
      "source": [
        "del(34)"
      ],
      "metadata": {
        "colab": {
          "base_uri": "https://localhost:8080/",
          "height": 109
        },
        "id": "8g2v41rFUvFJ",
        "outputId": "885b2a85-e0ba-4c27-de38-7939e944e7f8"
      },
      "execution_count": 65,
      "outputs": [
        {
          "output_type": "error",
          "ename": "SyntaxError",
          "evalue": "cannot delete literal (<ipython-input-65-5193efdf4528>, line 1)",
          "traceback": [
            "\u001b[0;36m  File \u001b[0;32m\"<ipython-input-65-5193efdf4528>\"\u001b[0;36m, line \u001b[0;32m1\u001b[0m\n\u001b[0;31m    del(34)\u001b[0m\n\u001b[0m        ^\u001b[0m\n\u001b[0;31mSyntaxError\u001b[0m\u001b[0;31m:\u001b[0m cannot delete literal\n"
          ]
        }
      ]
    },
    {
      "cell_type": "code",
      "source": [
        "t1=(34)"
      ],
      "metadata": {
        "id": "FXTNOFLkUvH-"
      },
      "execution_count": 66,
      "outputs": []
    },
    {
      "cell_type": "code",
      "source": [
        "del(t)"
      ],
      "metadata": {
        "id": "nHJ36TnrUvLI"
      },
      "execution_count": 67,
      "outputs": []
    },
    {
      "cell_type": "code",
      "source": [
        "t"
      ],
      "metadata": {
        "colab": {
          "base_uri": "https://localhost:8080/",
          "height": 144
        },
        "id": "h08IhF9PUvOD",
        "outputId": "59e4906a-1162-4504-ba09-e60048ab3df6"
      },
      "execution_count": 68,
      "outputs": [
        {
          "output_type": "error",
          "ename": "NameError",
          "evalue": "name 't' is not defined",
          "traceback": [
            "\u001b[0;31m---------------------------------------------------------------------------\u001b[0m",
            "\u001b[0;31mNameError\u001b[0m                                 Traceback (most recent call last)",
            "\u001b[0;32m<ipython-input-68-34fc7a11cb38>\u001b[0m in \u001b[0;36m<cell line: 1>\u001b[0;34m()\u001b[0m\n\u001b[0;32m----> 1\u001b[0;31m \u001b[0mt\u001b[0m\u001b[0;34m\u001b[0m\u001b[0;34m\u001b[0m\u001b[0m\n\u001b[0m",
            "\u001b[0;31mNameError\u001b[0m: name 't' is not defined"
          ]
        }
      ]
    },
    {
      "cell_type": "code",
      "source": [
        "del(l1)"
      ],
      "metadata": {
        "id": "Z3fI4z6jUvRL"
      },
      "execution_count": 70,
      "outputs": []
    },
    {
      "cell_type": "code",
      "source": [
        "l1"
      ],
      "metadata": {
        "colab": {
          "base_uri": "https://localhost:8080/",
          "height": 144
        },
        "id": "xfYKS90EUvUv",
        "outputId": "06fa809c-8bfd-490b-8c3e-a42b28702e7f"
      },
      "execution_count": 71,
      "outputs": [
        {
          "output_type": "error",
          "ename": "NameError",
          "evalue": "name 'l1' is not defined",
          "traceback": [
            "\u001b[0;31m---------------------------------------------------------------------------\u001b[0m",
            "\u001b[0;31mNameError\u001b[0m                                 Traceback (most recent call last)",
            "\u001b[0;32m<ipython-input-71-6cf485bc2797>\u001b[0m in \u001b[0;36m<cell line: 1>\u001b[0;34m()\u001b[0m\n\u001b[0;32m----> 1\u001b[0;31m \u001b[0ml1\u001b[0m\u001b[0;34m\u001b[0m\u001b[0;34m\u001b[0m\u001b[0m\n\u001b[0m",
            "\u001b[0;31mNameError\u001b[0m: name 'l1' is not defined"
          ]
        }
      ]
    },
    {
      "cell_type": "code",
      "source": [
        "l=[324,343,343,34]"
      ],
      "metadata": {
        "id": "JGX4CvDxYEoq"
      },
      "execution_count": 72,
      "outputs": []
    },
    {
      "cell_type": "code",
      "source": [
        "t2"
      ],
      "metadata": {
        "colab": {
          "base_uri": "https://localhost:8080/"
        },
        "id": "_FXGdB_8YGPk",
        "outputId": "2fb19c45-c786-419f-bda0-84f6a79b95ec"
      },
      "execution_count": 73,
      "outputs": [
        {
          "output_type": "execute_result",
          "data": {
            "text/plain": [
              "(234, 54, 565)"
            ]
          },
          "metadata": {},
          "execution_count": 73
        }
      ]
    },
    {
      "cell_type": "code",
      "source": [
        "### Set\n",
        "\n",
        "\n"
      ],
      "metadata": {
        "id": "FyPY1ITzYGSX"
      },
      "execution_count": null,
      "outputs": []
    },
    {
      "cell_type": "code",
      "source": [
        "x = set()"
      ],
      "metadata": {
        "id": "wfbG11txYGVp"
      },
      "execution_count": 74,
      "outputs": []
    },
    {
      "cell_type": "code",
      "source": [
        "type(x)"
      ],
      "metadata": {
        "colab": {
          "base_uri": "https://localhost:8080/"
        },
        "id": "r0QgwPqRYGYN",
        "outputId": "8cd2119d-6454-4695-ed98-f250256df9fa"
      },
      "execution_count": 75,
      "outputs": [
        {
          "output_type": "execute_result",
          "data": {
            "text/plain": [
              "set"
            ]
          },
          "metadata": {},
          "execution_count": 75
        }
      ]
    },
    {
      "cell_type": "code",
      "source": [
        "l=[34,45,45,45,45,67,34,56,78,\"shivaram\",\"babar\"]"
      ],
      "metadata": {
        "id": "6soJkIIxYGba"
      },
      "execution_count": 76,
      "outputs": []
    },
    {
      "cell_type": "code",
      "source": [
        "set(l)"
      ],
      "metadata": {
        "colab": {
          "base_uri": "https://localhost:8080/"
        },
        "id": "7dQFj2ALYGeD",
        "outputId": "bc6ff397-0e94-4438-a396-3e5319a8faa0"
      },
      "execution_count": 78,
      "outputs": [
        {
          "output_type": "execute_result",
          "data": {
            "text/plain": [
              "{34, 45, 56, 67, 78, 'babar', 'shivaram'}"
            ]
          },
          "metadata": {},
          "execution_count": 78
        }
      ]
    },
    {
      "cell_type": "code",
      "source": [
        "s=set(l)"
      ],
      "metadata": {
        "id": "mvj0m_ckabBD"
      },
      "execution_count": 83,
      "outputs": []
    },
    {
      "cell_type": "code",
      "source": [
        "for i in s :\n",
        "  print(i)"
      ],
      "metadata": {
        "colab": {
          "base_uri": "https://localhost:8080/"
        },
        "id": "Bbz61VSAYGgu",
        "outputId": "9c35e651-79fe-4416-efa4-b373fa1076c2"
      },
      "execution_count": 84,
      "outputs": [
        {
          "output_type": "stream",
          "name": "stdout",
          "text": [
            "34\n",
            "67\n",
            "babar\n",
            "shivaram\n",
            "45\n",
            "78\n",
            "56\n"
          ]
        }
      ]
    },
    {
      "cell_type": "code",
      "source": [
        "34 in s"
      ],
      "metadata": {
        "colab": {
          "base_uri": "https://localhost:8080/"
        },
        "id": "GVRUU9LgYGj1",
        "outputId": "1fb96eac-b19a-4706-84e6-2dace17f236e"
      },
      "execution_count": 85,
      "outputs": [
        {
          "output_type": "execute_result",
          "data": {
            "text/plain": [
              "True"
            ]
          },
          "metadata": {},
          "execution_count": 85
        }
      ]
    },
    {
      "cell_type": "code",
      "source": [
        "35 in s"
      ],
      "metadata": {
        "colab": {
          "base_uri": "https://localhost:8080/"
        },
        "id": "1u0IKn5sYGnD",
        "outputId": "51c8b33a-9b39-4ba6-c5d4-533043670a59"
      },
      "execution_count": 86,
      "outputs": [
        {
          "output_type": "execute_result",
          "data": {
            "text/plain": [
              "False"
            ]
          },
          "metadata": {},
          "execution_count": 86
        }
      ]
    },
    {
      "cell_type": "code",
      "source": [
        "s[0]"
      ],
      "metadata": {
        "colab": {
          "base_uri": "https://localhost:8080/",
          "height": 144
        },
        "id": "JrgcbajHa4Db",
        "outputId": "aa27e99d-6a74-4888-f40f-775f96dc078b"
      },
      "execution_count": 87,
      "outputs": [
        {
          "output_type": "error",
          "ename": "TypeError",
          "evalue": "'set' object is not subscriptable",
          "traceback": [
            "\u001b[0;31m---------------------------------------------------------------------------\u001b[0m",
            "\u001b[0;31mTypeError\u001b[0m                                 Traceback (most recent call last)",
            "\u001b[0;32m<ipython-input-87-c9c96910e542>\u001b[0m in \u001b[0;36m<cell line: 1>\u001b[0;34m()\u001b[0m\n\u001b[0;32m----> 1\u001b[0;31m \u001b[0ms\u001b[0m\u001b[0;34m[\u001b[0m\u001b[0;36m0\u001b[0m\u001b[0;34m]\u001b[0m\u001b[0;34m\u001b[0m\u001b[0;34m\u001b[0m\u001b[0m\n\u001b[0m",
            "\u001b[0;31mTypeError\u001b[0m: 'set' object is not subscriptable"
          ]
        }
      ]
    },
    {
      "cell_type": "code",
      "source": [
        "s=set()\n",
        "s"
      ],
      "metadata": {
        "colab": {
          "base_uri": "https://localhost:8080/"
        },
        "id": "3rCCPrM2bMRe",
        "outputId": "b06562ee-94f0-480d-8b1a-7c9620165ca4"
      },
      "execution_count": 90,
      "outputs": [
        {
          "output_type": "execute_result",
          "data": {
            "text/plain": [
              "set()"
            ]
          },
          "metadata": {},
          "execution_count": 90
        }
      ]
    },
    {
      "cell_type": "code",
      "source": [
        "s.add(45)"
      ],
      "metadata": {
        "id": "7dEz8u47bfGN"
      },
      "execution_count": 92,
      "outputs": []
    },
    {
      "cell_type": "code",
      "source": [
        "s"
      ],
      "metadata": {
        "colab": {
          "base_uri": "https://localhost:8080/"
        },
        "id": "LM1ehunCbatZ",
        "outputId": "ae6d0de9-7fe3-4a97-b44a-547caacb66c1"
      },
      "execution_count": 93,
      "outputs": [
        {
          "output_type": "execute_result",
          "data": {
            "text/plain": [
              "{45}"
            ]
          },
          "metadata": {},
          "execution_count": 93
        }
      ]
    },
    {
      "cell_type": "code",
      "source": [
        "s.add(\"shivaram\")"
      ],
      "metadata": {
        "id": "YewHp4aMbbjg"
      },
      "execution_count": 94,
      "outputs": []
    },
    {
      "cell_type": "code",
      "source": [
        "s.add(\"sdsdsd\")"
      ],
      "metadata": {
        "id": "rMaCKsglb0TK"
      },
      "execution_count": 95,
      "outputs": []
    },
    {
      "cell_type": "code",
      "source": [
        "s.add(234555,535)"
      ],
      "metadata": {
        "colab": {
          "base_uri": "https://localhost:8080/",
          "height": 144
        },
        "id": "XkcK1ENlb2X6",
        "outputId": "f471687c-73aa-433a-e5fd-b6ffc729d31b"
      },
      "execution_count": 96,
      "outputs": [
        {
          "output_type": "error",
          "ename": "TypeError",
          "evalue": "set.add() takes exactly one argument (2 given)",
          "traceback": [
            "\u001b[0;31m---------------------------------------------------------------------------\u001b[0m",
            "\u001b[0;31mTypeError\u001b[0m                                 Traceback (most recent call last)",
            "\u001b[0;32m<ipython-input-96-fe1ae095fd45>\u001b[0m in \u001b[0;36m<cell line: 1>\u001b[0;34m()\u001b[0m\n\u001b[0;32m----> 1\u001b[0;31m \u001b[0ms\u001b[0m\u001b[0;34m.\u001b[0m\u001b[0madd\u001b[0m\u001b[0;34m(\u001b[0m\u001b[0;36m234555\u001b[0m\u001b[0;34m,\u001b[0m\u001b[0;36m535\u001b[0m\u001b[0;34m)\u001b[0m\u001b[0;34m\u001b[0m\u001b[0;34m\u001b[0m\u001b[0m\n\u001b[0m",
            "\u001b[0;31mTypeError\u001b[0m: set.add() takes exactly one argument (2 given)"
          ]
        }
      ]
    },
    {
      "cell_type": "code",
      "source": [
        "s\n"
      ],
      "metadata": {
        "colab": {
          "base_uri": "https://localhost:8080/"
        },
        "id": "INoHJdDUb7Zf",
        "outputId": "bc398aa9-7505-4557-ebae-23b45a1bcd4c"
      },
      "execution_count": 97,
      "outputs": [
        {
          "output_type": "execute_result",
          "data": {
            "text/plain": [
              "{45, 'sdsdsd', 'shivaram'}"
            ]
          },
          "metadata": {},
          "execution_count": 97
        }
      ]
    },
    {
      "cell_type": "code",
      "source": [
        "s.remove(45)"
      ],
      "metadata": {
        "colab": {
          "base_uri": "https://localhost:8080/",
          "height": 144
        },
        "id": "H820pTNHb-KT",
        "outputId": "08b42794-cfaf-4638-8cc0-99c70300dc80"
      },
      "execution_count": 99,
      "outputs": [
        {
          "output_type": "error",
          "ename": "KeyError",
          "evalue": "45",
          "traceback": [
            "\u001b[0;31m---------------------------------------------------------------------------\u001b[0m",
            "\u001b[0;31mKeyError\u001b[0m                                  Traceback (most recent call last)",
            "\u001b[0;32m<ipython-input-99-30b5ee21a9a0>\u001b[0m in \u001b[0;36m<cell line: 1>\u001b[0;34m()\u001b[0m\n\u001b[0;32m----> 1\u001b[0;31m \u001b[0ms\u001b[0m\u001b[0;34m.\u001b[0m\u001b[0mremove\u001b[0m\u001b[0;34m(\u001b[0m\u001b[0;36m45\u001b[0m\u001b[0;34m)\u001b[0m\u001b[0;34m\u001b[0m\u001b[0;34m\u001b[0m\u001b[0m\n\u001b[0m",
            "\u001b[0;31mKeyError\u001b[0m: 45"
          ]
        }
      ]
    },
    {
      "cell_type": "code",
      "source": [
        "s.clear()"
      ],
      "metadata": {
        "id": "Bs2QuQOPcB6v"
      },
      "execution_count": 100,
      "outputs": []
    },
    {
      "cell_type": "code",
      "source": [
        "s"
      ],
      "metadata": {
        "colab": {
          "base_uri": "https://localhost:8080/"
        },
        "id": "pgw-OwOtcI9v",
        "outputId": "80ad08d5-4666-417e-9ff2-bcbc1eeb2256"
      },
      "execution_count": 101,
      "outputs": [
        {
          "output_type": "execute_result",
          "data": {
            "text/plain": [
              "set()"
            ]
          },
          "metadata": {},
          "execution_count": 101
        }
      ]
    },
    {
      "cell_type": "code",
      "source": [
        "s"
      ],
      "metadata": {
        "colab": {
          "base_uri": "https://localhost:8080/"
        },
        "id": "Yb6huQ1kcJAl",
        "outputId": "b77154fa-a378-4fe1-a457-923a6ce49da3"
      },
      "execution_count": 102,
      "outputs": [
        {
          "output_type": "execute_result",
          "data": {
            "text/plain": [
              "set()"
            ]
          },
          "metadata": {},
          "execution_count": 102
        }
      ]
    },
    {
      "cell_type": "code",
      "source": [
        "s"
      ],
      "metadata": {
        "colab": {
          "base_uri": "https://localhost:8080/"
        },
        "id": "gzmdSJF5cJDS",
        "outputId": "830430ee-e34d-4acb-b4b4-7e178a1b6181"
      },
      "execution_count": 103,
      "outputs": [
        {
          "output_type": "execute_result",
          "data": {
            "text/plain": [
              "set()"
            ]
          },
          "metadata": {},
          "execution_count": 103
        }
      ]
    },
    {
      "cell_type": "code",
      "source": [
        "s"
      ],
      "metadata": {
        "colab": {
          "base_uri": "https://localhost:8080/"
        },
        "id": "HGIYQ40ccJGQ",
        "outputId": "ad9d8662-cf04-43e3-8159-fb6cf624a5e1"
      },
      "execution_count": 104,
      "outputs": [
        {
          "output_type": "execute_result",
          "data": {
            "text/plain": [
              "set()"
            ]
          },
          "metadata": {},
          "execution_count": 104
        }
      ]
    },
    {
      "cell_type": "code",
      "source": [
        "s.add(\"sdsd\")"
      ],
      "metadata": {
        "id": "cUr93iLFcJJJ"
      },
      "execution_count": 105,
      "outputs": []
    },
    {
      "cell_type": "code",
      "source": [
        "s.add(234)"
      ],
      "metadata": {
        "id": "cHoBT88DcJMl"
      },
      "execution_count": 106,
      "outputs": []
    },
    {
      "cell_type": "code",
      "source": [
        "s.add(345)"
      ],
      "metadata": {
        "id": "64rvz2k7cyEg"
      },
      "execution_count": 107,
      "outputs": []
    },
    {
      "cell_type": "code",
      "source": [
        "s.add(\"wer\")"
      ],
      "metadata": {
        "id": "KABssb8hcz72"
      },
      "execution_count": 108,
      "outputs": []
    },
    {
      "cell_type": "code",
      "source": [
        "s"
      ],
      "metadata": {
        "colab": {
          "base_uri": "https://localhost:8080/"
        },
        "id": "o6x3uY-Mc2Ir",
        "outputId": "5e019fa5-4f81-4322-b103-249fd6e47d23"
      },
      "execution_count": 109,
      "outputs": [
        {
          "output_type": "execute_result",
          "data": {
            "text/plain": [
              "{234, 345, 'sdsd', 'wer'}"
            ]
          },
          "metadata": {},
          "execution_count": 109
        }
      ]
    },
    {
      "cell_type": "code",
      "source": [
        "s1=set(1)"
      ],
      "metadata": {
        "colab": {
          "base_uri": "https://localhost:8080/",
          "height": 144
        },
        "id": "Ru64EpHfc22y",
        "outputId": "ea7c3de3-ff3e-4101-daa5-5d7e592031c5"
      },
      "execution_count": 110,
      "outputs": [
        {
          "output_type": "error",
          "ename": "TypeError",
          "evalue": "'int' object is not iterable",
          "traceback": [
            "\u001b[0;31m---------------------------------------------------------------------------\u001b[0m",
            "\u001b[0;31mTypeError\u001b[0m                                 Traceback (most recent call last)",
            "\u001b[0;32m<ipython-input-110-09cedd7643a5>\u001b[0m in \u001b[0;36m<cell line: 1>\u001b[0;34m()\u001b[0m\n\u001b[0;32m----> 1\u001b[0;31m \u001b[0ms1\u001b[0m\u001b[0;34m=\u001b[0m\u001b[0mset\u001b[0m\u001b[0;34m(\u001b[0m\u001b[0;36m1\u001b[0m\u001b[0;34m)\u001b[0m\u001b[0;34m\u001b[0m\u001b[0;34m\u001b[0m\u001b[0m\n\u001b[0m",
            "\u001b[0;31mTypeError\u001b[0m: 'int' object is not iterable"
          ]
        }
      ]
    },
    {
      "cell_type": "code",
      "source": [
        "l=[345,54646,4667,645,6]"
      ],
      "metadata": {
        "id": "y7d-EswQc6Gb"
      },
      "execution_count": 111,
      "outputs": []
    },
    {
      "cell_type": "code",
      "source": [
        "s1"
      ],
      "metadata": {
        "colab": {
          "base_uri": "https://localhost:8080/",
          "height": 144
        },
        "id": "IHZmITmNc_8Y",
        "outputId": "2ac98155-1b09-4886-d849-ca1cfde03db3"
      },
      "execution_count": 112,
      "outputs": [
        {
          "output_type": "error",
          "ename": "NameError",
          "evalue": "name 's1' is not defined",
          "traceback": [
            "\u001b[0;31m---------------------------------------------------------------------------\u001b[0m",
            "\u001b[0;31mNameError\u001b[0m                                 Traceback (most recent call last)",
            "\u001b[0;32m<ipython-input-112-d0257f733e5e>\u001b[0m in \u001b[0;36m<cell line: 1>\u001b[0;34m()\u001b[0m\n\u001b[0;32m----> 1\u001b[0;31m \u001b[0ms1\u001b[0m\u001b[0;34m\u001b[0m\u001b[0;34m\u001b[0m\u001b[0m\n\u001b[0m",
            "\u001b[0;31mNameError\u001b[0m: name 's1' is not defined"
          ]
        }
      ]
    },
    {
      "cell_type": "code",
      "source": [
        "s*4"
      ],
      "metadata": {
        "colab": {
          "base_uri": "https://localhost:8080/",
          "height": 144
        },
        "id": "9g26Z6KRdBdr",
        "outputId": "29f7793f-109a-4486-a067-b9d8dfed572e"
      },
      "execution_count": 113,
      "outputs": [
        {
          "output_type": "error",
          "ename": "TypeError",
          "evalue": "unsupported operand type(s) for *: 'set' and 'int'",
          "traceback": [
            "\u001b[0;31m---------------------------------------------------------------------------\u001b[0m",
            "\u001b[0;31mTypeError\u001b[0m                                 Traceback (most recent call last)",
            "\u001b[0;32m<ipython-input-113-cfdd4c7eed53>\u001b[0m in \u001b[0;36m<cell line: 1>\u001b[0;34m()\u001b[0m\n\u001b[0;32m----> 1\u001b[0;31m \u001b[0ms\u001b[0m\u001b[0;34m*\u001b[0m\u001b[0;36m4\u001b[0m\u001b[0;34m\u001b[0m\u001b[0;34m\u001b[0m\u001b[0m\n\u001b[0m",
            "\u001b[0;31mTypeError\u001b[0m: unsupported operand type(s) for *: 'set' and 'int'"
          ]
        }
      ]
    },
    {
      "cell_type": "code",
      "source": [
        "s"
      ],
      "metadata": {
        "colab": {
          "base_uri": "https://localhost:8080/"
        },
        "id": "buccUn5BdEf4",
        "outputId": "89c3c46b-599b-4ebe-a936-d8be03c787f2"
      },
      "execution_count": 114,
      "outputs": [
        {
          "output_type": "execute_result",
          "data": {
            "text/plain": [
              "{234, 345, 'sdsd', 'wer'}"
            ]
          },
          "metadata": {},
          "execution_count": 114
        }
      ]
    },
    {
      "cell_type": "code",
      "source": [
        "l4=list(s)"
      ],
      "metadata": {
        "id": "aOYU7QYZdGR-"
      },
      "execution_count": 115,
      "outputs": []
    },
    {
      "cell_type": "code",
      "source": [
        "l4.append(345)"
      ],
      "metadata": {
        "id": "cPaXHQuJdI3Z"
      },
      "execution_count": 116,
      "outputs": []
    },
    {
      "cell_type": "code",
      "source": [
        "l4"
      ],
      "metadata": {
        "colab": {
          "base_uri": "https://localhost:8080/"
        },
        "id": "I5i3HZotdMfa",
        "outputId": "0b89e6c5-6d28-47ab-bef8-312abd82ba3c"
      },
      "execution_count": 117,
      "outputs": [
        {
          "output_type": "execute_result",
          "data": {
            "text/plain": [
              "['sdsd', 345, 234, 'wer', 345]"
            ]
          },
          "metadata": {},
          "execution_count": 117
        }
      ]
    },
    {
      "cell_type": "code",
      "source": [
        "t4=tuple(s)"
      ],
      "metadata": {
        "id": "5RYd1aH-dPxc"
      },
      "execution_count": 118,
      "outputs": []
    },
    {
      "cell_type": "code",
      "source": [
        "set(t4)"
      ],
      "metadata": {
        "colab": {
          "base_uri": "https://localhost:8080/"
        },
        "id": "wTJ6ipjhdSnN",
        "outputId": "56ed4de6-6666-47ab-c06a-2dcac3c34bbe"
      },
      "execution_count": 119,
      "outputs": [
        {
          "output_type": "execute_result",
          "data": {
            "text/plain": [
              "{234, 345, 'sdsd', 'wer'}"
            ]
          },
          "metadata": {},
          "execution_count": 119
        }
      ]
    },
    {
      "cell_type": "code",
      "source": [
        "# Dictionary"
      ],
      "metadata": {
        "id": "58nwMYW2dUzQ"
      },
      "execution_count": 120,
      "outputs": []
    },
    {
      "cell_type": "code",
      "source": [
        "s[0]"
      ],
      "metadata": {
        "colab": {
          "base_uri": "https://localhost:8080/",
          "height": 144
        },
        "id": "Rm8zAAqod5HO",
        "outputId": "97cdf39c-8760-4646-eb37-f4eaf08ea4df"
      },
      "execution_count": 121,
      "outputs": [
        {
          "output_type": "error",
          "ename": "TypeError",
          "evalue": "'set' object is not subscriptable",
          "traceback": [
            "\u001b[0;31m---------------------------------------------------------------------------\u001b[0m",
            "\u001b[0;31mTypeError\u001b[0m                                 Traceback (most recent call last)",
            "\u001b[0;32m<ipython-input-121-c9c96910e542>\u001b[0m in \u001b[0;36m<cell line: 1>\u001b[0;34m()\u001b[0m\n\u001b[0;32m----> 1\u001b[0;31m \u001b[0ms\u001b[0m\u001b[0;34m[\u001b[0m\u001b[0;36m0\u001b[0m\u001b[0;34m]\u001b[0m\u001b[0;34m\u001b[0m\u001b[0;34m\u001b[0m\u001b[0m\n\u001b[0m",
            "\u001b[0;31mTypeError\u001b[0m: 'set' object is not subscriptable"
          ]
        }
      ]
    },
    {
      "cell_type": "code",
      "source": [
        "x={}"
      ],
      "metadata": {
        "id": "TpPJvVmHd5yx"
      },
      "execution_count": 122,
      "outputs": []
    },
    {
      "cell_type": "code",
      "source": [
        "type(x)"
      ],
      "metadata": {
        "colab": {
          "base_uri": "https://localhost:8080/"
        },
        "id": "8mLuuasHd51w",
        "outputId": "9f0d09dd-8db9-45db-e61a-ab2f55cf53bd"
      },
      "execution_count": 123,
      "outputs": [
        {
          "output_type": "execute_result",
          "data": {
            "text/plain": [
              "dict"
            ]
          },
          "metadata": {},
          "execution_count": 123
        }
      ]
    },
    {
      "cell_type": "code",
      "source": [
        "x1={34,56}"
      ],
      "metadata": {
        "id": "owpXi_h2d55M"
      },
      "execution_count": 124,
      "outputs": []
    },
    {
      "cell_type": "code",
      "source": [
        "type(x1)"
      ],
      "metadata": {
        "colab": {
          "base_uri": "https://localhost:8080/"
        },
        "id": "kBFUX8K3d58J",
        "outputId": "7fae1242-71d0-49f4-b138-a1c5d0fa58be"
      },
      "execution_count": 125,
      "outputs": [
        {
          "output_type": "execute_result",
          "data": {
            "text/plain": [
              "set"
            ]
          },
          "metadata": {},
          "execution_count": 125
        }
      ]
    },
    {
      "cell_type": "code",
      "source": [
        "x={\"name\" : \"shivaram\", \"age\":345} #name, age - key\n",
        "#shivaram, 345 - value"
      ],
      "metadata": {
        "id": "ccJD-0nBd5_O"
      },
      "execution_count": 128,
      "outputs": []
    },
    {
      "cell_type": "code",
      "source": [
        "type(x)"
      ],
      "metadata": {
        "colab": {
          "base_uri": "https://localhost:8080/"
        },
        "id": "O6iU9n3wd6CG",
        "outputId": "54053985-5327-4eab-d52a-a3ae74bc3a33"
      },
      "execution_count": 129,
      "outputs": [
        {
          "output_type": "execute_result",
          "data": {
            "text/plain": [
              "dict"
            ]
          },
          "metadata": {},
          "execution_count": 129
        }
      ]
    },
    {
      "cell_type": "code",
      "source": [
        "x1 = {\"name\": \"shivaram\", \"age\": 23, True: \"fsds\", \"key\": False, 34554.456: None}\n"
      ],
      "metadata": {
        "id": "tUf5Uafyd6Fb"
      },
      "execution_count": 133,
      "outputs": []
    },
    {
      "cell_type": "code",
      "source": [
        "x1"
      ],
      "metadata": {
        "colab": {
          "base_uri": "https://localhost:8080/"
        },
        "id": "xhWmaCI0d6Ik",
        "outputId": "d7750ba4-1869-4cf6-9df8-1bf42601a7de"
      },
      "execution_count": 134,
      "outputs": [
        {
          "output_type": "execute_result",
          "data": {
            "text/plain": [
              "{'name': 'shivaram', 'age': 23, True: 'fsds', 'key': False, 34554.456: None}"
            ]
          },
          "metadata": {},
          "execution_count": 134
        }
      ]
    },
    {
      "cell_type": "code",
      "source": [
        "#we can add dictionary inside dictionary"
      ],
      "metadata": {
        "id": "VMuMpx_ad6Lw"
      },
      "execution_count": 135,
      "outputs": []
    },
    {
      "cell_type": "code",
      "source": [
        "l=[34,45,4,54]\n",
        "l[2]"
      ],
      "metadata": {
        "colab": {
          "base_uri": "https://localhost:8080/"
        },
        "id": "rLgchiv0d6Ox",
        "outputId": "3c1a0e8c-8da9-4dab-d384-c83bf96fd66f"
      },
      "execution_count": 137,
      "outputs": [
        {
          "output_type": "execute_result",
          "data": {
            "text/plain": [
              "4"
            ]
          },
          "metadata": {},
          "execution_count": 137
        }
      ]
    },
    {
      "cell_type": "code",
      "source": [
        "x1[\"key\"]"
      ],
      "metadata": {
        "colab": {
          "base_uri": "https://localhost:8080/"
        },
        "id": "hXWbHLpDd6Rr",
        "outputId": "2efd2378-054e-4df8-fbe2-f6c7b0d5108c"
      },
      "execution_count": 139,
      "outputs": [
        {
          "output_type": "execute_result",
          "data": {
            "text/plain": [
              "False"
            ]
          },
          "metadata": {},
          "execution_count": 139
        }
      ]
    },
    {
      "cell_type": "code",
      "source": [
        "x1[34554]"
      ],
      "metadata": {
        "colab": {
          "base_uri": "https://localhost:8080/",
          "height": 144
        },
        "id": "ZgBTm6Tld6Uz",
        "outputId": "557034c8-bfb8-4647-a207-5fe06086bd30"
      },
      "execution_count": 140,
      "outputs": [
        {
          "output_type": "error",
          "ename": "KeyError",
          "evalue": "34554",
          "traceback": [
            "\u001b[0;31m---------------------------------------------------------------------------\u001b[0m",
            "\u001b[0;31mKeyError\u001b[0m                                  Traceback (most recent call last)",
            "\u001b[0;32m<ipython-input-140-857da2815b32>\u001b[0m in \u001b[0;36m<cell line: 1>\u001b[0;34m()\u001b[0m\n\u001b[0;32m----> 1\u001b[0;31m \u001b[0mx1\u001b[0m\u001b[0;34m[\u001b[0m\u001b[0;36m34554\u001b[0m\u001b[0;34m]\u001b[0m\u001b[0;34m\u001b[0m\u001b[0;34m\u001b[0m\u001b[0m\n\u001b[0m",
            "\u001b[0;31mKeyError\u001b[0m: 34554"
          ]
        }
      ]
    },
    {
      "cell_type": "code",
      "source": [
        "x3={5:\"wer\",'k4':[345,534535,534,]}"
      ],
      "metadata": {
        "id": "k6qR-TP_d6YG"
      },
      "execution_count": 141,
      "outputs": []
    },
    {
      "cell_type": "code",
      "source": [
        "x4={\"k4\": }"
      ],
      "metadata": {
        "id": "fM33BwxLjqud"
      },
      "execution_count": null,
      "outputs": []
    },
    {
      "cell_type": "code",
      "source": [
        "x2 = {\"name \" :{\"k1\":\"wer\",'k4' :[345,534535,534,]} , \"age\": 3455 ,True : {45,34545,454,54}, \"key\" : False , 34554:(45,45,45,45) , \"_sfsdf\" : [34,45,454,54,545]}"
      ],
      "metadata": {
        "id": "hclolQa0jyL1"
      },
      "execution_count": 191,
      "outputs": []
    },
    {
      "cell_type": "code",
      "source": [
        "x2"
      ],
      "metadata": {
        "colab": {
          "base_uri": "https://localhost:8080/"
        },
        "id": "UvDZTyEtjyOw",
        "outputId": "3d7b2909-dc45-4268-ccd7-4b8020fe6fb6"
      },
      "execution_count": 192,
      "outputs": [
        {
          "output_type": "execute_result",
          "data": {
            "text/plain": [
              "{'name ': {'k1': 'wer', 'k4': [345, 534535, 534]},\n",
              " 'age': 3455,\n",
              " True: {45, 54, 454, 34545},\n",
              " 'key': False,\n",
              " 34554: (45, 45, 45, 45),\n",
              " '_sfsdf': [34, 45, 454, 54, 545]}"
            ]
          },
          "metadata": {},
          "execution_count": 192
        }
      ]
    },
    {
      "cell_type": "code",
      "source": [
        "x2[\"key\"]"
      ],
      "metadata": {
        "colab": {
          "base_uri": "https://localhost:8080/"
        },
        "id": "ZtgfLr_vqlPB",
        "outputId": "878b5caa-a0b9-427d-a299-cb1fe2c7d36c"
      },
      "execution_count": 193,
      "outputs": [
        {
          "output_type": "execute_result",
          "data": {
            "text/plain": [
              "False"
            ]
          },
          "metadata": {},
          "execution_count": 193
        }
      ]
    },
    {
      "cell_type": "code",
      "source": [
        "x2[34554]"
      ],
      "metadata": {
        "colab": {
          "base_uri": "https://localhost:8080/"
        },
        "id": "eo1GD80zqlhQ",
        "outputId": "c2f167f3-975d-479b-99e6-1c4a9c34c275"
      },
      "execution_count": 194,
      "outputs": [
        {
          "output_type": "execute_result",
          "data": {
            "text/plain": [
              "(45, 45, 45, 45)"
            ]
          },
          "metadata": {},
          "execution_count": 194
        }
      ]
    },
    {
      "cell_type": "code",
      "source": [
        "x2[\"_sfsdf\"][3]"
      ],
      "metadata": {
        "colab": {
          "base_uri": "https://localhost:8080/"
        },
        "id": "faws6rsxqlqz",
        "outputId": "61872c13-f97c-4f7a-8372-2e77da7e8e42"
      },
      "execution_count": 195,
      "outputs": [
        {
          "output_type": "execute_result",
          "data": {
            "text/plain": [
              "54"
            ]
          },
          "metadata": {},
          "execution_count": 195
        }
      ]
    },
    {
      "cell_type": "code",
      "source": [
        "x2[\"name \"]['k4'][2]"
      ],
      "metadata": {
        "colab": {
          "base_uri": "https://localhost:8080/"
        },
        "id": "JVIoOKR4qlxg",
        "outputId": "6057bff6-6b93-4d4f-94b6-2dc2a9474463"
      },
      "execution_count": 196,
      "outputs": [
        {
          "output_type": "execute_result",
          "data": {
            "text/plain": [
              "534"
            ]
          },
          "metadata": {},
          "execution_count": 196
        }
      ]
    },
    {
      "cell_type": "code",
      "source": [
        "x2"
      ],
      "metadata": {
        "colab": {
          "base_uri": "https://localhost:8080/"
        },
        "id": "GlAU5c5Nql3x",
        "outputId": "a6339447-4aab-456e-fcce-b0d0a6ca0224"
      },
      "execution_count": 197,
      "outputs": [
        {
          "output_type": "execute_result",
          "data": {
            "text/plain": [
              "{'name ': {'k1': 'wer', 'k4': [345, 534535, 534]},\n",
              " 'age': 3455,\n",
              " True: {45, 54, 454, 34545},\n",
              " 'key': False,\n",
              " 34554: (45, 45, 45, 45),\n",
              " '_sfsdf': [34, 45, 454, 54, 545]}"
            ]
          },
          "metadata": {},
          "execution_count": 197
        }
      ]
    },
    {
      "cell_type": "code",
      "source": [
        "x2.keys()"
      ],
      "metadata": {
        "colab": {
          "base_uri": "https://localhost:8080/"
        },
        "id": "p_NEQPsuql-i",
        "outputId": "94e8beef-6b41-45f0-a975-0cb4cf799d03"
      },
      "execution_count": 198,
      "outputs": [
        {
          "output_type": "execute_result",
          "data": {
            "text/plain": [
              "dict_keys(['name ', 'age', True, 'key', 34554, '_sfsdf'])"
            ]
          },
          "metadata": {},
          "execution_count": 198
        }
      ]
    },
    {
      "cell_type": "code",
      "source": [
        "for i in x2.keys():\n",
        "    print(type(x2[i]))"
      ],
      "metadata": {
        "colab": {
          "base_uri": "https://localhost:8080/"
        },
        "id": "TvA2f5uKq20b",
        "outputId": "765d1f21-37ea-483c-e8b9-5b2b3ba525a5"
      },
      "execution_count": 199,
      "outputs": [
        {
          "output_type": "stream",
          "name": "stdout",
          "text": [
            "<class 'dict'>\n",
            "<class 'int'>\n",
            "<class 'set'>\n",
            "<class 'bool'>\n",
            "<class 'tuple'>\n",
            "<class 'list'>\n"
          ]
        }
      ]
    },
    {
      "cell_type": "code",
      "source": [
        "x2.items()"
      ],
      "metadata": {
        "colab": {
          "base_uri": "https://localhost:8080/"
        },
        "id": "kziIsTUQq26Y",
        "outputId": "57a7bc38-2e67-4948-a6df-94636407494f"
      },
      "execution_count": 200,
      "outputs": [
        {
          "output_type": "execute_result",
          "data": {
            "text/plain": [
              "dict_items([('name ', {'k1': 'wer', 'k4': [345, 534535, 534]}), ('age', 3455), (True, {34545, 454, 45, 54}), ('key', False), (34554, (45, 45, 45, 45)), ('_sfsdf', [34, 45, 454, 54, 545])])"
            ]
          },
          "metadata": {},
          "execution_count": 200
        }
      ]
    },
    {
      "cell_type": "code",
      "source": [
        "for i in x2.items():\n",
        "    print(i[1])"
      ],
      "metadata": {
        "colab": {
          "base_uri": "https://localhost:8080/"
        },
        "id": "lh4rMDQbq3AR",
        "outputId": "ad672ca6-853c-43cd-c3d6-9a8cb54822d0"
      },
      "execution_count": 201,
      "outputs": [
        {
          "output_type": "stream",
          "name": "stdout",
          "text": [
            "{'k1': 'wer', 'k4': [345, 534535, 534]}\n",
            "3455\n",
            "{34545, 454, 45, 54}\n",
            "False\n",
            "(45, 45, 45, 45)\n",
            "[34, 45, 454, 54, 545]\n"
          ]
        }
      ]
    },
    {
      "cell_type": "code",
      "source": [
        "x2"
      ],
      "metadata": {
        "colab": {
          "base_uri": "https://localhost:8080/"
        },
        "id": "Q8AsBGYyq3Nn",
        "outputId": "ea00e0d2-8c82-4c8c-f3b0-ac7475bd3ded"
      },
      "execution_count": 202,
      "outputs": [
        {
          "output_type": "execute_result",
          "data": {
            "text/plain": [
              "{'name ': {'k1': 'wer', 'k4': [345, 534535, 534]},\n",
              " 'age': 3455,\n",
              " True: {45, 54, 454, 34545},\n",
              " 'key': False,\n",
              " 34554: (45, 45, 45, 45),\n",
              " '_sfsdf': [34, 45, 454, 54, 545]}"
            ]
          },
          "metadata": {},
          "execution_count": 202
        }
      ]
    },
    {
      "cell_type": "code",
      "source": [
        "len(x2)"
      ],
      "metadata": {
        "colab": {
          "base_uri": "https://localhost:8080/"
        },
        "id": "G7_nvcnsrDOx",
        "outputId": "02c2a32d-bee4-4c07-a225-55c61b9bc7c2"
      },
      "execution_count": 203,
      "outputs": [
        {
          "output_type": "execute_result",
          "data": {
            "text/plain": [
              "6"
            ]
          },
          "metadata": {},
          "execution_count": 203
        }
      ]
    },
    {
      "cell_type": "code",
      "source": [
        "e = {56: {45, 78, 89}}\n",
        "e[56]"
      ],
      "metadata": {
        "colab": {
          "base_uri": "https://localhost:8080/"
        },
        "id": "4EpimFTXrDXd",
        "outputId": "114f2659-adee-4938-c562-792eb31477c1"
      },
      "execution_count": 204,
      "outputs": [
        {
          "output_type": "execute_result",
          "data": {
            "text/plain": [
              "{45, 78, 89}"
            ]
          },
          "metadata": {},
          "execution_count": 204
        }
      ]
    },
    {
      "cell_type": "code",
      "source": [
        "list(e[56])[0]"
      ],
      "metadata": {
        "colab": {
          "base_uri": "https://localhost:8080/"
        },
        "id": "rEFwmWncrDgc",
        "outputId": "ad810669-372e-45c5-c5ec-54c7be630ef8"
      },
      "execution_count": 205,
      "outputs": [
        {
          "output_type": "execute_result",
          "data": {
            "text/plain": [
              "89"
            ]
          },
          "metadata": {},
          "execution_count": 205
        }
      ]
    },
    {
      "cell_type": "code",
      "source": [
        "x3"
      ],
      "metadata": {
        "colab": {
          "base_uri": "https://localhost:8080/"
        },
        "id": "z4XemxtJjyRg",
        "outputId": "43e7abf1-12d6-4d88-e529-83c1bb8a3f02"
      },
      "execution_count": 142,
      "outputs": [
        {
          "output_type": "execute_result",
          "data": {
            "text/plain": [
              "{5: 'wer', 'k4': [345, 534535, 534]}"
            ]
          },
          "metadata": {},
          "execution_count": 142
        }
      ]
    },
    {
      "cell_type": "code",
      "source": [
        "x3['k4']='shivaram'"
      ],
      "metadata": {
        "id": "nXvMgv-RjyVG"
      },
      "execution_count": 143,
      "outputs": []
    },
    {
      "cell_type": "code",
      "source": [
        "x3"
      ],
      "metadata": {
        "colab": {
          "base_uri": "https://localhost:8080/"
        },
        "id": "8cHVKrFGj6oy",
        "outputId": "32f61eee-f7fb-4ca2-b633-f774cd603190"
      },
      "execution_count": 144,
      "outputs": [
        {
          "output_type": "execute_result",
          "data": {
            "text/plain": [
              "{5: 'wer', 'k4': 'shivaram'}"
            ]
          },
          "metadata": {},
          "execution_count": 144
        }
      ]
    },
    {
      "cell_type": "code",
      "source": [
        "x3*3"
      ],
      "metadata": {
        "colab": {
          "base_uri": "https://localhost:8080/",
          "height": 144
        },
        "id": "At-Dyfcaj8Dp",
        "outputId": "aedd25e8-2a31-40e7-965a-f07a7c524392"
      },
      "execution_count": 145,
      "outputs": [
        {
          "output_type": "error",
          "ename": "TypeError",
          "evalue": "unsupported operand type(s) for *: 'dict' and 'int'",
          "traceback": [
            "\u001b[0;31m---------------------------------------------------------------------------\u001b[0m",
            "\u001b[0;31mTypeError\u001b[0m                                 Traceback (most recent call last)",
            "\u001b[0;32m<ipython-input-145-3a42545c4868>\u001b[0m in \u001b[0;36m<cell line: 1>\u001b[0;34m()\u001b[0m\n\u001b[0;32m----> 1\u001b[0;31m \u001b[0mx3\u001b[0m\u001b[0;34m*\u001b[0m\u001b[0;36m3\u001b[0m\u001b[0;34m\u001b[0m\u001b[0;34m\u001b[0m\u001b[0m\n\u001b[0m",
            "\u001b[0;31mTypeError\u001b[0m: unsupported operand type(s) for *: 'dict' and 'int'"
          ]
        }
      ]
    },
    {
      "cell_type": "code",
      "source": [
        "x3['k4']=456"
      ],
      "metadata": {
        "id": "gnUsY38Jj_r0"
      },
      "execution_count": 152,
      "outputs": []
    },
    {
      "cell_type": "code",
      "source": [
        "x3['k4']=10"
      ],
      "metadata": {
        "id": "0YAAZfBCkE82"
      },
      "execution_count": 150,
      "outputs": []
    },
    {
      "cell_type": "code",
      "source": [
        "x3"
      ],
      "metadata": {
        "colab": {
          "base_uri": "https://localhost:8080/"
        },
        "id": "HEmHh1pdkJZL",
        "outputId": "90bcbed2-8d2f-48e8-d4b8-4b8576324ad2"
      },
      "execution_count": 153,
      "outputs": [
        {
          "output_type": "execute_result",
          "data": {
            "text/plain": [
              "{5: 'wer', 'k4': 456}"
            ]
          },
          "metadata": {},
          "execution_count": 153
        }
      ]
    },
    {
      "cell_type": "code",
      "source": [
        "x3.keys()"
      ],
      "metadata": {
        "colab": {
          "base_uri": "https://localhost:8080/"
        },
        "id": "4jSgz9xCkM0g",
        "outputId": "426aa371-8b58-40c9-cc18-30a883b953d8"
      },
      "execution_count": 154,
      "outputs": [
        {
          "output_type": "execute_result",
          "data": {
            "text/plain": [
              "dict_keys([5, 'k4'])"
            ]
          },
          "metadata": {},
          "execution_count": 154
        }
      ]
    },
    {
      "cell_type": "code",
      "source": [
        "'k4' in x3.keys()"
      ],
      "metadata": {
        "colab": {
          "base_uri": "https://localhost:8080/"
        },
        "id": "FCATKnS6kXQa",
        "outputId": "738fa7ef-0de8-4579-fa75-f3fea6a4cfac"
      },
      "execution_count": 155,
      "outputs": [
        {
          "output_type": "execute_result",
          "data": {
            "text/plain": [
              "True"
            ]
          },
          "metadata": {},
          "execution_count": 155
        }
      ]
    },
    {
      "cell_type": "code",
      "source": [
        "for i in x3 :\n",
        "  print(i)"
      ],
      "metadata": {
        "colab": {
          "base_uri": "https://localhost:8080/"
        },
        "id": "oTV3XhI7kdh3",
        "outputId": "e39eda1f-0a84-4a54-aa55-f293c799ebb0"
      },
      "execution_count": 157,
      "outputs": [
        {
          "output_type": "stream",
          "name": "stdout",
          "text": [
            "5\n",
            "k4\n"
          ]
        }
      ]
    },
    {
      "cell_type": "code",
      "source": [
        "x3"
      ],
      "metadata": {
        "colab": {
          "base_uri": "https://localhost:8080/"
        },
        "id": "8tpZNkLFklAX",
        "outputId": "25595456-27bd-4a32-f038-1550f8eb7494"
      },
      "execution_count": 158,
      "outputs": [
        {
          "output_type": "execute_result",
          "data": {
            "text/plain": [
              "{5: 'wer', 'k4': 456}"
            ]
          },
          "metadata": {},
          "execution_count": 158
        }
      ]
    },
    {
      "cell_type": "code",
      "source": [
        "for i in x3.keys() :\n",
        "  print(x3[i])"
      ],
      "metadata": {
        "colab": {
          "base_uri": "https://localhost:8080/"
        },
        "id": "3QGPo3jYkokw",
        "outputId": "ace22bbe-e0a0-4e2e-a2d1-9bdc8b3b5de7"
      },
      "execution_count": 161,
      "outputs": [
        {
          "output_type": "stream",
          "name": "stdout",
          "text": [
            "wer\n",
            "456\n"
          ]
        }
      ]
    },
    {
      "cell_type": "code",
      "source": [
        "x3"
      ],
      "metadata": {
        "colab": {
          "base_uri": "https://localhost:8080/"
        },
        "id": "Z8z8DMWOkyYQ",
        "outputId": "142b04bc-ef0d-45ac-a058-7e886384dbe7"
      },
      "execution_count": 162,
      "outputs": [
        {
          "output_type": "execute_result",
          "data": {
            "text/plain": [
              "{5: 'wer', 'k4': 456}"
            ]
          },
          "metadata": {},
          "execution_count": 162
        }
      ]
    },
    {
      "cell_type": "code",
      "source": [
        "x3.items()"
      ],
      "metadata": {
        "colab": {
          "base_uri": "https://localhost:8080/"
        },
        "id": "3lUfbChDk6pW",
        "outputId": "e9ada5dc-16e9-45e9-e045-58cc8ff28094"
      },
      "execution_count": 164,
      "outputs": [
        {
          "output_type": "execute_result",
          "data": {
            "text/plain": [
              "dict_items([(5, 'wer'), ('k4', 456)])"
            ]
          },
          "metadata": {},
          "execution_count": 164
        }
      ]
    },
    {
      "cell_type": "code",
      "source": [
        "for i in x3.items():\n",
        "  print(i)"
      ],
      "metadata": {
        "colab": {
          "base_uri": "https://localhost:8080/"
        },
        "id": "EBSHYoPrlMmF",
        "outputId": "e589e41d-7504-475d-d867-ab9587299c95"
      },
      "execution_count": 166,
      "outputs": [
        {
          "output_type": "stream",
          "name": "stdout",
          "text": [
            "(5, 'wer')\n",
            "('k4', 456)\n"
          ]
        }
      ]
    },
    {
      "cell_type": "code",
      "source": [
        "for i in x3.items():\n",
        "  print(i[0])"
      ],
      "metadata": {
        "colab": {
          "base_uri": "https://localhost:8080/"
        },
        "id": "nmj0dTbalfG9",
        "outputId": "4fb26066-ba1b-41a0-9d7b-de6589bdd24a"
      },
      "execution_count": 167,
      "outputs": [
        {
          "output_type": "stream",
          "name": "stdout",
          "text": [
            "5\n",
            "k4\n"
          ]
        }
      ]
    },
    {
      "cell_type": "code",
      "source": [
        "x5={(34,56,56) : \"jdjdhkhdkj\"}"
      ],
      "metadata": {
        "id": "IP44RxW2lnuo"
      },
      "execution_count": 177,
      "outputs": []
    },
    {
      "cell_type": "code",
      "source": [
        "x5"
      ],
      "metadata": {
        "colab": {
          "base_uri": "https://localhost:8080/"
        },
        "id": "Tg2FltAYl0eq",
        "outputId": "2aa29d9d-d1a5-4267-84ad-e66654ece507"
      },
      "execution_count": 170,
      "outputs": [
        {
          "output_type": "execute_result",
          "data": {
            "text/plain": [
              "{(34, 56, 56): 'jdjdhkhdkj'}"
            ]
          },
          "metadata": {},
          "execution_count": 170
        }
      ]
    },
    {
      "cell_type": "code",
      "source": [
        "x5[(34,56,56)]"
      ],
      "metadata": {
        "colab": {
          "base_uri": "https://localhost:8080/",
          "height": 36
        },
        "id": "E72sCRs8l6P5",
        "outputId": "19b834e5-ed1f-40a3-e9c9-8a976945e80f"
      },
      "execution_count": 175,
      "outputs": [
        {
          "output_type": "execute_result",
          "data": {
            "text/plain": [
              "'jdjdhkhdkj'"
            ],
            "application/vnd.google.colaboratory.intrinsic+json": {
              "type": "string"
            }
          },
          "metadata": {},
          "execution_count": 175
        }
      ]
    },
    {
      "cell_type": "code",
      "source": [
        "x3"
      ],
      "metadata": {
        "colab": {
          "base_uri": "https://localhost:8080/"
        },
        "id": "Ihrtggr0mBG6",
        "outputId": "b66a4bc3-d4bb-432f-e66d-f8675a2d527e"
      },
      "execution_count": 172,
      "outputs": [
        {
          "output_type": "execute_result",
          "data": {
            "text/plain": [
              "{5: 'wer', 'k4': 456}"
            ]
          },
          "metadata": {},
          "execution_count": 172
        }
      ]
    },
    {
      "cell_type": "code",
      "source": [
        "len(x3)"
      ],
      "metadata": {
        "colab": {
          "base_uri": "https://localhost:8080/"
        },
        "id": "jJdO2oXAmDaB",
        "outputId": "7dbac117-70f9-43a0-d0cc-f9e5dbd50f4e"
      },
      "execution_count": 173,
      "outputs": [
        {
          "output_type": "execute_result",
          "data": {
            "text/plain": [
              "2"
            ]
          },
          "metadata": {},
          "execution_count": 173
        }
      ]
    },
    {
      "cell_type": "code",
      "source": [
        "len(x5)"
      ],
      "metadata": {
        "colab": {
          "base_uri": "https://localhost:8080/"
        },
        "id": "OCN70AbFmFWh",
        "outputId": "ffba26d2-791c-4d9e-caf6-b31d65459257"
      },
      "execution_count": 178,
      "outputs": [
        {
          "output_type": "execute_result",
          "data": {
            "text/plain": [
              "1"
            ]
          },
          "metadata": {},
          "execution_count": 178
        }
      ]
    },
    {
      "cell_type": "code",
      "source": [
        "data=input(\"Enter the paragraph-->> \")\n",
        "\n",
        "# Q1\n",
        "data_list= data.split(\" \")\n",
        "\n",
        "# Q2\n",
        "no_duplicate=set(data_list)\n",
        "\n",
        "# Q3\n",
        "my_dict={}\n",
        "for i in no_duplicate:\n",
        "    my_dict[i]=\"shivaram\"\n",
        "# my_dict\n",
        "\n",
        "# Q4\n",
        "tup_list=[]\n",
        "for i in my_dict.keys():\n",
        "    tup_list.append(my_dict[i])\n",
        "\n",
        "print(\"Tuple List-->> \",tuple(tup_list))\n",
        "\n",
        "\n",
        "\n",
        "# Q5\n",
        "list_keys=[]\n",
        "for i in my_dict.keys():\n",
        "    list_keys.append(i)\n",
        "\n",
        "print(\"List Keys-->> \",list_keys)\n"
      ],
      "metadata": {
        "colab": {
          "base_uri": "https://localhost:8080/"
        },
        "id": "5z-BRL5MmGu9",
        "outputId": "28aa11f6-e7a4-45c8-b249-bdcd10d567b8"
      },
      "execution_count": 180,
      "outputs": [
        {
          "output_type": "stream",
          "name": "stdout",
          "text": [
            "Enter the paragraph-->> In conclusion, Diwali is a cherished tradition that holds a special place in my heart due to its rich cultural heritage, vibrant festivities, and profound symbolism. The festival encapsulates the values of joy, unity, and hope, serving as a time for celebration, reflection, and spreading happiness. As I partake in the rituals and customs of Diwali each year, I am reminded of the enduring spirit of humanity and the triumph of light over darkness that continues to inspire and uplift us all.\n",
            "Tuple List-->>  ('shivaram', 'shivaram', 'shivaram', 'shivaram', 'shivaram', 'shivaram', 'shivaram', 'shivaram', 'shivaram', 'shivaram', 'shivaram', 'shivaram', 'shivaram', 'shivaram', 'shivaram', 'shivaram', 'shivaram', 'shivaram', 'shivaram', 'shivaram', 'shivaram', 'shivaram', 'shivaram', 'shivaram', 'shivaram', 'shivaram', 'shivaram', 'shivaram', 'shivaram', 'shivaram', 'shivaram', 'shivaram', 'shivaram', 'shivaram', 'shivaram', 'shivaram', 'shivaram', 'shivaram', 'shivaram', 'shivaram', 'shivaram', 'shivaram', 'shivaram', 'shivaram', 'shivaram', 'shivaram', 'shivaram', 'shivaram', 'shivaram', 'shivaram', 'shivaram', 'shivaram', 'shivaram', 'shivaram', 'shivaram', 'shivaram', 'shivaram', 'shivaram', 'shivaram', 'shivaram', 'shivaram', 'shivaram', 'shivaram')\n",
            "List Keys-->>  ['I', 'that', 'reflection,', 'symbolism.', 'conclusion,', 'in', 'my', 'profound', 'the', 'As', 'us', 'reminded', 'a', 'each', 'is', 'values', 'serving', 'customs', 'celebration,', 'hope,', 'heart', 'and', 'as', 'for', 'enduring', 'cultural', 'time', 'continues', 'of', 'festivities,', 'cherished', 'joy,', 'Diwali', 'unity,', 'humanity', 'its', 'all.', 'rituals', 'heritage,', 'spreading', 'spirit', 'special', 'vibrant', 'triumph', 'darkness', 'partake', 'In', 'tradition', 'light', 'rich', 'inspire', 'The', 'holds', 'am', 'uplift', 'place', 'due', 'festival', 'year,', 'encapsulates', 'to', 'happiness.', 'over']\n"
          ]
        }
      ]
    },
    {
      "cell_type": "code",
      "source": [
        "paragph = input(\"Enter the para:\")\n",
        "lst1=paragph.split(\" \")\n",
        "s1=set(lst1)\n",
        "dic1=dict.fromkeys(s1,'db')\n",
        "t1=tuple(dic1.keys())\n",
        "l2=list(dic1.values())\n"
      ],
      "metadata": {
        "colab": {
          "base_uri": "https://localhost:8080/"
        },
        "id": "3TLO4ZdfocVw",
        "outputId": "3d962959-096c-44d9-b814-fc15f42a4634"
      },
      "execution_count": 181,
      "outputs": [
        {
          "name": "stdout",
          "output_type": "stream",
          "text": [
            "Enter the para:paragph = input(\"Enter the para:\") lst1=paragph.split(\" \") s1=set(lst1) dic1=dict.fromkeys(s1,'db') t1=tuple(dic1.keys()) l2=list(dic1.values())\n"
          ]
        }
      ]
    },
    {
      "cell_type": "code",
      "source": [
        "s1"
      ],
      "metadata": {
        "colab": {
          "base_uri": "https://localhost:8080/"
        },
        "id": "6gI9PMEtp7sb",
        "outputId": "9979eb04-135c-4486-c908-88f8bc9a9fb0"
      },
      "execution_count": 189,
      "outputs": [
        {
          "output_type": "execute_result",
          "data": {
            "text/plain": [
              "{'\")',\n",
              " '=',\n",
              " \"dic1=dict.fromkeys(s1,'db')\",\n",
              " 'input(\"Enter',\n",
              " 'l2=list(dic1.values())',\n",
              " 'lst1=paragph.split(\"',\n",
              " 'para:\")',\n",
              " 'paragph',\n",
              " 's1=set(lst1)',\n",
              " 't1=tuple(dic1.keys())',\n",
              " 'the'}"
            ]
          },
          "metadata": {},
          "execution_count": 189
        }
      ]
    },
    {
      "cell_type": "code",
      "source": [
        "dic1"
      ],
      "metadata": {
        "colab": {
          "base_uri": "https://localhost:8080/"
        },
        "id": "0JKBef6pqNpp",
        "outputId": "bd500d2e-48af-42c2-88d5-da4d9d24e23a"
      },
      "execution_count": 190,
      "outputs": [
        {
          "output_type": "execute_result",
          "data": {
            "text/plain": [
              "{'s1=set(lst1)': 'db',\n",
              " \"dic1=dict.fromkeys(s1,'db')\": 'db',\n",
              " 'lst1=paragph.split(\"': 'db',\n",
              " '\")': 'db',\n",
              " 'para:\")': 'db',\n",
              " 'the': 'db',\n",
              " 'paragph': 'db',\n",
              " 't1=tuple(dic1.keys())': 'db',\n",
              " 'input(\"Enter': 'db',\n",
              " '=': 'db',\n",
              " 'l2=list(dic1.values())': 'db'}"
            ]
          },
          "metadata": {},
          "execution_count": 190
        }
      ]
    },
    {
      "cell_type": "code",
      "source": [
        "d={\"company\":\"shivaram\", \"course\":\"data science\", \"year\":2023}"
      ],
      "metadata": {
        "id": "BXbr6jCgo2kr"
      },
      "execution_count": 182,
      "outputs": []
    },
    {
      "cell_type": "code",
      "source": [
        "for i in d :\n",
        "    print(\" print a key  : \" ,i  , \" ; \", \"value wise :  \" , d[i])"
      ],
      "metadata": {
        "colab": {
          "base_uri": "https://localhost:8080/"
        },
        "id": "1FQx6_ePpM-M",
        "outputId": "409ce143-d1c8-4735-f53b-3827e725ed6a"
      },
      "execution_count": 183,
      "outputs": [
        {
          "output_type": "stream",
          "name": "stdout",
          "text": [
            " print a key  :  company  ;  value wise :   shivaram\n",
            " print a key  :  course  ;  value wise :   data science\n",
            " print a key  :  year  ;  value wise :   2023\n"
          ]
        }
      ]
    },
    {
      "cell_type": "code",
      "source": [
        "\"course\" in d"
      ],
      "metadata": {
        "colab": {
          "base_uri": "https://localhost:8080/"
        },
        "id": "xMGgxchZpio2",
        "outputId": "de830e71-8f9f-4e70-fbe8-0fdfcd34b346"
      },
      "execution_count": 184,
      "outputs": [
        {
          "output_type": "execute_result",
          "data": {
            "text/plain": [
              "True"
            ]
          },
          "metadata": {},
          "execution_count": 184
        }
      ]
    },
    {
      "cell_type": "code",
      "source": [
        "d"
      ],
      "metadata": {
        "colab": {
          "base_uri": "https://localhost:8080/"
        },
        "id": "oRF9Eom4pn7U",
        "outputId": "be4615cd-c233-4f67-b921-d150b1d3663e"
      },
      "execution_count": 185,
      "outputs": [
        {
          "output_type": "execute_result",
          "data": {
            "text/plain": [
              "{'company': 'shivaram', 'course': 'data science', 'year': 2023}"
            ]
          },
          "metadata": {},
          "execution_count": 185
        }
      ]
    },
    {
      "cell_type": "code",
      "source": [
        "my_dict = {}\n",
        "for i in range(10):\n",
        "    my_dict[i] = i *i"
      ],
      "metadata": {
        "id": "Z5jW9T-Npqum"
      },
      "execution_count": 186,
      "outputs": []
    },
    {
      "cell_type": "code",
      "source": [
        "my_dict"
      ],
      "metadata": {
        "colab": {
          "base_uri": "https://localhost:8080/"
        },
        "id": "bsq0xC5Jpv77",
        "outputId": "ead03bf5-901a-4691-9865-2e1ad6fa7491"
      },
      "execution_count": 187,
      "outputs": [
        {
          "output_type": "execute_result",
          "data": {
            "text/plain": [
              "{0: 0, 1: 1, 2: 4, 3: 9, 4: 16, 5: 25, 6: 36, 7: 49, 8: 64, 9: 81}"
            ]
          },
          "metadata": {},
          "execution_count": 187
        }
      ]
    },
    {
      "cell_type": "code",
      "source": [
        "{i:i*i for i in range(0,10,3)}"
      ],
      "metadata": {
        "colab": {
          "base_uri": "https://localhost:8080/"
        },
        "id": "B1T47W5hpzby",
        "outputId": "fdbe2465-d3e0-40de-f9fa-c4f9ba33c792"
      },
      "execution_count": 206,
      "outputs": [
        {
          "output_type": "execute_result",
          "data": {
            "text/plain": [
              "{0: 0, 3: 9, 6: 36, 9: 81}"
            ]
          },
          "metadata": {},
          "execution_count": 206
        }
      ]
    },
    {
      "cell_type": "code",
      "source": [],
      "metadata": {
        "id": "klKH0gHTp1Xo"
      },
      "execution_count": null,
      "outputs": []
    }
  ]
}