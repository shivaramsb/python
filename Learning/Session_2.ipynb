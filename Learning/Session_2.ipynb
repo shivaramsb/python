{
  "nbformat": 4,
  "nbformat_minor": 0,
  "metadata": {
    "colab": {
      "provenance": []
    },
    "kernelspec": {
      "name": "python3",
      "display_name": "Python 3"
    },
    "language_info": {
      "name": "python"
    }
  },
  "cells": [
    {
      "cell_type": "code",
      "execution_count": 4,
      "metadata": {
        "colab": {
          "base_uri": "https://localhost:8080/"
        },
        "id": "et1Sh3UCOgFi",
        "outputId": "64b9f653-bfa4-41af-a5de-90d3e03c6ba3"
      },
      "outputs": [
        {
          "output_type": "stream",
          "name": "stdout",
          "text": [
            "This is valid statement\n"
          ]
        }
      ],
      "source": [
        "a=10\n",
        "b=20\n",
        "\n",
        "if a==10 and b==20 :\n",
        "  print(\"This is valid statement\")\n",
        "else  :\n",
        "  print(\"Condition is not valid\")"
      ]
    },
    {
      "cell_type": "code",
      "source": [
        "a=10\n",
        "b=20\n",
        "\n",
        "if a==10 and b>20 :\n",
        "  print(\"This is valid statement\")\n",
        "elif a==10 and b<=20 :\n",
        "  print(\"this statement is valid inside elif\")\n",
        "else  :\n",
        "  print(\"Condition is not valid\")"
      ],
      "metadata": {
        "colab": {
          "base_uri": "https://localhost:8080/"
        },
        "id": "t-ajjWZrPXv6",
        "outputId": "681d2760-f291-4243-a62f-9580a468ddd9"
      },
      "execution_count": 7,
      "outputs": [
        {
          "output_type": "stream",
          "name": "stdout",
          "text": [
            "this statement is valid inside elif\n"
          ]
        }
      ]
    },
    {
      "cell_type": "code",
      "source": [
        "a==10 and b==20"
      ],
      "metadata": {
        "colab": {
          "base_uri": "https://localhost:8080/"
        },
        "id": "z469dN8DOy1S",
        "outputId": "dc57e4fb-a6ba-4b08-fefc-c6b3a21d7871"
      },
      "execution_count": 2,
      "outputs": [
        {
          "output_type": "execute_result",
          "data": {
            "text/plain": [
              "True"
            ]
          },
          "metadata": {},
          "execution_count": 2
        }
      ]
    },
    {
      "cell_type": "code",
      "source": [
        "a==10"
      ],
      "metadata": {
        "colab": {
          "base_uri": "https://localhost:8080/"
        },
        "id": "ja8S8gekO9jQ",
        "outputId": "5978f910-de91-4310-e3fd-b7123bbd1658"
      },
      "execution_count": 3,
      "outputs": [
        {
          "output_type": "execute_result",
          "data": {
            "text/plain": [
              "True"
            ]
          },
          "metadata": {},
          "execution_count": 3
        }
      ]
    },
    {
      "cell_type": "code",
      "source": [
        "a=10\n",
        "b=20\n",
        "\n",
        "if a==10 or b>20 :\n",
        "  print(\"This is valid statement\")\n",
        "elif a==10 and b<=20 :\n",
        "  print(\"this statement is valid inside elif\")\n",
        "else  :\n",
        "  print(\"Condition is not valid\")"
      ],
      "metadata": {
        "colab": {
          "base_uri": "https://localhost:8080/"
        },
        "id": "823Ul2AAPBIS",
        "outputId": "9f706097-722c-41d8-e3a2-ecb1a1e6c38c"
      },
      "execution_count": 8,
      "outputs": [
        {
          "output_type": "stream",
          "name": "stdout",
          "text": [
            "This is valid statement\n"
          ]
        }
      ]
    },
    {
      "cell_type": "code",
      "source": [
        "fname=input(\"Enter first name :\")\n",
        "lname=input(\"Enter last name :\")\n",
        "if fname==\"Shivaram\" :\n",
        "  print(\"Right\")\n",
        "else :\n",
        "  priint(\"wrong\")"
      ],
      "metadata": {
        "colab": {
          "base_uri": "https://localhost:8080/"
        },
        "id": "O4Dg2fvMQpve",
        "outputId": "139a2876-abfc-4ad8-f989-5e0f65f1dbc8"
      },
      "execution_count": 9,
      "outputs": [
        {
          "output_type": "stream",
          "name": "stdout",
          "text": [
            "Enter first name :Shivaram\n",
            "Enter last name :Babar\n",
            "Right\n"
          ]
        }
      ]
    },
    {
      "cell_type": "code",
      "source": [
        "if a==10 :\n",
        "  print(\"this is valid\")"
      ],
      "metadata": {
        "colab": {
          "base_uri": "https://localhost:8080/"
        },
        "id": "5zpcb2QoRxTn",
        "outputId": "503f4317-06f7-476c-9c2f-c58ae02786fc"
      },
      "execution_count": 10,
      "outputs": [
        {
          "output_type": "stream",
          "name": "stdout",
          "text": [
            "this is valid\n"
          ]
        }
      ]
    },
    {
      "cell_type": "code",
      "source": [
        "initial_speed = 0\n",
        "final_speed = 100\n",
        "count=1\n",
        "while initial_speed < final_speed :\n",
        "  print(\"This is my speed\")\n",
        "  count=count+1\n",
        "  if count==10 :\n",
        "    break\n"
      ],
      "metadata": {
        "colab": {
          "base_uri": "https://localhost:8080/"
        },
        "id": "42cznuPjR85Q",
        "outputId": "114c5ce7-3208-42a4-93a3-1d7df047646f"
      },
      "execution_count": 11,
      "outputs": [
        {
          "output_type": "stream",
          "name": "stdout",
          "text": [
            "This is my speed\n",
            "This is my speed\n",
            "This is my speed\n",
            "This is my speed\n",
            "This is my speed\n",
            "This is my speed\n",
            "This is my speed\n",
            "This is my speed\n",
            "This is my speed\n"
          ]
        }
      ]
    },
    {
      "cell_type": "code",
      "source": [
        "i=1\n",
        "j=5\n",
        "while i<j :\n",
        "  print(i)\n",
        "  i=i+1"
      ],
      "metadata": {
        "colab": {
          "base_uri": "https://localhost:8080/"
        },
        "id": "mJZRk0c4Xfhl",
        "outputId": "b716fd02-642e-4eb2-d1f7-f9ef1b21f2ab"
      },
      "execution_count": 13,
      "outputs": [
        {
          "output_type": "stream",
          "name": "stdout",
          "text": [
            "1\n",
            "2\n",
            "3\n",
            "4\n"
          ]
        }
      ]
    },
    {
      "cell_type": "code",
      "source": [],
      "metadata": {
        "id": "D4RRvGYRXt0P"
      },
      "execution_count": null,
      "outputs": []
    }
  ]
}