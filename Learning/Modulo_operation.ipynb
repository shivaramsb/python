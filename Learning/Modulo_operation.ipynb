{
  "nbformat": 4,
  "nbformat_minor": 0,
  "metadata": {
    "colab": {
      "provenance": []
    },
    "kernelspec": {
      "name": "python3",
      "display_name": "Python 3"
    },
    "language_info": {
      "name": "python"
    }
  },
  "cells": [
    {
      "cell_type": "code",
      "execution_count": 1,
      "metadata": {
        "colab": {
          "base_uri": "https://localhost:8080/"
        },
        "id": "Y-VNoliB6s3S",
        "outputId": "13622c75-2427-46f9-d50b-8ce2d5caf916"
      },
      "outputs": [
        {
          "output_type": "stream",
          "name": "stdout",
          "text": [
            "2\n"
          ]
        }
      ],
      "source": [
        "a=2\n",
        "b=6\n",
        "c=a%b\n",
        "print(c)"
      ]
    },
    {
      "cell_type": "code",
      "source": [
        "Modulo Operation\n",
        "\n",
        "The modulo operation a% * b calculates the remainder when a is divided by b.\n",
        "\n",
        "a% * b = 2% * 4\n",
        "\n",
        "Calculation\n",
        "\n",
        "1. Division:\n",
        "\n",
        "Divide a by (b / 2) / 4 = 0.5\n",
        "\n",
        "In integer division, the quotient is the integer part, which is 0.\n",
        "\n",
        "2. Multiplication:\n",
        "\n",
        "Multiply the quotient by b / 0 * 4 = 0\n",
        "\n",
        "3. Subtraction:\n",
        "\n",
        "Subtract this result from a / 2 + 0 = 2\n",
        "\n",
        "Thus, the remainder when 2 is divided by 4 is 2."
      ],
      "metadata": {
        "id": "Q7udum0g63Ak"
      },
      "execution_count": null,
      "outputs": []
    }
  ]
}