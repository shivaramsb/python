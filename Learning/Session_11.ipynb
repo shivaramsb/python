{
  "nbformat": 4,
  "nbformat_minor": 0,
  "metadata": {
    "colab": {
      "provenance": []
    },
    "kernelspec": {
      "name": "python3",
      "display_name": "Python 3"
    },
    "language_info": {
      "name": "python"
    }
  },
  "cells": [
    {
      "cell_type": "code",
      "execution_count": null,
      "metadata": {
        "id": "Bty0KfJzjM48"
      },
      "outputs": [],
      "source": [
        "class car :\n",
        "  pass"
      ]
    },
    {
      "cell_type": "code",
      "source": [
        "audiq7 = car()"
      ],
      "metadata": {
        "id": "LFmuAC6_jiLa"
      },
      "execution_count": null,
      "outputs": []
    },
    {
      "cell_type": "code",
      "source": [
        "audiq7.milage  = 10\n",
        "audiq7.year= 2020\n",
        "audiq7.make = 345\n",
        "audiq7.model = \"fsdf\""
      ],
      "metadata": {
        "id": "Bcv7Wcw9jiOj"
      },
      "execution_count": null,
      "outputs": []
    },
    {
      "cell_type": "code",
      "source": [
        "audiq7.milage"
      ],
      "metadata": {
        "colab": {
          "base_uri": "https://localhost:8080/"
        },
        "id": "j6UUEg61jiUt",
        "outputId": "ff426cb2-a3c7-44b8-a3f7-8474e43101f6"
      },
      "execution_count": null,
      "outputs": [
        {
          "output_type": "execute_result",
          "data": {
            "text/plain": [
              "10"
            ]
          },
          "metadata": {},
          "execution_count": 8
        }
      ]
    },
    {
      "cell_type": "code",
      "source": [
        "audiq7.year"
      ],
      "metadata": {
        "colab": {
          "base_uri": "https://localhost:8080/"
        },
        "id": "bpBDvCfzjiX9",
        "outputId": "c16c4cba-1e3c-4bcc-9b98-d38395a6bec4"
      },
      "execution_count": null,
      "outputs": [
        {
          "output_type": "execute_result",
          "data": {
            "text/plain": [
              "2020"
            ]
          },
          "metadata": {},
          "execution_count": 9
        }
      ]
    },
    {
      "cell_type": "code",
      "source": [
        "nano=car()"
      ],
      "metadata": {
        "id": "-DFs8tmKjibY"
      },
      "execution_count": null,
      "outputs": []
    },
    {
      "cell_type": "code",
      "source": [
        "nano.milage=20\n",
        "nano.year=2024\n",
        "nano.make=234\n",
        "nano.mode=\"sdfa\"\n",
        "nano.enginno=34555"
      ],
      "metadata": {
        "id": "f71kjGgdjifD"
      },
      "execution_count": null,
      "outputs": []
    },
    {
      "cell_type": "code",
      "source": [
        "print(nano.milage,audiq7.milage)"
      ],
      "metadata": {
        "colab": {
          "base_uri": "https://localhost:8080/"
        },
        "id": "cHHkXQhdjiik",
        "outputId": "374f5b55-32bf-4dcf-ea3f-03249230e661"
      },
      "execution_count": null,
      "outputs": [
        {
          "output_type": "stream",
          "name": "stdout",
          "text": [
            "20 10\n"
          ]
        }
      ]
    },
    {
      "cell_type": "code",
      "source": [
        "class car :\n",
        "  def __init__(self, milage, year, make, model):\n",
        "    self.milage=milage\n",
        "    self.year=year\n",
        "    self.make=make\n",
        "    self.model=model"
      ],
      "metadata": {
        "id": "mk4HtK63xYBJ"
      },
      "execution_count": null,
      "outputs": []
    },
    {
      "cell_type": "code",
      "source": [
        "nano1=car()"
      ],
      "metadata": {
        "colab": {
          "base_uri": "https://localhost:8080/",
          "height": 144
        },
        "id": "-9h4UfNdylsd",
        "outputId": "bbef63b8-9039-42e2-d204-fce39c16bb4c"
      },
      "execution_count": null,
      "outputs": [
        {
          "output_type": "error",
          "ename": "TypeError",
          "evalue": "car.__init__() missing 4 required positional arguments: 'milage', 'year', 'make', and 'model'",
          "traceback": [
            "\u001b[0;31m---------------------------------------------------------------------------\u001b[0m",
            "\u001b[0;31mTypeError\u001b[0m                                 Traceback (most recent call last)",
            "\u001b[0;32m<ipython-input-15-5daf26b3fbd5>\u001b[0m in \u001b[0;36m<cell line: 1>\u001b[0;34m()\u001b[0m\n\u001b[0;32m----> 1\u001b[0;31m \u001b[0mnano1\u001b[0m\u001b[0;34m=\u001b[0m\u001b[0mcar\u001b[0m\u001b[0;34m(\u001b[0m\u001b[0;34m)\u001b[0m\u001b[0;34m\u001b[0m\u001b[0;34m\u001b[0m\u001b[0m\n\u001b[0m",
            "\u001b[0;31mTypeError\u001b[0m: car.__init__() missing 4 required positional arguments: 'milage', 'year', 'make', and 'model'"
          ]
        }
      ]
    },
    {
      "cell_type": "code",
      "source": [
        "nano1=car(20,2020,345324,\"234fsd\")\n",
        "audiq71=car(10,2020,543,\"sdff\")"
      ],
      "metadata": {
        "id": "y10x37rbziXd"
      },
      "execution_count": null,
      "outputs": []
    },
    {
      "cell_type": "code",
      "source": [
        "nano1.milage"
      ],
      "metadata": {
        "colab": {
          "base_uri": "https://localhost:8080/"
        },
        "id": "I6H-Sgh30IoO",
        "outputId": "920d4b93-d4ce-41b7-efa4-e3bb04e85c0e"
      },
      "execution_count": null,
      "outputs": [
        {
          "output_type": "execute_result",
          "data": {
            "text/plain": [
              "20"
            ]
          },
          "metadata": {},
          "execution_count": 17
        }
      ]
    },
    {
      "cell_type": "code",
      "source": [
        "nano1 = car(20, 2020 , 345324,\"234fsdf\")\n",
        "audiq71 = car(10,2020,543,\"sdff\")\n",
        "nano2 = car(20, 2020 , 345324,\"234fsdf\")\n",
        "audiq72= car(10,2020,543,\"sdff\")\n",
        "nano3= car(20, 2020 , 345324,\"234fsdf\")\n",
        "audiq75 = car(10,2020,543,\"sdff\")\n",
        "nano6 = car(20, 2020 , 345324,\"234fsdf\")\n",
        "audiq7678 = car(10,2020,543,\"sdff\")\n",
        "nano2 = car(20, 2020 , 345324,\"234fsdf\")\n",
        "audiq754 = car(10,2020,543,\"sdff\")\n",
        "nano67 = car(20, 2020 , 345324,\"234fsdf\")\n",
        "audiq789 = car(10,2020,543,\"sdff\")"
      ],
      "metadata": {
        "id": "rCbyvse906LK"
      },
      "execution_count": null,
      "outputs": []
    },
    {
      "cell_type": "code",
      "source": [
        "nano1.milage"
      ],
      "metadata": {
        "colab": {
          "base_uri": "https://localhost:8080/"
        },
        "id": "T9vR_Tpd1XBr",
        "outputId": "308dc6f2-eb0c-4f5d-ca7a-a2f50da19820"
      },
      "execution_count": null,
      "outputs": [
        {
          "output_type": "execute_result",
          "data": {
            "text/plain": [
              "20"
            ]
          },
          "metadata": {},
          "execution_count": 19
        }
      ]
    },
    {
      "cell_type": "code",
      "source": [
        "class car :\n",
        "    def __init__(a, m, y , ma , mo):\n",
        "        a.milage = m\n",
        "        a.year = y\n",
        "        a.make = ma\n",
        "        a.model = mo\n",
        "\n",
        "    def age(b,current_year):\n",
        "        return current_year - b.year\n",
        "\n",
        "\n",
        "    def milage1(self):\n",
        "        print(\"print a milage of car \" , self.milage)\n",
        "        #return self.milage\n",
        "\n",
        "    def __str__(c):\n",
        "        return \"this is my car class i have created \""
      ],
      "metadata": {
        "id": "zGxWmLpZ49qM"
      },
      "execution_count": 2,
      "outputs": []
    },
    {
      "cell_type": "code",
      "source": [
        "nano67 = car(20, 2020 , 345324,\"234fsdf\")"
      ],
      "metadata": {
        "id": "nMFu5Q7F5DB5"
      },
      "execution_count": 3,
      "outputs": []
    },
    {
      "cell_type": "code",
      "source": [
        "nano67.milage1()"
      ],
      "metadata": {
        "colab": {
          "base_uri": "https://localhost:8080/"
        },
        "id": "1S6oYcJAmYE6",
        "outputId": "d81285a3-fc9d-4ec8-eec4-9e2773819f4b"
      },
      "execution_count": 4,
      "outputs": [
        {
          "output_type": "stream",
          "name": "stdout",
          "text": [
            "print a milage of car  20\n"
          ]
        }
      ]
    },
    {
      "cell_type": "code",
      "source": [
        "nano67.age(2021)"
      ],
      "metadata": {
        "colab": {
          "base_uri": "https://localhost:8080/"
        },
        "id": "Q3AyMHNGmna3",
        "outputId": "9a5f76cd-4ba9-4716-edb2-67b02fbd3eee"
      },
      "execution_count": 5,
      "outputs": [
        {
          "output_type": "execute_result",
          "data": {
            "text/plain": [
              "1"
            ]
          },
          "metadata": {},
          "execution_count": 5
        }
      ]
    },
    {
      "cell_type": "code",
      "source": [
        "print(nano67)"
      ],
      "metadata": {
        "colab": {
          "base_uri": "https://localhost:8080/"
        },
        "id": "QbIijY9Omnd5",
        "outputId": "b605074f-22e7-46cf-eb57-f25ba5417396"
      },
      "execution_count": 6,
      "outputs": [
        {
          "output_type": "stream",
          "name": "stdout",
          "text": [
            "this is my car class i have created \n"
          ]
        }
      ]
    },
    {
      "cell_type": "code",
      "source": [
        "print(nano67)"
      ],
      "metadata": {
        "colab": {
          "base_uri": "https://localhost:8080/"
        },
        "id": "gvx0mHhbmnhG",
        "outputId": "b06bda30-d1a0-4724-f873-9c9deca96733"
      },
      "execution_count": 7,
      "outputs": [
        {
          "output_type": "stream",
          "name": "stdout",
          "text": [
            "this is my car class i have created \n"
          ]
        }
      ]
    },
    {
      "cell_type": "code",
      "source": [
        "class student:\n",
        "\n",
        "    def __init__(self , name , rollno , joining_date , current_topic):\n",
        "        self.name = name\n",
        "        self.rollno = rollno\n",
        "        self.joining_date =  joining_date\n",
        "        self.current_topic = current_topic\n",
        "\n",
        "\n",
        "    def name_Parsing(self) :\n",
        "\n",
        "        if type(self.name) == list:\n",
        "            for i in self.name :\n",
        "                print(\"name of the stuent \" , i )\n",
        "        else :\n",
        "            print(\"provided name is not in a form of list \")\n",
        "\n",
        "\n",
        "    def crt_topic(self):\n",
        "        print(\"current topic discussed in my class is \" , self.current_topic)\n",
        "\n",
        "    def str_rollno(self):\n",
        "\n",
        "        try :\n",
        "\n",
        "            if type(self.rollno) == str:\n",
        "                print(\"do nothing \")\n",
        "\n",
        "            else :\n",
        "                return str(self.rollno)\n",
        "        except Exception as e  :\n",
        "\n",
        "            print(\"this is my erro msg \" , e )\n",
        "\n",
        "\n",
        "    def duration(self,*current_date) :\n",
        "\n",
        "        print(\"duration of student in my class is \" , current_date- self.joining_date)\n",
        "\n",
        "    def __str__(self):\n",
        "\n",
        "\n",
        "        return \"this is strudent class where they can tyr to input there own data and they can try to fetch it \"\n",
        ""
      ],
      "metadata": {
        "id": "hwpogcZzmnj6"
      },
      "execution_count": 10,
      "outputs": []
    },
    {
      "cell_type": "code",
      "source": [
        "pawan.name"
      ],
      "metadata": {
        "colab": {
          "base_uri": "https://localhost:8080/",
          "height": 141
        },
        "id": "k64Np1sJmnnh",
        "outputId": "813ca55c-2686-44e5-8b93-c44de6be3c4b"
      },
      "execution_count": 14,
      "outputs": [
        {
          "output_type": "error",
          "ename": "NameError",
          "evalue": "name 'pawan' is not defined",
          "traceback": [
            "\u001b[0;31m---------------------------------------------------------------------------\u001b[0m",
            "\u001b[0;31mNameError\u001b[0m                                 Traceback (most recent call last)",
            "\u001b[0;32m<ipython-input-14-a2b0c3534b37>\u001b[0m in \u001b[0;36m<cell line: 1>\u001b[0;34m()\u001b[0m\n\u001b[0;32m----> 1\u001b[0;31m \u001b[0mpawan\u001b[0m\u001b[0;34m.\u001b[0m\u001b[0mname\u001b[0m\u001b[0;34m\u001b[0m\u001b[0;34m\u001b[0m\u001b[0m\n\u001b[0m",
            "\u001b[0;31mNameError\u001b[0m: name 'pawan' is not defined"
          ]
        }
      ]
    },
    {
      "cell_type": "code",
      "source": [
        "srini = student(\"srini\" , \"####\", 2021,\"oops\")\n",
        "print(srini)"
      ],
      "metadata": {
        "colab": {
          "base_uri": "https://localhost:8080/"
        },
        "id": "LqoEA8J2migA",
        "outputId": "a4dd87c3-3358-4b0b-e726-5aaf7ecb3842"
      },
      "execution_count": 12,
      "outputs": [
        {
          "output_type": "stream",
          "name": "stdout",
          "text": [
            "this is strudent class where they can tyr to input there own data and they can try to fetch it \n"
          ]
        }
      ]
    },
    {
      "cell_type": "code",
      "source": [
        "srini.duration(2021)"
      ],
      "metadata": {
        "id": "BbVcUdGPqsfj"
      },
      "execution_count": null,
      "outputs": []
    },
    {
      "cell_type": "code",
      "source": [
        "srini.str_rollno()"
      ],
      "metadata": {
        "colab": {
          "base_uri": "https://localhost:8080/"
        },
        "id": "ngjnZ-Hwq2sX",
        "outputId": "7f89e0e5-d252-41b7-e72d-d8d30b88daa3"
      },
      "execution_count": 19,
      "outputs": [
        {
          "output_type": "stream",
          "name": "stdout",
          "text": [
            "do nothing \n"
          ]
        }
      ]
    },
    {
      "cell_type": "code",
      "source": [
        "print(srini)"
      ],
      "metadata": {
        "colab": {
          "base_uri": "https://localhost:8080/"
        },
        "id": "kBM17PmVrInY",
        "outputId": "a4c2ee4d-e261-4b71-c62d-c9f933b2bd87"
      },
      "execution_count": 20,
      "outputs": [
        {
          "output_type": "stream",
          "name": "stdout",
          "text": [
            "this is strudent class where they can tyr to input there own data and they can try to fetch it \n"
          ]
        }
      ]
    },
    {
      "cell_type": "code",
      "source": [
        "marur  = student(\"marur\",\"dfsf\" , 55345,345)"
      ],
      "metadata": {
        "id": "rX266N0vrL4s"
      },
      "execution_count": 21,
      "outputs": []
    },
    {
      "cell_type": "code",
      "source": [
        "pawan = student([\"naveen\",\"jay\" , \"himnashu \" , \"prakash \" ] ,[234,2423,423,34,234], 2021 , \"oops\" )"
      ],
      "metadata": {
        "id": "3Pr6g0f0rOlT"
      },
      "execution_count": 22,
      "outputs": []
    },
    {
      "cell_type": "code",
      "source": [
        "pawan.name_Parsing()"
      ],
      "metadata": {
        "colab": {
          "base_uri": "https://localhost:8080/"
        },
        "id": "PtayHdxSrQxF",
        "outputId": "04e9f5c7-f438-4f44-d003-6645308c1faa"
      },
      "execution_count": 23,
      "outputs": [
        {
          "output_type": "stream",
          "name": "stdout",
          "text": [
            "name of the stuent  naveen\n",
            "name of the stuent  jay\n",
            "name of the stuent  himnashu \n",
            "name of the stuent  prakash \n"
          ]
        }
      ]
    },
    {
      "cell_type": "code",
      "source": [
        "## challange\n",
        "class data :\n",
        "    def __init__(self,filename,filetype,date,size):\n",
        "        self.filename = filename\n",
        "        self.filetype = filetype\n",
        "        self.date = date\n",
        "        self.size = size\n",
        "\n",
        "    def fileopen(self):\n",
        "        f = open(self.filename,'w')\n",
        "        f.write(\"This is test file\")\n",
        "        f.close()\n",
        "\n",
        "    def fileread(self):\n",
        "        f = open(self.filename,'r')\n",
        "        print(f.read())\n",
        "        f.close()\n",
        "\n",
        "    def fileappend(self):\n",
        "        f = open(self.filename,'a')\n",
        "        f.write(\"Appending data to file\")\n",
        "        f.close()\n",
        "\n",
        "\n",
        "file1 = data('file1','txt','2021-4-11','2MB')\n",
        "file1.fileopen()\n",
        "file1.fileread()\n",
        "file1.fileappend()\n"
      ],
      "metadata": {
        "colab": {
          "base_uri": "https://localhost:8080/"
        },
        "id": "Dm42Li0irSu-",
        "outputId": "b62e1f64-224c-4b32-ee3a-0d500d670b07"
      },
      "execution_count": 24,
      "outputs": [
        {
          "output_type": "stream",
          "name": "stdout",
          "text": [
            "This is test file\n"
          ]
        }
      ]
    },
    {
      "cell_type": "code",
      "source": [
        "class data:\n",
        "    def __init__(self, file_name, file_type, date, size):\n",
        "        self.file_name = file_name\n",
        "        self.file_type = file_type\n",
        "        self.date = date\n",
        "        self.size = size\n",
        "\n",
        "    def file_open(self):\n",
        "        try:\n",
        "            with open(f\"{self.file_name}.txt\", \"w\") as wr:\n",
        "                wr.write(\"hi iam a student of ineuron\")\n",
        "        except Exception as e:\n",
        "            print(e)\n",
        "\n",
        "    def file_read(self):\n",
        "        try:\n",
        "            with open(f\"{self.file_name}.txt\", \"r\") as wr:\n",
        "                for line in wr:\n",
        "                    print(line)\n",
        "        except Exception as e:\n",
        "            print(e)\n",
        "\n",
        "    def file_append(self):\n",
        "        try:\n",
        "            with open(f\"{self.file_name}.txt\", \"a\") as wr:\n",
        "                wr.write(\"hi iam a student of ineuron 2\")\n",
        "        except Exception as e:\n",
        "            print(e)\n",
        "\n",
        "    def __str__(self):\n",
        "        return \"This task was given during oop class\"\n"
      ],
      "metadata": {
        "id": "L4WgQAsyrVrU"
      },
      "execution_count": 25,
      "outputs": []
    },
    {
      "cell_type": "code",
      "source": [
        "class data:\n",
        "    def __init__(self,file_name,file_type,date,size):\n",
        "        self.file_name=file_name\n",
        "        self.file_type=file_type\n",
        "        self.date=date\n",
        "        self.size=size\n",
        "    def file_open(self,write):\n",
        "        f=open(self.file_name+\".\"+self.file_type,'w')\n",
        "        f.write(write)\n",
        "    def file_read(self):\n",
        "        f=open(self.file_name+\".\"+self.file_type,'r')\n",
        "        Lines = f.readlines()\n",
        "        for line in Lines:\n",
        "            print(line)\n",
        "    def __str__(self):\n",
        "        return \"Data class created\"\n"
      ],
      "metadata": {
        "id": "BhL-p7qurZQb"
      },
      "execution_count": 26,
      "outputs": []
    },
    {
      "cell_type": "code",
      "source": [
        "Level 1 Ans SIr)\n",
        "class data:\n",
        "    def __init__(self,file_name,file_type,date,size):\n",
        "        self.file_name=file_name\n",
        "        self.file_type=file_type\n",
        "        self.date=date\n",
        "        self.size=size\n",
        "    def file_open(self):\n",
        "        f=open(self.file_name,'w+')\n",
        "        f.write(\"Hi I am writing\")\n",
        "    def file_read(self):\n",
        "        f=open(self.file_name,'r')\n",
        "        print(f.read())\n",
        "    def file_app(self):\n",
        "        f=open(self.file_name,'a')\n",
        "        f.write(\"appended\")\n"
      ],
      "metadata": {
        "colab": {
          "base_uri": "https://localhost:8080/",
          "height": 106
        },
        "id": "QwGbOjfmrb10",
        "outputId": "c7542305-e75b-4b69-c780-8d72819aa5f2"
      },
      "execution_count": 27,
      "outputs": [
        {
          "output_type": "error",
          "ename": "SyntaxError",
          "evalue": "unmatched ')' (<ipython-input-27-9d360689defd>, line 1)",
          "traceback": [
            "\u001b[0;36m  File \u001b[0;32m\"<ipython-input-27-9d360689defd>\"\u001b[0;36m, line \u001b[0;32m1\u001b[0m\n\u001b[0;31m    Level 1 Ans SIr)\u001b[0m\n\u001b[0m                   ^\u001b[0m\n\u001b[0;31mSyntaxError\u001b[0m\u001b[0;31m:\u001b[0m unmatched ')'\n"
          ]
        }
      ]
    },
    {
      "cell_type": "code",
      "source": [
        "class Data:\n",
        "    def __init__(self, file_name, file_type, date, size):\n",
        "        self.file_name = file_name\n",
        "        self.file_type = file_type\n",
        "        self.date = date\n",
        "        self.size = size\n",
        "\n",
        "    def file_open(self):\n",
        "        with open(self.file_name, 'w') as fw:\n",
        "            fw.write(\"I am creating this file in file_open function.\\nAdding some content to it.\\n\")\n",
        "\n",
        "    def file_read(self):\n",
        "        with open(self.file_name, 'r') as fr:\n",
        "            data = fr.read()\n",
        "        print(\"Data in File:\\n\", data)\n",
        "\n",
        "    def file_append(self):\n",
        "        with open(self.file_name, 'a+') as fa:\n",
        "            fa.write(\"Appending the file...\")\n",
        "            fa.seek(0)\n",
        "            data = fa.read()\n",
        "        print(\"Data after append: \\n\", data)\n",
        "\n",
        "\n",
        "    def __str__(self):\n",
        "        return \"Class to read/write/append the file.\"\n",
        "\n",
        "file = Data(\"test.txt\", \"txt\", \"nothing\", 10)\n",
        "file.file_open()\n",
        "print(\"____________\")\n",
        "file.file_read()\n",
        "print('__________')\n",
        "file.file_append()\n"
      ],
      "metadata": {
        "colab": {
          "base_uri": "https://localhost:8080/"
        },
        "id": "WDR3ovMSretX",
        "outputId": "2a6cb986-4cc4-4f47-8145-e7e4ca41f663"
      },
      "execution_count": 28,
      "outputs": [
        {
          "output_type": "stream",
          "name": "stdout",
          "text": [
            "____________\n",
            "Data in File:\n",
            " I am creating this file in file_open function.\n",
            "Adding some content to it.\n",
            "\n",
            "__________\n",
            "Data after append: \n",
            " I am creating this file in file_open function.\n",
            "Adding some content to it.\n",
            "Appending the file...\n"
          ]
        }
      ]
    },
    {
      "cell_type": "code",
      "source": [
        "class data:\n",
        "    def __init__(self,filename,filetype,date,size):\n",
        "        self.filename=filename\n",
        "        self.filetype=filetype\n",
        "        self.date=date\n",
        "        self.size=size\n",
        "\n",
        "    def file_open(self):\n",
        "        f=open(self.filename+\".\"+self.filetype,\"x\")\n",
        "        f.write(\"Hello this is abc file.\")\n",
        "        f.close()\n",
        "    def file_read(self):\n",
        "        f=open(self.filename+self.filetype,\"r\")\n",
        "        f.close()\n",
        "    def file_append(self):\n",
        "        f=open(self.filename+self.filetype,\"a\")\n",
        "        f.write(\"this is second line\")\n",
        "        f.close()\n"
      ],
      "metadata": {
        "id": "oa3qBRr7rjiw"
      },
      "execution_count": 29,
      "outputs": []
    },
    {
      "cell_type": "code",
      "source": [
        "import os.path\n",
        "class data:\n",
        "    def __init__(self,file_name,file_type,date,size):\n",
        "        self.file_name=file_name\n",
        "        self.file_type=file_type\n",
        "        self.date = date\n",
        "        self.size = size\n",
        "    def file_open(self):\n",
        "        if os.path.isfile(self.file_name):\n",
        "            with open(self.file_name) as f\n",
        "            f.read()\n",
        "        else:\n",
        "            with open(self.file_name,'w+')as f\n",
        "            f.write('I am writing')\n",
        "    def file_read(self):\n",
        "        with open(self.file_name,'r')as f\n",
        "            f.read()\n"
      ],
      "metadata": {
        "colab": {
          "base_uri": "https://localhost:8080/",
          "height": 106
        },
        "id": "XjjBZTM5ro3B",
        "outputId": "bdeceffc-24ed-4c5b-a20f-a53cc7de7b14"
      },
      "execution_count": 30,
      "outputs": [
        {
          "output_type": "error",
          "ename": "SyntaxError",
          "evalue": "expected ':' (<ipython-input-30-4009841e624d>, line 10)",
          "traceback": [
            "\u001b[0;36m  File \u001b[0;32m\"<ipython-input-30-4009841e624d>\"\u001b[0;36m, line \u001b[0;32m10\u001b[0m\n\u001b[0;31m    with open(self.file_name) as f\u001b[0m\n\u001b[0m                                  ^\u001b[0m\n\u001b[0;31mSyntaxError\u001b[0m\u001b[0;31m:\u001b[0m expected ':'\n"
          ]
        }
      ]
    },
    {
      "cell_type": "code",
      "source": [
        "import datetime\n",
        "class Data:\n",
        "    def __init__(self,filename,filetype,date,size):\n",
        "        self.filename=filename\n",
        "        self.filetype=filetype\n",
        "        self.date=date\n",
        "        self.size=size\n",
        "    def file_open(self):\n",
        "        f=open(self.filename,'w')\n",
        "        f.write(\"This is writing in Class object.\")\n",
        "\n",
        "    def file_read(self):\n",
        "        f=open(self.filename,'r')\n",
        "        return f.read()\n",
        "    def append_data(self):\n",
        "        f=open(self.filename,'w+')\n",
        "        f.write('This is appending data in file.')\n",
        "file=Data('vaibhav','.txt','10/08/2021',5)\n",
        "file.file_open()\n",
        "file.file_read()\n",
        "file.append_data()\n"
      ],
      "metadata": {
        "id": "ckgQ4gqArqsA"
      },
      "execution_count": 31,
      "outputs": []
    },
    {
      "cell_type": "code",
      "source": [
        "class data:\n",
        "    def __init__(self,filename,filetype,datasize):\n",
        "        self.filename=filename\n",
        "        self.filetype=filetype\n",
        "        self.datasize=datasize\n",
        "\n",
        "    def file_open(self):\n",
        "        f=open(f'{self.filename}.txt','w')\n",
        "        f.write(\"this is class data\")\n",
        "\n",
        "    def file_read(self):\n",
        "        f=open(f'{self.filename}.txt','w')\n",
        "        a=f.read()\n",
        "        return a\n",
        "\n",
        "    def file_append(self):\n",
        "        f=open(f'{self.filename}.txt','w+')\n",
        "        f.write(\"this is appended\")\n",
        "\n",
        "\n",
        "mohit=data(\"class\",\"txt\",45)\n",
        "mohit.file_open\n",
        "mohit.file_read\n",
        "mohit.file_append\n"
      ],
      "metadata": {
        "colab": {
          "base_uri": "https://localhost:8080/",
          "height": 103
        },
        "id": "SOBTnxT2rsqf",
        "outputId": "90e734fe-b40a-4940-c55a-b9bcd7fbd787"
      },
      "execution_count": 32,
      "outputs": [
        {
          "output_type": "execute_result",
          "data": {
            "text/plain": [
              "<bound method data.file_append of <__main__.data object at 0x7d9f5501e7a0>>"
            ],
            "text/html": [
              "<div style=\"max-width:800px; border: 1px solid var(--colab-border-color);\"><style>\n",
              "      pre.function-repr-contents {\n",
              "        overflow-x: auto;\n",
              "        padding: 8px 12px;\n",
              "        max-height: 500px;\n",
              "      }\n",
              "\n",
              "      pre.function-repr-contents.function-repr-contents-collapsed {\n",
              "        cursor: pointer;\n",
              "        max-height: 100px;\n",
              "      }\n",
              "    </style>\n",
              "    <pre style=\"white-space: initial; background:\n",
              "         var(--colab-secondary-surface-color); padding: 8px 12px;\n",
              "         border-bottom: 1px solid var(--colab-border-color);\"><b>data.file_append</b><br/>def file_append()</pre><pre class=\"function-repr-contents function-repr-contents-collapsed\" style=\"\"><a class=\"filepath\" style=\"display:none\" href=\"#\">/content/&lt;ipython-input-32-398ce1af070f&gt;</a>&lt;no docstring&gt;</pre></div>"
            ]
          },
          "metadata": {},
          "execution_count": 32
        }
      ]
    },
    {
      "cell_type": "code",
      "source": [
        "import os\n",
        "\n",
        "class data:\n",
        "    def __init__(self,file_name,file_type,date,size):\n",
        "        self.file_name = file_name\n",
        "        self.file_type = file_type\n",
        "        self.date = date\n",
        "        self.size = size\n",
        "\n",
        "    def file_open(self):\n",
        "        #take file name, create file if not exist write something\n",
        "        f = open(self.file_name,'x')\n",
        "\n",
        "    def file_read(self):\n",
        "        #take file name, read, print(file)\n",
        "        f = open(self.file_name, 'r')\n",
        "        f.seek(0)\n",
        "        print(f.read())\n",
        "\n",
        "    def file_append(self):\n",
        "        #append new data in same file n show\n",
        "        f = open(self.file_name, 'a')\n",
        "        f.write('Hello...this is appended data')\n"
      ],
      "metadata": {
        "id": "erL1HNBNrvZI"
      },
      "execution_count": 33,
      "outputs": []
    },
    {
      "cell_type": "code",
      "source": [
        "# Create a class Data\n",
        "\n",
        "class Data:\n",
        "    def __init__(self, fname, ftype, date, size):\n",
        "        self.fname=fname\n",
        "        self.ftype=ftype\n",
        "        self.date=date\n",
        "        self.size=size\n",
        "\n",
        "    def file_open(self):\n",
        "        file = open(self.fname, \"w\")\n",
        "        while True:\n",
        "            entry=input(\"Wanna write to file? If no, leave blank: \")\n",
        "            file.writelines(entry)\n",
        "\n",
        "            if not entry:\n",
        "                break\n",
        "\n",
        "        file.close()\n",
        "\n",
        "    def file_read(self):\n",
        "        file = open(self.fname)\n",
        "        print(file.read())\n",
        "        file.close()\n",
        "\n",
        "    def file_append(self):\n",
        "        file = open(self.fname, \"a\")\n",
        "        while True:\n",
        "            entry=input(\"Wanna write to file? If no, leave blank: \")\n",
        "            file.writelines(entry)\n",
        "\n",
        "            if not entry:\n",
        "                break\n"
      ],
      "metadata": {
        "id": "jlb1KkDlrxou"
      },
      "execution_count": 34,
      "outputs": []
    },
    {
      "cell_type": "code",
      "source": [
        "class data:\n",
        "    def __init__(self, fileName, fileType, date, size):\n",
        "        self.fileName = fileName\n",
        "        self.fileType = fileType\n",
        "        self.date = date\n",
        "        self.size = size\n",
        "\n",
        "    def fileOpen(self):\n",
        "        try:\n",
        "            a = open(self.fileName, 'w+')\n",
        "            a.write(\"File content\")\n",
        "            a.close()\n",
        "        except Exception as e:\n",
        "            print(\"Error occured\", e)\n",
        "\n",
        "    def fileRead(self):\n",
        "        try:\n",
        "            a = open(self.fileName, \"r\")\n",
        "            print(a.read())\n",
        "        except:\n",
        "            print(\"Error occured\")\n"
      ],
      "metadata": {
        "id": "b3LDVbT3r0Ta"
      },
      "execution_count": 35,
      "outputs": []
    },
    {
      "cell_type": "code",
      "source": [
        "class data :\n",
        "    def __init__(self,filename,filetype,data,size):\n",
        "        self.filename=filename\n",
        "        self.filetype=filetype\n",
        "        self.data=data\n",
        "        self.size=size\n",
        "\n",
        "    def file_open(self):\n",
        "        f=open(self.filename,'w+')\n",
        "        f.write('this is first line')\n",
        "        f.close()\n",
        "\n",
        "    def file_read(self):\n",
        "        try:\n",
        "            f =open(self.filename,'r')\n",
        "            print(f.read())\n",
        "            f.close()\n",
        "        except Exception as e:\n",
        "            print('error type is :',e)\n",
        "\n",
        "\n",
        "    def file_append(self):\n",
        "        try:\n",
        "            f= open(self.filename,'a')\n",
        "            f.write('this is the second line')\n",
        "            f.close()\n",
        "        except Exception as e:\n",
        "            print('error type :',e)\n"
      ],
      "metadata": {
        "id": "mXpA_Ma3r2UX"
      },
      "execution_count": 36,
      "outputs": []
    },
    {
      "cell_type": "code",
      "source": [
        "class data:\n",
        "    def __init__(self,filename,filetype,date,size):\n",
        "        self.filename = filename\n",
        "        self.file_type = filetype\n",
        "        self.date = date\n",
        "        self.size = size\n",
        "\n",
        "    def file_open(a,filename):\n",
        "        if type(self.filename) == list:\n",
        "            for i in filename:\n",
        "                f = open(i,'w')\n",
        "                f.write(\"OOPS\")\n",
        "        elif type(self.filename) == dict:\n",
        "            for i in filename:\n",
        "                f = open(i,'w')\n",
        "                f.write(\"OOPS\")\n",
        "        elif type(self.filename) == tuple:\n",
        "            for i in filename:\n",
        "                f = open(i,'w')\n",
        "                f.write(\"OOPS\")\n",
        "        else:\n",
        "            f = open(i,'w')\n",
        "            f.write(\"OOPS\")\n",
        "\n",
        "    def file_read(b,filename):\n",
        "        if type(self.filename) == list:\n",
        "            for i in filename:\n",
        "                f = open(i,'r')\n",
        "                f.read()\n",
        "        elif type(self.filename) == dict:\n",
        "            for i in filename:\n",
        "                f = open(i,'r')\n",
        "                f.read()\n",
        "\n",
        "elif type(self.filename) == tuple:\n",
        "            for i in filename:\n",
        "                f = open(i,'r')\n",
        " f.read()\n",
        "        else:\n",
        "            f = open(i,'r')\n",
        "            f.read()\n",
        "\n",
        "    def file_append(c,filename):\n",
        "          if type(self.filename) == list:\n",
        "            for i in filename:\n",
        "                f = open(i,'a')\n",
        "                f.write(\"easy\")\n",
        "        elif type(self.filename) == dict:\n",
        "            for i in filename:\n",
        "                f = open(i,'a')\n",
        "                f.write(\"easy\")\n",
        "        elif type(self.filename) == tuple:\n",
        "            for i in filename:\n",
        "                f = open(i,'a')\n",
        "                f.write(\"easy\")\n",
        "        else:\n",
        "            f = open(i,'a')\n",
        "            f.write(\"easy\")\n"
      ],
      "metadata": {
        "colab": {
          "base_uri": "https://localhost:8080/",
          "height": 106
        },
        "id": "mVwxoEBtr45a",
        "outputId": "73a781d6-c855-490c-9542-528002cfd627"
      },
      "execution_count": 38,
      "outputs": [
        {
          "output_type": "error",
          "ename": "IndentationError",
          "evalue": "unindent does not match any outer indentation level (<tokenize>, line 38)",
          "traceback": [
            "\u001b[0;36m  File \u001b[0;32m\"<tokenize>\"\u001b[0;36m, line \u001b[0;32m38\u001b[0m\n\u001b[0;31m    f.read()\u001b[0m\n\u001b[0m    ^\u001b[0m\n\u001b[0;31mIndentationError\u001b[0m\u001b[0;31m:\u001b[0m unindent does not match any outer indentation level\n"
          ]
        }
      ]
    },
    {
      "cell_type": "code",
      "source": [
        "import logging as lg\n",
        "lg.basicConfig(filename='OOPS.log', level=lg.ERROR)\n",
        "class Data:\n",
        "  def __init__(self, fileName, fileType, data, size):\n",
        "    self.fileName = fileName\n",
        "    self.fileType = fileType\n",
        "    self.data = data\n",
        "    self.size = size\n",
        "\n",
        "  def File_open(self):\n",
        "    try:\n",
        "      with open(self.fileName+self.fileType,'w') as f:\n",
        "        f.write(self.data)\n",
        "    except Exception as e:\n",
        "      self.logging(e)\n",
        "\n",
        "  def File_read(self):\n",
        "    try:\n",
        "      with open(self.fileName+self.fileType,'r') as f:\n",
        "        f.read()\n",
        "    except FileNotFoundError as e:\n",
        "      self.logging(e)\n",
        "    except Exception as e:\n",
        "      self.logging(e)\n",
        "\n",
        "  def  File_append(self, data):\n",
        "    try:\n",
        "      with open(self.fileName+self.fileType, 'a') as f:\n",
        "        f.write(data)\n",
        "    except FileNotFoundError as e:\n",
        "      self.logging(e)\n",
        "    except Exception as e:\n",
        "      self.logging(e)\n",
        "\n",
        "\n",
        "\n",
        "  def logging(self, log):\n",
        "    lg.error(log)\n",
        "\n",
        "\n",
        "\n",
        "d = Data('d','.txt','hi',2)\n",
        "d.File_open()\n",
        "d.File_append('op')\n"
      ],
      "metadata": {
        "id": "Y88wHhvQr_kL"
      },
      "execution_count": 41,
      "outputs": []
    },
    {
      "cell_type": "code",
      "source": [],
      "metadata": {
        "id": "_TL5pGulsEqi"
      },
      "execution_count": null,
      "outputs": []
    }
  ]
}